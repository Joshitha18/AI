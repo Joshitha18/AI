{
  "cells": [
    {
      "cell_type": "markdown",
      "metadata": {
        "id": "8mqXpEeWhf7X"
      },
      "source": [
        "# LAB 6 : Recurrent Neural Networks\n",
        "\n",
        "Name : Vaishnavi, Joshitha\n",
        "\n",
        "Roll Number : 180020039, 180020009\n",
        "\n",
        "Referrence Material : \n",
        "\n",
        "1. https://github.com/pangolulu/rnn-from-scratch\n",
        "2. https://www.analyticsvidhya.com/blog/2019/01/fundamentals-deep-learning-recurrent-neural-networks-scratch-python/\n"
      ]
    },
    {
      "cell_type": "markdown",
      "metadata": {
        "id": "EtHrn2eXhmdN"
      },
      "source": [
        "#**Problem 1** : Next Token Prediction in a Sequence\n",
        "\n",
        "Observation to be demonstrated:\n",
        "\n",
        "1. Generate the data required\n",
        "2. Represent tokens as indices using dictionaries\n",
        "3. Convert the tokens into vectors using One hot encoding\n",
        "4. Implement Recurrent Neural Network to solve the Next token prediction problem"
      ]
    },
    {
      "cell_type": "markdown",
      "metadata": {
        "id": "UQQQrokDhp5W"
      },
      "source": [
        "##Write down the Objectives, Hypothesis and Experimental description for the above problem\n",
        "\n"
      ]
    },
    {
      "cell_type": "markdown",
      "metadata": {
        "id": "XnwyeTeVhqpx"
      },
      "source": [
        "Objectives : Implement RNN, and make it predict the next letter in the sequence. \n",
        "\n",
        "Hypothesis : The RNN should redict the next sequence. \n",
        "\n",
        "Experimental description : 1. Create the aprropiate dataset. \n",
        "\n",
        "2. Implement RNN.\n",
        "\n",
        "\n",
        "\n",
        "3. See the predictions.\n"
      ]
    },
    {
      "cell_type": "markdown",
      "metadata": {
        "id": "8JoALkrXhrHG"
      },
      "source": [
        "## Programming : \n"
      ]
    },
    {
      "cell_type": "markdown",
      "metadata": {
        "id": "h3duSEPZlEq_"
      },
      "source": [
        "1. **Representing tokens or text**\n",
        "\n",
        "In previous labs we mainly considered data $x \\in \\mathrm{R}^d$, where $d$ is the feature space dimension.\n",
        "With time sequences our data can be represented as $x \\in \\mathrm{R}^{t \\, \\times \\, d}$, where $t$ is the sequence length. \n",
        "This emphasises sequence dependence and that the samples along the sequence are not independent and identically distributed (i.i.d.).\n",
        "We will model functions as $\\mathrm{R}^{t \\, \\times \\, d} \\rightarrow \\mathrm{R}^c$, where $c$ is the amount of classes in the output.\n",
        "\n",
        "There are several ways to represent sequences. With text, the challenge is how to represent a word as a feature vector in $d$ dimensions, as we are required to represent text with decimal numbers in order to apply neural networks to it.\n",
        "\n",
        "In this exercise we will use a simple one-hot encoding but for categorical variables that can take on many values (e.g. words in the English language) this may be infeasible. For such scenarios, you can project the encodings into a smaller space by use of embeddings."
      ]
    },
    {
      "cell_type": "markdown",
      "metadata": {
        "id": "OdZUdeSQlbaO"
      },
      "source": [
        "2. **One-hot encoding over vocabulary**\n",
        "\n",
        "One way to represent a fixed amount of words is by making a one-hot encoded vector, which consists of 0s in all cells with the exception of a single 1 in a cell used uniquely to identify each word.\n",
        "\n",
        "| vocabulary    | one-hot encoded vector   |\n",
        "| ------------- |--------------------------|\n",
        "| Paris         | $= [1, 0, 0, \\ldots, 0]$ |\n",
        "| Rome          | $= [0, 1, 0, \\ldots, 0]$ |\n",
        "| Copenhagen    | $= [0, 0, 1, \\ldots, 0]$ |\n",
        "\n",
        "Representing a large vocabulary with one-hot encodings often becomes inefficient because of the size of each sparse vector.\n",
        "To overcome this challenge it is common practice to truncate the vocabulary to contain the $k$ most used words and represent the rest with a special symbol, $\\mathtt{UNK}$, to define unknown/unimportant words.\n",
        "This often causes entities such as names to be represented with $\\mathtt{UNK}$ because they are rare.\n",
        "\n",
        "Consider the following text\n",
        "> I love the corny jokes in Spielberg's new movie.\n",
        "\n",
        "where an example result would be similar to\n",
        "> I love the corny jokes in $\\mathtt{UNK}$'s new movie."
      ]
    },
    {
      "cell_type": "markdown",
      "metadata": {
        "id": "PYhxG_0yljV8"
      },
      "source": [
        "## Generating a dataset\n",
        "\n",
        "For this exercise we will create a simple dataset that we can learn from. We generate sequences of the form:\n",
        "\n",
        "`a a a a b b b b EOS`, `a a b b EOS`, `a a a a a b b b b b EOS`\n",
        "\n",
        "where `EOS` is a special character denoting the end of a sequence. The task is to predict the next token $t_n$, i.e. `a`, `b`, `EOS` or the unknown token `UNK` given the sequence of tokens $\\{ t_{1}, t_{2}, \\dots , t_{n-1}\\}$ and we are to process sequences in a sequential manner. As such, the network will need to learn that e.g. 5 `b`s and an `EOS` token will occur following 5 `a`s."
      ]
    },
    {
      "cell_type": "code",
      "execution_count": null,
      "metadata": {
        "colab": {
          "base_uri": "https://localhost:8080/"
        },
        "id": "5e6FzDlsheny",
        "outputId": "76f5dc07-bda8-4157-a7f9-296f1f57b124"
      },
      "outputs": [
        {
          "name": "stdout",
          "output_type": "stream",
          "text": [
            "A single sample from the generated dataset:\n",
            "['a', 'a', 'a', 'a', 'b', 'b', 'b', 'b', 'EOS']\n"
          ]
        }
      ],
      "source": [
        "import numpy as np\n",
        "\n",
        "\n",
        "def generate_dataset(num_sequences=50):\n",
        "    \"\"\"\n",
        "    Generates a number of sequences as our dataset.\n",
        "    \n",
        "    Input :\n",
        "     `num_sequences`: the number of sequences to be generated.\n",
        "     \n",
        "    Returns a list of sequences.\n",
        "    \"\"\"\n",
        "    samples = []\n",
        "    \n",
        "    ## Write your code here\n",
        "    \n",
        "    for i in range(num_sequences): \n",
        "        num_tokens = np.random.randint(1, 10)\n",
        "        sample = ['a'] * num_tokens + ['b'] * num_tokens + ['EOS']\n",
        "        samples.append(sample)\n",
        "\n",
        "    return samples\n",
        "\n",
        "\n",
        "sequences = generate_dataset()\n",
        "\n",
        "print('A single sample from the generated dataset:')\n",
        "print(sequences[0])"
      ]
    },
    {
      "cell_type": "markdown",
      "metadata": {
        "id": "ZOssF34fmCJV"
      },
      "source": [
        "## Representing tokens as indices\n",
        "\n",
        "To build a one-hot encoding, we need to assign each possible word in our vocabulary an index. We do that by creating two dictionaries: one that allows us to go from a given word to its corresponding index in our vocabulary, and one for the reverse direction. Let's call them `word_to_idx` and `idx_to_word`. The keyword `num_words` specifies the maximum size of our vocabulary. If we try to access a word that does not exist in our vocabulary, it is automatically replaced by the `UNK` token or its corresponding index."
      ]
    },
    {
      "cell_type": "code",
      "execution_count": null,
      "metadata": {
        "colab": {
          "base_uri": "https://localhost:8080/"
        },
        "id": "kd4-PHrSl-oV",
        "outputId": "872819c8-6c5c-45d5-f0ec-04c713661cab"
      },
      "outputs": [
        {
          "name": "stdout",
          "output_type": "stream",
          "text": [
            "Word to Index Dictionary :  {'EOS': 0, 'a': 1, 'b': 2, 'UNK': 3}\n",
            "Index to Word Dictionary :  {0: 'EOS', 1: 'a', 2: 'b', 3: 'UNK'}\n",
            "Number of Sequences :  50\n",
            "Vocab Size :  4\n"
          ]
        }
      ],
      "source": [
        "# from collections import defaultdict\n",
        "\n",
        "def sequences_to_dicts(sequences):\n",
        "    \"\"\"\n",
        "    Create word_to_idx and idx_to_word dictionaries for a list of sequences.\n",
        "    \"\"\"\n",
        "\n",
        "    ## Write your code here\n",
        "    num_sequences = len(sequences)\n",
        "   # words= ['a','b', 'EOS', 'UNK']\n",
        "    x = np.array(sequences[0])\n",
        "    words = list(np.unique(x))\n",
        "    words.append('UNK') \n",
        "    word_to_idx = {k:v for v,k in enumerate(words)}\n",
        "    idx_to_word = {v:k for v,k in enumerate(words)}\n",
        "    vocab_size = len(words)\n",
        "    return word_to_idx, idx_to_word, num_sequences, vocab_size\n",
        "\n",
        "\n",
        "word_to_idx, idx_to_word, num_sequences, vocab_size = sequences_to_dicts(sequences)\n",
        "\n",
        "print(\"Word to Index Dictionary : \",dict(word_to_idx))\n",
        "print(\"Index to Word Dictionary : \",dict(idx_to_word))\n",
        "print(\"Number of Sequences : \",num_sequences)\n",
        "print(\"Vocab Size : \",vocab_size)\n"
      ]
    },
    {
      "cell_type": "markdown",
      "metadata": {
        "id": "qa3EMnoem5RE"
      },
      "source": [
        "## Creating Dataset \n",
        "\n",
        "To build our dataset, we need to create inputs and targets for each sequences and partition sentences it into training and test sets. 80% and 20% is a common distribution, but mind you that this largely depends on the size of the dataset. **Since we are doing next-word predictions, our target sequence is simply the input sequence shifted by one word.**"
      ]
    },
    {
      "cell_type": "code",
      "execution_count": null,
      "metadata": {
        "colab": {
          "base_uri": "https://localhost:8080/"
        },
        "id": "67EBwhExm6RY",
        "outputId": "d6c03939-ff00-43de-ce27-bf2a51fe8ae6"
      },
      "outputs": [
        {
          "name": "stdout",
          "output_type": "stream",
          "text": [
            "Input for the first training sample :  ['a', 'a', 'a', 'a', 'b', 'b', 'b', 'b']\n",
            "Target output for the first training sample :  ['a', 'a', 'a', 'b', 'b', 'b', 'b', 'EOS']\n"
          ]
        }
      ],
      "source": [
        "    \n",
        "def create_datasets(sequences, p_train=0.8, p_test=0.2):\n",
        "    # Define partition sizes\n",
        "      num_train = int(len(sequences)*p_train)\n",
        "      num_test = int(len(sequences)*p_test)\n",
        "\n",
        "      # Split sequences into partitions\n",
        "      sequences_train = sequences[:num_train]\n",
        "      sequences_test = sequences[-num_test:]\n",
        "\n",
        "      def get_inputs_targets_from_sequences(sequences):\n",
        "          # Define empty lists\n",
        "          inputs, targets = [], []\n",
        "          \n",
        "          # Append inputs and targets s.t. both lists contain L-1 words of a sentence of length L\n",
        "          # but targets are shifted right by one so that we can predict the next word\n",
        "\n",
        "          ## Write your code here\n",
        "                  # Define empty lists\n",
        "          inputs, targets = [], []\n",
        "          \n",
        "          # Append inputs and targets s.t. both lists contain L-1 words of a sentence of length L\n",
        "          # but targets are shifted right by one so that we can predict the next word\n",
        "          for sequence in sequences:\n",
        "              inputs.append(sequence[:-1])\n",
        "              targets.append(sequence[1:])\n",
        "\n",
        "\n",
        "              \n",
        "          return inputs, targets\n",
        "\n",
        "      # Get inputs and targets for each partition\n",
        "      inputs_train, targets_train = get_inputs_targets_from_sequences(sequences_train)\n",
        "      inputs_test, targets_test = get_inputs_targets_from_sequences(sequences_test)\n",
        "      \n",
        "\n",
        "      return inputs_train,targets_train,inputs_test,targets_test\n",
        "    \n",
        "\n",
        "x_train,y_train,x_test,y_test = create_datasets(sequences)\n",
        "\n",
        "print(\"Input for the first training sample : \",x_train[0])\n",
        "print(\"Target output for the first training sample : \",y_train[0])\n"
      ]
    },
    {
      "cell_type": "code",
      "execution_count": null,
      "metadata": {
        "colab": {
          "base_uri": "https://localhost:8080/"
        },
        "id": "vNG2iGPpc1n0",
        "outputId": "417e9f50-fea0-43c3-ba5f-b9d59b39aa87"
      },
      "outputs": [
        {
          "data": {
            "text/plain": [
              "40"
            ]
          },
          "execution_count": 10,
          "metadata": {},
          "output_type": "execute_result"
        }
      ],
      "source": [
        "len(x_train)"
      ]
    },
    {
      "cell_type": "markdown",
      "metadata": {
        "id": "XT8pAPFVpr1E"
      },
      "source": [
        "## One-hot encodings\n",
        "\n",
        "We now create a simple function that returns the one-hot encoded representation of a given index of a word in our vocabulary. Notice that the shape of the one-hot encoding is equal to the vocabulary (which can be huge!). Additionally, we define a function to automatically one-hot encode a sentence."
      ]
    },
    {
      "cell_type": "code",
      "execution_count": null,
      "metadata": {
        "colab": {
          "base_uri": "https://localhost:8080/"
        },
        "id": "932mDevcoqh0",
        "outputId": "ccd6f419-6dad-4bbe-ac9f-40ad68813dca"
      },
      "outputs": [
        {
          "name": "stdout",
          "output_type": "stream",
          "text": [
            "Our one-hot encoding of 'a' is [0. 1. 0. 0.].\n",
            "Our one-hot encoding of 'a' has shape (4,).\n",
            "Our one-hot encoding of 'a b' is [[[0.]\n",
            "  [1.]\n",
            "  [0.]\n",
            "  [0.]]\n",
            "\n",
            " [[0.]\n",
            "  [0.]\n",
            "  [1.]\n",
            "  [0.]]].\n",
            "Our one-hot encoding of 'a b' has shape (2, 4, 1).\n"
          ]
        }
      ],
      "source": [
        "def one_hot_encode(idx, vocab_size):\n",
        "    \"\"\"\n",
        "    One-hot encodes a single word given its index and the size of the vocabulary.\n",
        "    \n",
        "    Input :\n",
        "     `idx`: the index of the given word\n",
        "     `vocab_size`: the size of the vocabulary\n",
        "    \n",
        "    Returns a 1-D numpy array of length `vocab_size`.\n",
        "    \"\"\"\n",
        "    # Initialize the encoded array\n",
        "    one_hot = np.zeros(vocab_size)\n",
        "    \n",
        "    # Set the appropriate element to one\n",
        "    one_hot[idx] = 1.0\n",
        "\n",
        "    return one_hot\n",
        "\n",
        "\n",
        "def one_hot_encode_sequence(sequence, vocab_size):\n",
        "    \"\"\"\n",
        "    One-hot encodes a sequence of words given a fixed vocabulary size.\n",
        "    \n",
        "    Input :\n",
        "     `sentence`: a list of words to encode\n",
        "     `vocab_size`: the size of the vocabulary\n",
        "     \n",
        "    Returns a 3-D numpy array of shape (num words, vocab size, 1).\n",
        "    \"\"\"\n",
        "    # Encode each word in the sentence\n",
        "    encoding = np.array([one_hot_encode(word_to_idx[word], vocab_size) for word in sequence])\n",
        "\n",
        "    # Reshape encoding s.t. it has shape (num words, vocab size, 1)\n",
        "    encoding = encoding.reshape(encoding.shape[0], encoding.shape[1], 1)\n",
        "    \n",
        "    return encoding\n",
        "\n",
        "\n",
        "test_word = one_hot_encode(word_to_idx['a'], vocab_size)\n",
        "print(f'Our one-hot encoding of \\'a\\' is {test_word}.')\n",
        "print(f'Our one-hot encoding of \\'a\\' has shape {test_word.shape}.')\n",
        "\n",
        "test_sentence = one_hot_encode_sequence(['a', 'b'], vocab_size)\n",
        "print(f'Our one-hot encoding of \\'a b\\' is {test_sentence}.')\n",
        "print(f'Our one-hot encoding of \\'a b\\' has shape {test_sentence.shape}.')"
      ]
    },
    {
      "cell_type": "markdown",
      "metadata": {
        "id": "ubppcPGHqXnQ"
      },
      "source": [
        "## Implementation of RNN : \n",
        "\n",
        "A recurrent neural network (RNN) is a type of neural network that has been succesful in modelling sequential data, e.g. language, speech, protein sequences, etc.\n",
        "\n",
        "A RNN performs its computations in a cyclic manner, where the same computation is applied to every sample of a given sequence.\n",
        "The idea is that the network should be able to use the previous computations as some form of memory and apply this to future computations.\n",
        "An image may best explain how this is to be understood,\n",
        "\n",
        "![rnn-unroll image](https://github.com/DeepLearningDTU/02456-deep-learning-with-PyTorch/blob/master/static_files/rnn-unfold.png?raw=1)\n",
        "\n",
        "\n",
        "where it the network contains the following elements:\n",
        "\n",
        "- $x$ is the input sequence of samples, \n",
        "- $U$ is a weight matrix applied to the given input sample,\n",
        "- $V$ is a weight matrix used for the recurrent computation in order to pass memory along the sequence,\n",
        "- $W$ is a weight matrix used to compute the output of the every timestep (given that every timestep requires an output),\n",
        "- $h$ is the hidden state (the network's memory) for a given time step, and\n",
        "- $o$ is the resulting output.\n",
        "\n",
        "When the network is unrolled as shown, it is easier to refer to a timestep, $t$.\n",
        "We have the following computations through the network:\n",
        "\n",
        "- $h_t = f(U\\,{x_t} + V\\,{h_{t-1}})$, where $f$ usually is an activation function, e.g. $\\mathrm{tanh}$.\n",
        "- $o_t = \\mathrm{softmax}(W\\,{h_t})$\n",
        "\n",
        "\n",
        "**Steps :** \n",
        "\n",
        "  1. Implement Forward Pass, Backward Pass and Optimisation\n",
        "  2. Write the training loop\n",
        "  3. Take care of the exploding gradient problem by clipping the gradients "
      ]
    },
    {
      "cell_type": "markdown",
      "metadata": {
        "id": "1LVZSULj7dJy"
      },
      "source": [
        "Steps: \n",
        "\n",
        "Forward Pass : \n",
        "\n",
        "1. We first multiply the input with the weights between input and hidden layers\n",
        "2. Add this with the multiplication of weights in the RNN layer. This is because we want to capture the knowledge of the previous timestep\n",
        "3. Pass it through a sigmoid activation function\n",
        "4. Multiply this with the weights between hidden and output layers\n",
        "5. At the output layer, we have a linear activation of the values so we do not explicitly pass the value through an activation layer\n",
        "6. Save the state at the current layer and also the state at the previous timestep in a dictionary\n",
        "\n",
        "\n",
        "Backward Pass : \n",
        "\n",
        "After the forward propagation step, we calculate the gradients at each layer, and backpropagate the errors. We will use truncated back propagation through time (TBPTT), instead of vanilla backprop. It may sound complex but its actually pretty straight forward.\n",
        "\n",
        "The core difference in BPTT versus backprop is that the backpropagation step is done for all the time steps in the RNN layer. \n"
      ]
    },
    {
      "cell_type": "code",
      "execution_count": null,
      "metadata": {
        "colab": {
          "base_uri": "https://localhost:8080/"
        },
        "id": "xN4tNqxwo3i-",
        "outputId": "0b929058-e2c2-429c-a368-4d0ac1b8ddd8"
      },
      "outputs": [
        {
          "name": "stdout",
          "output_type": "stream",
          "text": [
            "epoch 0\n",
            "[50633.19085775]\n",
            "epoch 1\n",
            "[45136.19159743]\n",
            "epoch 2\n",
            "[37266.5195054]\n",
            "epoch 3\n",
            "[30010.70311435]\n",
            "epoch 4\n",
            "[23534.65966561]\n",
            "epoch 5\n",
            "[17847.60207955]\n",
            "epoch 6\n",
            "[12950.02060039]\n",
            "epoch 7\n",
            "[8841.83398979]\n",
            "epoch 8\n",
            "[5522.38480823]\n",
            "epoch 9\n",
            "[2988.35641879]\n",
            "epoch 10\n",
            "[1228.96499766]\n",
            "epoch 11\n",
            "[253.05343694]\n",
            "epoch 12\n",
            "[28.46170926]\n",
            "epoch 13\n",
            "[9.52264212]\n",
            "epoch 14\n",
            "[7.5977324]\n",
            "epoch 15\n",
            "[7.38496752]\n",
            "epoch 16\n",
            "[7.29966948]\n",
            "epoch 17\n",
            "[7.28299589]\n",
            "epoch 18\n",
            "[7.2802859]\n",
            "epoch 19\n",
            "[7.27942288]\n",
            "epoch 20\n",
            "[7.27890299]\n",
            "epoch 21\n",
            "[7.27859227]\n",
            "epoch 22\n",
            "[7.27837328]\n",
            "epoch 23\n",
            "[7.27814346]\n",
            "epoch 24\n",
            "[7.27787391]\n",
            "epoch 25\n",
            "[7.2777605]\n",
            "epoch 26\n",
            "[7.27770694]\n",
            "epoch 27\n",
            "[7.27765403]\n",
            "epoch 28\n",
            "[7.27759881]\n",
            "epoch 29\n",
            "[7.27750691]\n",
            "epoch 30\n",
            "[7.2774307]\n",
            "epoch 31\n",
            "[7.27739538]\n",
            "epoch 32\n",
            "[7.27738978]\n",
            "epoch 33\n",
            "[7.27740184]\n",
            "epoch 34\n",
            "[7.27742385]\n",
            "epoch 35\n",
            "[7.27745146]\n",
            "epoch 36\n",
            "[7.27748229]\n",
            "epoch 37\n",
            "[7.27751511]\n",
            "epoch 38\n",
            "[7.27754929]\n",
            "epoch 39\n",
            "[7.27758451]\n",
            "epoch 40\n",
            "[7.27762063]\n",
            "epoch 41\n",
            "[7.27765755]\n",
            "epoch 42\n",
            "[7.27769524]\n",
            "epoch 43\n",
            "[7.2777337]\n",
            "epoch 44\n",
            "[7.2777729]\n",
            "epoch 45\n",
            "[7.27781285]\n",
            "epoch 46\n",
            "[7.27785354]\n",
            "epoch 47\n",
            "[7.27789497]\n",
            "epoch 48\n",
            "[7.27793715]\n",
            "epoch 49\n",
            "[7.27798006]\n"
          ]
        }
      ],
      "source": [
        "## Write your code here\n",
        "\n",
        "#-------------------------------Initialising Parameters-----------------------#\n",
        "learning_rate = 0.0001    \n",
        "nepoch = 25               \n",
        "T = vocab_size   # length of sequence\n",
        "hidden_dim = 70         \n",
        "output_dim = vocab_size\n",
        "\n",
        "bptt_truncate = 5\n",
        "min_clip_value = -10\n",
        "max_clip_value = 10\n",
        "\n",
        "\n",
        "U = np.random.uniform(0, 1, (hidden_dim, T))\n",
        "W = np.random.uniform(0, 1, (hidden_dim, hidden_dim))\n",
        "V = np.random.uniform(0, 1, (output_dim, hidden_dim))\n",
        "\n",
        "#U is the weight matrix for weights between input and hidden layers\n",
        "#V is the weight matrix for weights between hidden and output layers\n",
        "#W is the weight matrix for shared weights in the RNN layer (hidden layer)\n",
        "\n",
        "#-----------------------Activation Function-----------------------------#\n",
        "def sigmoid(x):\n",
        "    return 1 / (1 + np.exp(-x))\n",
        "\n",
        "\n",
        "#------------------Training loop-----------------------------------------------#\n",
        "    # train model\n",
        "loss = 0.0\n",
        "n_epochs = 50\n",
        "for epoch in range(n_epochs):\n",
        "      for i in range(len(x_train)):\n",
        "        x, y = one_hot_encode_sequence(x_train[i], vocab_size) , one_hot_encode_sequence(y_train[i], vocab_size)  \n",
        "         \n",
        "        layers = []\n",
        "        prev_s = np.zeros((hidden_dim, 1))\n",
        "        dU = np.zeros(U.shape)\n",
        "        dV = np.zeros(V.shape)\n",
        "        dW = np.zeros(W.shape)\n",
        "        \n",
        "        dU_t = np.zeros(U.shape)\n",
        "        dV_t = np.zeros(V.shape)\n",
        "        dW_t = np.zeros(W.shape)\n",
        "        \n",
        "        dU_i = np.zeros(U.shape)\n",
        "        dW_i = np.zeros(W.shape)\n",
        "        \n",
        "        # forward pass\n",
        "        for t in range(len(x)):\n",
        "            new_input = np.zeros(x.shape)\n",
        "            new_input[t] = x[t]\n",
        "            mulu = np.dot(U, new_input[t]) #Wax\n",
        "            mulw = np.dot(W, prev_s) #Waa\n",
        "            add = mulw + mulu\n",
        "            s = sigmoid(add)\n",
        "            mulv = np.dot(V, s)\n",
        "            layers.append({'s':s, 'prev_s':prev_s})\n",
        "            prev_s = s\n",
        "        \n",
        "        # derivative of pred\n",
        "        dmulv = (mulv - y)\n",
        "        \n",
        "        # backward pass\n",
        "        for t in range(len(x)):\n",
        "            dV_t = np.dot(dmulv[t], np.transpose(layers[t]['s']))  #Way : d_o , s\n",
        "            dsv = np.dot(np.transpose(V), dmulv[t])  #ioutput of wax, waa to way\n",
        "            \n",
        "            ds = dsv\n",
        "            dadd = add * (1 - add) * ds  #d_sigmoid\n",
        "            \n",
        "            dmulw = dadd * np.ones_like(mulw)  #d_waa\n",
        "\n",
        "            dprev_s = np.dot(np.transpose(W), dmulw)  #\n",
        "\n",
        "\n",
        "            for i in range(t-1, max(-1, t-bptt_truncate-1), -1):\n",
        "                ds = dsv + dprev_s\n",
        "                dadd = add * (1 - add) * ds\n",
        "\n",
        "                dmulw = dadd * np.ones_like(mulw)\n",
        "                dmulu = dadd * np.ones_like(mulu)\n",
        "\n",
        "                dW_i = np.dot(W, layers[t]['prev_s'])\n",
        "                dprev_s = np.dot(np.transpose(W), dmulw)\n",
        "\n",
        "                new_input = np.zeros(x.shape)\n",
        "                new_input[t] = x[t]\n",
        "                dU_i = np.dot(U, new_input[t])\n",
        "                dx = np.dot(np.transpose(U), dmulu)\n",
        "\n",
        "                dU_t += dU_i\n",
        "                dW_t += dW_i\n",
        "                \n",
        "            dV += dV_t\n",
        "            dU += dU_t\n",
        "            dW += dW_t\n",
        "\n",
        "            if dU.max() > max_clip_value:\n",
        "                dU[dU > max_clip_value] = max_clip_value\n",
        "            if dV.max() > max_clip_value:\n",
        "                dV[dV > max_clip_value] = max_clip_value\n",
        "            if dW.max() > max_clip_value:\n",
        "                dW[dW > max_clip_value] = max_clip_value\n",
        "                \n",
        "            \n",
        "            if dU.min() < min_clip_value:\n",
        "                dU[dU < min_clip_value] = min_clip_value\n",
        "            if dV.min() < min_clip_value:\n",
        "                dV[dV < min_clip_value] = min_clip_value\n",
        "            if dW.min() < min_clip_value:\n",
        "                dW[dW < min_clip_value] = min_clip_value\n",
        "        \n",
        "        # update\n",
        "        U -= learning_rate * dU\n",
        "        V -= learning_rate * dV\n",
        "        W -= learning_rate * dW\n",
        "        \n",
        "        \n",
        "\n",
        "       \n",
        "\n",
        "        loss_per_record = sum((y - mulv)**2 / 2)\n",
        "        #print(sum(loss_per_record))\n",
        "        loss += loss_per_record\n",
        "        #print(loss)\n",
        "      print(\"epoch\", epoch )\n",
        "      loss = loss / float(y.shape[0])\n",
        "      print(sum(loss))"
      ]
    },
    {
      "cell_type": "markdown",
      "metadata": {
        "id": "jgIvlciedMaV"
      },
      "source": [
        "Accuracy and testing"
      ]
    },
    {
      "cell_type": "markdown",
      "metadata": {
        "id": "_EIEpzS6hbwi"
      },
      "source": [
        "Test Dataset"
      ]
    },
    {
      "cell_type": "code",
      "execution_count": null,
      "metadata": {
        "colab": {
          "base_uri": "https://localhost:8080/"
        },
        "id": "Tnn0OpC5cIuJ",
        "outputId": "452dcdb5-c8f9-4aec-9372-ba2941067d10"
      },
      "outputs": [
        {
          "name": "stdout",
          "output_type": "stream",
          "text": [
            "Predicted: ['a', 'a', 'a', 'a', 'b', 'b']\n",
            "Actual seq : ['a', 'a', 'b', 'b', 'b', 'EOS']\n",
            "Predicted: ['a', 'a', 'a', 'a', 'a', 'a', 'a', 'a', 'a', 'a', 'b', 'b', 'b', 'b', 'b', 'b', 'b', 'b']\n",
            "Actual seq : ['a', 'a', 'a', 'a', 'a', 'a', 'a', 'a', 'b', 'b', 'b', 'b', 'b', 'b', 'b', 'b', 'b', 'EOS']\n",
            "Predicted: ['a', 'a', 'a', 'a', 'a', 'a', 'b', 'b', 'b', 'b']\n",
            "Actual seq : ['a', 'a', 'a', 'a', 'b', 'b', 'b', 'b', 'b', 'EOS']\n",
            "Predicted: ['a', 'a', 'a', 'a', 'a', 'a', 'a', 'a', 'a', 'b', 'b', 'b', 'b', 'b', 'b', 'b']\n",
            "Actual seq : ['a', 'a', 'a', 'a', 'a', 'a', 'a', 'b', 'b', 'b', 'b', 'b', 'b', 'b', 'b', 'EOS']\n",
            "Predicted: ['a', 'a']\n",
            "Actual seq : ['b', 'EOS']\n",
            "Predicted: ['a', 'a', 'a', 'a', 'a', 'b', 'b', 'b']\n",
            "Actual seq : ['a', 'a', 'a', 'b', 'b', 'b', 'b', 'EOS']\n",
            "Predicted: ['a', 'a', 'a', 'a', 'a', 'b', 'b', 'b']\n",
            "Actual seq : ['a', 'a', 'a', 'b', 'b', 'b', 'b', 'EOS']\n",
            "Predicted: ['a', 'a', 'a', 'a', 'a', 'a', 'a', 'b', 'b', 'b', 'b', 'b']\n",
            "Actual seq : ['a', 'a', 'a', 'a', 'a', 'b', 'b', 'b', 'b', 'b', 'b', 'EOS']\n",
            "Predicted: ['a', 'a']\n",
            "Actual seq : ['b', 'EOS']\n",
            "Predicted: ['a', 'a', 'a', 'b']\n",
            "Actual seq : ['a', 'b', 'b', 'EOS']\n"
          ]
        }
      ],
      "source": [
        "output_seq = []\n",
        "\n",
        "for i in range(len(x_test)):\n",
        "        x, y = one_hot_encode_sequence(x_test[i], vocab_size) , one_hot_encode_sequence(y_test[i], vocab_size)  \n",
        "        #print(x.shape,y.shape)              # get input, output values of each record\n",
        "        prev_s = np.zeros((hidden_dim, 1))   # here, prev-s is the value of the previous activation of hidden layer; which is initialized as all zeroes\n",
        "        preds = []\n",
        "\n",
        "        for t in range(len(x)):\n",
        "            mulu = np.dot(U, x[t])\n",
        "            mulw = np.dot(W, prev_s)\n",
        "            add = mulw + mulu\n",
        "            s = sigmoid(add)\n",
        "            mulv = np.dot(V, s)\n",
        "            prev_s = s\n",
        "\n",
        "            preds.append(mulv)\n",
        "        predicted = [idx_to_word[np.argmax(o)] for o in preds]\n",
        "        print(\"Predicted:\",predicted)\n",
        "        print(\"Actual seq :\", y_test[i])\n",
        "        actual = y_test\n",
        "        output_seq.append(predicted) "
      ]
    },
    {
      "cell_type": "code",
      "execution_count": null,
      "metadata": {
        "colab": {
          "base_uri": "https://localhost:8080/"
        },
        "id": "67lWgSU_f-LX",
        "outputId": "5012d3ce-6a91-4bab-867e-ebae3105accc"
      },
      "outputs": [
        {
          "name": "stdout",
          "output_type": "stream",
          "text": [
            "Total Word error Rate :  0.49041666666666667\n",
            "Total Word Accuracy :  0.5095833333333333\n"
          ]
        }
      ],
      "source": [
        "\n",
        "#------Calculating WER--------------#\n",
        "w_err = []\n",
        "w_acc = []\n",
        "for i in range(len(output_seq)):\n",
        "  pred = output_seq[i]\n",
        "  act = y_test[i]\n",
        "  wer = 0\n",
        "  wacc = 0\n",
        "  for k in range(len(act)):\n",
        "    if pred[k] != act[k]:\n",
        "      wer = wer +1\n",
        "    else:\n",
        "      wacc = wacc +1\n",
        "  w_err.append(wer/len(act))\n",
        "  w_acc.append(wacc/len(act))\n",
        "\n",
        "\n",
        "print(\"Total Word error Rate : \", sum(w_err)/len(w_err))\n",
        "print(\"Total Word Accuracy : \", sum(w_acc)/len(w_acc))"
      ]
    },
    {
      "cell_type": "code",
      "execution_count": null,
      "metadata": {
        "id": "IwSLjidrheZD"
      },
      "outputs": [],
      "source": [
        "#Train Data\n",
        "output_seq = []\n",
        "\n",
        "for i in range(len(x_train)):\n",
        "        x, y = one_hot_encode_sequence(x_train[i], vocab_size) , one_hot_encode_sequence(y_train[i], vocab_size)  \n",
        "        #print(x.shape,y.shape)              # get input, output values of each record\n",
        "        prev_s = np.zeros((hidden_dim, 1))   # here, prev-s is the value of the previous activation of hidden layer; which is initialized as all zeroes\n",
        "        preds = []\n",
        "\n",
        "        for t in range(len(x)):\n",
        "            mulu = np.dot(U, x[t])\n",
        "            mulw = np.dot(W, prev_s)\n",
        "            add = mulw + mulu\n",
        "            s = sigmoid(add)\n",
        "            mulv = np.dot(V, s)\n",
        "            prev_s = s\n",
        "\n",
        "            preds.append(mulv)\n",
        "        predicted = [idx_to_word[np.argmax(o)] for o in preds]\n",
        "        print(\"Predicted:\",predicted)\n",
        "        print(\"Actual seq :\", y_train[i])\n",
        "        actual = y_train\n",
        "        output_seq.append(predicted) "
      ]
    },
    {
      "cell_type": "code",
      "execution_count": null,
      "metadata": {
        "colab": {
          "base_uri": "https://localhost:8080/"
        },
        "id": "nPV0orlchzzy",
        "outputId": "cd9b0acb-66b5-489e-92d1-fe925a8a0cc6"
      },
      "outputs": [
        {
          "name": "stdout",
          "output_type": "stream",
          "text": [
            "Total Word error Rate :  0.3663095238095238\n",
            "Total Word Accuracy :  0.6336904761904761\n"
          ]
        }
      ],
      "source": [
        "\n",
        "#------Calculating WER--------------#\n",
        "w_err = []\n",
        "w_acc = []\n",
        "for i in range(len(output_seq)):\n",
        "  pred = output_seq[i]\n",
        "  act = y_train[i]\n",
        "  wer = 0\n",
        "  wacc = 0\n",
        "  for k in range(len(act)):\n",
        "    if pred[k] != act[k]:\n",
        "      wer = wer +1\n",
        "    else:\n",
        "      wacc = wacc +1\n",
        "  w_err.append(wer/len(act))\n",
        "  w_acc.append(wacc/len(act))\n",
        "\n",
        "\n",
        "print(\"Total Word error Rate : \", sum(w_err)/len(w_err))\n",
        "print(\"Total Word Accuracy : \", sum(w_acc)/len(w_acc))"
      ]
    },
    {
      "cell_type": "markdown",
      "metadata": {
        "id": "tnwKppT4htoy"
      },
      "source": [
        "## Inferences and Conclusion : State all the key observations and conclusion"
      ]
    },
    {
      "cell_type": "markdown",
      "metadata": {
        "id": "xIOyPoSYhv4E"
      },
      "source": [
        "The word error rate on train data set : 36.6%, with accuracy being 63.3%.\n",
        "\n",
        "The word error rate on test data set : 49%, with accuracy being 50%.\n"
      ]
    },
    {
      "cell_type": "markdown",
      "metadata": {
        "id": "MPLkrFccsMH8"
      },
      "source": [
        "#**Problem 2** : Demonstrate the same for a Sine Wave\n",
        "\n",
        "Objective : Given a sequence of 50 numbers belonging to a sine wave, predict the 51st number in the series."
      ]
    },
    {
      "cell_type": "code",
      "execution_count": null,
      "metadata": {
        "colab": {
          "base_uri": "https://localhost:8080/",
          "height": 282
        },
        "id": "G6-O0EIFt6j2",
        "outputId": "16b4591a-f1fa-4ffc-8968-eb1819e52a20"
      },
      "outputs": [
        {
          "data": {
            "text/plain": [
              "[<matplotlib.lines.Line2D at 0x7fc869309410>]"
            ]
          },
          "execution_count": 26,
          "metadata": {},
          "output_type": "execute_result"
        },
        {
          "data": {
            "image/png": "[encoded data removed]",
            "text/plain": [
              "<Figure size 432x288 with 1 Axes>"
            ]
          },
          "metadata": {
            "needs_background": "light"
          },
          "output_type": "display_data"
        }
      ],
      "source": [
        "## Write your code here\n",
        "import math\n",
        "import matplotlib.pyplot as plt\n",
        "import numpy as np\n",
        "sin_wave = np.array([math.sin(x) for x in np.arange(200)])\n",
        "plt.plot(sin_wave[:50])\n"
      ]
    },
    {
      "cell_type": "code",
      "execution_count": null,
      "metadata": {
        "colab": {
          "base_uri": "https://localhost:8080/"
        },
        "id": "2q4rdtDUhDpb",
        "outputId": "ba16929a-5114-4cf8-aaa9-8350b3d13ed5"
      },
      "outputs": [
        {
          "name": "stdout",
          "output_type": "stream",
          "text": [
            "(100, 50, 1) (100, 1)\n"
          ]
        }
      ],
      "source": [
        "X = []\n",
        "Y = []\n",
        "\n",
        "seq_len = 50\n",
        "num_records = len(sin_wave) - seq_len\n",
        "\n",
        "for i in range(num_records - 50):\n",
        "    X.append(sin_wave[i:i+seq_len])\n",
        "    Y.append(sin_wave[i+seq_len])\n",
        "    \n",
        "X = np.array(X)\n",
        "X = np.expand_dims(X, axis=2)\n",
        "\n",
        "Y = np.array(Y)\n",
        "Y = np.expand_dims(Y, axis=1)\n",
        "\n",
        "X_val = []\n",
        "Y_val = []\n",
        "\n",
        "for i in range(num_records - 50, num_records):\n",
        "    X_val.append(sin_wave[i:i+seq_len])\n",
        "    Y_val.append(sin_wave[i+seq_len])\n",
        "    \n",
        "X_val = np.array(X_val)\n",
        "X_val = np.expand_dims(X_val, axis=2)\n",
        "\n",
        "Y_val = np.array(Y_val)\n",
        "Y_val = np.expand_dims(Y_val, axis=1)\n",
        "\n",
        "print(X.shape, Y.shape)"
      ]
    },
    {
      "cell_type": "code",
      "execution_count": null,
      "metadata": {
        "colab": {
          "base_uri": "https://localhost:8080/"
        },
        "id": "DlJqEnxUgsF9",
        "outputId": "5f334cc4-b3e6-4d7f-c85b-c24023ac77b6"
      },
      "outputs": [
        {
          "name": "stdout",
          "output_type": "stream",
          "text": [
            "epoch 0\n",
            "[[94126.89734992]]\n",
            "epoch 1\n",
            "[[55839.36038095]]\n",
            "epoch 2\n",
            "[[27551.822133]]\n",
            "epoch 3\n",
            "[[9254.10206085]]\n",
            "epoch 4\n",
            "[[845.07433134]]\n",
            "epoch 5\n",
            "[[30.44707334]]\n",
            "epoch 6\n",
            "[[29.81711196]]\n",
            "epoch 7\n",
            "[[29.42851762]]\n",
            "epoch 8\n",
            "[[29.47807824]]\n",
            "epoch 9\n",
            "[[29.79429852]]\n",
            "epoch 10\n",
            "[[29.64926909]]\n",
            "epoch 11\n",
            "[[29.32282008]]\n",
            "epoch 12\n",
            "[[29.17018649]]\n",
            "epoch 13\n",
            "[[29.55426131]]\n",
            "epoch 14\n",
            "[[29.25508561]]\n",
            "epoch 15\n",
            "[[29.25585322]]\n",
            "epoch 16\n",
            "[[29.1329578]]\n",
            "epoch 17\n",
            "[[29.16656343]]\n",
            "epoch 18\n",
            "[[29.43163957]]\n",
            "epoch 19\n",
            "[[29.33591695]]\n",
            "epoch 20\n",
            "[[29.57998306]]\n",
            "epoch 21\n",
            "[[29.33619216]]\n",
            "epoch 22\n",
            "[[29.44406575]]\n",
            "epoch 23\n",
            "[[29.16238753]]\n",
            "epoch 24\n",
            "[[29.06837093]]\n"
          ]
        }
      ],
      "source": [
        "## Write your code here\n",
        "\n",
        "#-------------------------------Initialising Parameters-----------------------#\n",
        "learning_rate = 0.0001    \n",
        "nepoch = 25               \n",
        "T = 50                   # length of sequence\n",
        "hidden_dim = 100         \n",
        "output_dim = 1\n",
        "\n",
        "bptt_truncate = 5\n",
        "min_clip_value = -10\n",
        "max_clip_value = 10\n",
        "\n",
        "\n",
        "U = np.random.uniform(0, 1, (hidden_dim, T))\n",
        "W = np.random.uniform(0, 1, (hidden_dim, hidden_dim))\n",
        "V = np.random.uniform(0, 1, (output_dim, hidden_dim))\n",
        "\n",
        "#U is the weight matrix for weights between input and hidden layers\n",
        "#V is the weight matrix for weights between hidden and output layers\n",
        "#W is the weight matrix for shared weights in the RNN layer (hidden layer)\n",
        "\n",
        "#-----------------------Activation Function-----------------------------#\n",
        "def sigmoid(x):\n",
        "    return 1 / (1 + np.exp(-x))\n",
        "\n",
        "\n",
        "#------------------Training loop-----------------------------------------------#\n",
        "    # train model\n",
        "\n",
        "#n_epochs = 50\n",
        "for epoch in range(nepoch):\n",
        "      loss = 0.0\n",
        "      for i in range(Y.shape[0]):\n",
        "        x, y = X[i], Y[i]  \n",
        "         \n",
        "        layers = []\n",
        "        prev_s = np.zeros((hidden_dim, 1))\n",
        "        dU = np.zeros(U.shape)\n",
        "        dV = np.zeros(V.shape)\n",
        "        dW = np.zeros(W.shape)\n",
        "        \n",
        "        dU_t = np.zeros(U.shape)\n",
        "        dV_t = np.zeros(V.shape)\n",
        "        dW_t = np.zeros(W.shape)\n",
        "        \n",
        "        dU_i = np.zeros(U.shape)\n",
        "        dW_i = np.zeros(W.shape)\n",
        "        \n",
        "        # forward pass\n",
        "        for t in range(T):\n",
        "            new_input = np.zeros(x.shape)\n",
        "            new_input[t] = x[t]\n",
        "            mulu = np.dot(U, new_input)\n",
        "            mulw = np.dot(W, prev_s)\n",
        "            add = mulw + mulu\n",
        "            s = sigmoid(add)\n",
        "            mulv = np.dot(V, s)\n",
        "            layers.append({'s':s, 'prev_s':prev_s})\n",
        "            prev_s = s\n",
        "        \n",
        "        # derivative of pred\n",
        "        dmulv = (mulv - y)\n",
        "        \n",
        "        # backward pass\n",
        "        for t in range(T):\n",
        "            dV_t = np.dot(dmulv, np.transpose(layers[t]['s']))\n",
        "            dsv = np.dot(np.transpose(V), dmulv)\n",
        "            \n",
        "            ds = dsv\n",
        "            dadd = add * (1 - add) * ds\n",
        "            \n",
        "            dmulw = dadd * np.ones_like(mulw)\n",
        "\n",
        "            dprev_s = np.dot(np.transpose(W), dmulw)\n",
        "\n",
        "\n",
        "            for i in range(t-1, max(-1, t-bptt_truncate-1), -1):\n",
        "                ds = dsv + dprev_s\n",
        "                dadd = add * (1 - add) * ds\n",
        "\n",
        "                dmulw = dadd * np.ones_like(mulw)\n",
        "                dmulu = dadd * np.ones_like(mulu)\n",
        "\n",
        "                dW_i = np.dot(W, layers[t]['prev_s'])\n",
        "                dprev_s = np.dot(np.transpose(W), dmulw)\n",
        "\n",
        "                new_input = np.zeros(x.shape)\n",
        "                new_input[t] = x[t]\n",
        "                dU_i = np.dot(U, new_input)\n",
        "                dx = np.dot(np.transpose(U), dmulu)\n",
        "\n",
        "                dU_t += dU_i\n",
        "                dW_t += dW_i\n",
        "                \n",
        "            dV += dV_t\n",
        "            dU += dU_t\n",
        "            dW += dW_t\n",
        "\n",
        "            if dU.max() > max_clip_value:\n",
        "                dU[dU > max_clip_value] = max_clip_value\n",
        "            if dV.max() > max_clip_value:\n",
        "                dV[dV > max_clip_value] = max_clip_value\n",
        "            if dW.max() > max_clip_value:\n",
        "                dW[dW > max_clip_value] = max_clip_value\n",
        "                \n",
        "            \n",
        "            if dU.min() < min_clip_value:\n",
        "                dU[dU < min_clip_value] = min_clip_value\n",
        "            if dV.min() < min_clip_value:\n",
        "                dV[dV < min_clip_value] = min_clip_value\n",
        "            if dW.min() < min_clip_value:\n",
        "                dW[dW < min_clip_value] = min_clip_value\n",
        "        \n",
        "        # update\n",
        "        U -= learning_rate * dU\n",
        "        V -= learning_rate * dV\n",
        "        W -= learning_rate * dW\n",
        "        \n",
        "        \n",
        "\n",
        "       \n",
        "\n",
        "        loss_per_record = (y - mulv)**2 / 2\n",
        "        #print(sum(loss_per_record))\n",
        "        loss += loss_per_record\n",
        "        #print(loss)\n",
        "      print(\"epoch\", epoch )\n",
        "      loss = loss / float(y.shape[0])\n",
        "      print(loss)"
      ]
    },
    {
      "cell_type": "code",
      "execution_count": null,
      "metadata": {
        "id": "bT0pTxXNjvh4"
      },
      "outputs": [],
      "source": [
        "preds = []\n",
        "for i in range(Y.shape[0]):\n",
        "    x, y = X[i], Y[i]\n",
        "    prev_s = np.zeros((hidden_dim, 1))\n",
        "    # Forward pass\n",
        "    for t in range(T):\n",
        "        mulu = np.dot(U, x)\n",
        "        mulw = np.dot(W, prev_s)\n",
        "        add = mulw + mulu\n",
        "        s = sigmoid(add)\n",
        "        mulv = np.dot(V, s)\n",
        "        prev_s = s\n",
        "\n",
        "    preds.append(mulv)\n",
        "    \n",
        "preds = np.array(preds)\n"
      ]
    },
    {
      "cell_type": "code",
      "execution_count": null,
      "metadata": {
        "colab": {
          "base_uri": "https://localhost:8080/",
          "height": 265
        },
        "id": "IGATJe44j3f-",
        "outputId": "9cafa17a-5720-4b2e-a07b-35472545283a"
      },
      "outputs": [
        {
          "data": {
            "image/png": "[encoded data removed]",
            "text/plain": [
              "<Figure size 432x288 with 1 Axes>"
            ]
          },
          "metadata": {
            "needs_background": "light"
          },
          "output_type": "display_data"
        }
      ],
      "source": [
        "plt.plot(preds[:, 0, 0], 'g')\n",
        "plt.plot(Y[:, 0], 'r')\n",
        "plt.show()\n"
      ]
    },
    {
      "cell_type": "code",
      "execution_count": null,
      "metadata": {
        "colab": {
          "base_uri": "https://localhost:8080/",
          "height": 265
        },
        "id": "7p0YJoohj9on",
        "outputId": "c9c02e23-14be-4818-e02a-0f24d81f13a9"
      },
      "outputs": [
        {
          "data": {
            "image/png": "[encoded data removed]",
            "text/plain": [
              "<Figure size 432x288 with 1 Axes>"
            ]
          },
          "metadata": {
            "needs_background": "light"
          },
          "output_type": "display_data"
        }
      ],
      "source": [
        "preds = []\n",
        "for i in range(Y_val.shape[0]):\n",
        "    x, y = X_val[i], Y_val[i]\n",
        "    prev_s = np.zeros((hidden_dim, 1))\n",
        "    # For each time step...\n",
        "    for t in range(T):\n",
        "        mulu = np.dot(U, x)\n",
        "        mulw = np.dot(W, prev_s)\n",
        "        add = mulw + mulu\n",
        "        s = sigmoid(add)\n",
        "        mulv = np.dot(V, s)\n",
        "        prev_s = s\n",
        "\n",
        "    preds.append(mulv)\n",
        "    \n",
        "preds = np.array(preds)\n",
        "\n",
        "plt.plot(preds[:, 0, 0], 'g')\n",
        "plt.plot(Y_val[:, 0], 'r')\n",
        "plt.show()\n"
      ]
    }
  ],
  "metadata": {
    "colab": {
      "collapsed_sections": [],
      "name": "Spring_22_NNDL_Lab_6.ipynb",
      "provenance": []
    },
    "kernelspec": {
      "display_name": "Python 3",
      "name": "python3"
    },
    "language_info": {
      "name": "python"
    }
  },
  "nbformat": 4,
  "nbformat_minor": 0
}
