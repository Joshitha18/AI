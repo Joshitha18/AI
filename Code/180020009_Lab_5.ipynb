{
  "nbformat": 4,
  "nbformat_minor": 0,
  "metadata": {
    "colab": {
      "name": "180020009_Lab_5.ipynb",
      "provenance": [],
      "collapsed_sections": []
    },
    "kernelspec": {
      "name": "python3",
      "display_name": "Python 3"
    },
    "language_info": {
      "name": "python"
    }
  },
  "cells": [
    {
      "cell_type": "markdown",
      "source": [
        "# LAB 5 : Convolutional Neural Networks  \n",
        "\n",
        "Name : Joshitha Gandra, Vaishnavi\n",
        "\n",
        "Roll Number : 180020009, 180020039\n",
        "\n",
        "Referrence Material : \n",
        "\n",
        "  MNIST Digit Dataset : http://yann.lecun.com/exdb/mnist/\n",
        "\n",
        "  CNN : https://towardsdatascience.com/a-guide-to-convolutional-neural-networks-from-scratch-f1e3bfc3e2de"
      ],
      "metadata": {
        "id": "7ztwthmd_ENq"
      }
    },
    {
      "cell_type": "markdown",
      "source": [
        "#**Problem 1** : Demonstrate the working principle of convolution neural network (CNN)\n",
        "\n",
        "Observation to be demonstrated:\n",
        "1. Use suitable data to demonstrate the same (MNIST digit data can be used).\n",
        "2. Demonstrate the translation invariant property of pooling layer (can choose two\n",
        "image, from which one is translated and show the output of pooling layer is near\n",
        "to identical for both the images ).\n",
        "3. Demonstrate how backpropagation works with max pooling layer.\n",
        "\n",
        "the same.\n",
        "\n",
        "**Note: Take only two class and a small network, and write you own code to demonstrate the same.**"
      ],
      "metadata": {
        "id": "kq98Srzb_7c6"
      }
    },
    {
      "cell_type": "markdown",
      "source": [
        "##Write down the Objectives, Hypothesis and Experimental description for the above problem\n"
      ],
      "metadata": {
        "id": "uv6cZthvAJCv"
      }
    },
    {
      "cell_type": "markdown",
      "source": [
        "Objective : Demostrate the working of CNN, translation invariant property of pooling layer and the backpropagation with it.\n",
        "\n",
        "Hypothesis : The CNN layers should learn the patterns of image and classify it. The pooling layer should make the image robust to translation invariant.\n",
        "\n",
        "Experimental Description : Load the mnist data\n",
        "\n",
        "1. take 2 classes\n",
        "2. Convolution --> Max pooling --> FC with sigmoid\n",
        "3. Used BCELoss"
      ],
      "metadata": {
        "id": "z2EQWT-fAQ3_"
      }
    },
    {
      "cell_type": "markdown",
      "source": [
        "###**Motivation**\n",
        "\n",
        "####A classic use case of CNNs is to perform image classification. \n",
        "####It’s a seemingly simple task - why not just use a normal Neural Network?\n",
        "\n",
        "\n",
        "\n",
        "*   **Reason 1 :** Images used for Computer Vision problems nowadays are often 224x224 or larger. Imagine building a neural network to process 224x224 color images: including the 3 color channels (RGB) in the image, that comes out to 224 x 224 x 3 = 150,528 input features! A typical hidden layer in such a network might have 1024 nodes, so we’d have to train 150,528 x 1024 = 150+ million weights for the first layer alone. Our network would be huge and nearly impossible to train.\n",
        "*   **Reason 2 :** If you trained a network to detect a face, you’d want it to be able to a detect the face regardless of where it appears in the image. Imagine training a network that works well on a specific face image, but then feeding it a slightly shifted version of the same image. It would not activate the same neurons, so the network would react completely differently.\n",
        "\n",
        "\n"
      ],
      "metadata": {
        "id": "o0ot-6hOAMIr"
      }
    },
    {
      "cell_type": "markdown",
      "source": [
        " The MNIST database of handwritten digits, available from this page, has a training set of 60,000 examples, and a test set of 10,000 examples. It is a subset of a larger set available from NIST. The digits have been size-normalized and centered in a fixed-size image. "
      ],
      "metadata": {
        "id": "b1iJIaElhtAW"
      }
    },
    {
      "cell_type": "markdown",
      "source": [
        "## CNN"
      ],
      "metadata": {
        "id": "BXpSG5gOnk3w"
      }
    },
    {
      "cell_type": "markdown",
      "source": [
        "CNNs are basically just neural networks that use Convolutional layers, which are based on the mathematical operation of convolution. Conv layers consist of a set of filters, which we can think of as just 2d matrices of numbers. \n"
      ],
      "metadata": {
        "id": "LvpLmsFTxs-g"
      }
    },
    {
      "cell_type": "markdown",
      "source": [
        "<img src='https://miro.medium.com/max/1400/1*D6iRfzDkz-sEzyjYoVZ73w.gif' width=\"750\" align=\"center\">"
      ],
      "metadata": {
        "id": "q8DGMzpEyaag"
      }
    },
    {
      "cell_type": "markdown",
      "source": [
        "The Conv class takes only one argument: the number of filters. \n",
        "\n",
        "We initialize a random filters using NumPy’s randn() method.\n",
        "\n",
        "iterate_regions() yields all valid 3x3 image regions.\n",
        "This will be useful for implementing the backwards portion of later on"
      ],
      "metadata": {
        "id": "Vd_1snW80FVu"
      }
    },
    {
      "cell_type": "code",
      "source": [
        "import numpy as np\n",
        "\n",
        "'''\n",
        "Note: In this implementation, we assume the input is a 2d numpy array for simplicity, because that's\n",
        "how our MNIST images are stored. This works for us because we use it as the first layer in our\n",
        "network, but most CNNs have many more Conv layers. If we were building a bigger network that needed\n",
        "to use Conv multiple times, we'd have to make the input be a 3d numpy array.\n",
        "'''\n",
        "\n",
        "class Conv:\n",
        "  # A Convolution layer using 3x3 filters.\n",
        "\n",
        "  def __init__(self, num_filters):\n",
        "    self.num_filters = num_filters\n",
        "\n",
        "    # filters is a 3d array with dimensions (num_filters, 3, 3)\n",
        "    # We divide by 10 to reduce the variance of our initial values\n",
        "    self.filters = np.random.randn(num_filters, 3, 3) / 10\n",
        "\n",
        "  def iterate_regions(self, image):\n",
        "    '''\n",
        "    Generates all possible 3x3 image regions using valid padding.\n",
        "    - image is a 2d numpy array.\n",
        "    '''\n",
        "    h, w = image.shape\n",
        "\n",
        "    for i in range(h - 2):\n",
        "      for j in range(w - 2):\n",
        "        im_region = image[i:(i + 3), j:(j + 3)]\n",
        "        yield im_region, i, j\n",
        "\n",
        "  def forward(self, input):\n",
        "    '''\n",
        "    Performs a forward pass of the conv layer using the given input.\n",
        "    Returns a 3d numpy array with dimensions (h, w, num_filters).\n",
        "    - input is a 2d numpy array\n",
        "    '''\n",
        "    self.last_input = input\n",
        "\n",
        "    h, w = input.shape\n",
        "    output = np.zeros((h - 2, w - 2, self.num_filters))\n",
        "\n",
        "    for im_region, i, j in self.iterate_regions(input):\n",
        "      output[i, j] = np.sum(im_region * self.filters, axis=(1, 2))\n",
        "\n",
        "    return output\n",
        "\n",
        "  def backprop(self, d_L_d_out, learn_rate):\n",
        "    '''\n",
        "    Performs a backward pass of the conv layer.\n",
        "    - d_L_d_out is the loss gradient for this layer's outputs.\n",
        "    - learn_rate is a float.\n",
        "    '''\n",
        "    d_L_d_filters = np.zeros(self.filters.shape)\n",
        "\n",
        "    for im_region, i, j in self.iterate_regions(self.last_input):\n",
        "      for f in range(self.num_filters):\n",
        "        d_L_d_filters[f] += d_L_d_out[i, j, f] * im_region\n",
        "\n",
        "    # Update filters\n",
        "    self.filters -= learn_rate * d_L_d_filters\n",
        "\n",
        "    # We aren't returning anything here since we use Conv as the first layer in our CNN.\n",
        "    # Otherwise, we'd need to return the loss gradient for this layer's inputs, just like every\n",
        "    # other layer in our CNN.\n",
        "    return None"
      ],
      "metadata": {
        "id": "K--gsEG66oAz"
      },
      "execution_count": null,
      "outputs": []
    },
    {
      "cell_type": "markdown",
      "source": [
        "We are basically trying to learn the values of filter(s) using backprop"
      ],
      "metadata": {
        "id": "-3_ELaZm7ego"
      }
    },
    {
      "cell_type": "markdown",
      "source": [
        "Neighboring pixels in images tend to have similar values, so conv layers will typically also produce similar values for neighboring pixels in outputs. As a result, much of the information contained in a conv layer’s output is redundant.\n",
        "\n",
        "Pooling layers solve this problem. All they do is reduce the size of the input it’s given by (you guessed it) pooling values together in the input. \n",
        "\n"
      ],
      "metadata": {
        "id": "uSdH0ohl019y"
      }
    },
    {
      "cell_type": "markdown",
      "source": [
        "<img src='https://victorzhou.com/ac441205fd06dc037b3db2dbf05660f7/pool.gif' width=\"750\" align=\"center\">"
      ],
      "metadata": {
        "id": "KAgzF1d31FNN"
      }
    },
    {
      "cell_type": "code",
      "source": [
        "class MaxPool:\n",
        "  # A Max Pooling layer using a pool size of 2.\n",
        "\n",
        "  def iterate_regions(self, image):\n",
        "    '''\n",
        "    Generates non-overlapping 2x2 image regions to pool over.\n",
        "    - image is a 2d numpy array\n",
        "    '''\n",
        "    h, w, _ = image.shape\n",
        "    new_h = h // 2\n",
        "    new_w = w // 2\n",
        "\n",
        "    for i in range(new_h):\n",
        "      for j in range(new_w):\n",
        "        im_region = image[(i * 2):(i * 2 + 2), (j * 2):(j * 2 + 2)]\n",
        "        yield im_region, i, j\n",
        "\n",
        "  def forward(self, input):\n",
        "    '''\n",
        "    Performs a forward pass of the maxpool layer using the given input.\n",
        "    Returns a 3d numpy array with dimensions (h / 2, w / 2, num_filters).\n",
        "    - input is a 3d numpy array with dimensions (h, w, num_filters)\n",
        "    '''\n",
        "    self.last_input = input\n",
        "\n",
        "    h, w, num_filters = input.shape\n",
        "    output = np.zeros((h // 2, w // 2, num_filters))\n",
        "\n",
        "    for im_region, i, j in self.iterate_regions(input):\n",
        "      output[i, j] = np.amax(im_region, axis=(0, 1))\n",
        "\n",
        "    return output\n",
        "\n",
        "  def backprop(self, d_L_d_out):\n",
        "    '''\n",
        "    Performs a backward pass of the maxpool layer.\n",
        "    Returns the loss gradient for this layer's inputs.\n",
        "    - d_L_d_out is the loss gradient for this layer's outputs.\n",
        "    '''\n",
        "    d_L_d_input = np.zeros(self.last_input.shape)\n",
        "\n",
        "    for im_region, i, j in self.iterate_regions(self.last_input):\n",
        "      h, w, f = im_region.shape\n",
        "      amax = np.amax(im_region, axis=(0, 1))\n",
        "\n",
        "      for i2 in range(h):\n",
        "        for j2 in range(w):\n",
        "          for f2 in range(f):\n",
        "            # If this pixel was the max value, copy the gradient to it.\n",
        "            if im_region[i2, j2, f2] == amax[f2]:\n",
        "              d_L_d_input[i * 2 + i2, j * 2 + j2, f2] = d_L_d_out[i, j, f2]\n",
        "\n",
        "    return d_L_d_input"
      ],
      "metadata": {
        "id": "p0w6Ryi66oGe"
      },
      "execution_count": null,
      "outputs": []
    },
    {
      "cell_type": "markdown",
      "source": [
        "![image.png](data:image/png;base64,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)"
      ],
      "metadata": {
        "id": "CrI3kZDt4bat"
      }
    },
    {
      "cell_type": "code",
      "source": [
        "\n",
        "class Sigmoid:\n",
        "  # A standard fully-connected layer with sigmoid activation.\n",
        "\n",
        "  def __init__(self, input_len, nodes):\n",
        "    # We divide by input_len to reduce the variance of our initial values\n",
        "    self.weights = np.random.randn(input_len, nodes) / input_len\n",
        "    self.biases = np.zeros(nodes)\n",
        "\n",
        "  def forward(self, input):\n",
        "    '''\n",
        "    Performs a forward pass of the sigmoid layer using the given input.\n",
        "    Returns a 1d numpy array containing the respective probability values.\n",
        "    - input can be any array with any dimensions.\n",
        "    '''\n",
        "    self.last_input_shape = input.shape\n",
        "\n",
        "    input = input.flatten()\n",
        "    self.last_input = input\n",
        "\n",
        "    input_len, nodes = self.weights.shape\n",
        "\n",
        "    totals = np.dot(input, self.weights) + self.biases\n",
        "    self.last_totals = totals\n",
        "    # print('totals ', totals)\n",
        "    # print('exp ',np.exp(-1*totals))\n",
        "\n",
        "    return 1.0 / (1.0 + np.exp(-1*totals))\n",
        "\n",
        "  def backprop(self, d_L_d_out, learn_rate):\n",
        "    '''\n",
        "    Performs a backward pass of the sigmoid layer.\n",
        "    Returns the loss gradient for this layer's inputs.\n",
        "    - d_L_d_out is the loss gradient for this layer's outputs.\n",
        "    - learn_rate is a float.\n",
        "    '''\n",
        "    # We know only 1 element of d_L_d_out will be nonzero\n",
        "    for i, gradient in enumerate(d_L_d_out):\n",
        "      if gradient == 0:\n",
        "        continue\n",
        "\n",
        "      out = 1.0 / (1.0 + np.exp(-1*self.last_totals))\n",
        "      d_out_d_t = (1.0 - out) * out\n",
        "\n",
        "\n",
        "      # Gradients of totals against weights/biases/input\n",
        "      d_t_d_w = self.last_input\n",
        "      d_t_d_b = 1\n",
        "      d_t_d_inputs = self.weights\n",
        "\n",
        "      # Gradients of loss against totals\n",
        "      d_L_d_t = gradient * d_out_d_t\n",
        "\n",
        "      # Gradients of loss against weights/biases/input\n",
        "      d_L_d_w = d_t_d_w[np.newaxis].T @ d_L_d_t[np.newaxis]\n",
        "      d_L_d_b = d_L_d_t * d_t_d_b\n",
        "      d_L_d_inputs = d_t_d_inputs @ d_L_d_t\n",
        "\n",
        "      # Update weights / biases\n",
        "      self.weights -= learn_rate * d_L_d_w\n",
        "      self.biases -= learn_rate * d_L_d_b\n",
        "\n",
        "      return d_L_d_inputs.reshape(self.last_input_shape)"
      ],
      "metadata": {
        "id": "9mEgMSfb6oN8"
      },
      "execution_count": null,
      "outputs": []
    },
    {
      "cell_type": "markdown",
      "source": [
        "Data"
      ],
      "metadata": {
        "id": "EWlsh9BucTUa"
      }
    },
    {
      "cell_type": "code",
      "source": [
        "from keras.datasets import mnist\n",
        "\n",
        "(train_images, train_labels), (test_images, test_labels) = mnist.load_data()\n",
        "\n",
        "print('X_train: ' + str(train_images.shape))\n",
        "print('Y_train: ' + str(train_labels.shape))\n",
        "print('X_test:  '  + str(test_images.shape))\n",
        "print('Y_test:  '  + str(test_labels.shape))"
      ],
      "metadata": {
        "colab": {
          "base_uri": "https://localhost:8080/"
        },
        "id": "fmpSQnhF6oWb",
        "outputId": "36cc1fe0-1c45-4eaf-e761-1e70a55754d0"
      },
      "execution_count": null,
      "outputs": [
        {
          "output_type": "stream",
          "name": "stdout",
          "text": [
            "Downloading data from https://storage.googleapis.com/tensorflow/tf-keras-datasets/mnist.npz\n",
            "11493376/11490434 [==============================] - 0s 0us/step\n",
            "11501568/11490434 [==============================] - 0s 0us/step\n",
            "X_train: (60000, 28, 28)\n",
            "Y_train: (60000,)\n",
            "X_test:  (10000, 28, 28)\n",
            "Y_test:  (10000,)\n"
          ]
        }
      ]
    },
    {
      "cell_type": "code",
      "source": [
        "import numpy as np\n",
        "\n",
        "train_filter = np.where((train_labels == 0 ) | (train_labels == 1))\n",
        "test_filter = np.where((test_labels == 0) | (test_labels == 1))"
      ],
      "metadata": {
        "id": "eJW6phNWtPus"
      },
      "execution_count": null,
      "outputs": []
    },
    {
      "cell_type": "code",
      "source": [
        "train_images, train_labels = train_images[train_filter], train_labels[train_filter]\n",
        "test_images, test_labels = test_images[test_filter], test_labels[test_filter]"
      ],
      "metadata": {
        "id": "wHFWSQDutPzO"
      },
      "execution_count": null,
      "outputs": []
    },
    {
      "cell_type": "code",
      "source": [
        "print('X_train: ' + str(train_images.shape))\n",
        "print('Y_train: ' + str(train_labels.shape))\n",
        "print('X_test:  '  + str(test_images.shape))\n",
        "print('Y_test:  '  + str(test_labels.shape))"
      ],
      "metadata": {
        "colab": {
          "base_uri": "https://localhost:8080/"
        },
        "id": "w-NOQ_ZKt5JB",
        "outputId": "e7f63cb7-0b5a-43d0-bf80-09749fb3de27"
      },
      "execution_count": null,
      "outputs": [
        {
          "output_type": "stream",
          "name": "stdout",
          "text": [
            "X_train: (12665, 28, 28)\n",
            "Y_train: (12665,)\n",
            "X_test:  (2115, 28, 28)\n",
            "Y_test:  (2115,)\n"
          ]
        }
      ]
    },
    {
      "cell_type": "code",
      "source": [
        "import matplotlib.pyplot as plt\n",
        "\n",
        "plt.imshow(test_images[0])\n",
        "plt.show()\n",
        "\n",
        "plt.imshow(test_images[1])\n",
        "plt.show()"
      ],
      "metadata": {
        "colab": {
          "base_uri": "https://localhost:8080/",
          "height": 513
        },
        "id": "Mz-gkI6Yjx3E",
        "outputId": "2c8b29e2-df6f-4db9-acb0-d02011d7d95f"
      },
      "execution_count": null,
      "outputs": [
        {
          "output_type": "display_data",
          "data": {
            "image/png": "[encoded data removed]",
            "text/plain": [
              "<Figure size 432x288 with 1 Axes>"
            ]
          },
          "metadata": {
            "needs_background": "light"
          }
        },
        {
          "output_type": "display_data",
          "data": {
            "image/png": "[encoded data removed]",
            "text/plain": [
              "<Figure size 432x288 with 1 Axes>"
            ]
          },
          "metadata": {
            "needs_background": "light"
          }
        }
      ]
    },
    {
      "cell_type": "markdown",
      "source": [
        "## Neural Network for MNIST data"
      ],
      "metadata": {
        "id": "_FSNQHWJnzil"
      }
    },
    {
      "cell_type": "markdown",
      "source": [
        "A neural network would actually work just fine fon MNIST data. We could treat each image as a 28 x 28 = 784-dimensional vector, feed that to a 784-dim input layer, stack a few hidden layers, and finish with an output layer of 10 nodes, 1 for each digit.\n",
        "\n",
        "In our class, where we have 2 classes, a 784-dim input layer with an output layer of 1 node with sigmoid activation would work.\n",
        "\n",
        "This would only work because the MNIST dataset contains small images that are centered, so we wouldn’t run into the issues of size or shifting."
      ],
      "metadata": {
        "id": "krst6Ctokuey"
      }
    },
    {
      "cell_type": "code",
      "source": [
        "from keras.layers import Dense, Flatten\n",
        "from keras.models import Sequential\n",
        "\n",
        "model = Sequential()\n",
        "model.add(Flatten(input_shape=(28,28)))\n",
        "model.add(Dense(1, activation='sigmoid'))\n"
      ],
      "metadata": {
        "id": "-V0Hd1Vkkt67"
      },
      "execution_count": null,
      "outputs": []
    },
    {
      "cell_type": "code",
      "source": [
        "model.summary()"
      ],
      "metadata": {
        "colab": {
          "base_uri": "https://localhost:8080/"
        },
        "id": "JM6XMe0wkt9W",
        "outputId": "8d8905b9-e741-4d8a-e093-447d0d8e2aca"
      },
      "execution_count": null,
      "outputs": [
        {
          "output_type": "stream",
          "name": "stdout",
          "text": [
            "Model: \"sequential_3\"\n",
            "_________________________________________________________________\n",
            " Layer (type)                Output Shape              Param #   \n",
            "=================================================================\n",
            " flatten_3 (Flatten)         (None, 784)               0         \n",
            "                                                                 \n",
            " dense_3 (Dense)             (None, 1)                 785       \n",
            "                                                                 \n",
            "=================================================================\n",
            "Total params: 785\n",
            "Trainable params: 785\n",
            "Non-trainable params: 0\n",
            "_________________________________________________________________\n"
          ]
        }
      ]
    },
    {
      "cell_type": "code",
      "source": [
        "model.compile(loss='binary_crossentropy', \n",
        "              optimizer='adam',\n",
        "              metrics=['acc'])"
      ],
      "metadata": {
        "id": "bsYUqjsNv58A"
      },
      "execution_count": null,
      "outputs": []
    },
    {
      "cell_type": "code",
      "source": [
        "model.fit(train_images, train_labels, epochs=3, \n",
        "          validation_data=(test_images, test_labels))"
      ],
      "metadata": {
        "colab": {
          "base_uri": "https://localhost:8080/"
        },
        "id": "vCI2JHByv5-c",
        "outputId": "9ba98e23-96ae-4c8e-c220-1569454bccae"
      },
      "execution_count": null,
      "outputs": [
        {
          "output_type": "stream",
          "name": "stdout",
          "text": [
            "Epoch 1/3\n",
            "396/396 [==============================] - 2s 3ms/step - loss: 0.7098 - acc: 0.9827 - val_loss: 0.0503 - val_acc: 0.9967\n",
            "Epoch 2/3\n",
            "396/396 [==============================] - 1s 2ms/step - loss: 0.1072 - acc: 0.9971 - val_loss: 0.0416 - val_acc: 0.9976\n",
            "Epoch 3/3\n",
            "396/396 [==============================] - 1s 2ms/step - loss: 0.0446 - acc: 0.9984 - val_loss: 0.0500 - val_acc: 0.9976\n"
          ]
        },
        {
          "output_type": "execute_result",
          "data": {
            "text/plain": [
              "<keras.callbacks.History at 0x7f7e33b4fd50>"
            ]
          },
          "metadata": {},
          "execution_count": 33
        }
      ]
    },
    {
      "cell_type": "code",
      "source": [
        ""
      ],
      "metadata": {
        "id": "kWg-MF0BwNz5"
      },
      "execution_count": null,
      "outputs": []
    },
    {
      "cell_type": "markdown",
      "source": [
        "## Convolution with Sigmoid : Con layer (8 filters) --> Max pool (2x2) --> FC with sigmoid"
      ],
      "metadata": {
        "id": "zrx1O_3un7Vk"
      }
    },
    {
      "cell_type": "markdown",
      "source": [
        "For our MNIST CNN, we’ll use a small conv layer with 8 filters as the initial layer in our network. This means it’ll turn the 28x28 input image into a 26x26x8 output\n",
        "\n",
        "((shape of width of filter x shape of height filter  x number of filters in the previous layer+1) x number of filters)\n",
        "\n",
        "(3 × 3 (filter size) + 1) × 8 (number of filters) =  80.\n",
        "\n",
        "\n",
        "parameters in fully connected sigmoid : (13x13x8 = 1352)x1 + 1x1 = 1353\n",
        "\n",
        "Total = 1353 + 80 = 1433"
      ],
      "metadata": {
        "id": "2FuZArUfwvP8"
      }
    },
    {
      "cell_type": "markdown",
      "source": [
        "Pooling divides the input’s width and height by the pool size. For our MNIST CNN, we’ll place a Max Pooling layer with a pool size of 2 right after our initial conv layer. The pooling layer will transform a 26x26x8 input into a 13x13x8 output"
      ],
      "metadata": {
        "id": "_-r9st8y1VQz"
      }
    },
    {
      "cell_type": "code",
      "source": [
        "conv = Conv(8)                  # 28x28x1 -> 26x26x8\n",
        "pool = MaxPool()                  # 26x26x8 -> 13x13x8\n",
        "sigmoid = Sigmoid(13 * 13 * 8, 1) # 13x13x8 -> 1\n",
        "\n",
        "def forward(image, label):\n",
        "  '''\n",
        "  Completes a forward pass of the CNN and calculates the accuracy and\n",
        "  cross-entropy loss.\n",
        "  - image is a 2d numpy array\n",
        "  - label is a digit\n",
        "  '''\n",
        "  # We transform the image from [0, 255] to [-0.5, 0.5] to make it easier\n",
        "  # to work with. \n",
        "  out = conv.forward((image / 255) - 0.5)\n",
        "  out = pool.forward(out)\n",
        "  out = sigmoid.forward(out)\n",
        "  # print('out ',out)\n",
        "\n",
        "  # Calculate binary-cross-entropy loss and accuracy. np.log() is the natural log.\n",
        "  if (label == 0):\n",
        "    loss = -np.log(1-out)\n",
        "    acc = 1 if (out<0.5) else 0\n",
        "  else:\n",
        "    loss = -np.log(out)\n",
        "    acc = 1 if (out>0.5) else 0\n",
        "  # print('acc ', acc)\n",
        "\n",
        "  return out, loss, acc\n",
        "\n",
        "def train(im, label, lr=.0001):\n",
        "  '''\n",
        "  Completes a full training step on the given image and label.\n",
        "  Returns the binary-cross-entropy loss and accuracy.\n",
        "  - image is a 2d numpy array\n",
        "  - label is a digit\n",
        "  - lr is the learning rate\n",
        "  '''\n",
        "  # Forward\n",
        "  out, loss, acc = forward(im, label)\n",
        "\n",
        "  # Calculate initial gradient\n",
        "  gradient = np.zeros(2)\n",
        "  if (label==0): \n",
        "    gradient[0] = 1 / (1-out)\n",
        "  else:\n",
        "    gradient[1] = -1/out\n",
        "\n",
        "  # Backprop\n",
        "  gradient = sigmoid.backprop(gradient, lr)\n",
        "  gradient = pool.backprop(gradient)\n",
        "  gradient = conv.backprop(gradient, lr)\n",
        "\n",
        "  return loss, acc\n",
        "\n",
        "print('MNIST CNN initialized!')\n",
        "\n",
        "# Train the CNN for 2 epochs\n",
        "for epoch in range(1):\n",
        "  print('--- Epoch %d ---' % (epoch + 1))\n",
        "\n",
        "  # Shuffle the training data\n",
        "  permutation = np.random.permutation(len(train_images))\n",
        "  train_images = train_images[permutation]\n",
        "  train_labels = train_labels[permutation]\n",
        "\n",
        "  # Train!\n",
        "  loss = 0\n",
        "  num_correct = 0\n",
        "  for i, (im, label) in enumerate(zip(train_images, train_labels)):\n",
        "    if i % 500 == 0 and i>0:\n",
        "      print(\n",
        "        '[Step %d] Past 500 steps: Average Loss %.3f | Accuracy: %.3f' %\n",
        "        (i + 1, loss / 500, num_correct/500)\n",
        "      )\n",
        "      loss = 0\n",
        "      num_correct = 0\n",
        "\n",
        "    l, acc = train(im, label)\n",
        "    loss += l\n",
        "    num_correct += acc\n",
        "\n",
        "# Test the CNN\n",
        "print('\\n--- Testing the CNN ---')\n",
        "loss = 0\n",
        "num_correct = 0\n",
        "for im, label in zip(test_images, test_labels):\n",
        "  _, l, acc = forward(im, label)\n",
        "  loss += l\n",
        "  num_correct += acc\n",
        "\n",
        "num_tests = len(test_images)\n",
        "print('Test Loss:', loss / num_tests)\n",
        "print('Test Accuracy:', num_correct / num_tests)"
      ],
      "metadata": {
        "colab": {
          "base_uri": "https://localhost:8080/"
        },
        "id": "K4us3RC36obv",
        "outputId": "73ff8369-83c1-4d53-ede1-02c817407840"
      },
      "execution_count": null,
      "outputs": [
        {
          "output_type": "stream",
          "name": "stdout",
          "text": [
            "MNIST CNN initialized!\n",
            "--- Epoch 1 ---\n",
            "[Step 501] Past 500 steps: Average Loss 0.680 | Accuracy: 0.634\n",
            "[Step 1001] Past 500 steps: Average Loss 0.654 | Accuracy: 0.662\n",
            "[Step 1501] Past 500 steps: Average Loss 0.629 | Accuracy: 0.694\n",
            "[Step 2001] Past 500 steps: Average Loss 0.594 | Accuracy: 0.760\n",
            "[Step 2501] Past 500 steps: Average Loss 0.553 | Accuracy: 0.828\n",
            "[Step 3001] Past 500 steps: Average Loss 0.510 | Accuracy: 0.894\n",
            "[Step 3501] Past 500 steps: Average Loss 0.459 | Accuracy: 0.950\n",
            "[Step 4001] Past 500 steps: Average Loss 0.397 | Accuracy: 0.970\n",
            "[Step 4501] Past 500 steps: Average Loss 0.342 | Accuracy: 0.970\n",
            "[Step 5001] Past 500 steps: Average Loss 0.290 | Accuracy: 0.978\n",
            "[Step 5501] Past 500 steps: Average Loss 0.258 | Accuracy: 0.980\n",
            "[Step 6001] Past 500 steps: Average Loss 0.211 | Accuracy: 0.986\n",
            "[Step 6501] Past 500 steps: Average Loss 0.181 | Accuracy: 0.992\n",
            "[Step 7001] Past 500 steps: Average Loss 0.153 | Accuracy: 0.994\n",
            "[Step 7501] Past 500 steps: Average Loss 0.138 | Accuracy: 0.992\n",
            "[Step 8001] Past 500 steps: Average Loss 0.128 | Accuracy: 0.984\n",
            "[Step 8501] Past 500 steps: Average Loss 0.105 | Accuracy: 0.996\n",
            "[Step 9001] Past 500 steps: Average Loss 0.105 | Accuracy: 0.990\n",
            "[Step 9501] Past 500 steps: Average Loss 0.079 | Accuracy: 0.992\n",
            "[Step 10001] Past 500 steps: Average Loss 0.073 | Accuracy: 0.994\n",
            "[Step 10501] Past 500 steps: Average Loss 0.073 | Accuracy: 0.996\n",
            "[Step 11001] Past 500 steps: Average Loss 0.068 | Accuracy: 0.994\n",
            "[Step 11501] Past 500 steps: Average Loss 0.065 | Accuracy: 0.994\n",
            "[Step 12001] Past 500 steps: Average Loss 0.055 | Accuracy: 0.996\n",
            "[Step 12501] Past 500 steps: Average Loss 0.058 | Accuracy: 0.994\n",
            "\n",
            "--- Testing the CNN ---\n",
            "Test Loss: [0.0462654]\n",
            "Test Accuracy: 0.9966903073286052\n"
          ]
        }
      ]
    },
    {
      "cell_type": "markdown",
      "source": [
        "((shape of width of filter x shape of height filter x number of filters in the previous layer+1) x number of filters)\n",
        "\n",
        "(3 × 3 (filter size) + 1) × 8 (number of filters) = 80.\n",
        "\n",
        "parameters in fully connected sigmoid : (6x6x8 = 288)x1 + 1x1 = 289\n",
        "\n",
        "Total = 289 + 80 = 369"
      ],
      "metadata": {
        "id": "inJBmsbv_LwF"
      }
    },
    {
      "cell_type": "code",
      "source": [
        "conv = Conv(8)                  # 28x28x1 -> 26x26x8\n",
        "pool1 = MaxPool()                  # 26x26x8 -> 13x13x8\n",
        "pool2 = MaxPool()                  # 13x13x8 -> 6, 6, 8\n",
        "\n",
        "sigmoid = Sigmoid(6 * 6 * 8, 1) # 6, 6, 8 -> 1\n",
        "\n",
        "def forward(image, label):\n",
        "  '''\n",
        "  Completes a forward pass of the CNN and calculates the accuracy and\n",
        "  cross-entropy loss.\n",
        "  - image is a 2d numpy array\n",
        "  - label is a digit\n",
        "  '''\n",
        "  # We transform the image from [0, 255] to [-0.5, 0.5] to make it easier\n",
        "  # to work with. \n",
        "  out = conv.forward((image / 255) - 0.5)\n",
        "  out = pool1.forward(out)\n",
        "  out = pool2.forward(out)\n",
        "  out = sigmoid.forward(out)\n",
        "  # print('out ',out)\n",
        "\n",
        "  # Calculate binary-cross-entropy loss and accuracy. np.log() is the natural log.\n",
        "  if (label == 0):\n",
        "    loss = -np.log(1-out)\n",
        "    acc = 1 if (out<0.5) else 0\n",
        "  else:\n",
        "    loss = -np.log(out)\n",
        "    acc = 1 if (out>0.5) else 0\n",
        "  # print('acc ', acc)\n",
        "\n",
        "  return out, loss, acc\n",
        "\n",
        "def train(im, label, lr=.0001):\n",
        "  '''\n",
        "  Completes a full training step on the given image and label.\n",
        "  Returns the binary-cross-entropy loss and accuracy.\n",
        "  - image is a 2d numpy array\n",
        "  - label is a digit\n",
        "  - lr is the learning rate\n",
        "  '''\n",
        "  # Forward\n",
        "  out, loss, acc = forward(im, label)\n",
        "\n",
        "  # Calculate initial gradient\n",
        "  gradient = np.zeros(2)\n",
        "  if (label==0): \n",
        "    gradient[0] = 1 / (1-out)\n",
        "  else:\n",
        "    gradient[1] = -1/out\n",
        "\n",
        "  # Backprop\n",
        "  gradient = sigmoid.backprop(gradient, lr)\n",
        "  gradient = pool2.backprop(gradient)\n",
        "  gradient = pool1.backprop(gradient)\n",
        "  gradient = conv.backprop(gradient, lr)\n",
        "\n",
        "  return loss, acc\n",
        "\n",
        "print('MNIST CNN initialized!')\n",
        "\n",
        "# Train the CNN for 2 epochs\n",
        "for epoch in range(1):\n",
        "  print('--- Epoch %d ---' % (epoch + 1))\n",
        "\n",
        "  # Shuffle the training data\n",
        "  permutation = np.random.permutation(len(train_images))\n",
        "  train_images = train_images[permutation]\n",
        "  train_labels = train_labels[permutation]\n",
        "\n",
        "  # Train!\n",
        "  loss = 0\n",
        "  num_correct = 0\n",
        "  for i, (im, label) in enumerate(zip(train_images, train_labels)):\n",
        "    if i % 500 == 0 and i>0:\n",
        "      print(\n",
        "        '[Step %d] Past 500 steps: Average Loss %.3f | Accuracy: %.3f' %\n",
        "        (i + 1, loss / 500, num_correct/500)\n",
        "      )\n",
        "      loss = 0\n",
        "      num_correct = 0\n",
        "\n",
        "    l, acc = train(im, label)\n",
        "    loss += l\n",
        "    num_correct += acc\n",
        "\n",
        "# Test the CNN\n",
        "print('\\n--- Testing the CNN ---')\n",
        "loss = 0\n",
        "num_correct = 0\n",
        "for im, label in zip(test_images, test_labels):\n",
        "  _, l, acc = forward(im, label)\n",
        "  loss += l\n",
        "  num_correct += acc\n",
        "\n",
        "num_tests = len(test_images)\n",
        "print('Test Loss:', loss / num_tests)\n",
        "print('Test Accuracy:', num_correct / num_tests)"
      ],
      "metadata": {
        "colab": {
          "base_uri": "https://localhost:8080/"
        },
        "id": "nRBz9WyO9zkK",
        "outputId": "bb502d77-e5c0-4689-8803-b7b8f42ec3ee"
      },
      "execution_count": null,
      "outputs": [
        {
          "output_type": "stream",
          "name": "stdout",
          "text": [
            "MNIST CNN initialized!\n",
            "--- Epoch 1 ---\n",
            "[Step 501] Past 500 steps: Average Loss 0.681 | Accuracy: 0.842\n",
            "[Step 1001] Past 500 steps: Average Loss 0.655 | Accuracy: 0.902\n",
            "[Step 1501] Past 500 steps: Average Loss 0.627 | Accuracy: 0.876\n",
            "[Step 2001] Past 500 steps: Average Loss 0.588 | Accuracy: 0.934\n",
            "[Step 2501] Past 500 steps: Average Loss 0.527 | Accuracy: 0.942\n",
            "[Step 3001] Past 500 steps: Average Loss 0.478 | Accuracy: 0.952\n",
            "[Step 3501] Past 500 steps: Average Loss 0.411 | Accuracy: 0.962\n",
            "[Step 4001] Past 500 steps: Average Loss 0.350 | Accuracy: 0.968\n",
            "[Step 4501] Past 500 steps: Average Loss 0.297 | Accuracy: 0.960\n",
            "[Step 5001] Past 500 steps: Average Loss 0.244 | Accuracy: 0.974\n",
            "[Step 5501] Past 500 steps: Average Loss 0.209 | Accuracy: 0.964\n",
            "[Step 6001] Past 500 steps: Average Loss 0.183 | Accuracy: 0.964\n",
            "[Step 6501] Past 500 steps: Average Loss 0.165 | Accuracy: 0.978\n",
            "[Step 7001] Past 500 steps: Average Loss 0.140 | Accuracy: 0.982\n",
            "[Step 7501] Past 500 steps: Average Loss 0.143 | Accuracy: 0.968\n",
            "[Step 8001] Past 500 steps: Average Loss 0.111 | Accuracy: 0.986\n",
            "[Step 8501] Past 500 steps: Average Loss 0.095 | Accuracy: 0.992\n",
            "[Step 9001] Past 500 steps: Average Loss 0.091 | Accuracy: 0.992\n",
            "[Step 9501] Past 500 steps: Average Loss 0.076 | Accuracy: 0.994\n",
            "[Step 10001] Past 500 steps: Average Loss 0.097 | Accuracy: 0.978\n",
            "[Step 10501] Past 500 steps: Average Loss 0.073 | Accuracy: 0.984\n",
            "[Step 11001] Past 500 steps: Average Loss 0.067 | Accuracy: 0.986\n",
            "[Step 11501] Past 500 steps: Average Loss 0.078 | Accuracy: 0.988\n",
            "[Step 12001] Past 500 steps: Average Loss 0.061 | Accuracy: 0.992\n",
            "[Step 12501] Past 500 steps: Average Loss 0.059 | Accuracy: 0.990\n",
            "\n",
            "--- Testing the CNN ---\n",
            "Test Loss: [0.05588749]\n",
            "Test Accuracy: 0.992434988179669\n"
          ]
        }
      ]
    },
    {
      "cell_type": "markdown",
      "source": [
        "## Translation invariant property of pooling layer"
      ],
      "metadata": {
        "id": "XVMgNMbBpB6z"
      }
    },
    {
      "cell_type": "markdown",
      "source": [
        "Pooling helps to make the representation become approximately invariant to small translations of the input. Invariance to translation means that if we translate the input by a small amount, the values of most of the pooled outputs do not change."
      ],
      "metadata": {
        "id": "tcNxmrmQuwgX"
      }
    },
    {
      "cell_type": "code",
      "source": [
        "# define input data\n",
        "image1 = [[0, 0, 0, 0, 1, 0],\n",
        "\t\t      [0, 0, 0, 0, 0, 0],\n",
        "\t\t      [0, 0, 0, 0, 1, 0],\n",
        "\t\t      [0, 0, 0, 0, 0, 0],\n",
        "\t\t      [0, 0, 0, 0, 1, 0],\n",
        "\t      \t[0, 0, 0, 0, 0, 0]]\n",
        "\n",
        "image1 = np.asarray(image1)\n",
        "\n",
        "image2 = [[0, 0, 0, 0, 0, 0],\n",
        "\t\t      [0, 0, 0, 0, 1, 0],\n",
        "\t\t      [0, 0, 0, 0, 0, 0],\n",
        "\t\t      [0, 0, 0, 0, 1, 0],\n",
        "\t\t      [0, 0, 0, 0, 0, 0],\n",
        "\t      \t[0, 0, 0, 0, 1, 0]]\n",
        "\n",
        "image2 = np.asarray(image2)"
      ],
      "metadata": {
        "id": "k3u5DjFZ6oxS"
      },
      "execution_count": null,
      "outputs": []
    },
    {
      "cell_type": "code",
      "source": [
        "conv = Conv(1)                  \n",
        "pool = MaxPool()                  \n",
        "\n",
        "out1 = conv.forward(image1)\n",
        "print('conv ',out1.shape)\n",
        "out_conv = out1.reshape(4,4)\n",
        "print(out_conv)"
      ],
      "metadata": {
        "id": "ULAcFBIe6o2l",
        "colab": {
          "base_uri": "https://localhost:8080/"
        },
        "outputId": "e281ed94-6e08-44f4-fd62-9d3ce487136a"
      },
      "execution_count": null,
      "outputs": [
        {
          "output_type": "stream",
          "name": "stdout",
          "text": [
            "conv  (4, 4, 1)\n",
            "[[ 0.          0.          0.04984722 -0.01095402]\n",
            " [ 0.          0.         -0.10442503 -0.01705697]\n",
            " [ 0.          0.          0.04984722 -0.01095402]\n",
            " [ 0.          0.         -0.10442503 -0.01705697]]\n"
          ]
        }
      ]
    },
    {
      "cell_type": "code",
      "source": [
        "out2 = conv.forward(image2)\n",
        "print('conv ',out2.shape)\n",
        "out_conv = out2.reshape(4,4)\n",
        "print(out_conv)"
      ],
      "metadata": {
        "colab": {
          "base_uri": "https://localhost:8080/"
        },
        "id": "8NSIHEVHzF1d",
        "outputId": "0b617ce3-590e-4ace-ffd1-c1addc3b40b6"
      },
      "execution_count": null,
      "outputs": [
        {
          "output_type": "stream",
          "name": "stdout",
          "text": [
            "conv  (4, 4, 1)\n",
            "[[ 0.          0.         -0.10442503 -0.01705697]\n",
            " [ 0.          0.          0.04984722 -0.01095402]\n",
            " [ 0.          0.         -0.10442503 -0.01705697]\n",
            " [ 0.          0.          0.04984722 -0.01095402]]\n"
          ]
        }
      ]
    },
    {
      "cell_type": "code",
      "source": [
        "out1 = pool.forward(out1)\n",
        "print('maxpooling ',out1.shape)\n",
        "out_pool = out1.reshape(2,2)\n",
        "print(out_pool)"
      ],
      "metadata": {
        "id": "y_ArYxge6o5R",
        "colab": {
          "base_uri": "https://localhost:8080/"
        },
        "outputId": "8c0fcf6a-1e89-4e97-b46f-e6ee0169f08c"
      },
      "execution_count": null,
      "outputs": [
        {
          "output_type": "stream",
          "name": "stdout",
          "text": [
            "maxpooling  (2, 2, 1)\n",
            "[[0.         0.04984722]\n",
            " [0.         0.04984722]]\n"
          ]
        }
      ]
    },
    {
      "cell_type": "code",
      "source": [
        "out2 = pool.forward(out2)\n",
        "print('maxpooling ',out2.shape)\n",
        "out_pool = out2.reshape(2,2)\n",
        "print(out_pool)"
      ],
      "metadata": {
        "colab": {
          "base_uri": "https://localhost:8080/"
        },
        "id": "Ck8dj5TSwky5",
        "outputId": "06a9baff-be6a-44f9-9a80-6d9f778cbfec"
      },
      "execution_count": null,
      "outputs": [
        {
          "output_type": "stream",
          "name": "stdout",
          "text": [
            "maxpooling  (2, 2, 1)\n",
            "[[0.         0.04984722]\n",
            " [0.         0.04984722]]\n"
          ]
        }
      ]
    },
    {
      "cell_type": "markdown",
      "source": [
        "## Backpropgation through Max Pooling Layer"
      ],
      "metadata": {
        "id": "Nc-D6Ti6pUKM"
      }
    },
    {
      "cell_type": "markdown",
      "source": [
        "Back Propagation in Maxpol:\n",
        "\n",
        "A Max Pooling layer can’t be trained because it doesn’t actually have any weights, but we still need to implement a backprop() method for it to calculate gradients. We’ll start by adding forward phase caching again. All we need to cache this time is the input:\n",
        "\n",
        "During the forward pass, the Max Pooling layer takes an input volume and halves its width and height dimensions by picking the max values over 2x2 blocks. The backward pass does the opposite: we’ll double the width and height of the loss gradient by assigning each gradient value to where the original max value was in its corresponding 2x2 block."
      ],
      "metadata": {
        "id": "WwSW5rS_pZh6"
      }
    },
    {
      "cell_type": "markdown",
      "source": [
        "For each region max_value was found. Then, for each region, the d_l_d_out was assigned the matrix such that the max value is put up at the aprropiate region and rest of the elements are zero. "
      ],
      "metadata": {
        "id": "oZDwjKaspwBj"
      }
    },
    {
      "cell_type": "code",
      "source": [
        "image = [[0, 0, 0, 0, 0, 0],\n",
        "\t\t      [0, 0, 0, 0, 1, 0],\n",
        "\t\t      [0, 0, 0, 0, 0, 0],\n",
        "\t\t      [0, 0, 1, 0, 1, 0],\n",
        "\t\t      [0, 0, 0, 0, 0, 0],\n",
        "\t      \t[0, 0, 1, 0, 1, 0]]\n",
        "\t\t      \n",
        "\n",
        "image = np.asarray(image) \n",
        "conv = Conv(1)      #6x6 -->4x4x1         \n",
        "pool = MaxPool()    # 4x4x1 --> 2x2x1\n",
        "sigmoid = Sigmoid(2 * 2 * 1, 1)\n",
        "\n",
        "out1 = conv.forward(image)\n",
        "print(\"Forward phase of COnvolution : \")\n",
        "#print(out1)\n",
        "for r in out1:\n",
        "   for c in r:\n",
        "      print(c,end = \" \")\n",
        "   print()\n",
        "print()\n",
        "out2 = pool.forward(out1)\n",
        "print(\"Forward Phase of Max Pool : \")\n",
        "#print(out2)\n",
        "for r in out2:\n",
        "   for c in r:\n",
        "      print(c,end = \" \")\n",
        "   print()\n",
        "print()\n",
        "\n",
        "out3 = sigmoid.forward(out2)\n",
        "print(\"Sigmoid : \")\n",
        "print(out3)\n",
        "\n",
        "# Calculate initial gradient\n",
        "label = 1\n",
        "gradient = np.zeros(2)\n",
        "if (label==0): \n",
        "  gradient[0] = 1 / (1-out3)\n",
        "else:\n",
        "  gradient[1] = -1/out3\n",
        "\n",
        "# Backprop\n",
        "lr = 0.05\n",
        "gradient = sigmoid.backprop(gradient, lr)\n",
        "gradient_2 = pool.backprop(gradient)\n",
        "gradient_3 = conv.backprop(gradient_2, lr)\n",
        "print(\"Backward pass of sigmoid : \")\n",
        "\n",
        "for r in gradient:\n",
        "   for c in r:\n",
        "      print(c,end = \" \")\n",
        "   print()\n",
        "print()\n",
        "\n",
        "print(\"Backward pass of Max pool : \")\n",
        "\n",
        "for r in gradient_2:\n",
        "   for c in r:\n",
        "      print(c,end = \" \")\n",
        "   print()\n",
        "print()\n"
      ],
      "metadata": {
        "colab": {
          "base_uri": "https://localhost:8080/"
        },
        "id": "lXWQXQELpfNW",
        "outputId": "81a65ff5-d98d-4d1b-8b42-8b34f7abf721"
      },
      "execution_count": null,
      "outputs": [
        {
          "output_type": "stream",
          "name": "stdout",
          "text": [
            "Forward phase of COnvolution : \n",
            "[0.] [0.] [0.06423184] [0.17547238] \n",
            "[-0.14913973] [-0.04510555] [0.00500459] [-0.1187315] \n",
            "[0.06423184] [0.17547238] [0.2301105] [0.17547238] \n",
            "[0.08836351] [-0.1187315] [-0.06455391] [-0.1187315] \n",
            "\n",
            "Forward Phase of Max Pool : \n",
            "[0.] [0.17547238] \n",
            "[0.17547238] [0.2301105] \n",
            "\n",
            "Sigmoid : \n",
            "[0.51832913]\n",
            "Backward pass of sigmoid : \n",
            "[-0.12774748] [0.01670388] \n",
            "[-0.08040175] [-0.10496281] \n",
            "\n",
            "Backward pass of Max pool : \n",
            "[-0.12774748] [-0.12774748] [0.] [0.01670388] \n",
            "[0.] [0.] [0.] [0.] \n",
            "[0.] [-0.08040175] [-0.10496281] [0.] \n",
            "[0.] [0.] [0.] [0.] \n",
            "\n"
          ]
        }
      ]
    },
    {
      "cell_type": "markdown",
      "source": [
        "![image.png](data:image/png;base64,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)"
      ],
      "metadata": {
        "id": "Owp812CmpjaP"
      }
    },
    {
      "cell_type": "markdown",
      "source": [
        "## Inferences and Conclusion : State all the key observations and conclusion"
      ],
      "metadata": {
        "id": "z3o9EbwbANBA"
      }
    },
    {
      "cell_type": "markdown",
      "source": [
        "1. In CNN, : \n",
        "Conv layers convolve filters with images to produce more useful outputs.\n",
        "Pooling layers help prune everything but the most useful features.\n",
        "\n",
        "2. Pooling layers provide invariance to translations.\n",
        "\n",
        "3. In Backpropagation through Max pool layers : For each region max_value was found. Then, for each region, the d_l_d_out was assigned the matrix such that the max value is put up at the aprropiate region and rest of the elements are zero.\n",
        "\n"
      ],
      "metadata": {
        "id": "jZfCePSbCLRx"
      }
    }
  ]
}