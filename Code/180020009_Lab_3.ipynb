{
  "nbformat": 4,
  "nbformat_minor": 0,
  "metadata": {
    "colab": {
      "name": "180020009_Lab_3.ipynb",
      "provenance": [],
      "collapsed_sections": []
    },
    "kernelspec": {
      "name": "python3",
      "display_name": "Python 3"
    },
    "language_info": {
      "name": "python"
    }
  },
  "cells": [
    {
      "cell_type": "markdown",
      "source": [
        "# LAB 3 : Associative Networks \n",
        "\n",
        "Name : Vaishnavi, Joshitha\n",
        "\n",
        "Roll Number : 180020039, 180020009\n",
        "\n",
        "Referrence Material : **Chapter 4, page no. 90-110, Artificial Neural Network by B. Yegnanarayana**\n"
      ],
      "metadata": {
        "id": "JkPVwZjnp1mb"
      }
    },
    {
      "cell_type": "markdown",
      "source": [
        "#**Problem 1** : Demonstrate the working principle of two layer auto-associative network. Observation to be demonstrated are:\n",
        "1. Limitation of no. of patterns to input dimensionality.\n",
        "2. Effect of orthonormal, orthogonal, linearly independent and linearly dependent in\u0002put vectors.\n",
        "3. Use all 3 learning rules (i.e. by computation, Widrow and Hebbian), to find the optimal weight and mention their pros. and cons.\n",
        "\n",
        "Hints:\n",
        "\n",
        "1. Generate data such that each input output data points have different functional\n",
        "relation.\n",
        "2.  First do it using computation method for each set of data (i.e orthogonal, orthonormal, linearly independent and linearly dependent (not all only few) case ), then take the performance as reference, to implement using Widrow and Hebbian learning."
      ],
      "metadata": {
        "id": "dVvALvvbqApN"
      }
    },
    {
      "cell_type": "markdown",
      "source": [
        "##Write down the Objectives, Hypothesis and Experimental description for the above problem\n",
        "\n"
      ],
      "metadata": {
        "id": "Xz2nXk_HqvHm"
      }
    },
    {
      "cell_type": "markdown",
      "source": [
        "## Objectives:\n",
        " To demonstrate the working principle of two layer auto-associative network.\n",
        "\n",
        "## Hypothesis : \n",
        "The associative network will learn the weight values to correctly associate the input and output vectors using computation method, widrow and hebbian learning, and the suitable learning law for different input types will be learned.\n",
        "\n",
        "## Experimental Description : \n",
        "\n",
        "1. For testing the limitaion of no. of patterns to input dimensionality, first genrated random data, using conditions L>M and L<=M , where l are the number of data pts and M is the dim of data. \n",
        "\n",
        "2. Generate the appropiate Input Data  : othonormal, orthogonal, linearly independent and linearly dependent in\u0002put vector, for studying the effects of diff. inputs.\n",
        "\n",
        "2. The different methods used for learning weights for the auto association task were:\n",
        "\n",
        "    1. Weights by computation : W = B.A+\n",
        "    2. Hebbs Learning Law : Wnew = Wold + lr * A * B.T\n",
        "    3. Widrow's Learning Law : Wnew = Wold + lr * ((B-op)@A.T)\n"
      ],
      "metadata": {
        "id": "SYbCYWzyq5y6"
      }
    },
    {
      "cell_type": "markdown",
      "source": [
        "## Programming : \n",
        "  Please write a program to demonstrate the same"
      ],
      "metadata": {
        "id": "UBv4aywTqyGU"
      }
    },
    {
      "cell_type": "code",
      "execution_count": null,
      "metadata": {
        "id": "bYd-3K8Vn3HB",
        "colab": {
          "base_uri": "https://localhost:8080/"
        },
        "outputId": "4d92e4df-80cf-4384-dcdb-c35ed7963b5b"
      },
      "outputs": [
        {
          "output_type": "stream",
          "name": "stdout",
          "text": [
            "[[0.98736188 0.95777215 0.05899404]\n",
            " [0.87362272 0.95364874 0.99848412]\n",
            " [0.26315794 0.51240251 0.82688671]\n",
            " [0.75948294 0.47256951 0.49864045]]\n",
            "[[0.48636455 0.00845049 0.63330644 0.24065879 0.01525346 0.33405678\n",
            "  0.16961477 0.81715553 0.25081293 0.50069977 0.72943595 0.57002821\n",
            "  0.71861871 0.00279178 0.41753613]\n",
            " [0.95970818 0.92854603 0.81089716 0.80399503 0.50266834 0.85426799\n",
            "  0.629427   0.09948015 0.53098071 0.12005149 0.41053111 0.46479693\n",
            "  0.22402254 0.91567082 0.35030561]\n",
            " [0.04318701 0.17058789 0.31740405 0.34096776 0.64288835 0.95607777\n",
            "  0.49033083 0.60402919 0.90310163 0.12804109 0.00245728 0.17676436\n",
            "  0.03757606 0.69428641 0.05159699]]\n",
            "[[-0.32201447  0.15909224  0.93327185]\n",
            " [-0.0695503   0.97914072 -0.19090889]\n",
            " [-0.94417659 -0.12638476 -0.30423257]]\n",
            "[[ 0.57735027 -0.40824829 -0.70710678]\n",
            " [ 0.57735027  0.81649658  0.        ]\n",
            " [ 0.57735027 -0.40824829  0.70710678]]\n",
            "[[1 2 3]\n",
            " [2 1 2]\n",
            " [3 3 1]]\n",
            "[[1 2 4]\n",
            " [2 1 2]\n",
            " [3 3 6]]\n"
          ]
        }
      ],
      "source": [
        "## Write your code here to Generate the Data\n",
        "## Important Parameters to generate data are : Number of Datapoints, Dimension of Data\n",
        "import numpy as np\n",
        "#L -- Number of Datapts \n",
        "#M -- Dim of data \n",
        "## L>M -- x\n",
        "##L<=M -- learns wts.  \n",
        "\n",
        "#Random Data\n",
        "#Condition 1 : L <=M\n",
        "L = 3\n",
        "M = 4\n",
        "x_1 = np.random.random((L, M)).T\n",
        "print(x_1)\n",
        "#Condition 2 : L > M\n",
        "L = 15\n",
        "M = 3\n",
        "x_2 = np.random.random((L, M)).T\n",
        "print(x_2)\n",
        "\n",
        "\n",
        "\n",
        "#orthogonal matrix -- always a square matrix\n",
        "from scipy.stats import ortho_group\n",
        "import numpy as np\n",
        "L = 3  #Number of Datapts \n",
        "M = 3  #Dim of data\n",
        "x_ot = ortho_group.rvs(M)\n",
        "print(x_ot)\n",
        "\n",
        "#orthonormal vectors\n",
        "x_on =(np.array([[np.sqrt(3)/3,np.sqrt(3)/3,np.sqrt(3)/3],[-np.sqrt(6)/6,np.sqrt(6)/3,-np.sqrt(6)/6],[-np.sqrt(2)/2,0,np.sqrt(2)/2]])).T\n",
        "print(x_on)\n",
        "\n",
        "#Linearly Independent Vectors\n",
        "x_li=(np.array([[1,2,3],[2,1,3],[3,2,1]])).T\n",
        "#x_li=(np.array([[1,2,3],[2,1,3]])).T\n",
        "#x_li=(np.array([[1,2],[2,1],[3,2]])).T\n",
        "\n",
        "print(x_li)\n",
        "\n",
        "\n",
        "#Linearly dependent vectors\n",
        "x_ld=(np.array([[1,2,3],[2,1,3],[4,2,6]])).T\n",
        "print(x_ld)\n"
      ]
    },
    {
      "cell_type": "code",
      "source": [
        "def weights_by_computation(A,B):\n",
        "\n",
        "  ## Here A is input and B is output\n",
        "\n",
        "  weights = B@np.linalg.pinv(A)## Write the weight equation here\n",
        "  error = (np.square(np.linalg.norm(B-(weights@A))))*1/A.shape[1] ## Mean Squared Error\n",
        "\n",
        "  return weights,np.round(error,8)\n"
      ],
      "metadata": {
        "id": "ltg8CqwXsWft"
      },
      "execution_count": null,
      "outputs": []
    },
    {
      "cell_type": "code",
      "source": [
        "def weights_by_widrow(A,B,num_epochs,learning_rate):\n",
        "\n",
        "  ## Here A is input and B is output\n",
        "  #weights = np.array([[0,0,0],[0,0,0],[0,0,0]])## Initialise weights here\n",
        "  n = A.shape[0]\n",
        "  weights = np.zeros([n, n])\n",
        "  err = []\n",
        "  for epoch in range(num_epochs):\n",
        "\n",
        "    ## Write the widrow learning training loop here\n",
        "    op=weights@A\n",
        "    #change in weight\n",
        "    #d_wghts=(1/A.shape[1])*(learning_rate*((B-op)@A.T))\n",
        "    d_wghts=learning_rate*((B-op)@A.T)\n",
        "    #update weight\n",
        "    weights=weights+d_wghts\n",
        "    #error computaion\n",
        "    error=sum(sum(np.square(B-op)))\n",
        "    err.append(error)\n",
        "\n",
        "\n",
        "  return weights,err\n"
      ],
      "metadata": {
        "id": "uuXyhZGftQBz"
      },
      "execution_count": null,
      "outputs": []
    },
    {
      "cell_type": "code",
      "source": [
        "def weights_by_hebbian(A,B,num_epochs,learning_rate):\n",
        "\n",
        "  ## Here A is input and B is output\n",
        "  import numpy as np\n",
        "  #n = 4\n",
        "  ## Initialise weights here\n",
        "  #W = np.array([[0,0,0],[0,0,0],[0,0,0]])\n",
        "  n = A.shape[0]\n",
        "  W = np.zeros([n, n])\n",
        "\n",
        "  ## Write the hebb learning training loop here\n",
        "  err = []\n",
        "  for epoch in range(num_epochs):\n",
        "    for i in range(A.shape[1]):\n",
        "\n",
        "      input=np.matrix(A[:,i]).T\n",
        "      d_op=np.matrix(B[:,i]).T\n",
        "      lr=1\n",
        "    # Delta weights\n",
        "      d_wghts=lr*input@d_op.T\n",
        "    # Updated Weights\n",
        "      W=W+d_wghts #w = w + lr*xi*yi\n",
        "      #norm_wt=np.linalg.norm(W)\n",
        "      #W = W/norm_wt\n",
        "\n",
        "      #Output\n",
        "      op = W@A\n",
        "      #error\n",
        "      error=(np.square(np.linalg.norm(B-(op))))*1/A.shape[1]\n",
        "    #print(np.round(error,8))\n",
        "    err.append(np.round(error,8))\n",
        "    if np.round(error,8)==0 : \n",
        "      break\n",
        "    \n",
        "\n",
        "  return W, err"
      ],
      "metadata": {
        "id": "2aAEGtnT201z"
      },
      "execution_count": null,
      "outputs": []
    },
    {
      "cell_type": "code",
      "source": [
        "input = [x_1, x_2, x_ot, x_on, x_li,x_ld]\n",
        "input_tags = ['Condition :1: L<=M', 'Condition : 2 - L>M','Orthogonal', 'Orthonormal','Linear Independent','Linear Dependent']\n",
        "\n",
        "for i in range(len(input)):\n",
        "  print(input_tags[i])\n",
        "  W_hebb, err_hebb = weights_by_hebbian(input[i],input[i],5,1)\n",
        "  W_comp, err_comp = weights_by_computation(input[i],input[i])\n",
        "  W_widrow, err_widrow = weights_by_widrow(input[i],input[i],500,0.01)\n",
        "\n",
        "  print(\"By computation\")\n",
        "  print(W_comp)\n",
        "  print(\"Error: \", err_comp)\n",
        "  print()\n",
        "  print(\"Hebbs Law\")\n",
        "  print(W_hebb)\n",
        "  print(\"Error: \",err_hebb)\n",
        "  import matplotlib.pyplot as plt\n",
        "  if (err_hebb[0] != 0):\n",
        "    plt.plot(list(range(5)), err_hebb)\n",
        "    plt.title(\"Hebb's Law\")\n",
        "    plt.xlabel(\"No. of iterations\")\n",
        "    plt.ylabel(\"Error\")\n",
        "    plt.show()\n",
        "  print()\n",
        "  print(\"Widrow Law\")\n",
        "  print(W_widrow)\n",
        "  print(\"Error: \",np.round(err_widrow[499],8))\n",
        "  import matplotlib.pyplot as plt\n",
        "  plt.plot(list(range(500)), err_widrow)\n",
        "  plt.title(\"Widrow Law\")\n",
        "  plt.xlabel(\"No. of iterations\")\n",
        "  plt.ylabel(\"Error\")\n",
        "  plt.show()\n",
        "\n",
        "\n",
        "  print()\n",
        "  print()\n"
      ],
      "metadata": {
        "colab": {
          "base_uri": "https://localhost:8080/",
          "height": 1000
        },
        "id": "zGtLYVI-joKG",
        "outputId": "93a530bc-dd33-4a27-e9a6-1f98b1f8ede7"
      },
      "execution_count": null,
      "outputs": [
        {
          "output_type": "stream",
          "name": "stdout",
          "text": [
            "Condition :1: L<=M\n",
            "By computation\n",
            "[[ 1.00000000e+00 -2.22044605e-16  0.00000000e+00  0.00000000e+00]\n",
            " [-1.10321990e-16  1.00000000e+00  0.00000000e+00  0.00000000e+00]\n",
            " [ 0.00000000e+00  0.00000000e+00  0.00000000e+00  0.00000000e+00]\n",
            " [ 0.00000000e+00  0.00000000e+00  0.00000000e+00  1.00000000e+00]]\n",
            "Error:  0.0\n",
            "\n",
            "Hebbs Law\n",
            "[[10.  5.  0.  0.]\n",
            " [ 5.  5.  0.  0.]\n",
            " [ 0.  0.  0.  0.]\n",
            " [ 0.  0.  0.  5.]]\n",
            "Error:  [2.33333333, 16.0, 42.33333333, 81.33333333, 133.0]\n"
          ]
        },
        {
          "output_type": "display_data",
          "data": {
            "image/png": "[encoded data removed]",
            "text/plain": [
              "<Figure size 432x288 with 1 Axes>"
            ]
          },
          "metadata": {
            "needs_background": "light"
          }
        },
        {
          "output_type": "stream",
          "name": "stdout",
          "text": [
            "\n",
            "Widrow Law\n",
            "[[0.95921279 0.06599228 0.         0.        ]\n",
            " [0.06599228 0.89322052 0.         0.        ]\n",
            " [0.         0.         0.         0.        ]\n",
            " [0.         0.         0.         0.99342952]]\n",
            "Error:  0.00842542\n"
          ]
        },
        {
          "output_type": "display_data",
          "data": {
            "image/png": "[encoded data removed]",
            "text/plain": [
              "<Figure size 432x288 with 1 Axes>"
            ]
          },
          "metadata": {
            "needs_background": "light"
          }
        },
        {
          "output_type": "stream",
          "name": "stdout",
          "text": [
            "\n",
            "\n",
            "Condition : 2 - L>M\n",
            "By computation\n",
            "[[ 1.00000000e+00 -3.27002808e-17  2.77555756e-16]\n",
            " [ 2.22044605e-16  1.00000000e+00  8.32667268e-17]\n",
            " [ 6.66133815e-16 -3.27002808e-17  1.00000000e+00]]\n",
            "Error:  0.0\n",
            "\n",
            "Hebbs Law\n",
            "[[15. 10.  5.]\n",
            " [10. 15. 10.]\n",
            " [ 5. 10. 15.]]\n",
            "Error:  [37.2, 179.4, 428.4, 784.2, 1246.8]\n"
          ]
        },
        {
          "output_type": "display_data",
          "data": {
            "image/png": "[encoded data removed]",
            "text/plain": [
              "<Figure size 432x288 with 1 Axes>"
            ]
          },
          "metadata": {
            "needs_background": "light"
          }
        },
        {
          "output_type": "stream",
          "name": "stdout",
          "text": [
            "\n",
            "Widrow Law\n",
            "[[ 0.99111795  0.01494181 -0.00884103]\n",
            " [ 0.01494181  0.97480601  0.01494181]\n",
            " [-0.00884103  0.01494181  0.99111795]]\n",
            "Error:  0.00117084\n"
          ]
        },
        {
          "output_type": "display_data",
          "data": {
            "image/png": "[encoded data removed]",
            "text/plain": [
              "<Figure size 432x288 with 1 Axes>"
            ]
          },
          "metadata": {
            "needs_background": "light"
          }
        },
        {
          "output_type": "stream",
          "name": "stdout",
          "text": [
            "\n",
            "\n",
            "Orthogonal\n",
            "By computation\n",
            "[[ 1.00000000e+00  2.63916765e-16 -5.79897197e-17]\n",
            " [ 1.57657193e-16  1.00000000e+00  1.32744453e-17]\n",
            " [ 3.19656653e-17  3.82585824e-17  1.00000000e+00]]\n",
            "Error:  0.0\n",
            "\n",
            "Hebbs Law\n",
            "[[1.00000000e+00 7.80625564e-17 0.00000000e+00]\n",
            " [7.80625564e-17 1.00000000e+00 4.51028104e-17]\n",
            " [0.00000000e+00 4.51028104e-17 1.00000000e+00]]\n",
            "Error:  [0.0]\n",
            "\n",
            "Widrow Law\n",
            "[[ 9.93429517e-01  2.94567378e-17 -3.30517722e-17]\n",
            " [ 1.40110840e-19  9.93429517e-01  2.75433031e-18]\n",
            " [-2.77171231e-18  9.32832636e-19  9.93429517e-01]]\n",
            "Error:  0.00013214\n"
          ]
        },
        {
          "output_type": "display_data",
          "data": {
            "image/png": "[encoded data removed]",
            "text/plain": [
              "<Figure size 432x288 with 1 Axes>"
            ]
          },
          "metadata": {
            "needs_background": "light"
          }
        },
        {
          "output_type": "stream",
          "name": "stdout",
          "text": [
            "\n",
            "\n",
            "Orthonormal\n",
            "By computation\n",
            "[[ 1.00000000e+00  1.05869545e-16 -6.83580866e-17]\n",
            " [-1.25328876e-16  1.00000000e+00  1.81757295e-16]\n",
            " [ 1.86204198e-16 -1.43029468e-17  1.00000000e+00]]\n",
            "Error:  0.0\n",
            "\n",
            "Hebbs Law\n",
            "[[ 1.00000000e+00  5.55111512e-17 -1.66533454e-16]\n",
            " [ 5.55111512e-17  1.00000000e+00  5.55111512e-17]\n",
            " [-1.66533454e-16  5.55111512e-17  1.00000000e+00]]\n",
            "Error:  [0.0]\n",
            "\n",
            "Widrow Law\n",
            "[[ 9.93429517e-01  3.22020251e-17 -6.12456164e-17]\n",
            " [ 4.45379242e-18  9.93429517e-01  4.45379242e-18]\n",
            " [-5.69163032e-18  1.37742963e-18  9.93429517e-01]]\n",
            "Error:  0.00013214\n"
          ]
        },
        {
          "output_type": "display_data",
          "data": {
            "image/png": "[encoded data removed]",
            "text/plain": [
              "<Figure size 432x288 with 1 Axes>"
            ]
          },
          "metadata": {
            "needs_background": "light"
          }
        },
        {
          "output_type": "stream",
          "name": "stdout",
          "text": [
            "\n",
            "\n",
            "Linear Independent\n",
            "By computation\n",
            "[[ 1.00000000e+00  2.77555756e-16 -8.32667268e-17]\n",
            " [-2.22044605e-16  1.00000000e+00 -5.55111512e-17]\n",
            " [ 1.38777878e-16  5.55111512e-17  1.00000000e+00]]\n",
            "Error:  0.0\n",
            "\n",
            "Hebbs Law\n",
            "[[70. 50. 60.]\n",
            " [50. 45. 55.]\n",
            " [60. 55. 95.]]\n",
            "Error:  [15626.0, 64286.0, 145994.0, 260750.0, 408554.0]\n"
          ]
        },
        {
          "output_type": "display_data",
          "data": {
            "image/png": "[encoded data removed]",
            "text/plain": [
              "<Figure size 432x288 with 1 Axes>"
            ]
          },
          "metadata": {
            "needs_background": "light"
          }
        },
        {
          "output_type": "stream",
          "name": "stdout",
          "text": [
            "\n",
            "Widrow Law\n",
            "[[ 0.99767688  0.00441859 -0.00114469]\n",
            " [ 0.00441859  0.99159579  0.00217721]\n",
            " [-0.00114469  0.00217721  0.99943597]]\n",
            "Error:  0.00011588\n"
          ]
        },
        {
          "output_type": "display_data",
          "data": {
            "image/png": "[encoded data removed]",
            "text/plain": [
              "<Figure size 432x288 with 1 Axes>"
            ]
          },
          "metadata": {
            "needs_background": "light"
          }
        },
        {
          "output_type": "stream",
          "name": "stdout",
          "text": [
            "\n",
            "\n",
            "Linear Dependent\n",
            "By computation\n",
            "[[ 0.66666667 -0.33333333  0.33333333]\n",
            " [-0.33333333  0.66666667  0.33333333]\n",
            " [ 0.33333333  0.33333333  0.66666667]]\n",
            "Error:  0.0\n",
            "\n",
            "Hebbs Law\n",
            "[[105.  60. 165.]\n",
            " [ 60.  45. 105.]\n",
            " [165. 105. 270.]]\n",
            "Error:  [181732.0, 735892.0, 1662508.0, 2961580.0, 4633108.0]\n"
          ]
        },
        {
          "output_type": "display_data",
          "data": {
            "image/png": "[encoded data removed]",
            "text/plain": [
              "<Figure size 432x288 with 1 Axes>"
            ]
          },
          "metadata": {
            "needs_background": "light"
          }
        },
        {
          "output_type": "stream",
          "name": "stdout",
          "text": [
            "\n",
            "Widrow Law\n",
            "[[ 0.6665584  -0.33320736  0.33335104]\n",
            " [-0.33320736  0.66652009  0.33331273]\n",
            " [ 0.33335104  0.33331273  0.66666377]]\n",
            "Error:  1.1e-07\n"
          ]
        },
        {
          "output_type": "display_data",
          "data": {
            "image/png": "[encoded data removed]",
            "text/plain": [
              "<Figure size 432x288 with 1 Axes>"
            ]
          },
          "metadata": {
            "needs_background": "light"
          }
        },
        {
          "output_type": "stream",
          "name": "stdout",
          "text": [
            "\n",
            "\n"
          ]
        }
      ]
    },
    {
      "cell_type": "markdown",
      "source": [
        "## Inferences and Conclusion : State all the key observations and conclusion"
      ],
      "metadata": {
        "id": "7i-dHXdtq22j"
      }
    },
    {
      "cell_type": "markdown",
      "source": [
        "### Limitation of no. of patterns to input dimensionality\n",
        "\n",
        "Condition :1: L<=M : \n",
        "\n",
        "In this case, as no of data pts is less than the dim of input, the optimal weights have been generated from weights by computation and widrow's method. But as the data is generated randomly, the hebb's law error does not converge.\n",
        "\n",
        "Condition : 2 - L>M : \n",
        "\n",
        "In this case, as no of data pts is greater than the dim of input, but still the optimal weights have been generated from weights by computation and widrow's method. But as the data is generated randomly, the hebb's law error does not converge. This is because, this is auto association task, wherein the input and outputs are same. Thus, if we see weights by computation,\n",
        "\n",
        "W = B.A+, as B = A, W = A.A+.\n",
        "\n",
        "Thus, o/p = W.A = A.A+.A = A, thus input and output are the same.\n",
        "\n",
        "Thus, the limitation of no. of patterns to input dimensionality is not seen in the case of auto association task here.\n",
        "\n"
      ],
      "metadata": {
        "id": "5Sx3jrowq60t"
      }
    },
    {
      "cell_type": "markdown",
      "source": [
        "### Effects of Inputs:\n",
        "\n",
        "1 . Orthogonal : \n",
        "\n",
        "Observations : The optimal weights are found by all the three methods and the erro has converged to zero.\n",
        "\n",
        "2. Orthonormal : \n",
        "\n",
        "Observations : The optimal weights are found by all the three methods and the erro has converged to zero.\n",
        "\n",
        "3. Linearly independent : \n",
        "\n",
        "Observations : The optimal weights are being computed by weights by computation method and widrow's learning law. But the error did not converge in Hebb's Law and the error goes on increasing in this case.\n",
        "\n",
        "4. Linearly Dependent : \n",
        "\n",
        "Observations : The optimal weights are being computed by weights by computation method and widrow's learning law. But the error did not converge in Hebb's Law and the error goes on increasing in this case.\n",
        "\n",
        "Theory : \n",
        "For Hebb's Law Behavior : \n",
        "\n",
        "![WhatsApp Image 2022-01-28 at 2.20.09 PM (1).jpg](data:image/jpeg;base64,/9j/4AAQSkZJRgABAQAAAQABAAD/4gIoSUNDX1BST0ZJTEUAAQEAAAIYAAAAAAQwAABtbnRyUkdCIFhZWiAAAAAAAAAAAAAAAABhY3NwAAAAAAAAAAAAAAAAAAAAAAAAAAAAAAAAAAAAAQAA9tYAAQAAAADTLQAAAAAAAAAAAAAAAAAAAAAAAAAAAAAAAAAAAAAAAAAAAAAAAAAAAAAAAAAAAAAAAAAAAAlkZXNjAAAA8AAAAHRyWFlaAAABZAAAABRnWFlaAAABeAAAABRiWFlaAAABjAAAABRyVFJDAAABoAAAAChnVFJDAAABoAAAAChiVFJDAAABoAAAACh3dHB0AAAByAAAABRjcHJ0AAAB3AAAADxtbHVjAAAAAAAAAAEAAAAMZW5VUwAAAFgAAAAcAHMAUgBHAEIAAAAAAAAAAAAAAAAAAAAAAAAAAAAAAAAAAAAAAAAAAAAAAAAAAAAAAAAAAAAAAAAAAAAAAAAAAAAAAAAAAAAAAAAAAAAAAAAAAAAAAAAAAFhZWiAAAAAAAABvogAAOPUAAAOQWFlaIAAAAAAAAGKZAAC3hQAAGNpYWVogAAAAAAAAJKAAAA+EAAC2z3BhcmEAAAAAAAQAAAACZmYAAPKnAAANWQAAE9AAAApbAAAAAAAAAABYWVogAAAAAAAA9tYAAQAAAADTLW1sdWMAAAAAAAAAAQAAAAxlblVTAAAAIAAAABwARwBvAG8AZwBsAGUAIABJAG4AYwAuACAAMgAwADEANv/bAEMAAwICAwICAwMDAwQDAwQFCAUFBAQFCgcHBggMCgwMCwoLCw0OEhANDhEOCwsQFhARExQVFRUMDxcYFhQYEhQVFP/bAEMBAwQEBQQFCQUFCRQNCw0UFBQUFBQUFBQUFBQUFBQUFBQUFBQUFBQUFBQUFBQUFBQUFBQUFBQUFBQUFBQUFBQUFP/AABEIAVABCQMBIgACEQEDEQH/xAAcAAAABwEBAAAAAAAAAAAAAAAAAQIDBAUGBwj/xABIEAABAwMDAQYCCAQEAwQLAAABAgMEAAURBhIhMQcTIkFRYRRxCBUjMnKBkcFCUqGxFiQzYjRDwhclgtE2RFVjkpOiw9Lw8f/EABgBAAMBAQAAAAAAAAAAAAAAAAABAgME/8QAIBEBAQEAAgMBAQEBAQAAAAAAAAERAjESEyFRQQMiMv/aAAwDAQACEQMRAD8A592f6eejWC2slvlDCB4hg8JFaqZBXEZSFAJyoDipmnGtsZBPACQBRXBwS5jbYPG6svO3t13hJBw7UZKN5VtHlT0OPHcW44zI7zuXFNKOCNqx1H5ZFWjLQjsbQccVyPRHaDBttkmw79IebubsyQp1hTLiljKvPaOPauD28ry+N5wkjoLsdDaiAScdDmlIbSoef6modums3KCzIjhzuVjwd6hSF4HHIVg/rXPY2p9Vs6rfU+gKtcW6i2/Dhj/WQ4FKQ6VdRty0PT72a11m6iGk55Kv1onRsHCiDXLezLVuoLnqOaxd3nH0qjuPvwzFLZtzyXAkMg/xhSTkHz210xl74tpt3YtsKAVscTtUM+RHkacpUsO7EFSnCEpGSeOKTZ7jGvcFmbBlolxHhlt5lQUhQzjgj3FcS+oNeR73qNES3vLS87N3S5U89xIYcSe5CEc4UjjoPUE88W/0adVvztPNWCRBZgJt8VDjADpU4+hSlbnMYxjfuBwcg8EVd2TUx21prpyTUttgKHt6EU0yMkD0rj1m15qNUKbco78qelTcgyUSIhEeCsPhDZQoJG4BJJUnJ+6TxWO29LjtyIaVYG0H04p4QWs8pT+lct0zrG8yL/HtqO+u8H6yW03eFJPcrZ7gnlSEhBO/dgfl71Efd1RqWwXu6ybqYqrRc1hdujq7ltTbONwDvCskEkZ4yBS3krxjsCbe0R/pp/Sh9Xs/yCoFh1VA1Ba7bNjKWG56SplK0EHI+8D6EYIq5o8qmyIv1czn7g/Wm12eM4cqZQr581OBoUed/U5EH6qZSkJSnaBxgHpTT1ljyAA42lzHTeAcfqKsiaLPFP2cv08isasrDGe6bQ1nrsSBn9KDtoDzakKwUnyNWVCj2ch48VUi0FpCUp+6noKaNjb+KEj4ZovgbQ7sG8D59auqFP2cjzOlV8E8n/l5/MVEasEeNNXMbtzKJbnCn0NpC1fNXWtEKMVpx/258er2m8ON7UrjBWgpWyog8EEVnbPoDT2nrq9cYFmjxJr333mmUpUrJz1A9a3oGfehsHpR7aXipN6c9FD8qWl1P+79Kty0g9Uj9KSYjRH3RR7C8Wenw/jHEqSvaQMcg1ERaFpcSS4kgHJ4NakwG+oGKbMADoqn7b0PFVPoZktlp1CXEHqhacg/kag/Udq/9nQ//kJ/8qujb1iSogg+Ef3NH8C5/wDprSXYizGbZUYVvGTzjHWotqaMiWhZyRkk5pq4P5UhocgdRVraY/cpQT1INZ8v+eFbf+uSxeVgdAKqpivET0zU59eAaqXzvUcc+eK4+MacqQ2cnPFSclZyeuPIYpltG0c80+kACtcZkE+E0TYzzQcI6YpkT4zExiI4+2iS+lSmmVKAUsJxuIHnjcM/OqFTg2doOOKodMdnFl0tfJ91t7DjcmYCFJU4VIbSVFakoT/CCok49au/j4rMtiK5IaTIeCi0yVgKcCepSOpxkfrU12SxBZU9IebYZT1cdUEpH5mgoktJo7FZIlhhmLEQUMl1x4pJz4lrK1f1UaOG63KbS6y4h1pQylaFBST8iKsGxjFSo402EAAABI6ACm3X4rD7UVzYlyUVbUbfv4GVZ/L1pUiUzBjOPyHUMMNjctxxQSlI9ST0rJX+W/en4Eu2s3WM/FK9jqYIIUlacHhxSfbB/pSVJ9bNCENJCW0hKQMBKRgCl54qtsUCRCi5lT5c5xzCz8WltKm+PugNpA/v86m/Fs/F/C94n4ju+97vz25xn9aWJp2hQpLr7bOwLcSgrVtTuONx9B70YRRGaTisjq2+ajtEyMmFHtnwkmU1EackOOKWSsfeUkAAAEEdTWtTu2J3Y3Y5x0zTwwoUdAUEHSipWM1m9Ra8tmmp3wchMqRISx8U8mJHW93DOcd4vaOBkH34NBtA68loZPX0qOJ2TUJM5q4tNyGHA6w6kLbWk5CkkZBH5Vj9JdpUbVF6l2/4N2EkOvphPuKBRMQ04W3FJx0KVDoecEH5XOKddDbkpV54p5LoPvXOLXDlJ7TLoly5znY7MJmQmOtz7El1x8EbcYG0NoAxz1yTmtulxafM0eI1abwaANQESVA89PWn0SEqzzwKWGkE+9DNNJdB880rfSygX/PPP8P705uFMbh8Rz/L+9Ob66OPSK5jbSZ0oEjIzWrCQlQA4CU1S6Vh7WQ4fTjNXLhw8s+gFR/r9uL4daYmOADHSq7JUogE+4FTJBBSrPXy5qKgDk1jDpaEinPKiQDtyaCzhJ8qtNNHJV61ku1TS9z1DptDthKWtQQnA7Dd3BJG4FDidx6AoUr8wPSti2kqPPNSEJx5U4TkuidC3206wskC4MrlWrTyZS4l0dUFF5DyUBDfruSd4+SU11y72565W1yPGfajPqIKXXmA8kYIPKCRnp6ipDKelSm05NO0KvTFoulrK0zp0KQyR4GoUH4dKTnJUfGrOfyrStgE9KZaT0qUhOBWdUrdSXNy1Wl15q1SLyo+D4SMlJUoH13EDHr1+VYSyMShd2LkrTlxt/c5LdutqQ00SRjLhWtAXjPACQAfWt2LwsaqVau7T3aYQlFzPOSspxj04qHG1eZWn7lcUxSXobK3vh07wF7UkgblITycY4BxSXPkW9smPzY3eSIL1vc3Edy+tClY9fApQ/rWO7Srg9ZLtpyazc2bOh952A/MfQlSEIWjvATuIH3mQOf5jW1gykzoTElBBQ82lxJByMEZH96ceYakJCXW0OJByAtIIz60Jcyd7TpLF10WqY9Gt9vnsy3Z7rvgQQhOG1IKugUrxAdSCKgds0hClvuvbAn6oWbW68FbfiivJKCAcO7Ut7eh5PvXWn4jEpKUvstvJSQoJcQFAEdCM+dOFOaYY3R+rY9+iWS2T2H1XhVtbnPCVHKMKSoIKsKAIJXkjjyz6VseKy8nSdxc10m/sXZthgxkRHIpihSi2lRXgL3cEqUcnB49+a1OOOtARpyHHIT6WXHGXSg7XGgkrSccEBXGfnxWQsd5nxZ6USWNSzS8Q3smQ46W2sqHjKmwBgDOeTx05rb0BQQxXC+0jTd7f7SLpJEe/myz7c3HU5Y3G0lRAUClW/yyT6da7mTzTb7PfJ/86cG4wuhfriJo2K3dYaGJ8dtTaI7e0eBOQ3uCSUhRSE5AJAOcVjNA9lM626f0jMkz5TV2hSfjZEaS7ltoOJX3zSUpGMkueeec812JUFQ6U2WFJNayoukBhpD65AaT36kBBcAG4pBJAz6ZJ/U0Ir/xUZt7u1tb0hWxxOFJz5EeRpe0gc0M0i0vy68UKIHNGk80HpYJB9KWl4im85pQTQW0EyB8Tz/L+9SO9FQFDErj+T96c/WteM+JtVFqZDUNsD0o1q8ThyOuKfbSltlKRkEDnPSoK1kd57qNY8m3Rl5WTt6k+dElvgDHFEkkrJwKdScJzUYnRkHIxx8qbd+9inc4BI60wkd4r3qsI8hPQDqaktsE9aS2kNgZ60+lwq6cVRQ6hsJHNSGk0hptSiMg1MbaSnmoUU2mpCRmkJA8qeQMc0lKm4aXt9zujNwfbe+KaQGwtqQ42FJCtwCglQCgCScHPWrNQCgQRkEYIPnSzSKVBuLGahx2mGW0tMNpCENoGEpSBgAD0xTvSiAo8GkAyKAPNFtNDBoAyaLNDFCgCo6LzoVUA/Oj4pNHTTSqSUA9RmgODSgKqA2WEnyppcUZ4NSsUkigkFbCk+X6UjaRU8jIpkpo0sRuaUF06UZ8qIt0yRs/5kfh/enc02poiUPw05tVW/HpNVm4pA9KgJUVNk9ck8/nU5SjsyMGoTAyhIOQeuCKxsaaUlsYo9gx6flTyUdR+1DuySAnk59KnBqK+difeks55xRLWh4khW4eoORVRpTV0W/aetVwdW1CXcEbm2FujKjnGE5xnpTkTrRoHTNSWU859Kbbbp8LaacbbUtKXHCQhJOCrAycevFColNOLI5PFSGwT7000ipTSDUHDjafKnSMD2rGa41cjSF902qVLVFtkhx9EgJZU6XD3f2acJBP3jnj0rRKVadVWZsKMe426akFAOFIdHUY+WM+ox7ULTyM0RqLabau1QhGVKclobJDa3jlYR5JKv4sdMnkjGcnJMwppYROPahUG7XqNZENqlCQQ4SB8PGcfPHUkISSB7nipFunxrrFTIiuB5lWQFAEcjqCDyD7UsB6gKXtrlj3atI0hfYGndQdy9cHrgmOqWkd0lcdxKi08E8/xDYoeW0mnhuoGiNc7072h3BEG4LuMY3GQ5eZMC2MQgkOvpQtQwQSEp2hCsqJxgc89b2B2hWu6aW+vo4eXFDyY62yja4hwuJbKSDxkKUMkHHoTRgaU0Kr7JfomoY70iCpTsZDymUvlJCHSnqpB/iTnI3DgkHFWOOKadADmjAxR0KeEFGM0YFHVAnBoiOeaWeaSRQCDSSnNLIosUsBvbxQA9eacxQpaSIof5ofhp7aPQUlSf8ANJ/DTu2t+N+M6zDasNHnyqUjYYyApOVYHNVgdxGXn0qwZWNoHpU8jgJBTyfyrJ9q0a6Tuz69R7KXPrJbP2YZOFqTkb0p/wBxTuA9zWtKgc026n0FRDcd7JbZFg366p01AuMDTS4DRWzcGnW8TQpQVtDnJO3G4jjIFZyHZI0N7SFvvFgkXv4zSxb+BQ0lTrTqXEK3JKiO7P2hBVkYwPSvQiEFOOCPeoT+moM7UEG8utFVwhNONMObyAlK8buOhPHn71Xl/RhrQFuudu0laYt5d7+5ssJS8sr3kkeRV/EQMAnzOTV/IcfZcipYjfEJcdCHVbwnukbSd/PXkAYHr7U40jHWpTbdZ2rLbbzjNS20022jFSkI4HpSUyPaBpS4ak+on7YuI3MtlwRMHxm7YQEqGPCM9SP0rK6k0Xqa1W2wpsbqJF0FykSX3WUhppkPIcK9gVu2gbiATnkgkc4rreKBAxQeqyxLkLtccSYr0N5CQgtyHkur44yVgndnrnr61O6HpSiKI0Eh3G3C5Rw0qRIjDcFFUZzYo+2RzinokVMOO2yhTi0oGAp1xTij81KJJ/M08BmlBNAIxWW1V2b2bWN3hXC5NFx2Kw9HCRgBaHE7Tnz4ySCOhNayhgUGw7XZm1a7PaYtoub8OZbHXXmZshCX1OKd3d53iTjdncehB4FQoXZOiJo2+aceujkuNc1qf79bQStp1eCsgJIGN43ADGMkZ866Ga5012josWo9Q2m5NXKY+zMCobcSC6+pTK2kKxlKSMBZWOT5U4F9pHR50hG+Eau06dCQhLbEaX3ZSwkcAJKUBR9OSelXFvhrgxu6clvzVbie9kbd3J6eFIGB8qTZbn9dW9uWIkqFvyO5mtd06nB80+VTtlNAh0o8Zox6UeOtME0YFGBTE+Wi3wZEpxK1tsNqdUlpO5RCRkgDzPHSgHaLPPSs7pLW0fWBuCWIFwgLhO9y6mcyEZVzkJIUQcY5weOPWtDjHnQAPWgE0VKFKgW2htJpYFHUhFKMSU/hNObDRqH+ZT+E05trbj0ixi5UYtsKSR1wM1KQk8VJmJKY+COSsD+tNoGTS50pCdm40rZ6U6lP5UsIyay1eGQ1T7TWOcU4lAFOIRnrT08Kba3K4qU2yoeVNITzxxUltRpKLQnFOopIGefOnE4oBQ6UVH05oAZoBJFIPNOGkUAAKr39R2mK6tp66QmnUnapC5CAoH0IJqyFZyVpWQ7cH3GJkWJDcO4MtW9suJUeVK3nIJJJPKaA0DbiHWkuNrDiFgKSpJyCD0INKxQQgNoCR5DFHQGf1lJv0S3NL0/FYlSO9HfJeG5QbwclCStAUrOOCscZ61l9Namvt41IbXJuLUSUw2mS9DfsjjS1NbsHC/iFJGTwDz64ODVp2kTNYssRWdK25uSl0kSZPeth5lP/ALtLhCSTzycgehqh08/qPTkVxu39n8hT7yu8kS595YL0hf8AMtY3FR/LA6AAUzdNoVDs0idKtkd25Q24E5acuxmnu+S2c9N+BnjHl+vWpuOOlNOMFry53Wzar00uzNRZEqeJEJTUxakIUAgPDBGcH7NSc4/i9quoeura/aLVNeLkU3CSIKGFpJWiRlSVNqx0IKFAnpxStYaPTqtNtWifItky3yfiWJMdKFKSrYpBGFAgghR8qpbl2WqXFsqLbepERy1yVTEKktpkJfeWVb3HB4SVHerGCAM9KZ4pr/2mXSzuyb3hk6fjXYWcQktZefOdi3d+cJwvgJxyEnnkY6O1eIUi5yLa3JbXOjtoddYB8SErztJ+e0/pWMvHZMm6SVbL1JjwFT0XQwQy2pHxIUFFWSM7SQSU56k803FsGqbJry93WPFts9i8lhPfrfU0YbbW5IBTtJcJSc8EeIkdOaRrR2M/oLTerbkFolHvZVzZRtI25Ru2q/8AEDz6GqbSlwetvaLcLEZz01lq0sS5T8qQV5kKWvKkgnCAU87U4AwOBXRXmkSGVtOIS42tJSpChkKB6gjzFUEDs+01a0uiNY4DZdSpC3O4SVqSobVJ3EZwRxjOMcUyFpHW9s1szKdthdW3HdUypxbRCCUqKfCv7qs7c8EkAjOM1oQKxvZ12bQtA2yO22487LDRbcPxDqmRlW47G1KKU846AdK10Z1bzKFraUwsjltZBKfngkVNKw8KFAHNCkMNq/4hP4TTlNK/4hH4TTtbcekVmpSyosoPkrJp1KR5daYUdz7XzJ/pUpFZc+zkGEEn1p1KKCU80+hOOKzWJKKWlsn2pxKMClpTVQEoRjFPJGKCU0pXApgtABp0DAqMjI88U6lZHvQDuKFEFZ9qUOaAQRRbaXQIoAgBQ20dGOaASU0NtK20MUBiE65dhyNXicqG2i0Sm2o4ddEdK0rYbWkKcUcZJUodPKlztWvzdFIu1sMZyQuSwyfhXkyW0hUhCFncng4Qon2q3c0LY3tTDUDlubXdwBiQpSjggbQrbnbuA43Yzjzq8xTM3tobaXtoYpERg0CKXiiIxVQEUk9aWRSSPamCaIjmjoUAnFHjBoyKIfKoA8UKFHigGlf8Qj8Jp3FNkf5hH4TTvNbcemd7ZhKcyEeySf7VMSP/AO1GbGZB9k1MQn1rDl2uHG0HqMU8hPNJbRnpT6UYxnzqTKSnj504EYPvQSnFOpTkVYI20CMHFPYxSAnJoBbLeRk0vuhiloRtFLAxQWo6kYpHOeKfd44ptIyrpQYxR7aXgUNtCdJxihilGjAp4ojFGBS8VV37UDNhENBYelyJj4YZjxgCtZwSo8kABKQpROeg9SAXIFhQpZFEqig2etFWX0rrlWp7tPgLsdytTsNCFuKmhrHiAUlPhWohRSQcEetavy4qTIoGs9p+83D6zk2a9CP9ZNNJkNPRUqS0+0TgkBRJBSrwkZPVJ/iwLabdI8CVCjvKKVzHCyzxwVhCl4J8vClX6VUJJpJFOYquvtxetNuXJYt8i5LSQPh4u3eQTgkbiM4HOBz6A0wlEUVYPT2tNR6mbWI0C0R5bSUqfgTJUhl+Pu6BaSxnyIyODg4NbZ4yBDWW0oMoNkpST4SvHA+WaQPUKqNIXtepdMWu5uNpZelR0OONIVkIWR4k/kcj8qZ1hKltw4UGDIMOXcpIiIlJSFFkbFrWoA8Z2tqxnjJFSa+A5pqZOjW5jvpUhqMzuSjvHVhKcqICRk+ZJAHuaoLRquJqVMq2wJUiPMSwVtSXWk5cRuUgPoByFJ3JPUDy4wRlNmi/4h0mbXfXhOlPNLTIQ8hCXNpUoJUUpAA4HBwOmakmjVzIb+R/ansGs1oW6P3OxxRLVvnxS5ClH1daVsUr89u75KFabw10cemd7ZpkfbufIfvU9A4GD+VQow8Th98f0qa3wBWHLtoebTT4HTzppHlTyOtSDqRk9adSnI4ppPWnkcCqgEoGgk4NLIph1KwrKelMJQcGfal5FRWgsg5FLOR60JQL1qC2WFtLtzuMW3NKOErlvJbCj6AqIzT9ou0C9Ry/b50aeznBcjOpcSD8wTQlW5maQtTTRkJQpLbzjYWW84zjPuBx54FQbRY7jb5ZcfuTDrByVMx4KWd5xjKjuJOPbFBrzbQwc0dHQMca012mXHTovkCbaJlxtFguD0eXd+/ClNNFxSkHYfEsIQU7iDkDBwa6ZqPVlt0rb4064PhqK++1HS7kbQpZwCSSAEjqT6Csi/2I2+RerxMVfL2iHdnVPTLY1KCI7pUfEkgJzgjjg5xxmr7XehY+trTbba8GhBjzWZDzDiCUutIBBb4IxkHr7VWr+Ly03eHfYKJkB9MqI4SEPIB2rwcZB8x7jg+VZqc58R2t2qMo+CNZpUhI/wBynmUZ/QH9an6W0cdJOutRrvcJVsKQlmBNcDqY/wCBZG/GOMEkCpF+0jA1DLiS3zIjzYgUlmVDfWy4lKsbkkpIyk4HByOKCYFzWF2YagalNyCYtwvotTVqdSkNCOXyxuBxu73KSvOcYyMcVr9Na+gamuVwtzDb6ZkGS9HfHcrLaC2spGXNu3KhhQTnODSZ3Zdpue7KeXbwiQ+vvC6hxWW3NwUVoSSUoUVJBKkgE+eaOB2bWa33By4NtOIuK5TspctlxTTi97hXsWUEb0DOAlWRgUH8Qbsy/pO93C5wloly787Gix4TiSlKX0pUCsrB+6G0lRGM+A4PNMWftUgrtDsq7qbgmPdn7O+9u2tB1oLO8bjkBQRwOTkgc1otTaedviILsWYYE6C+ZEd/ug4kKKFtkKQSMgpcUOo8j5VnI3ZJD+pWrZcZjl0ji5uXNxTrYQt1xaFg5KCMELWVhQwRgAdM0YSVfJbT+p9FT4xKhJdfZCtpSSyuOtw5B5HiabPNRO1pi5G3WaRb5LEcx7rEJ7xguKKlvobBGFJwAFryPPOMirq26ORBu8ea7OlTkxGFMRG5KystbiCtRUcqWo4AyegGPMk37rSHkhK0JWAQoBQzyDkH8jQlFtrMxhgpnSWZTueFssFoY9MFSv71kO07WOoNLsRW7DpyXeHJGe8lMN98mMM9S2CFLPtlI9626HUOLcQlaVLbOFpByUnGefTimXLhGanMw1voTKeQpxtknxKSnG449BkfrT6GuP2PtEtmjmJE25WHV71xmrQJVxnWkpU6rohAAOEpBJCUDpnzJJPXIckTobElLbrIdbS53bydq05GcKHkR5inXZcduS3GW82mQ4hTiGioblJSQFEDzA3JyfcUppxt9tLjakuNqGUrQcgj1BpVTh/ZRcJMLtAvVsaeeWk3K4CXD3KW0w2FpUy6kdEZK1pwMbsZxxmunSO51hEhzLdIGYFwUUrWkhKlNlbLqf0LgB9cGr6THU9HdQ24WHFoKUupAJQSOFDPGR71mOz/AEjcdGxXrY9Oal2ppbioh2Hv1Bbilkuq6Ejdjgc4z54CHbCXDSWptFhxyI27dz8NBt0SRbG+7cjxmXip3vElRJUpB6p6nIwPOsvF/vGjNeouL1kV9s9ILsqQAlDiHH2kN4WnJAQylHGMAk5HBI77tFVGp3Lq1ASmzQGJs5SsNrlOhDTBwfGrgk49EjJ9utTps7oN9L+pdX9yoLh/WgKFJ6FRjMFePz/rmt1gehqg0pppGlbXGhd8qVIJW9JlLGFPvLO5az8yTx5DA8qv624dM7PrNwk5Cj6qNTgiokMfZD3J/vU1JzWF7UWnpT6BTSRk4p4JxikC008kU0mn09aqFS09KGKNIFHjPWmQAcUZGaAownNAElGDmlEUYHFDFCoIiiApWKAFAEeaG350oJxRkcUAjFFilgUWKATREZpRBoqcoII5osUZHPNDFUBHik0rFDaKCxy1jVKdGa/1Wzc4NycVcn478AxILj6X0hhCCkKSCAQpJyFEdaiXiw6lZ7WYt1jQI5ZlRnGm313GSW29qkqAcQlG1JKc+D7pKT4s4z1wpFAilqnLu2XSd51RM0ymzgEoeeRJDiloaWypvcptxaPElKigJ49RWq0ZKuLkFUWfp1OnhFCWmmmX23WVpx/y9mCEjA4KR1rSkUkiloFijHShijApAXXrSgmgE0oCoUYWPt2/kf2p3FIcH27X5/tTu2ujh0is9EThhHyqSjimmEgNoHsKfSBXNoLQcEVQa8vl209YZdxtrUJSIsdx91UsqP3RkISlOMk+pUMehzWgQMqHlVLruzyr/pC6W+ElC5T7e1CXFbUq8QOCfLIBFVAXYr5NN2ds94Qyi5JaElDkZJSy63kJO3KirKVcHOOorTJ/Wuda90XO1jc9LKw5GYStxu5/DP4+wUlKlN7uCUlTYTkDz8qiWu53zS2ktOPSo1xkotst6FcGW2FOOuMgOJacAxlY4aORnqaoWa6qnilda8+jtavEHTmmratyevVT14Smcw9FUhSWi8o90SU4OUlAG3nGemK7m3eG1Xxy1lCg8iMmSF5GCkqUnHrwU/1oLE+lJGfOgB60oDBoGItrusO8xBJgyW5UcqUnvG1ZGQcEfMEEYqXXPE3u52/Q+pruwXHJkO4zHG2CkK3ttPlIaAwcBSEYyOfFmm7FK1NY9VWBN+ufxib6w/3sQNJS1DfQlLiUNkDJGzeDuJyU5p4p0V11DKCtxaUIHVSjgCqibrKzW+/xLJInNoucvhqOASehI3YGE5CVY3Yzg4zVB21vBjs4uJLhZSt6K2pxJwUpVJaBOfLgmshr7U+k9MrsTUSWyhFvvUeVPfbJdIJaeOVuc73CEngkq6eoowR2jKU/eIHOOaVXI7P2pw9UaNvdx1Va12+3sXdEJiIlKi/z3SmioA5C9ygeMYx7VuZnaDY4Gs4WlXpe28y2S80yEkjAycFXQEhKiB7fLKGNCRzREUugRmgjZFIJzWW0jdbnqK5Xa4OS0ItbMyRAYghkZHdLCO8K+uSpLnHTBT0IOcF/2sSG7lGlouTUyZcb0bQxppK20qjtB0oLzgwXAvCFKOTt8aRjzp4eOynmiHWudXjthZsmt12uTCDdiZebgyLyp4BDMtxBWlBSf4cbQVZ4Khmq7se7Wrl2l3i5ByJFFqQ2XWXYyV7mFd6pAZdUfCpZSAvw9AfenBjqp5NHto8UKKQsUWKVQ61INkYpJFOEUkjBoBO2jApWMUAKVMQ60qjCeaPFSow5/rt/nT2KacGHmvzp/Brbj0mqBvhNOpppBxTia5tItPWnk00jrTyBmmeHUU6kZpCRgU6n9KojS7dEeltS3IzK5bSSlt9TYK0A9QFYyAaiWXTcSyOyZDZdkTZRBflyV73XMZ2jPQJGThIAAyeKsgaWDiqhj60oDNIQ4lfIIVzjIPmODTgNMhpA8qYmW2NcDHMllLqo7ofaJ6oWMgKHvgkfImpCaOgI9wt0W6wnoc2O1KivJ2OMvICkLHoQetU6Oz3TTcCJCRY4KIkWQJTLCGQEIdAwF4HU89TWgqJc7tEs0J+XMfSywwjvHFHnan1wOcUqbn2tew2Fqec/cIN4n2ic5KanpbQsORPiUYAdUyRyrCQOopFo7E/g9QwLzOvz1ymtShPlOuR0pckyAhSEeIHwNpSsgNgfn6b21ahg3mddIkZwqkW14MSEKTgpUUJWMeoIUOfnVnjNG3pUFQPAo6KiBnY+h7bCvb11irmRXnni+8wzMdRHccPVSmgraSfPjnzo79oexalZebn21hxTqkrU+2O7eCknKVBxOFAgjgg1oOMdKI0w5vcOwHRlzn2qU/bnF/VyittpT61IdUVbip0KJKyT1JOTwDkACrmx9nNu0tfpNxs8iXbo8pRcftbK0/BrcIxvCCklCvwkA46VrSMGiIzQGf0vYZtqcuUu5TzOnT3+9UE5DLKB4UNtpPQBPU9SSTV7R4xQNAFQo+ooqCoEZpJGKVSEOoeQlbagtChkKScgj2oSOgBR4NGOKmrChQowM0gac/1WvmadpDgw618/2p3Z71rw6TWeTToGaZSelOprlPDqBzTyfKmkDNPJq4Z1JyKWDmkJFLHSqKsnrLtOt2irpb7c/BuNxmzUqWhi3MB1YSDgqIyCfyz0rSWO8xtQ2eHcoat8aU2HUE4yAfI46EdCPIg1Raj0rPmX2FfLNPZhXSOwuKpMtgusvNKUFbSApJBBSCCDU/R2nntOWx5mRIbkyJEl2U4WGi20lTiiopQkkkJyfMnkk+dV8Jk41+mab0zNVCQypxepH4gekgqbaD0tQC1AEEgKWBwR19q2Okb+7qC3vKksIjzYkhyJJQ0ve33iDglB80nIIzyM4PIrOa+0k8ezm/wbel+XKffVOShrhwrL4ewjHORjAxzwK2NktkS0WuPEgRxEioTlDQSQRnk5zzkkkknknOadp3pYA0xcpgt1ulSyguBhpbpQOqtoJx/Snh1o1JC0lJAIPBB6Gp1Ln157Xo9stry24C35zVoYuxaDg7oh1exLQXjJUTnHh54qRry8NXK3at0+mOUzBp9ySl048YWl1ISB1O0oGfxCpsHso0nbprEuPZWG5DCwtCtyzgj7vBOCE4G0HhPlitK/CirfEl2O0t5Lamg6pAKghWCpOeuDgZHsKeq+OV9n9/gv9sF+SxI3Ku1ogTSj+HvEIwoA+Z2ONH5KrrorFW/TGn9PtRWLZaI0dER5T7Ctu5TbihtUoKOT0469AB0Aq3NyePnRZpeUVHaHqX/DNysT78x6Hbwp910M43SVpQO7YAIOSsqVhI5JSMVmYOrNWXe4P21uZHN1EdyS7EYhqQm3vIKFNx3HFZDiXAopJAB4JTx03hlrWRuOcHIz5UapTn8xNPoeTn2l5uqL2bK1Mvs1v/ENtcnu90w2ldtdQts7G8o+6Q5swrJyjIPJrI3fWHaTfrjqSDaWlKk2W1iDPjNHulOyFqcIkxzj7xQlCgn0XgcgV24y3BzuP60QlLSoqHBPU+tPT8tcQv3bXfrB2eWRdhLl+ulqZbfv0p9hYaQgAJLa1rSDvKlDp4vCTU7tM1tqzQ9l0fInXbvX3nXLhOMWOW0u92lCkwkbQThRURlRyQkknjFdbuCWbrCehTWG5cR5JQ6y8kKQtJ6gg9ayPbPCveo+zC9WvT7QduT6EIbZDga7xG9O9AUSAMo3Dk+dOH5M5cO1mXrqfoC3abujVvXcXESrpIRy22EIS4qMlwjClnKgUjngZwM12e33CLdY3xEOQ3JZ3rR3jStydyVFKhn2II/KslpfQlum9mdg09qG2xJ4hwmG3mHUBaEuobAUU++c8j1rWWu1Q7FbmIFvitQ4bCdjTDKQlCB6ACpCr1zqL/CmlLjdO8baUw2NinEFYKyQlI2jlRJIASOpIGR1rKxdVaqt7MSPPjR1S7oy45bzIb7pSXUJKzHfShSgCpAJCknjBBHHO6vVkg6ktUm23OMiXBkJ2uMr6KGcjpyCCAQRyCKo9P8AZjYNNXBE+KxIemNpKWnpsx6SpoHghHeKVtyOOPKmGG0rrPU8yNprU8+e27adQTjENoSwgCGhe8NKS4BuUrKBu3ZHiOMYq07M9V/BWrTFjdYUov8Ax0YPlWAhUZ4oCMeZKQT/AOGt63pq2MwosRuEy1Fiuh9hltO1LawSQoAdOST+dYLXOnLVM1Bp3TbEJMcXKbIub77Li2nGtjf2i21IUClS1OJBxxgqyDmjQ02htXOavTfHFMIaZg3R+AyttWQ6hvaN/wCZKh+Vaiuc9h1rjWTT97t8NstRYt8mstIKiralLmAMnk8etdHTUXsAE+9L2+eaIfKlYqAYdH2jXPn+1PfnTbw8bX4v2p3ituHSazSRzTyRTYQQOlODOK5lH0DGKhS7/Ft96ttrd3iTcA6WSB4ctgFQJ9cHI+RrlA7TZ1lnWO1vCY85bDIbvRbYU8oJA2MLVgEkLJSrIrLakvWun9Kad1DKgSo9ysS1KdelsBsyHX17EJQgeSUEZJA5OPWtJxoelwPSlpFedP8AEmodFW606fmXSczMt96S5cLi604tswlYVuW5gjaVLKcZ8vak3vX+tr1ftUT7FNeg6bhMfWkZ99jwPttJ2bUFQ+64oKV74q/EPSAFKAqJaJwulqhTAkoEhlDwSfLckHH9amgYqU4UBSgnHnRJ5peMUEGKFCjoAqhXR0oYwDjNTqrLx91NOBVN4BBIpRTk56UaGwQSTS0DPFUkEABJBGT60eOlGQAcDkUVAGo56CkpASfWjoUKhsp8VGUDb704Bk80kjmgJFtUQ9t8iKtSKqoQ/wAyirgjNBzokJHpQxxSgMUeKWqNlNZzV+jGNVtxHEynrbc4Lhdh3CNjvGFEYPB4UkjgpPBFacikFPNMM5ojSStI2p6M7NVcZUiU7MkSVNhvvHHFFSiEjhI9q0YTQFLAqL9AgKOhQqQZfGFNfi/Y07ikPDKmvxfsae4rbh0mqIJyKVsBoJpxHWuZRCGAkkgAKPU4608E4ABGfOlJFLCc1UAAJUkpIBB6g0ru0qQUkAoIwUkcYowgUNpB4NMFDjpSk8imXpDcVlbrziWm0DKlrOEgepPlS48hqQ0hxpxLjSxlK0KyFD1Bqip9IpVJT5UqhKuv99a09AEp2PJl7nENIZiN944pSjhIxwByepIFR9K6qZ1bDkyGYUyEll9cdSJrYQorQopVjCiDggjr1FXY+dZ/QtnnWO1S4s5LQWbhLfbW04Vd426+t1JOQNp8eMc9OvNBxoarLwOU1Ej67tEvUSrK084uYlamt4ZX3KnUp3KaDuNpWE5JSDkAH0NS7t99I9qYvSuSOKUUlPXiiHFLUSs5o1BISSCRRgGszH7QbY1Lmx7k8xZvh3S2FzZ0YB3BIyAlwkdM4UAeR74XrjVw03oiZeoQbmultCYSUqyh511SUMjI6pK1p5Hkar+4Gj21V6k+t/qspsYjfWC3W0BctJU22grAWspCklRCdxAyMkVi9OXabpTtDh6SuV6lX5+5Ws3DvJCE5ZdQva4RtA2tr3eFPOCgjzroEO7QZ8uXFiy2ZEmGsNyWm3ApTKikKAUB0JBB5ouxTP8AZzdbtfNMNTLy7DdmLedRmEyppAShZRgpUtR3ZSc8+3lWo2kjis5Pft3Znpe6T1B5cRDzsruEYUtTrzpV3aBxypxeAPVVVWie0mVqDVV30zdbMLPebdHZlONsyhJaKHM7Rv2pO4eYxj0Jp9/YG9hf8QirqqmCnMlNSLvfoViSyZi3E98rYgNMOOkn5ISSKiqidigBS8ZGRQxQZFJxk1zS9N3CRrSz3aZLlMR2b4YEeCham2u6Md0FagPvqUvByeAAAPPPTcVQFRjrUZ+Olc2M6X3G1ICwloLwlzIGcjzxjI9Oayll1Bc7r2q6htyV4stqhR2yjYPFJcysnd14RgY9xUhtcCjxWP0rfpDr2sZMgyJTcS7LYZZaSXFJQllkbUJHuSfmSabkdpcG2ajci3BxcRlyEw/HirYWZLjinHkrAbAKlYCEngHA56VOBr3xy3+KnMCkv4Pdn/cKc21rx6KqEdacSKQjpTiK5YZ1NOt02g04iqgLowM0QpzHpVFWF7R1xHLnpaFdXGm7K/NWuT8QQlpxSGlKbQsnjBUAcHqUiue6ZvMfTnahImNTnV6SQxIYLkBpa7ew+t8rSgFI2jCMEkDAUSM13abb41zjKjzIzMthX3mn0BaD8weKdixGIUdDEdlthlAwltpISlI9AB0qpcha5PrXUWqJ12vVsszC59saEJx4QikSkxXErLhZyQFKVt29ePLnp0PS2qYmrLeqVEbksBtwtOszGFMutLABKVJUOvI6ZFWSbbGRPcnJYQJbjaWVvAeJSASQkn0BUT+ZqRtz5UaAFB1a0MrU2ncsJJSn1PkKPaaPkVIxwjs+v0e46p7P7Qy8+h6Db5ku4B5pSAuctKe8QSoDLiSt1Rx0B96VpzUN8u/0kNeQ3ZDyrFb4UZlDClHu23CElJA6AnLpPrx7V2udaod0VGVLjNyFRnQ+ypxIJbWOiknyNcr1L2Oy1aqnXay6vull+tFpVdWkpQ6ZISolIbUQCyQk7AU/wgefJuWfdHLp0FsJIJIyfKixzQQOKXip0SIrdngofckphsJkLOVOhpIWo+5xmqvW2k06y01JtRkrhOKU28xJQkKLLrbiXG14PBAUhJI8xxWkSnCD70gpxS2xWOU2XR2o9P8AaFL1dqGaxfd1mXE/7thFr4cIcSsNtt7lrWV5WTyeU49Kj9hcOVFuetpF0s9xtN4uV4cnOIltHu+5UB3KUuDwKITnISTg5BrrtLS3xmr89hTixXadZrjdrHBVbYYuL0K4xZy4PepbMhDTgUUhSvCDkBQyQPDXO7NbtRWftIvt41JHTC/xXayzGai5cTDcYCtjC3QMby2oq3dCQoDOBXelIwmmiAoEEZB8qrjyyYV4uEfRk1nqCazaomrXbgxJkW9hFsjqgkRHWEt5DofBVvcUnBUFFJGOBXer9abzOlR37Ve02xLaFIcYdiJfQ5kjCvvJIIwcc45PFJt7DUVTDLLaGmmwEobQkJSkDgAAdBV/ilbt2L4zIg2a3vW23NR5E164PpyVyXwApZJJPAAAHOAB0AAqbto6FSGI1RpLUN9v9vlM3qCxbYMpMtqG7AUtRWGyjxLDqcgFSiMAckZzitkEkCnSM0nHNPTiku1nfnagsUxspDEJTynATydze0YH51gOy96VH7V+0i3KfacjomNylB3JkEuNJ24PTu0hJA4J6enPW8Vzcdmlxh9uB1nCmMt22XAMabHJO9SwAEkDGMeFJznyPrR/DWlv0E+zcNSMS5bUiwXiQZfwzaXGpCHVBAV9qlY8PgyAADz19a/UnZ1dpOs42orDdkW+bHt4hj4pHfoewsqCXAecEH7ySFZHnXRQKFTpMzpe+3G8Rn2bta1Wu5wnwy82lW9lzwhQW0vA3JIPmMg5B6VpMfOieTkJ/EKe7v3rXh0is0inEnBqMlRFPoWM1yQ0hPlTqaab5HWn09KuAodaWOaQOtOBPvVJoxSsYoAYowKCKTR45oJGKWBQcEEii2805RYoUSRtQpXtVLKX3jhNXMtYbY2+ZqlcSc0A2kUtA8QzS9oKAMYNEEc9KAWTmiAyaAGaMDmgCI8VKoUrAoPRu+VMqbOOKdJzgUNuacI3HBDyPnV3VSkbVg+hq1aWHEgimqBR0sii20BGmTGLfFdkynm48dpO5x15YQhA9STwBQiTI9xjNSYr7cmO4nch1lYWhY9QRwRWP7Qpct696bsLcxNth3Rx3vZZZQ6re2ErbbQHAUhSjkgkE+Djmlabjtad1pMssSSZMd6Gma82op3Mv7tqlkJACS6DuwABlCjjk0xI2lVt/viNPQHZr8d96My24684yEkNJSkqJIJB8scZ5qzAzWB1wu93yx62tcFpg93GSxHS6hQKgpoqcVkHn72AOOU81M+0NXY7nKnxEKuEJNslqJxH78O5TgHIIAz1weODnqMErvF/iWe33GU6sOiAyX32mlArSnBPIzxkA4z1xWLtVylS9ZaUl3KVFeRMtMpyMuO0ppClKMZWMKWrKtu49emeKyet9UsJjdpiY96amo+CwYrTaVbSW9h8aem04Bzn9aJNOu0R5jFxipfjOpea7wpC0HIylRSR+RBFTtp9K419HbVt2vGmfqm6whHVAYYeaeXlLj6HdykqKef5TznnrgZrs9bcOkWMghvIzTgQaNPQU6jpXGfQ2xinUOZ88+XFJ4FV2mXIcuK/KgoUhp6U8Vlf8S0rKFEc9CUcVRLxA4zToGBWN7QdSzbZpthywlp+bOltw2XgtJSgqUQVZPhyMEDPGSM56Va6LjXqLY0Iv8lMmeXFqykpUUoJ8KSpKUhRA6kJFV/Cq+paRSR1o1BexWzG/Hh3dM+9BHQKMVkdEvXqfNur14uKHHoslUT4OI0lEdHgQsKBIKycLHJVjnpSlavjWGdqeReZwj26DIYbQpachsLabOOBk5Uo/rTw41oFKA4zUSzXiDfoglW+U3LjklO9tWcEdQfQj0PNSpByNqTil0qTVfMWVqOKjKYXn7pP5U1p26Qbtbfrdi4pm26WvfGWpGwJTgJ2joTlQUcnnxY8qt3ZKTwMUHYgIhOLA4A+dO/BY4J/Sm513jWmK5KmSWYkZv770hwIQnnHKicCmXb7CQuMlc1hKpKSpgKdSC6AMkp55ABB4p/S+LLuWmWyQPFioOwHNYHXfao5o7Vcaz/CKmuz7a6/b4zCCp2TKS4hIaGOACFgkngAEk4FH2S6xk3LQdrXqScwi/JkP26T3i0o7yS08ttQSOMk7c4A86vx+anZuN4GzQPFLKsYHmegpt91Edlbrq0tNoG5S1nASPUnyqcMDyfelIHr0pDDzUlpDrLiXWljKVoIKVD1Bp5OADTwBtp2M73S/am85pLrqGG1OOLS22gFSlqOAkDqSaAuE4UMilYFQ4D4cTgKCkkZBB4IqZUqV97sFu1Hb1wrpCZnRFEKLT6ApOR0PPQj1pmxaXtOl4yo9qt8e3tLO5SWGwncfUnzPuatqFBkhNGU8etHR0BTTNHWS42qPbZdriyoEcgtR3mgtDZHTaD06kVD1HoaDeNKXWyxWWICLgx3C1ttAAAJCRwMdEgAemBWlxSwOKnQ5foXsqk9mNzdRabk3JsMpYU7HmM5ktkDCAl4EbkjphQ4GcV0z8zSZA8H5j+9K59q3/zvxN+suKeSaiocFPBdchHSc8VmLZftPaIjuWqXeo7LjTzjm2QrYUhxanMc9cbsZrSIOVVKSkEDIBqoGOvGu9E3i3OwZtxjzYrgAU20hbnnkEbAcEHBBHIq20YzaY9pelWeRPmxln/1qQ+6rKR91IdOR18sZrQIA9KeQkq4AqtIiI/8THadLTjJWkK7t0AKTnyIGeadeDncOdyUd9tOzfnbnyzjyo/CngnmgXUJpGy+mNM36BdLjKm3SL3UyX8UuPEjEZPdIbwVrUeMNjoAfes72xQ5GntFamnMYkSbjPhKYbCc7SlTCACPPlB/WulGelI44qO7MDnBAUOtPaqZFTprTsuzTrlcZkxuVOuHd96mOwGWUbAQNqckk88qJJOB6VMvyJsmzzmYLyI051laGHnBuS2spISojzwecVJ+LNJU9vpYdrgNx7F9Y3PT1stEudYpkG2QzAiQnEvpaSdu0TFbeVPAZwnGEk5Cs81260R3bdaYUR6QqW8wwhpchYwp1SUgFR9zjP51MUkK5FNkYPNabb2ztYDto0Y/rSy2VCLeu8xIF1Zmy7UhxKDMaSlY2eIhKsKUlW1RAO3FZG+djN0v/Z5YI6LfCbn2m+Kuca0THAppERTy1fCKUMjAQpPAynKABwAa7eFbBRh3mnOVhMD2j6QvcnU+mdTaYjwX7tbg/EdROWW0KYeSBkkDJ2KSlW3z5rGTOwRL/wD2mXa5xvjrhOVIdsaQreYpU33m9pP8C1PeY58A9a7n3lH3uKW0/ji3aFbLrJvFuu8mFdnX0WNP1W/bWVuLhXIK3qDiE+Sx3aSVeHCVA4zV72pzWCxo0apQIumnHy9eMgqYS6lrLTbpGfs+8JJzwShOetdL7zIrmXb9a5N00lAdTGk3K0wrg1Iu1siLUlyXDwpLiQEkFW3cle3PO2nPth7GI0rqm4u9htyvNihpjs3W7uJDFmStYtcYrDTjjaEZV/ApzCRwXcgYFV0uXqq92eK7YLxfu6iX1qyi7CO4HZFsf2FTikOJH2jSjt73bngnPJrf/RxatbWl9QJscdLFjN9lKgqQ0W0uMq2KSQCASASUc/yY8q6xgYq7yyl24dbtXag05pC/2pFwemXSPqZNgts+5YddQh5TWxxzgbylLqiM9cJqh7S9aXeV2JdqtrmTFy5NjlItybm6hDSpKFlpSgUpATuAWU8AZGOOa7zqbS9t1baHrbc4/fxXVJWQlZQtK0kFK0qSQUqBAIIORislA7BNFQJjcgW12RtX3y2Zct15p57kd642tRStzk+JQJonOd2DL01nZ+ExtJWBtD6JCEQWEB1tQUleG0jIPmPetcFZrEaf0FYNLoiN2u3Nw2YrrjzDbalbWlODC9oJwAR5DgeVbZGNoNZ1cKoZoj86Qc0jO0VJC6UDmkCx0pxNNJOacqQbkJyg/Mf3oYFKdH2fryKPNbcPkTWJSMCnEqxXg1j6Q+v2emoHVfjbQf7pqex9JvX7Q5vCF4/mitH/AKaj1onJ7sYIJqSlQrw1G+ldr1ngyobn4oqP2qxZ+l7rVsgKatrmfWOR/ZVE4Ute2mwVqAHJNSpDqYbQR/EepryPD+lrqW2W74iZbbat5QyEhK04H/xVnp3039QArUqy2xSU+qnAT/8AVROF5dNMvGbXsYyxuzmjE4E4614iP077yhXi0zAWP9shY/Y1IZ+nrLTjvdIMq9dk8j+6DWno5/jH2R7UMhKutJKknp/WvH8f6fLB/wBXRzg/BcB+7dWDH09rKT9rpWej8ElCv2FP08/weyPVy1lPlRJdGa8xM/Tw0qv/AFbBd0fhLSv+oVNi/Ti0O+4Ertl7az59y0f/ALlHq5fh+celUucUCc15/H01OzlCAVG7IV6GIk/2XTzH00ezV7G6bPa/HDV+xNL18/weU/XdwSaIqIPSuNNfS+7MHOt9db/HDe/ZNSEfSt7L3j/6UNo/HFfH/RS8OX4NjrveetHuJrlrP0luzORjZq6EPxpcT/dNWMb6QHZ0+PDrC1D8T4T/AHp+PL8PY6FuIot1Ytrtm0LLUA1q6zKJ8vjmx+9WTOv9LvAFGpLQoH0nNf8A5Uspz60aFbOBwPSnC4DVPH1NZX8Fq8QHM/ySUH96kpucFz7k2Ov8LqT+9Rik8rFJ30w26hz7iwv8JzSifWgHd5FWzD4Wwj5VRFeKkQZoC9hPBpqkXO8UaTk1E74etLQ8M9aRpe0Yoik+RpAeFKDgNAKSeeacC6aKhSC5g9aIR9w/ZmhUV1/CD+VL7+tuMS//2Q==)\n",
        "\n",
        "Thus, this justifies the behavior ofThe Hebb's Law to converge only for Orthogonal and otrhonormal inputs.\n",
        "\n",
        "#### Conclusions : \n",
        "\n",
        "1. For orthogonal and orthonormal input vectors the optimum weights W = B(A.T) can be\n",
        "obtained using Hebb's learning law. \n",
        "\n",
        "2. For linearly independent or dependent input vectors an approximation\n",
        "to the optimum weights W = BA+ can be learnt using a form of Widrow's\n",
        "learning law. \n"
      ],
      "metadata": {
        "id": "I-s6NSME005b"
      }
    },
    {
      "cell_type": "markdown",
      "source": [
        "# **Problem 2** : Demonstrate the working principle of two layer associative network performing hetero\u0002association task (i.e each input output pair is related with different functional relations).\n",
        "\n",
        "Observation to be demonstrated are:\n",
        "1. Limitation of no. of patterns to input dimensionality.\n",
        "2. Overcome the limitation by modifying the task to a pattern classification task.\n",
        "3. Use computation and Widrow’s learning law to demonstrate the same.\n",
        "\n",
        "Hints:\n",
        "\n",
        "1. Generate data such that each input output data points have different functional\n",
        "relation.\n",
        "2. First do it using computation method , then take the performance as reference, to\n",
        "implement using Widrow learning.\n",
        "3. Modify the data and network element such that the network will overcome the\n",
        "limitation of limitation of no. of data points with the input dimensionality, and\n",
        "perform pattern classification task."
      ],
      "metadata": {
        "id": "Nuk9TMAtq-gf"
      }
    },
    {
      "cell_type": "markdown",
      "source": [
        "##Write down the Objectives, Hypothesis and Experimental description for the above problem\n",
        "\n"
      ],
      "metadata": {
        "id": "z90pHFuLrjjB"
      }
    },
    {
      "cell_type": "markdown",
      "source": [
        "## Programming : \n",
        "**Objective**: Demonstrate the working principle of two layer hetero-associative network.\n",
        "\n",
        "**Hypothesis**: should be able to learn weights for hetero associative task.\n",
        "\n",
        "**experiment datails**:\n",
        "1. Demonstrated Limitation of no. of patterns to input dimensionality.\n",
        "2. Overcame the limitation by modifying to pattern classification task.\n",
        "3. modified the network - activation function"
      ],
      "metadata": {
        "id": "pDBbGAHWrl3c"
      }
    },
    {
      "cell_type": "code",
      "source": [
        "import numpy as np\n",
        "#Random Data\n",
        "#Condition 1 : L <=M\n",
        "L = 3\n",
        "M = 4\n",
        "x_1 = np.array([[1,1,0,0],[1,0,0,0],[0,0,0,1]]).T\n",
        "y_1 = np.array([[1,0,0,0],[1,0,0,0],[0,0,0,1]]).T\n",
        "print(x_1)\n",
        "print(y_1)\n",
        "#Condition 2 : L > M\n",
        "L = 5\n",
        "M = 4\n",
        "x_2 = np.array([[1,1,0,0],[1,0,0,0],[0,0,0,1], [0,0,1,1],[0,0,1,0]]).T\n",
        "y_2 = np.array([[0,0,0,1],[0,0,0,1],[1,0,0,0], [1,0,0,0], [1,0,0,0]]).T\n",
        "print(x_2)\n",
        "print(y_2)\n",
        "\n",
        "\n",
        "input = [x_1, x_2]\n",
        "output = [y_1, y_2]\n",
        "input_tags = ['Condition :1: L<=M', 'Condition : 2 - L>M']\n",
        "\n",
        "for i in range(len(input)):\n",
        "  print(input_tags[i])\n",
        "  W_hebb, err_hebb = weights_by_hebbian(input[i],output[i],5,1)\n",
        "  W_comp, err_comp = weights_by_computation(input[i],output[i])\n",
        "  W_widrow, err_widrow = weights_by_widrow(input[i],output[i],1000,0.01)\n",
        "\n",
        "  print(\"By computation\")\n",
        "  print(W_comp)\n",
        "  print(\"Error: \", err_comp)\n",
        "  print()\n",
        "\n",
        "  print(\"Widrow Law\")\n",
        "  print(W_widrow)\n",
        "  print(\"Error: \",np.round(err_widrow[999],8))\n",
        "  import matplotlib.pyplot as plt\n",
        "  plt.plot(list(range(1000)), err_widrow)\n",
        "  plt.title(\"Widrow Law\")\n",
        "  plt.xlabel(\"No. of iterations\")\n",
        "  plt.ylabel(\"Error\")\n",
        "  plt.show()\n",
        "\n",
        "\n",
        "  print()\n",
        "  print()\n"
      ],
      "metadata": {
        "colab": {
          "base_uri": "https://localhost:8080/",
          "height": 1000
        },
        "id": "x57ZRJs7B6U8",
        "outputId": "bc4b7d9e-d627-47c3-f5e8-337cfc232f38"
      },
      "execution_count": null,
      "outputs": [
        {
          "output_type": "stream",
          "name": "stdout",
          "text": [
            "[[1 1 0]\n",
            " [1 0 0]\n",
            " [0 0 0]\n",
            " [0 0 1]]\n",
            "[[1 1 0]\n",
            " [0 0 0]\n",
            " [0 0 0]\n",
            " [0 0 1]]\n",
            "[[1 1 0 0 0]\n",
            " [1 0 0 0 0]\n",
            " [0 0 0 1 1]\n",
            " [0 0 1 1 0]]\n",
            "[[0 0 1 1 1]\n",
            " [0 0 0 0 0]\n",
            " [0 0 0 0 0]\n",
            " [1 1 0 0 0]]\n",
            "Condition :1: L<=M\n",
            "By computation\n",
            "[[ 1.00000000e+00 -2.22044605e-16  0.00000000e+00  0.00000000e+00]\n",
            " [ 0.00000000e+00  0.00000000e+00  0.00000000e+00  0.00000000e+00]\n",
            " [ 0.00000000e+00  0.00000000e+00  0.00000000e+00  0.00000000e+00]\n",
            " [ 0.00000000e+00  0.00000000e+00  0.00000000e+00  1.00000000e+00]]\n",
            "Error:  0.0\n",
            "\n",
            "Widrow Law\n",
            "[[0.99398142 0.00973826 0.         0.        ]\n",
            " [0.         0.         0.         0.        ]\n",
            " [0.         0.         0.         0.        ]\n",
            " [0.         0.         0.         0.99995683]]\n",
            "Error:  5.045e-05\n"
          ]
        },
        {
          "output_type": "display_data",
          "data": {
            "image/png": "[encoded data removed]",
            "text/plain": [
              "<Figure size 432x288 with 1 Axes>"
            ]
          },
          "metadata": {
            "needs_background": "light"
          }
        },
        {
          "output_type": "stream",
          "name": "stdout",
          "text": [
            "\n",
            "\n",
            "Condition : 2 - L>M\n",
            "By computation\n",
            "[[ 0.00000000e+00  0.00000000e+00  6.66666667e-01  6.66666667e-01]\n",
            " [ 0.00000000e+00  0.00000000e+00  0.00000000e+00  0.00000000e+00]\n",
            " [ 0.00000000e+00  0.00000000e+00  0.00000000e+00  0.00000000e+00]\n",
            " [ 1.00000000e+00 -2.22044605e-16  0.00000000e+00  0.00000000e+00]]\n",
            "Error:  0.06666667\n",
            "\n",
            "Widrow Law\n",
            "[[0.         0.         0.66666667 0.66666667]\n",
            " [0.         0.         0.         0.        ]\n",
            " [0.         0.         0.         0.        ]\n",
            " [0.99398142 0.00973826 0.         0.        ]]\n",
            "Error:  0.33338378\n"
          ]
        },
        {
          "output_type": "display_data",
          "data": {
            "image/png": "[encoded data removed]",
            "text/plain": [
              "<Figure size 432x288 with 1 Axes>"
            ]
          },
          "metadata": {
            "needs_background": "light"
          }
        },
        {
          "output_type": "stream",
          "name": "stdout",
          "text": [
            "\n",
            "\n"
          ]
        }
      ]
    },
    {
      "cell_type": "code",
      "source": [
        ""
      ],
      "metadata": {
        "id": "XxM66SbODnEB"
      },
      "execution_count": null,
      "outputs": []
    },
    {
      "cell_type": "code",
      "source": [
        "def weights_by_widrow_modified(A,B,num_epochs,learning_rate):\n",
        "\n",
        "  ## Here A is input and B is output\n",
        "  #weights = np.array([[0,0,0],[0,0,0],[0,0,0]])## Initialise weights here\n",
        "  n = A.shape[0]\n",
        "  weights = np.zeros([n, n])\n",
        "  err = []\n",
        "  for epoch in range(num_epochs):\n",
        "\n",
        "    ## Write the widrow learning training loop here\n",
        "    op = 1 / (1 + np.exp(-(weights@A)))\n",
        "    # print(op)\n",
        "    #change in weight\n",
        "    #d_wghts=(1/A.shape[1])*(learning_rate*((B-op)@A.T))\n",
        "    d_wghts=learning_rate*((B-op)@A.T)\n",
        "    #update weight\n",
        "    weights=weights+d_wghts\n",
        "    #error computaion\n",
        "    error=sum(sum(np.square(B-op)))\n",
        "    err.append(error)\n",
        "\n",
        "\n",
        "  return weights,err"
      ],
      "metadata": {
        "id": "TWWhEHPuktlG"
      },
      "execution_count": null,
      "outputs": []
    },
    {
      "cell_type": "code",
      "source": [
        "for i in range(len(input)):\n",
        "  print(input_tags[i])\n",
        "  W_hebb, err_hebb = weights_by_hebbian(input[i],output[i],5,1)\n",
        "  W_comp, err_comp = weights_by_computation(input[i],output[i])\n",
        "  W_widrow, err_widrow = weights_by_widrow_modified(input[i],output[i],1000,0.01)\n",
        "\n",
        "  print(\"By computation\")\n",
        "  print(W_comp)\n",
        "  print(\"Error: \", err_comp)\n",
        "  print()\n",
        "\n",
        "  print(\"Widrow Law\")\n",
        "  print(W_widrow)\n",
        "  print(\"Error: \",np.round(err_widrow[999],8))\n",
        "  import matplotlib.pyplot as plt\n",
        "  plt.plot(list(range(1000)), err_widrow)\n",
        "  plt.title(\"Widrow Law\")\n",
        "  plt.xlabel(\"No. of iterations\")\n",
        "  plt.ylabel(\"Error\")\n",
        "  plt.show()\n",
        "\n",
        "\n",
        "  print()\n",
        "  print()"
      ],
      "metadata": {
        "colab": {
          "base_uri": "https://localhost:8080/",
          "height": 1000
        },
        "id": "PGRmQ80bhZBr",
        "outputId": "9700e286-637c-4712-efd2-453c77c9092f"
      },
      "execution_count": null,
      "outputs": [
        {
          "output_type": "stream",
          "name": "stdout",
          "text": [
            "Condition :1: L<=M\n",
            "By computation\n",
            "[[ 1.00000000e+00 -2.22044605e-16  0.00000000e+00  0.00000000e+00]\n",
            " [ 0.00000000e+00  0.00000000e+00  0.00000000e+00  0.00000000e+00]\n",
            " [ 0.00000000e+00  0.00000000e+00  0.00000000e+00  0.00000000e+00]\n",
            " [ 0.00000000e+00  0.00000000e+00  0.00000000e+00  1.00000000e+00]]\n",
            "Error:  0.0\n",
            "\n",
            "Widrow Law\n",
            "[[ 2.61780483  1.00742814  0.         -2.17813569]\n",
            " [-2.61780483 -1.00742814  0.         -2.17813569]\n",
            " [-2.61780483 -1.00742814  0.         -2.17813569]\n",
            " [-2.61780483 -1.00742814  0.          2.17813569]]\n",
            "Error:  0.06270209\n"
          ]
        },
        {
          "output_type": "display_data",
          "data": {
            "image/png": "[encoded data removed]",
            "text/plain": [
              "<Figure size 432x288 with 1 Axes>"
            ]
          },
          "metadata": {
            "needs_background": "light"
          }
        },
        {
          "output_type": "stream",
          "name": "stdout",
          "text": [
            "\n",
            "\n",
            "Condition : 2 - L>M\n",
            "By computation\n",
            "[[ 0.00000000e+00  0.00000000e+00  6.66666667e-01  6.66666667e-01]\n",
            " [ 0.00000000e+00  0.00000000e+00  0.00000000e+00  0.00000000e+00]\n",
            " [ 0.00000000e+00  0.00000000e+00  0.00000000e+00  0.00000000e+00]\n",
            " [ 1.00000000e+00 -2.22044605e-16  0.00000000e+00  0.00000000e+00]]\n",
            "Error:  0.06666667\n",
            "\n",
            "Widrow Law\n",
            "[[-2.61780483 -1.00742814  2.42192287  2.42192287]\n",
            " [-2.61780483 -1.00742814 -2.42192287 -2.42192287]\n",
            " [-2.61780483 -1.00742814 -2.42192287 -2.42192287]\n",
            " [ 2.61780483  1.00742814 -2.42192287 -2.42192287]]\n",
            "Error:  0.07472102\n"
          ]
        },
        {
          "output_type": "display_data",
          "data": {
            "image/png": "[encoded data removed]",
            "text/plain": [
              "<Figure size 432x288 with 1 Axes>"
            ]
          },
          "metadata": {
            "needs_background": "light"
          }
        },
        {
          "output_type": "stream",
          "name": "stdout",
          "text": [
            "\n",
            "\n"
          ]
        }
      ]
    },
    {
      "cell_type": "code",
      "source": [
        ""
      ],
      "metadata": {
        "id": "nP05Cnx8ktir"
      },
      "execution_count": null,
      "outputs": []
    },
    {
      "cell_type": "code",
      "source": [
        "def weights_by_widrow_modified2(A,B,num_epochs,learning_rate):\n",
        "\n",
        "  ## Here A is input and B is output\n",
        "  #weights = np.array([[0,0,0],[0,0,0],[0,0,0]])## Initialise weights here\n",
        "  n = A.shape[0]\n",
        "  weights = np.zeros([n, n])\n",
        "  err = []\n",
        "  for epoch in range(num_epochs):\n",
        "\n",
        "    ## Write the widrow learning training loop here\n",
        "    op = 1*(weights@A >0)\n",
        "    # print(op)\n",
        "    #change in weight\n",
        "    #d_wghts=(1/A.shape[1])*(learning_rate*((B-op)@A.T))\n",
        "    d_wghts=learning_rate*((B-op)@A.T)\n",
        "    #update weight\n",
        "    weights=weights+d_wghts\n",
        "    #error computaion\n",
        "    error=sum(sum(np.square(B-op)))\n",
        "    err.append(error)\n",
        "\n",
        "\n",
        "  return weights,err"
      ],
      "metadata": {
        "id": "_utAZcu-hUWR"
      },
      "execution_count": null,
      "outputs": []
    },
    {
      "cell_type": "code",
      "source": [
        "for i in range(len(input)):\n",
        "  print(input_tags[i])\n",
        "  W_hebb, err_hebb = weights_by_hebbian(input[i],output[i],5,1)\n",
        "  W_comp, err_comp = weights_by_computation(input[i],output[i])\n",
        "  W_widrow, err_widrow = weights_by_widrow_modified2(input[i],output[i],1000,0.01)\n",
        "\n",
        "  print(\"By computation\")\n",
        "  print(W_comp)\n",
        "  print(\"Error: \", err_comp)\n",
        "  print()\n",
        "\n",
        "  print(\"Widrow Law\")\n",
        "  print(W_widrow)\n",
        "  print(\"Error: \",np.round(err_widrow[999],8))\n",
        "  import matplotlib.pyplot as plt\n",
        "  plt.plot(list(range(1000)), err_widrow)\n",
        "  plt.title(\"Widrow Law\")\n",
        "  plt.xlabel(\"No. of iterations\")\n",
        "  plt.ylabel(\"Error\")\n",
        "  plt.show()\n",
        "\n",
        "\n",
        "  print()\n",
        "  print()"
      ],
      "metadata": {
        "colab": {
          "base_uri": "https://localhost:8080/",
          "height": 1000
        },
        "id": "xjDCnWzkhUtD",
        "outputId": "9abadc5a-5358-41d0-bf84-45f48eac42fa"
      },
      "execution_count": null,
      "outputs": [
        {
          "output_type": "stream",
          "name": "stdout",
          "text": [
            "Condition :1: L<=M\n",
            "By computation\n",
            "[[ 1.00000000e+00 -2.22044605e-16  0.00000000e+00  0.00000000e+00]\n",
            " [ 0.00000000e+00  0.00000000e+00  0.00000000e+00  0.00000000e+00]\n",
            " [ 0.00000000e+00  0.00000000e+00  0.00000000e+00  0.00000000e+00]\n",
            " [ 0.00000000e+00  0.00000000e+00  0.00000000e+00  1.00000000e+00]]\n",
            "Error:  0.0\n",
            "\n",
            "Widrow Law\n",
            "[[0.02 0.01 0.   0.  ]\n",
            " [0.   0.   0.   0.  ]\n",
            " [0.   0.   0.   0.  ]\n",
            " [0.   0.   0.   0.01]]\n",
            "Error:  0\n"
          ]
        },
        {
          "output_type": "display_data",
          "data": {
            "image/png": "[encoded data removed]",
            "text/plain": [
              "<Figure size 432x288 with 1 Axes>"
            ]
          },
          "metadata": {
            "needs_background": "light"
          }
        },
        {
          "output_type": "stream",
          "name": "stdout",
          "text": [
            "\n",
            "\n",
            "Condition : 2 - L>M\n",
            "By computation\n",
            "[[ 0.00000000e+00  0.00000000e+00  6.66666667e-01  6.66666667e-01]\n",
            " [ 0.00000000e+00  0.00000000e+00  0.00000000e+00  0.00000000e+00]\n",
            " [ 0.00000000e+00  0.00000000e+00  0.00000000e+00  0.00000000e+00]\n",
            " [ 1.00000000e+00 -2.22044605e-16  0.00000000e+00  0.00000000e+00]]\n",
            "Error:  0.06666667\n",
            "\n",
            "Widrow Law\n",
            "[[0.   0.   0.02 0.02]\n",
            " [0.   0.   0.   0.  ]\n",
            " [0.   0.   0.   0.  ]\n",
            " [0.02 0.01 0.   0.  ]]\n",
            "Error:  0\n"
          ]
        },
        {
          "output_type": "display_data",
          "data": {
            "image/png": "[encoded data removed]",
            "text/plain": [
              "<Figure size 432x288 with 1 Axes>"
            ]
          },
          "metadata": {
            "needs_background": "light"
          }
        },
        {
          "output_type": "stream",
          "name": "stdout",
          "text": [
            "\n",
            "\n"
          ]
        }
      ]
    },
    {
      "cell_type": "code",
      "source": [
        ""
      ],
      "metadata": {
        "id": "PwQSPoUioVuP"
      },
      "execution_count": null,
      "outputs": []
    },
    {
      "cell_type": "code",
      "source": [
        ""
      ],
      "metadata": {
        "id": "mx3Z5DLYxz25"
      },
      "execution_count": null,
      "outputs": []
    },
    {
      "cell_type": "code",
      "source": [
        "import numpy as np\n",
        "#Random Data\n",
        "#Condition 1 : L <=M\n",
        "L = 3\n",
        "M = 4\n",
        "x_1 = np.random.random((L, M)).T\n",
        "y_1 = np.random.random((L, M)).T\n",
        "print(x_1)\n",
        "print('\\n')\n",
        "print(y_1)\n",
        "print('\\n\\n')\n",
        "#Condition 2 : L > M\n",
        "L = 6\n",
        "M = 3\n",
        "x_2 = (np.random.random((L, M))).T\n",
        "y_2 = np.random.random((L, M)).T\n",
        "print(x_2)\n",
        "print('\\n')\n",
        "print(y_2)\n",
        "\n",
        "\n",
        "\n",
        "input = [x_1, x_2]\n",
        "output = [y_1, y_2]\n",
        "input_tags = ['Condition :1: L<=M', 'Condition : 2 - L>M']\n",
        "\n",
        "for i in range(len(input)):\n",
        "  print(input_tags[i])\n",
        "  W_hebb, err_hebb = weights_by_hebbian(input[i],output[i],5,1)\n",
        "  W_comp, err_comp = weights_by_computation(input[i],output[i])\n",
        "  W_widrow, err_widrow = weights_by_widrow(input[i],output[i],5000,0.01)\n",
        "\n",
        "  print(\"By computation\")\n",
        "  print(W_comp)\n",
        "  print(\"Error: \", err_comp)\n",
        "  print()\n",
        "\n",
        "  print(\"Widrow Law\")\n",
        "  print(W_widrow)\n",
        "  print(\"Error: \",np.round(err_widrow[4999],8))\n",
        "  import matplotlib.pyplot as plt\n",
        "  plt.plot(list(range(5000)), err_widrow)\n",
        "  plt.title(\"Widrow Law\")\n",
        "  plt.xlabel(\"No. of iterations\")\n",
        "  plt.ylabel(\"Error\")\n",
        "  plt.show()\n",
        "\n",
        "\n",
        "  print()\n",
        "  print()\n"
      ],
      "metadata": {
        "colab": {
          "base_uri": "https://localhost:8080/",
          "height": 1000
        },
        "id": "zmuQ1nUUtfWp",
        "outputId": "07abd005-1532-4423-a208-3ad1f39ee79a"
      },
      "execution_count": null,
      "outputs": [
        {
          "output_type": "stream",
          "name": "stdout",
          "text": [
            "[[0.99557727 0.27009583 0.97310017]\n",
            " [0.36348033 0.50656547 0.21057651]\n",
            " [0.07119018 0.20572182 0.4120705 ]\n",
            " [0.00495371 0.00132782 0.62399239]]\n",
            "\n",
            "\n",
            "[[0.71705111 0.76461725 0.76899642]\n",
            " [0.86692057 0.57641348 0.12973348]\n",
            " [0.68305377 0.17847661 0.54716575]\n",
            " [0.96435819 0.79975797 0.47782374]]\n",
            "\n",
            "\n",
            "\n",
            "[[0.51425266 0.49481372 0.15138514 0.04349568 0.6373744  0.33935035]\n",
            " [0.78510232 0.52956746 0.06910247 0.6639596  0.85394119 0.32805659]\n",
            " [0.45145069 0.82288036 0.87647224 0.27929331 0.59530881 0.3355328 ]]\n",
            "\n",
            "\n",
            "[[0.7109794  0.1239054  0.05640864 0.74596314 0.82154387 0.80391397]\n",
            " [0.27158746 0.72057791 0.4794123  0.41525094 0.31252387 0.44769902]\n",
            " [0.41639794 0.17323848 0.1226133  0.64293787 0.75175341 0.07773907]]\n",
            "Condition :1: L<=M\n",
            "By computation\n",
            "[[ 0.26189322  1.14707946  0.54787803  0.07505815]\n",
            " [ 0.55172939  0.92200768 -0.18738093 -0.83990367]\n",
            " [ 0.68085273  0.04043041 -0.12514785 -0.11589263]\n",
            " [ 0.50490824  1.24653857  0.15874571 -0.54713602]]\n",
            "Error:  0.0\n",
            "\n",
            "Widrow Law\n",
            "[[ 0.26232012  1.14652516  0.54740845  0.07479421]\n",
            " [ 0.55171093  0.92203113 -0.18736052 -0.83989174]\n",
            " [ 0.68066208  0.04067778 -0.1249381  -0.11577458]\n",
            " [ 0.50512415  1.24625784  0.15850827 -0.54726917]]\n",
            "Error:  1.6e-07\n"
          ]
        },
        {
          "output_type": "display_data",
          "data": {
            "image/png": "[encoded data removed]",
            "text/plain": [
              "<Figure size 432x288 with 1 Axes>"
            ]
          },
          "metadata": {
            "needs_background": "light"
          }
        },
        {
          "output_type": "stream",
          "name": "stdout",
          "text": [
            "\n",
            "\n",
            "Condition : 2 - L>M\n",
            "By computation\n",
            "[[-0.01056147  1.08096367 -0.15295029]\n",
            " [-0.26516862  0.24179589  0.69579008]\n",
            " [-0.57233344  0.99412795  0.08084754]]\n",
            "Error:  0.09771942\n",
            "\n",
            "Widrow Law\n",
            "[[-0.00925682  1.0803641  -0.1532744 ]\n",
            " [-0.26364212  0.24109436  0.69541086]\n",
            " [-0.56941665  0.9927875   0.08012293]]\n",
            "Error:  0.58631833\n"
          ]
        },
        {
          "output_type": "display_data",
          "data": {
            "image/png": "[encoded data removed]",
            "text/plain": [
              "<Figure size 432x288 with 1 Axes>"
            ]
          },
          "metadata": {
            "needs_background": "light"
          }
        },
        {
          "output_type": "stream",
          "name": "stdout",
          "text": [
            "\n",
            "\n"
          ]
        }
      ]
    },
    {
      "cell_type": "code",
      "source": [
        "y_1 = 1*(y_1 > 0.5)\n",
        "print(y_1)\n",
        "print('\\n')\n",
        "#Condition 2 : L > M\n",
        "y_2 = 1*(y_2 > 0.5)\n",
        "print(y_2)\n",
        "print('\\n')"
      ],
      "metadata": {
        "colab": {
          "base_uri": "https://localhost:8080/"
        },
        "id": "k8-l4BzSw8l4",
        "outputId": "35f910a7-294c-4863-f2f6-c92403f0fb7f"
      },
      "execution_count": null,
      "outputs": [
        {
          "output_type": "stream",
          "name": "stdout",
          "text": [
            "[[1 1 1]\n",
            " [1 1 0]\n",
            " [1 0 1]\n",
            " [1 1 0]]\n",
            "\n",
            "\n",
            "[[1 0 0 1 1 1]\n",
            " [0 1 0 0 0 0]\n",
            " [0 0 0 1 1 0]]\n",
            "\n",
            "\n"
          ]
        }
      ]
    },
    {
      "cell_type": "code",
      "source": [
        "def weights_by_widrow_modified3(A,B,num_epochs,learning_rate):\n",
        "\n",
        "  ## Here A is input and B is output\n",
        "  #weights = np.array([[0,0,0],[0,0,0],[0,0,0]])## Initialise weights here\n",
        "  n = A.shape[0]\n",
        "  weights = np.zeros([n, n])\n",
        "  err = []\n",
        "  for epoch in range(num_epochs):\n",
        "\n",
        "    ## Write the widrow learning training loop here\n",
        "    op = 1*(weights@A >0.5)\n",
        "    # print(op)\n",
        "    #change in weight\n",
        "    #d_wghts=(1/A.shape[1])*(learning_rate*((B-op)@A.T))\n",
        "    d_wghts=learning_rate*((B-op)@A.T)\n",
        "    #update weight\n",
        "    weights=weights+d_wghts\n",
        "    #error computaion\n",
        "    error=sum(sum(np.square(B-op)))\n",
        "    err.append(error)\n",
        "\n",
        "\n",
        "  return weights,err"
      ],
      "metadata": {
        "id": "ihVnePzqwsNY"
      },
      "execution_count": null,
      "outputs": []
    },
    {
      "cell_type": "code",
      "source": [
        "\n",
        "input = [x_1, x_2]\n",
        "output = [y_1, y_2]\n",
        "input_tags = ['Condition :1: L<=M', 'Condition : 2 - L>M']\n",
        "\n",
        "for i in range(len(input)):\n",
        "  print(input_tags[i])\n",
        "  W_hebb, err_hebb = weights_by_hebbian(input[i],output[i],5,1)\n",
        "  W_comp, err_comp = weights_by_computation(input[i],output[i])\n",
        "  W_widrow, err_widrow = weights_by_widrow_modified3(input[i],output[i],5000,0.01)\n",
        "\n",
        "  print(\"By computation\")\n",
        "  print(W_comp)\n",
        "  print(\"Error: \", err_comp)\n",
        "  print()\n",
        "\n",
        "  print(\"Widrow Law\")\n",
        "  print(W_widrow)\n",
        "  print(\"Error: \",np.round(err_widrow[4999],8))\n",
        "  import matplotlib.pyplot as plt\n",
        "  plt.plot(list(range(5000)), err_widrow)\n",
        "  plt.title(\"Widrow Law\")\n",
        "  plt.xlabel(\"No. of iterations\")\n",
        "  plt.ylabel(\"Error\")\n",
        "  plt.show()\n",
        "\n",
        "\n",
        "  print()\n",
        "  print()\n"
      ],
      "metadata": {
        "colab": {
          "base_uri": "https://localhost:8080/",
          "height": 1000
        },
        "id": "lsoQholitfY5",
        "outputId": "48aa870c-62c6-4225-cf44-47638cd9c9f6"
      },
      "execution_count": null,
      "outputs": [
        {
          "output_type": "stream",
          "name": "stdout",
          "text": [
            "Condition :1: L<=M\n",
            "By computation\n",
            "[[ 0.41449434  1.48753363  0.65371654  0.02249793]\n",
            " [ 0.35895866  1.7821686   0.00880449 -1.16702328]\n",
            " [ 1.21769646 -0.52538427 -0.30557295  0.08271024]\n",
            " [ 0.35895866  1.7821686   0.00880449 -1.16702328]]\n",
            "Error:  0.0\n",
            "\n",
            "Widrow Law\n",
            "[[ 0.60492777  0.55933734  0.26738244  0.1082512 ]\n",
            " [ 0.3945403   0.71082174  0.17278226 -0.1714198 ]\n",
            " [ 0.45347012  0.13662019  0.10092355  0.12608644]\n",
            " [ 0.3945403   0.71082174  0.17278226 -0.1714198 ]]\n",
            "Error:  0\n"
          ]
        },
        {
          "output_type": "display_data",
          "data": {
            "image/png": "[encoded data removed]",
            "text/plain": [
              "<Figure size 432x288 with 1 Axes>"
            ]
          },
          "metadata": {
            "needs_background": "light"
          }
        },
        {
          "output_type": "stream",
          "name": "stdout",
          "text": [
            "\n",
            "\n",
            "Condition : 2 - L>M\n",
            "By computation\n",
            "[[-0.14612892  1.54173238 -0.32029121]\n",
            " [ 0.38337956 -0.2612277   0.3488255 ]\n",
            " [-1.36745229  1.50483131  0.05993812]]\n",
            "Error:  0.32601292\n",
            "\n",
            "Widrow Law\n",
            "[[ 1.07287345  1.341896   -0.9055299 ]\n",
            " [ 0.18710898  0.16932674  0.39480144]\n",
            " [-0.2614769   0.67888452  0.2247355 ]]\n",
            "Error:  0\n"
          ]
        },
        {
          "output_type": "display_data",
          "data": {
            "image/png": "[encoded data removed]",
            "text/plain": [
              "<Figure size 432x288 with 1 Axes>"
            ]
          },
          "metadata": {
            "needs_background": "light"
          }
        },
        {
          "output_type": "stream",
          "name": "stdout",
          "text": [
            "\n",
            "\n"
          ]
        }
      ]
    },
    {
      "cell_type": "code",
      "source": [
        ""
      ],
      "metadata": {
        "id": "BoDqla0NtgN-"
      },
      "execution_count": null,
      "outputs": []
    },
    {
      "cell_type": "code",
      "source": [
        ""
      ],
      "metadata": {
        "id": "Xm4AQKrytfbL"
      },
      "execution_count": null,
      "outputs": []
    },
    {
      "cell_type": "markdown",
      "source": [
        "## Inferences and Conclusion : State all the key observations and conclusion"
      ],
      "metadata": {
        "id": "wXwqOzaqroPN"
      }
    },
    {
      "cell_type": "markdown",
      "source": [
        "###1. For M>L (M=4, L=3), weights are learnt properly. Error = 0 using both weights by computation and widrow.\n",
        "###2. For M<L (M=4, L=5), weights are not properly learnt.\n",
        "###Error for weights by computation = 0.066\n",
        "###Error for widrow = 0.33\n",
        "###3. For classification problem, M>L (M=4, L=5):\n",
        "###a) widrow learned weights with error = 0.074 after changing activation to sigmoid. (1000 epochs).\n",
        "###b) widrow learned weights with error = 0 after changing activation to unit step.\n",
        "\n"
      ],
      "metadata": {
        "id": "ebBZC2eJrpQl"
      }
    }
  ]
}