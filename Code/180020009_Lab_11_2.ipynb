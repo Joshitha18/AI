{
  "cells": [
    {
      "cell_type": "markdown",
      "metadata": {
        "id": "NMxwqiLHIA_r"
      },
      "source": [
        "# LAB 11 : Generative Adversarial Networks\n",
        "\n",
        "Name : \n",
        "\n",
        "Roll Number :\n",
        "\n",
        "References : \n",
        "\n",
        "  1. https://towardsdatascience.com/gans-from-scratch-8f5da17b3fb4"
      ]
    },
    {
      "cell_type": "markdown",
      "metadata": {
        "id": "isywtCp4IelW"
      },
      "source": [
        "#**Problem 1** : Understanding and Training Vanilla GANs  \n",
        "\n",
        "1. Consider MNIST Digit Dataset\n",
        "2. Create a Generator and a Discriminator Network and train the network. Follow this article : https://medium.com/ai-society/gans-from-scratch-1-a-deep-introduction-with-code-in-pytorch-and-tensorflow-cb03cdcdba0f\n",
        "3. Explain briefly about your understanding of GANs"
      ]
    },
    {
      "cell_type": "markdown",
      "metadata": {
        "id": "43XuBsEYJ-AY"
      },
      "source": [
        "## Programming : \n",
        "  Please write a program to demonstrate the same"
      ]
    },
    {
      "cell_type": "code",
      "execution_count": null,
      "metadata": {
        "id": "SKKC_tHIH0Uc"
      },
      "outputs": [],
      "source": [
        "## Write your code here\n",
        "!pip install torchvision tensorboardx jupyter matplotlib numpy\n"
      ]
    },
    {
      "cell_type": "code",
      "execution_count": null,
      "metadata": {
        "id": "KTGaIOGoOoXj"
      },
      "outputs": [],
      "source": [
        "import torch\n",
        "from torch import nn, optim\n",
        "from torch.autograd.variable import Variable\n",
        "from torchvision import transforms, datasets\n"
      ]
    },
    {
      "cell_type": "markdown",
      "metadata": {
        "id": "QqK0HhpKO4PQ"
      },
      "source": [
        "LeCunn’s MNIST dataset, consisting of about 60,000 black and white images of handwritten digits, each with size 28x28 pixels²"
      ]
    },
    {
      "cell_type": "markdown",
      "metadata": {
        "id": "xvXjcJLmPBhl"
      },
      "source": [
        "Preprocessing : \n",
        "\n",
        "Specifically, the input values which range in between [0, 255] will be normalized between -1 and 1. This means the value 0 will be mapped to -1, the value 255 to 1, and similarly all values in between will get a value in the range [-1, 1].\n"
      ]
    },
    {
      "cell_type": "code",
      "execution_count": null,
      "metadata": {
        "colab": {
          "base_uri": "https://localhost:8080/",
          "height": 439,
          "referenced_widgets": [
            "1aaf4a98b31043999f67d8bb658a135a",
            "a4afa5b3f14646da971e453059fb8262",
            "45cc7af509fe49cf8b0da3488f6ef87f",
            "cb5805cdf8b8444c8542a7970e92f815",
            "fcb9078fa6494ed98627521a622e9fe8",
            "6eb47db81f084a42b3c76693ffa1c429",
            "a2fe140b00864a2d8d530221be23a2c6",
            "e63bee0089f8451eb8e15216056c3f9b",
            "f0f870c9741546e7b01f6ef3710f22ea",
            "3d696cf57a534c85a9e8236c81e208ba",
            "4e8433f330164060a0e5721bd8eb62a5",
            "c9534f42c301449c96e7b30f86636467",
            "a022e4d19d63486f9bc7dc9d70898b38",
            "3682c9d135c94721bbf475d942be8170",
            "ba82a1d9a6374d54ba89b3fcb4a86d74",
            "873d88feb3414872a49fb3dc61ebaa7d",
            "af9c50f714414624b1c1af2c920b62a4",
            "191a9e7ee63146f6b9c0215c088ee69e",
            "6ce2909b14a645dda277d86f8025d1af",
            "3a1c800e3ebb4eeaa4f79168f9d5eb67",
            "0febf7f00dd749019c10bc082bfaf8d0",
            "9dddcc83e5984ee6bd7575721132860d",
            "70e6ca0e1dbb48538661197eef37e77c",
            "ad6295809067480e8966173932f49b78",
            "88c36542123c468ab2fb6746831d2432",
            "92d7255b94b54ae6b24ec966ae460682",
            "9f0151e766db439cbbdf3f09822868ea",
            "e205813da2df4483872884659ff82907",
            "1739b51da6bb42ca8ded90407170a5ff",
            "b5d5286be33142da9e27511f8b28b2eb",
            "33d70f820d9e4e2b8563d254fd6c924b",
            "040957bbc329413ca346ce62918247f3",
            "05bb528d898441a9bc92ef7c88dfce22",
            "2021e94d57a94094b4a3f5184a86f95b",
            "b905e05f3a114e22867f56a417a00bd2",
            "cdc4b77967314cb49947c29f42755a60",
            "44a40efc68a54b18ae39d6f3cb6e5c00",
            "6df81b897e8542f0a15b43bd975d78fb",
            "102fa3c4f59f4f10af0a22c09e9ecb2b",
            "a41dfc46dfb94aee95ce04a66c998427",
            "1d91a2b1fb214edba7ea1de58b4d3b7c",
            "a04b1c838e584cdd9e1aec3de190162c",
            "42f6c13ac1be41b9bcfbde1f2b5daa01",
            "40308c0673e241b8b3e65a18310561d9"
          ]
        },
        "id": "u4bXJmMzOyiD",
        "outputId": "57250d2b-7038-4761-b058-9418811fd033"
      },
      "outputs": [
        {
          "name": "stdout",
          "output_type": "stream",
          "text": [
            "Downloading http://yann.lecun.com/exdb/mnist/train-images-idx3-ubyte.gz\n",
            "Downloading http://yann.lecun.com/exdb/mnist/train-images-idx3-ubyte.gz to ./dataset/MNIST/raw/train-images-idx3-ubyte.gz\n"
          ]
        },
        {
          "data": {
            "application/vnd.jupyter.widget-view+json": {
              "model_id": "1aaf4a98b31043999f67d8bb658a135a",
              "version_major": 2,
              "version_minor": 0
            },
            "text/plain": [
              "  0%|          | 0/9912422 [00:00<?, ?it/s]"
            ]
          },
          "metadata": {},
          "output_type": "display_data"
        },
        {
          "name": "stdout",
          "output_type": "stream",
          "text": [
            "Extracting ./dataset/MNIST/raw/train-images-idx3-ubyte.gz to ./dataset/MNIST/raw\n",
            "\n",
            "Downloading http://yann.lecun.com/exdb/mnist/train-labels-idx1-ubyte.gz\n",
            "Downloading http://yann.lecun.com/exdb/mnist/train-labels-idx1-ubyte.gz to ./dataset/MNIST/raw/train-labels-idx1-ubyte.gz\n"
          ]
        },
        {
          "data": {
            "application/vnd.jupyter.widget-view+json": {
              "model_id": "c9534f42c301449c96e7b30f86636467",
              "version_major": 2,
              "version_minor": 0
            },
            "text/plain": [
              "  0%|          | 0/28881 [00:00<?, ?it/s]"
            ]
          },
          "metadata": {},
          "output_type": "display_data"
        },
        {
          "name": "stdout",
          "output_type": "stream",
          "text": [
            "Extracting ./dataset/MNIST/raw/train-labels-idx1-ubyte.gz to ./dataset/MNIST/raw\n",
            "\n",
            "Downloading http://yann.lecun.com/exdb/mnist/t10k-images-idx3-ubyte.gz\n",
            "Downloading http://yann.lecun.com/exdb/mnist/t10k-images-idx3-ubyte.gz to ./dataset/MNIST/raw/t10k-images-idx3-ubyte.gz\n"
          ]
        },
        {
          "data": {
            "application/vnd.jupyter.widget-view+json": {
              "model_id": "70e6ca0e1dbb48538661197eef37e77c",
              "version_major": 2,
              "version_minor": 0
            },
            "text/plain": [
              "  0%|          | 0/1648877 [00:00<?, ?it/s]"
            ]
          },
          "metadata": {},
          "output_type": "display_data"
        },
        {
          "name": "stdout",
          "output_type": "stream",
          "text": [
            "Extracting ./dataset/MNIST/raw/t10k-images-idx3-ubyte.gz to ./dataset/MNIST/raw\n",
            "\n",
            "Downloading http://yann.lecun.com/exdb/mnist/t10k-labels-idx1-ubyte.gz\n",
            "Downloading http://yann.lecun.com/exdb/mnist/t10k-labels-idx1-ubyte.gz to ./dataset/MNIST/raw/t10k-labels-idx1-ubyte.gz\n"
          ]
        },
        {
          "data": {
            "application/vnd.jupyter.widget-view+json": {
              "model_id": "2021e94d57a94094b4a3f5184a86f95b",
              "version_major": 2,
              "version_minor": 0
            },
            "text/plain": [
              "  0%|          | 0/4542 [00:00<?, ?it/s]"
            ]
          },
          "metadata": {},
          "output_type": "display_data"
        },
        {
          "name": "stdout",
          "output_type": "stream",
          "text": [
            "Extracting ./dataset/MNIST/raw/t10k-labels-idx1-ubyte.gz to ./dataset/MNIST/raw\n",
            "\n"
          ]
        }
      ],
      "source": [
        "\n",
        "\n",
        "def mnist_data():\n",
        "    compose = transforms.Compose(\n",
        "        [\n",
        "            transforms.Resize(64),\n",
        "            transforms.ToTensor(),\n",
        "            transforms.Normalize((.5,), (.5,))\n",
        "        ])\n",
        "    out_dir = './dataset'\n",
        "    return datasets.MNIST(root=out_dir, train=True, transform=compose, download=True)\n",
        "\n",
        "\n",
        "\n",
        "data = mnist_data()\n",
        "batch_size = 100\n",
        "data_loader = torch.utils.data.DataLoader(data, batch_size=batch_size, shuffle=True)\n",
        "num_batches = len(data_loader)\n",
        "\n"
      ]
    },
    {
      "cell_type": "markdown",
      "metadata": {
        "id": "Wz7EAp9IPNwC"
      },
      "source": [
        "### Discriminator\n",
        "\n"
      ]
    },
    {
      "cell_type": "code",
      "execution_count": null,
      "metadata": {
        "id": "GyEDB5s8O7SK"
      },
      "outputs": [],
      "source": [
        "class DiscriminativeNet(torch.nn.Module):\n",
        "    \n",
        "    def __init__(self):\n",
        "        super(DiscriminativeNet, self).__init__()\n",
        "        \n",
        "        self.conv1 = nn.Sequential(\n",
        "            nn.Conv2d(\n",
        "                in_channels=1, out_channels=128, kernel_size=4, \n",
        "                stride=2, padding=1, bias=False\n",
        "            ),\n",
        "            nn.LeakyReLU(0.2, inplace=True)\n",
        "        )\n",
        "        self.conv2 = nn.Sequential(\n",
        "            nn.Conv2d(\n",
        "                in_channels=128, out_channels=256, kernel_size=4,\n",
        "                stride=2, padding=1, bias=False\n",
        "            ),\n",
        "            nn.BatchNorm2d(256),\n",
        "            nn.LeakyReLU(0.2, inplace=True)\n",
        "        )\n",
        "        self.conv3 = nn.Sequential(\n",
        "            nn.Conv2d(\n",
        "                in_channels=256, out_channels=512, kernel_size=4,\n",
        "                stride=2, padding=1, bias=False\n",
        "            ),\n",
        "            nn.BatchNorm2d(512),\n",
        "            nn.LeakyReLU(0.2, inplace=True)\n",
        "        )\n",
        "        self.conv4 = nn.Sequential(\n",
        "            nn.Conv2d(\n",
        "                in_channels=512, out_channels=1024, kernel_size=4,\n",
        "                stride=2, padding=1, bias=False\n",
        "            ),\n",
        "            nn.BatchNorm2d(1024),\n",
        "            nn.LeakyReLU(0.2, inplace=True)\n",
        "        )\n",
        "        self.out = nn.Sequential(\n",
        "            nn.Linear(1024*4*4, 1),\n",
        "            nn.Sigmoid(),\n",
        "        )\n",
        "\n",
        "    def forward(self, x):\n",
        "        # Convolutional layers\n",
        "        x = self.conv1(x)\n",
        "        x = self.conv2(x)\n",
        "        x = self.conv3(x)\n",
        "        x = self.conv4(x)\n",
        "        # Flatten and apply sigmoid\n",
        "        x = x.view(-1, 1024*4*4)\n",
        "        x = self.out(x)\n",
        "        return x"
      ]
    },
    {
      "cell_type": "markdown",
      "metadata": {
        "id": "HWuhLJf5Skrk"
      },
      "source": [
        "###  Generative Network :\n",
        "\n"
      ]
    },
    {
      "cell_type": "code",
      "execution_count": null,
      "metadata": {
        "id": "kc1tzprBSfbL"
      },
      "outputs": [],
      "source": [
        "class GenerativeNet(torch.nn.Module):\n",
        "    \n",
        "    def __init__(self):\n",
        "        super(GenerativeNet, self).__init__()\n",
        "        \n",
        "        self.linear = torch.nn.Linear(100, 1024*4*4)\n",
        "        \n",
        "        self.conv1 = nn.Sequential(\n",
        "            nn.ConvTranspose2d(\n",
        "                in_channels=1024, out_channels=512, kernel_size=4,\n",
        "                stride=2, padding=1, bias=False\n",
        "            ),\n",
        "            nn.BatchNorm2d(512),\n",
        "            nn.ReLU(inplace=True)\n",
        "        )\n",
        "        self.conv2 = nn.Sequential(\n",
        "            nn.ConvTranspose2d(\n",
        "                in_channels=512, out_channels=256, kernel_size=4,\n",
        "                stride=2, padding=1, bias=False\n",
        "            ),\n",
        "            nn.BatchNorm2d(256),\n",
        "            nn.ReLU(inplace=True)\n",
        "        )\n",
        "        self.conv3 = nn.Sequential(\n",
        "            nn.ConvTranspose2d(\n",
        "                in_channels=256, out_channels=128, kernel_size=4,\n",
        "                stride=2, padding=1, bias=False\n",
        "            ),\n",
        "            nn.BatchNorm2d(128),\n",
        "            nn.ReLU(inplace=True)\n",
        "        )\n",
        "        self.conv4 = nn.Sequential(\n",
        "            nn.ConvTranspose2d(\n",
        "                in_channels=128, out_channels=1, kernel_size=4,\n",
        "                stride=2, padding=1, bias=False\n",
        "            )\n",
        "        )\n",
        "        self.out = torch.nn.Tanh()\n",
        "\n",
        "    def forward(self, x):\n",
        "        # Project and reshape\n",
        "        x = self.linear(x)\n",
        "        x = x.view(x.shape[0], 1024, 4, 4)\n",
        "        # Convolutional layers\n",
        "        x = self.conv1(x)\n",
        "        x = self.conv2(x)\n",
        "        x = self.conv3(x)\n",
        "        x = self.conv4(x)\n",
        "        # Apply Tanh\n",
        "        return self.out(x)\n",
        "    \n",
        "# Noise\n",
        "def noise(size):\n",
        "    n = Variable(torch.randn(size, 100))\n",
        "    if torch.cuda.is_available(): return n.cuda()\n",
        "    return n"
      ]
    },
    {
      "cell_type": "code",
      "execution_count": null,
      "metadata": {
        "id": "PEdGxMkDoQSC"
      },
      "outputs": [],
      "source": [
        ""
      ]
    },
    {
      "cell_type": "code",
      "execution_count": null,
      "metadata": {
        "id": "yIaqJmTbS6IL"
      },
      "outputs": [],
      "source": [
        "def init_weights(m):\n",
        "    classname = m.__class__.__name__\n",
        "    if classname.find('Conv') != -1 or classname.find('BatchNorm') != -1:\n",
        "        m.weight.data.normal_(0.00, 0.02)\n",
        "\n",
        "# Create Network instances and init weights\n",
        "generator = GenerativeNet()\n",
        "generator.apply(init_weights)\n",
        "\n",
        "discriminator = DiscriminativeNet()\n",
        "discriminator.apply(init_weights)\n",
        "\n",
        "# Enable cuda if available\n",
        "if torch.cuda.is_available():\n",
        "    generator.cuda()\n",
        "    discriminator.cuda()\n"
      ]
    },
    {
      "cell_type": "markdown",
      "metadata": {
        "id": "Rt1t1fijTHN2"
      },
      "source": [
        "we’ll use Adam as the optimization algorithm for both neural networks, with a learning rate of 0.0002"
      ]
    },
    {
      "cell_type": "code",
      "execution_count": null,
      "metadata": {
        "id": "SZl02RpzTHxv"
      },
      "outputs": [],
      "source": [
        "d_optimizer = optim.Adam(discriminator.parameters(), lr=0.0002,  betas=(0.5, 0.999))\n",
        "g_optimizer = optim.Adam(generator.parameters(), lr=0.0002, betas=(0.5, 0.999))\n"
      ]
    },
    {
      "cell_type": "markdown",
      "metadata": {
        "id": "8SuxA7TdXmwk"
      },
      "source": [
        "Loss function : Binary Cross Entopy Loss (BCE Loss) as it resembles the log-loss for both the Generator and Discriminator"
      ]
    },
    {
      "cell_type": "code",
      "execution_count": null,
      "metadata": {
        "colab": {
          "background_save": true
        },
        "id": "MR-pYBifXqxx"
      },
      "outputs": [],
      "source": [
        "\n",
        "# Loss function\n",
        "loss = nn.BCELoss()\n",
        "\n",
        "# Number of epochs\n",
        "num_epochs = 50\n",
        "\n"
      ]
    },
    {
      "cell_type": "markdown",
      "metadata": {
        "id": "VUrG53uNXsfC"
      },
      "source": [
        "![image.png](data:image/png;base64,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)\n",
        "Binary Cross Entropy Log. Mean is calculated by computing sum(L) / N.\n",
        "In this formula the values y are named targets, v are the inputs, and w are the weights. Since we don’t need the weight at all, it’ll be set to wᵢ=1 for all i.\n"
      ]
    },
    {
      "cell_type": "markdown",
      "metadata": {
        "id": "oENzb586X3Gx"
      },
      "source": [
        "Discriminator Loss:\n",
        "![image.png](data:image/png;base64,iVBORw0KGgoAAAANSUhEUgAABXgAAADJCAIAAAAWx80XAAAgAElEQVR4nOzdd1wU1/ow8DPbl95BqiiiKGIUFVAjirFgi1FjYsGIGmPBdu0mxl5iRGyxxRavFRW7onixISqIikAUC9JBelm2sLtz3j/Oe+fuj8TNArtL8fn+4WdmHebM7s7OnHnOOc+hMMYIAAAAAAAAAAAAQBtYDX0AAAAAAAAAAAAAaD4g0AAAAAAAAAAAAACtgUADAAAAAAAAAAAAtAYCDQAAAAAAAAAAANAaCDQAAAAAAAAAAABAayDQAAAAAAAAAAAAAK2BQAMAAAAAAAAAAAC0htPQB9BsVVdXJyYmxsXFiUQiV1fX7t27Ozo6stlsiqLIBhhjsVj87t279+/fp6enV1ZWWllZubm5dezY0crKisViqW5J03RBQUFqampGRkZubq6hoaGzs3Pr1q3d3NwEAgGzJQAAAAAAAAAA0LAg0KAT1dXVv/76686dO21sbKqrq9PS0uzt7ZctWzZ58mQul0s2iIqK2rVrV2JiolAotLS0lMvlmZmZlZWV7u7uixYtGjt2LJfLpSgKY/zhw4fDhw8fO3asuLjYysrKxMSksLAwOzubz+cPGjRo3bp1rVu3hlgDAAAAAAAAAIDGgMIYN/QxNDcY4/Dw8KlTpy5fvvz7778Xi8UjR45MSEgQCoV//PHH6NGjKyoqNm/evG/fPh8fn5kzZ3bu3NnQ0JCm6ZSUlKCgoPT0dIFAsH///vHjx1MUlZSUNHv27Ldv306cODEoKMjGxobP51dVVe3bt2/t2rVKpbJXr14RERFWVlYQawAAAAAAAAAA0OAg0KB9xcXFvXv3dnNzCw8P5/P5CKElS5Zs3rwZIdS2bdvLly+vWLHi9u3b69atmzBhglAoJH+FMaYoaseOHXPnzkUIubm5PXz4MCUlZcqUKc7Oztu3b+/QoQOL9b+cGmKx2NfXNykpCSG0evXqn376SfV/AQAAAAAAAACABgGPptoXGRn59u3bkJAQEmVACDF9DdLS0qZPn37z5s09e/ZMnjyZiTKQbTDGnTp14vF4CKH379+fOXMmODjYxcXl2LFjnp6eNeIIQqHQ09OTLJ86daq6ulof7w0AAAAAAAAAAFALAg1aplAoDh482Lp1a19fX/KKUqlMT08ny3K5PCYmZsuWLSNGjGCz2TX+VnXsg1KpXLJkibm5+eHDh+3t7f+2LJqmyUJZWZlUKtXyOwEAAAAAAAAAAGoPAg1alpWVlZCQ0LdvXwMDAzIsRS6X//nnn8wGY8eOHT9+/MeGORQWFsrlcrKMMQ4LC3NyciKjKmpsSdN0VlYWWTYzMzMwMND+mwEAAAAAAAAAAGoJZp3Qsjdv3sjl8r59+zLzU2ZlZWVmZpL/tbe3X7VqFTOk4q9evXrFZM0IDg7u2bPnx1I8VlZWMoEGd3f3v/aPAAAAAAAAAAAA9A8CDVrWvXv3S5cu9ejRg3nlyZMnFRUVZPmHH35wcXH52N/SNP3gwQOybG5uPnv2bDab/bfdGRBC6enpRUVFZNnb2xsyQQIAAAAAAAAAaAwg0KBlZmZmX3zxheor0dHRpJOCgYHBiBEj1ExCWVxcTGaRQAj5+PiQkMTHtr9//75EIkEIsdnsLl26wNyWAAAAAAAAAAAaA2gG1y2JRPLo0SOy3LJly1atWqnZ+OXLl3l5eWS5V69eHM5Hw0ByuTwiIoIsm5ubf/bZZ1o6XgAAAAAAAAAAoF4g0KBbubm5zJQTXbp0EQgEajaOjo4mE0mwWKzu3bur6aSQnp7+9OlTsuzt7W1lZcVkdgAAAAAAAAAAABoQBBp0Kz4+XiQSkWV/f381KRsVCsW9e/fIspWVlaenp5rdXrp0icn78NVXX/F4PBg6AQAAAAAAAACgMYBAg25FR0eTBYFA0LNnTzVbFhcXp6SkkGUvLy9LS8uPxQ4kEsm5c+fIsrW1dWBgIPNfMpksKytLoVBo4dABAAAAAAAAAIDa03egQSKRlJaWkgECzZ5YLH7y5AlZdnV1dXBwUNPvIDk5ubS0lCx//vnnPB7vY6MhUlJSXrx4QZYHDx7s6OjI7PbixYv+/v7MYA0AAAAAAAAAAEDP9BdowBjn5+fPnDlz4MCBr1690lu5DSgnJ+ft27dkuWvXriYmJh/bEmN8//59uVyOEKIoyt/f/2OzWiKEjh49WlVVhRASCAQzZsxgNlMqlcePH5fL5aamplp+JwAAAAAAAAAAgGb0NL2lUql88eLFggUL7ty5gzFOT09v3769fopuQM+ePROLxWS5X79+arZUKpUPHjwgy9bW1u7u7h+LMlRUVFy7do0se3l5eXp6ki0xxmlpaTExMSNHjjQ3N9faewAAAAAAAAAAAGpDt4EGjLFMJktPTz969Oj+/fuLi4vJ659C5kKM8d27d5VKJULIwMDA29tbzcbFxcVJSUlk2dPT08bG5mNbFhYWMlNg+vv7C4VCsiyXy7ds2ULT9KxZs9TMiwkAAAAAAAAAAOiUNp9IlUolTdM0TSsUiurq6vz8/ISEhCtXrty9ezc/P191y08h0CCTyWJiYsiyg4ODq6urmo1TUlKKiorIsr+/P4v10SEtXC6Xy+WSZQ8PD6Y7w9WrV48dOzZv3ryOHTtq5w0AAAAAAAAAAAC1p81Aw4kTJ27fvi2TyfLz87OzswsLC8vKyhBCFhYWhoaGJK3ApyMzM/P9+/dk2d/fXyAQqEm7EBsbS/o+cLnc3r17qwnE2Nvb9+vXLyIiAiFUWVmpUCjkcvmtW7fmzJnj7++/YMECNUEKAAAAAAAAAABA17QZaLh3796RI0fYbDabzeZyuS1atOjRo4e/v/8XX3yxcOFCZqLHT4RIJJJIJAghgUAwatQoFoulJnzAjIbo0KFD586d1eyWw+Fs3rw5Nzc3Pj5+69atKSkp6enpT58+7d+//9atWyE7AwAAAAAAAACAhqXNQMPw4cPbtm1rZmZmamrq7Ozs4uJiaWnJ5XKVSiWbzdZiQY0fxrhdu3YLFy5MTEwMDAzs27ev+tEi06dPLywsZLPZc+fONTY2Vr/z1q1bnz9//vjx43FxcW/fvnVxcZk6derQoUMFAgH6NIalAAAAAAAAAABotCiMsVZ2pGZcgFKpDAwMjIqKYl65fv36oEGDtFJuY0bSVfB4PDUfDvrvR6dQKCiK0iQiw+xNoVAolUoulwvDJQAAAAAAAAAANBJa69EADel/xWKxeDwe+qcPh/yv5lNFMHvjcDgwwQQAAAAAAAAAgEYFWsIBAAAAAAAAAACgNRBoAAAAAAAAAAAAgNZAoAEAAAAAAAAAAABaAyP8gb7RNF1UVKRhFlKMsYmJiVAohCQgQHcwxmKxWCwWC4VCQ0NDONm0C2NcXV1dUVHB5XKNjY0/tUmIwKeMnPyVlZVsNtvU1BQyN4PGCWNcWVkpk8mMjIwEAgHcBDWHMa6qqpJIJIaGhlBZ1QpSJauqqjIwMNBzlUyhUJSXl1MUZWJiwmaz9VY0OYvEYrGhoaGBgYF+ysUYV1RUSKVSDbfncDjm5ua1vYtBoAHoW1VV1dChQ4uKijTZWKlUbtiwYfz48bo+KvDJwhi/efNm4cKFKSkpPXv2PHDgAMnhCrTo5MmT69evNzY2Xr169eDBgyHWAD4RFRUV69evv3DhgomJyYULFxwdHRv6iACoCWP86NGjJUuW5OTkjB07ds2aNfC0rCGMcVJS0sKFC9+9ezdw4MCdO3fC3a3+MMYLFiyIiopq06ZNaGho+/bt9XZCPnv2bOLEiRjj6dOnT58+nc/n66domqbnzJlz9+5dDw+PrVu3tmnTRj/lbt68+eTJk5psiTH29vY+efIkBBpAY4cxzszM/PDhg4bbV1RU6PR4wKeMpumEhITg4OCUlBSBQPDZZ59BLUEXOnXqhDF+9uzZhAkTwsLCJkyYwOVyoS4LmjGMcUFBwZw5c86cOYMQGjVqlImJSUMfFAA1KZXKa9eu/fDDD3l5eebm5p07d4Yrs4Zomr53796UKVPS0tIMDQ29vb2hy5JWUBTl5+d38uTJtLS09PT0w4cP+/j46OezdXFxsbW1vXv37qJFi/Lz83/88UcjIyM9/CJYLJafn9/Zs2eZt9y1a1c9lFtUVPT+/XsNN27RokUdioCfBGhIPB5PoBaXy4UHP6AjNE0/fvz422+/TUlJ4XA4S5YsCQkJgfNN6yiK6ty585EjRxwcHCoqKubMmXPkyBGFQtHQxwWArmCMP3z4MGXKlPDwcIzxwIEDf/vtN2NjYw3HDAKgHzRNX7x4cfLkyXl5eUZGRtu3bx8xYgQEGjSBMY6Ojp4wYUJaWhqfz9+wYcN3331HURT8xuuPoqgJEyZs2LBBIBCkpqaOGzfu0aNHNE3rulyMsY2NzZEjR7p3765QKLZs2bJy5UqxWKyH75SiqODg4FWrVvH5/JSUlLFjx8bHx+uhXC6Xq/4pTCAQcDj16pQAPRpAg6Eoav369R06dFCzDcbY09MTYwx3PqBdGOP4+HhSS2Cz2bNmzVq2bBmXy23o42qeMMa9evX6/fffJ06cWFRUNH/+fA6HExQUxOFw4KcNmp8PHz5Mmzbt6tWrCKEePXocOHDAxsYGbmSgUSFRhu+//76kpITH461du3bs2LEQatcETdPR0dETJ07My8vjcDiLFy+ePn06eR6D37hWsNnsH374oaSkZN26denp6UFBQSdPnuzWrZtOP16y85YtWx45cmTUqFEvX77ctm0bm81etWqVHvImcDic2bNnl5aW/vLLL+/evSNvWdc9jKZPnz5kyBD120RGRu7YsaPuZWDdUygU/fv3Vy30+vXreigXNE7l5eW2trYIITabHRMT09CHAz5FNE3HxcW1atWKXJEmTJhQUVFB0zRN0w19aM0WTdNKpfLYsWNGRkYIISMjo6NHj8rl8oY+LgC0iabpgoKCYcOGkWuLp6dnamoqeb2hDw2A/1EqlRcvXrSysiKVsRUrVshksoY+qKaBpunbt287ODgghCiKCgkJkUgkDX1QzZNEIpk3bx4ZNOHm5vbkyRM9XEhJEXFxcc7OzuTXsXz5colEop9ruFgsnjFjBnnL7dq1S0xMbPB7x/79+8ntzM/Pr7q6urZ/DkMnAACfnLdv306ePDktLQ0h1KtXr9DQUDIMD9oidIeiKBaLNXbs2GXLlnE4HJFING/evNu3b+uhPyQAelNVVbVgwYLLly8jhKytrffu3dumTRsMfRlAY4IxfvDgwfTp00la7m+++Wbp0qWQBVkTGOOkpKQpU6bk5OQghAIDA9euXSsQCBr6uJongUCwZs0aErd9+/bt1KlTMzIysI4HFJDxL127dt2+fbuJiYlSqfz111/379+vVCp1XTRCSCgUbty4ceDAgQihV69eTZ06NTs7Ww/l6g4EGgAAn5bc3NzJkycnJycjhNzd3Q8cOGBtbd3QB/WpYLFY//rXv4KDg1ksVklJydSpU589e9akb6IAMKRS6cqVK48fP44QMjQ03LlzZ48ePSCCCRoV8qgcFBSUl5eHEPr888+3bt0qFArhOvyPMMZpaWkTJ04krRSdOnXavXu3qakpfHS6Y2xs/Ntvv3Xv3h0h9Pz582nTphUVFekh1kBR1PDhw9esWcPj8eRy+Y8//hgREaGfdhFTU9M9e/Z07twZIRQfHz9jxoySkpKme45BoAEA8AmpqqqaP39+TEwMQsjIyCgsLIxMIwRPAnojEAjWr19P6g2ZmZkzZszIz89vujdRAAiapg8dOrRz506apimKmjNnzsiRI+HCAhqbwsLCGTNmZGRkIITs7e137dpla2sLN0FNkGTGiYmJCCFzc/PffvvN2dkZPjqdwhjb29vv3LnTxsYGIRQVFfXzzz+TYT66LprFYs2YMSMoKAghJBKJ5s+f/+LFCz2UizF2dnbesWOHpaUlQujq1atr1qyprq7Wdbk6AoEGAMCnQqFQhIaGnjt3DiHEYrGWLl06cOBAmI9KzzDG1tbWe/bssbe3RwjFx8cvXry4qqoKYg2g6cIYR0dH//jjj3K5HCE0YMCAJUuWQHJZ0NhIJJLFixfHxsYihIRC4datWzt27NjQB9U0VFdXr169+tq1awghLpe7fv16Pz8/CDHoGvmEu3XrtnHjRj6fjxA6cODAwYMH9dO5gMfjbdiwgbSL5Obmfv/997m5uXroT4EQ6tWr17p168hNZM+ePf/+97+VSqVOy9URqGEDAD4VkZGRmzdvJhfrIUOGzJ07l81mw/OtnpEBkF5eXuvXryf1hhMnTuzbtw++CNB0ZWVlzZ49u6ysDCHk6OgYFhZmYmLS0AcFwP9B0/S+ffvI0B6E0NSpU7/66it4VNYETdOnTp3avXs3Wf36668nTZoErRT6QfqMBAUFTZw4ESGkUCh++uknkkteD6Xb2Nhs376ddC5ISEhYtmyZRCLRdaHkVxkcHDx27FiEkFwuX7p0aVxcXFOsJsGPBADwScjKylqwYEFVVRVCyNbWdsOGDYaGhggmo2oIpN4wduzYESNGIIRoml63bt2DBw8gMSRoimQy2Y8//vjq1SuEEJfLXbVqVdu2bRv6oAD4PzDGz549W79+vUKhQAh5eXktX74cEkBqAmP89u1bMjEHQqhly5br1q0TCoUNfVyfFi6Xu3Llynbt2iGEysrK5s2bp59BlxhjX1/fxYsXk7jSyZMnT5w4oZ+6Cp/PX7NmjZubG0KouLh47ty5hYWFTS7WAIEGAEDzV11d/fPPP79+/RohxGKxfvrpp/bt2zf0QX3SKIri8/kbNmxo2bIl+m+9oaCgoMndRMEnjjR1nj59mqwOGzZs3LhxLBYLIpigUamsrFy4cCGZZkIoFG7fvp1MNA7+kVQqXbp0aWZmJkKIy+Vu3LiR3LaAnjk4OGzatImEeJ4/f75y5UoS+tEpciWfMWNG3759EUIKheLHH398/vy5fmIcLi4uGzZsIH0/4+Pj165d2+SSNUCg4X9qOzVos9HQHzwAuoUxvnXrFvMk0KtXL9LpEZ4EGlyrVq2WL1/OZrMRQk+fPg0LC2uioxDBJysvL2/dunUkNYOFhcXq1auhqRM0NhjjQ4cO3b17l6yOHTu2R48eDXtITci5c+cuXbpElgMDA4cPHw6VhwaBMR4yZMioUaPI6tGjR2/evKmfzgXGxsarV682NjZGCBUUFCxbtkwkEun6AYqMMx0xYsTw4cPJKwcPHrxz507TenDjNPQBNCIvXrx4/PixRCJpWl9hfWCM/f39O3fuDBdN0IwVFRUtX76cDKszNjYmgyZwc5zZnqZpjLEWYygYY6VSyWazdfdZjRs37tSpU9HR0QihXbt2DRgwICAgoPl9NaBZUiqV69evf/v2LVldsGABdJUCjdDLly9/+eUXUrl1dHRcvnw5l8uFy+w/whhnZmauXLmSRMAtLS2bUyQRY0ymyNFisgmtV0JUURTF4XB+/vnn6Ojo3NxcmUy2ePFib29ve3t7PZzMfn5+wcHBO3bsQAjdunXr0KFDISEhpJlEdyiKIsPx7t69W1BQIJFIFi5cGBUVRWaK0WnRWqOHBnOFQtG/f3/VQq9fv66Hcmtr7Nix1CcGITRo0KDq6mp9fs7l5eWkwx6bzSbZXADQHaVSuWLFCubi88MPP+j5hNeb6urqM2fO7Nq1S6FQaGufRUVFP/3008uXL5VKpbb2+Vf/+c9/mKqbj49PaWmp7soCQItu375tYGBATl1PT08y9geARkUmk40bN465CYaGhur0et6cKBSKOXPmMB/d8uXLtXh7bXClpaW//vrrrVu3tLjPuLi4jRs3FhUVkYiD1tE0TdP06tWrqf8+Zs+bN09vlbrMzExHR0dSbosWLV6/fq2jt6mKpmmlUrl06VLmPFy6dKlcLtd1uYz9+/eTcv38/OrwUcPQif+pqKjQxTfUmCGE7ty58/z584b+7AHQlZcvX+7du5cs29jYLFiwoPnNOYcxrqioWLt27dSpU/Py8rS788jIyC+//PLWrVukgqXdnRO9e/cODAwky3FxcceOHYOskKDxE4lEq1evFovFCCE2m71kyRIrKysd/UYAqLM7d+5ERESQ5c8++2zSpElUU2kLbWgJCQlHjhwhy61atQoJCWkeM01gjNPT0ydPnvzLL79oN82BXC7fvn37+PHj37x5o4v7OGklnTZtGpMm49ChQ8+ePdPPhdfR0XHWrFnk55OXl7dx40bd1YsYFEWxWKxZs2Y5OTmRV/bt25eUlNRU7jUwdOJ/fH19r1+/rv6H0bJlSycnJ71do2maVigU1dXV8r+j+K/6jGqWSqW///67t7d387h6AqBKLpdv2rSpsLCQrM6aNat169YNe0hahzEuLCycO3fuhQsXFi1aRFIeYG0MDMEYW1panjx5cvz48d9+++2WLVsmTJigiyzlHA5n6dKlUVFRlZWVGONff/11+PDh+rzSAlBbGOOzZ8/ev3+frPbo0QNmCgSNUGVl5cqVK6VSKfrvldbc3LyhD6ppkEqlq1atqqioQAhRFPWvf/3Lzs6uGfzGMcaJiYlTpkzJyMjYv3//oEGDtLhzPz+/w4cPT5o06auvvjpw4ICPj4/WHy4wxnZ2dnPnzp0/fz5pZVm3bl14eLhAINBuQX9FUdSkSZMOHDjw7t07hNDJkyeDgoL69Omj63IxxiTGQfo1lJaWbtiw4dixYyRJZGOnh2bzJjF0gqbp0tLS3r17q/+4/Pz8srOzq/RFJBJVVFSUlpYWFxcXFBTk5eVlZ2dnZmamp6enpqbev38/PDx827ZtixcvJql9XFxczM3Nazv0ztbWNi8vTw/9fwgYOgH0JiYmhunY7OTklJ2drbfzXG+KiopGjRpFAt5isbi2f06r+Ng2ycnJ7u7uhoaGBw8e1EWHPRJRHTNmDHNR+umnn6BzL2jMSkpKPD09yenK4XAuX76s/kcEgP7RNH348GHmSc/Hx+cT7LpbZ5cvX2b6P7Zr1655DIyiaTopKcnDw8PAwODIkSNKpbK2Vy31dQby+unTp42NjV1dXR89eqSjq2JhYSGZ9xEhxOVyb968qYtS/tbGjRuZukpgYGBVVZV+ys3Ly3NxcSHl8ng8khVSD+o5dAICDf/HixcvmOE3f4uiqEWLFjX4GO+//m7lcrlEIikuLn7x4sWVK1c2bdr0zTffdOzY0cTERJNo4q+//qq3aj0EGoB+SKVSpkM+QmjDhg11uKc2ZjRNl5eXjx07FiE0ZsyYOtQgFQpFXFxcWFjYmTNnPnazJJ/YgwcP7OzsDA0Njx8/rqNBqrGxsYaGhuTLsra2Jh0vdVEQAPUXGhrKXFsCAgL0VtcEQHOFhYUdOnQgZymbzQ4PD4eLqoYqKipUJ+bYvXt38/joUlNTPT09uVxuaGhoHW7lYrH42rVrv/76671799S0OiiVyp07d/J4PDc3t+fPn+voo9uyZQvTqtqnTx+RSKSf7ygvL48ZuMHj8UhfeD2US9P0unXrmLc8YMAAsVish6Ih0KBlf/zxh/q+KAKB4OLFi435ikMCikqlsrCw8NGjRytWrPD29lafJrd9+/ZlZWX6OTwINAD9iIqKYrrS2dnZZWRkNPQRaZlcLl+1ahWLxWrfvn1mZmZtG1Rpmr58+bK1tTVCiMPh/PHHH2r+nKbpgwcP8ng8GxubuLg4rcclaZqWyWSqgaElS5boM90RAJr78OFDq1atmOe3c+fOQQcc0NjQNL13717msaRz587l5eUNfVBNxrlz5zic/z+6vFWrVoWFhQ19RFpQXl5OBkqMHz++DrFRpVK5cuVK8ohkbW2dkpKiZmOZTDZ16lSEUI8ePQoLC3Xx0JSdne3g4MBch69du6a36/DPP//M1FUGDhwolUr1U256ejp5gCIxjlu3bunhLUOgQZtIZXfGjBnqhx60bNny1atXjTnWQDBHWFFRcefOndmzZ7du3Zq5dKqiKCo8PFw/RwWBBqAHNbozzJ8/X6FQNP7fbK1ERkYaGRkZGhpGRkbWodu2RCLp3r276kekPtAglUonTpyo03rD1atXmQtUixYt3r9/38y+MtAM0DQdGhrKVBK6dOlSVlYGJypobEpKSlQnWz148CD+u/6w4K+qqqr8/PyYj+6XX35pBp+bQqFYuXIlRVHu7u6ZmZl12MO7d++MjY3JZ8JisS5fvqx++9zc3I4dOyKE5s6dK5PJ6nTU6tA0vXDhQuZr6t+/v956lqWlpdnY2JByuVxuVFSUHgol1bzZs2czb3nYsGESiUTX5cKsE9pEURSPx1u9enW3bt3UbJaenr5gwYLKykq9HVjdMDUhY2Njf3//sLCwO3fuhIaGdujQocZ4Cozx7t27SbogAJqBuLi427dvk2VjY+PJkyfraGLnhlJQULBw4UKRSBQUFNSvXz+k8nvXEMZYoVCQZWNj42HDhqnZmKIoPp+/atUqR0fH2NjYbdu26SKhdJ8+fTp37kyW8/Lyjh8/rvUiAKinkpKS/fv34/9m/J46daqJiUnDHhIAfxUREfHy5Uuy7OrqSq7wzekmqDtRUVFxcXFk2cbG5ptvvmkGn1tsbOzWrVtZLNbq1avVDxL/GDL4lCy3bdu2S5cu6rdv0aLF6tWreTzevn37yCSadShUDYqipkyZYmpqSlbv3bsXHx+v9VL+lrOzM1NlksvlO3bs0O7kHX+LzLjx/fffGxkZkVeioqKeP3+un7dcZxBo+BvW1tY7duywsrJSs821a9d2796th3lNtIjNZjs6Os6ZM+fWrVvLli2r8QYfPXqktxliANApmqb37NnDBM4CAgLatWvXDCoKDJqmt23blpycbGVl9a9//YvNZtfh3QmFwlWrVnXv3r1nz5579uzp3bu3+p1gjF1dXWfOnIkQ2rlzpy5ubwYGBsHBwczqoUOHiouLtVsEAPV09erV169fk2U7O7vhw4cjeH4DjUxVVdXevXuZS/To0aMtLCyggqcJmRa8hesAACAASURBVEy2e/duZja3wYMH29vbN/WPTiQSrVixorKysmfPnsOHD6/D9YpUAJYvX96xY8dhw4YdOXKkRYsW//ixDBkypE+fPlKp9Oeffy4tLdXux4gxdnd3Jw0tCCGZTLZv3776TMOnOTabPWnSJGZwbnR0NBlIoutyMcbt27f39/cnq1KpdO/evY19OvB6d6n4Z01o6ARBEhzs3r1b/URuRkZG169fb6IjM5VK5cOHDwMCAthsNvOOgoOD9ZDnEoZOAF1LTk5m2hjZbPb58+ebQb9HVcnJyZaWlgihWbNm1Tk1I+mGJxaLJRKJ5p9PTk4OaQz56quvdNFnLzs7297enrkoHTx4sJl9d6BJE4vFPj4+zPk5ffr0JloHAM0Yyb/DzJhgYGDw7NkzuJBq6MGDB8xkVRwOJzo6uqGPqL5omj5y5AibzSYJQeuTFVupVFZVVdXqSSEyMpI8TIWFheniann9+nXmVDc2Nk5OTtbPqS6RSFTThc6aNUtvWaXOnz/PDDI1MzPT9Vh+GDqhfaR3CpkGVs1mIpFowYIF2dnZuAlGOlkslq+v75kzZ2bOnMkkv7x06VJ2dnbDHhgA9YQxPnbsGJn7GiHk5OT0+eefN6f2RnLdLy4u5vP548ePV40V1gq50AmFQoFAoPnnY2dnN3ToUIRQZGSkLvpAtWjR4osvvmBWjxw5IpFItFsEAHUWFxf39OlTsszlcseMGdOcri2geSAPlnK5nKx26dKlmfXp0x1SfxCLxWTV3d29a9euDXtI9VdVVbVz506lUuni4tK3b9/6DCNlsVgGBgbMg/0/whj37NmzXbt2CKE9e/aUlJTUrVw1++/RoweTmreysvLkyZP6eSgTCATjxo1jViMiIgoKCvRQLkKod+/ezs7OZLmsrOzs2bON+TkUAg1/j9S/Q0NDvby81Gz2559/Ll26lDTr6e3YtAVjbGFhERoaGhYWRpp/i4uL9fYTBUBHSkpKzpw5w6wOGTLEzMysOZ3VWVlZp0+fRgh16tRJ/QVKF1gs1rhx4/h8vkQi2bNnj9b77JH9M/WY+Pj4xMTE5vT1gaZLqVQePHiQeX5zd3fv0qULPL+Bxubdu3fR0dHM6tixYwUCAVxFNZGXl3fhwgVmdcyYMUz6w6YrOjr6+fPnCKGvvvrKwsJCn0VTFGVoaDhmzBiE0Js3b65evard85CiKGNjY9VW4fDw8NLSUi0Wocbw4cOZlJB5eXlXrlzRz6/M3NycDNkjTpw4wTStNUIQaPgojLGDg0NYWBiTaORvnT59+vfff2/sI2T+DqkecbncadOmbd++nSQXOXz4cElJCdyQQNN1//79jIwMssxisUaOHFm3FAaN1uXLlz98+IAQGjFiBNPDU586d+7cpk0bhND169dzcnK0frnw9fV1dXUly1Kp9MyZM03xAguan/z8/KioKGY1MDCwGTyEgObn/PnzzLOWqanpwIEDEaQR0UxkZGReXh5ZFgqFw4cPb+r1YZqmDx06pFQqORzO6NGja2SC1wOKooYNG2ZgYIAx/uOPP5hArRb3P2rUKKZrdlpa2oMHD/TzrTk4OPTq1YtZPXr0qB5SQiKEKIoaPXo0M7r/9evXjx8/brQnqj5OODJnpOorTWJ2A4qiMMZ9+vRZtGiRms7JNE2vWbPm0aNHTbcqzGazv/vuu02bNgkEgrdv316/fr2hjwiAOsIYnzp1iplMoVWrVswsBs1DdXX1qVOnEEJ8Pj8wMLBB6o5GRkYBAQEIoaKiolu3bml9/0zNmLhw4UJ5ebnWSwGgtm7dusV0juVwOF999ZX+a+0AqCeRSEiXN6J79+5ML2ugnlwuV53qyMPDoxkMOcnOzo6JiUEItW7dukOHDg1yDG3atPHw8EAIxcXFvX37VuuPxB06dGBmclUqladPn9ZPSkgWizVq1CjmLpCQkPDy5Uv9PPB/9tln7u7uZFmhUJw+ffrTDTRgjDMyMt69e6f64r1790g+CV2XXk8URbFYrHnz5pExyR9TUlIyd+7c/Pz8xv+OPobMmBISEsJisfbv38+MTwOgacnNzb1z5w6zOmDAADMzswY8Hq3LyMhITExECLVq1Yp0K6gVjHF1dXVJSUlOTk55eXmd581h0lafO3eOCeto0ejRo5lcR+np6Y05Wg8+ETRNnz59mmlRcHNza6haOwBqJCUlpaSkMKtfffUVcy0F6qWlpTGzWiKEhg0bxufzm/qtJzo6mmRGCAgIYKZF1BzGWCKRFBQU5Ofni0SiujWpCoXCPn36IISqqqqioqK0HrsRCoWqj2m3bt0ivT51DWPcu3dvkpkbISSVSi9cuKCfE8bQ0DAwMJBZjYyM1FuGiNrSZqBBJpNlZWVlZmZmZma+f/8+OTn5zp07e/bsCQoKysnJUd1y7969CxYsiIiISEhIePPmTUZGBvmrDx8+NMJ+AYaGhqGhoUyukb+VkJCwdu3a6upqvR2V1vF4vOXLl3fv3v3x48dPnz5t6tdW8Gl68OABc4OhKGro0KFNvTmihvv374tEIoRQjx49SF9Ezf9WqVS+ePFizpw5PXr08PX1DQgIWLduXV5eXm2vuhhjDw8Pa2trhNCzZ8+0PtgKY+zl5cVM9I0xbuS5jsCnIDs7Oz4+nlkNCAhgprYBoPG4fPkyUxc1MDDw9/dvPDdBkoVeqVTKZLKqqqqysrLy8nKJRKJQKEja/H/cQ3V1tUwm09HtICoqqqqqiixzOJz+/fvXJ29iY0DT9K1bt8jHxcyJqDmZTHb9+vVx48b5+vr6+PgMHz78yJEjIpGoDp8/MwllZGSkLhonBg8ezAwlKCgoiI2N1UOdgaIoW1vbLl26MK9cv35db+mrhwwZwsQQ8/LyGm17jDbDnElJSV9++aVUKqVpWqFQKJVKpVL5t8/eEolk165de/bs4XK5LBaLzWZzOByKonx8fM6fP8+MtGkkMMatWrXaunVrUFBQZWXlxzY7cOCAt7d3cHBwnZPANyyMsbm5+ZYtWwYNGrR//34/P79GGAXH/52Tj0xBSkblVFVVVVVVcTic1q1bQ0fWTxnGOCIiglm1tbX19vZuwOPROpqm79y5Q+4lZF4lzetACoXi1KlTixcvdnR0HD9+PJ/P37Jly+rVq2/dunXmzBk7OzvNd0Vurq6urgUFBQUFBX/++SeTD0krKIoyNTXt1atXeno6eYW0yVhaWjbpOp+e0SrI7VgsFpOrpZOTk7m5eUMfYBMTExNTVFREllksVvMLYoJmQCqV3rx5k1lt3769i4tLAx4PgTGWSqUfPnx49erVy5cvU1JScnJyxGKxWCwmyfysrKy8vb19fX29vLxMTU3/9peFMRaJRGvXrhUKhT///LPWa9oKheLatWvMo1rLli1Jb/8mTSwWP3r0CCEkFAo7duxYq0tWZWXlmjVrDh482LNnz7lz575///633367d+/e06dPt2zZIhAIanUkHh4e5ubmpaWlL168KCkpsba21uL1E2PcoUMHZ2fnt2/fklfCw8NJfi5tFfExXC53wIABN27cIKvJyclv377t1KmTrssl7TEODg5MSrIzZ84MGzasEd6VtPkkSVEUh8Ph8/ksFouED5h/mQXmQZE8JZJ/SWACY9w4H9HJ1zZkyJBp06aFhoZ+bDOFQrFixQofHx9PT89G+E3/I3LMvr6+I0aMuHLlSnp6euvWrRvVGxGJROHh4bm5ucXFxYWFhcXFxUVFRRUVFVKpVCqV+vn5hYeHMxFNoAbGuLCwMC4urri4uJ4RUIwxn8+3tLS0tLS0srKysLAwNDRsqB9yeXn548ePmVVvb+9m9jQll8ufPXuGEOJyue7u7pr/PDHGN27cmDVr1pAhQ7Zt22ZlZYUQio+PP3v27IMHD3bt2rVu3bpaHQmbze7YsePjx4+VSuXTp0910WjWt2/fEydOkN4WmZmZL1++VM26BNRLTEyMjo4mF0lywSwpKRGLxVKpVCaTHTp0aNiwYQ19jE3M1atXmWULC4vPPvusAQ8G1F96evqzZ8+0kv9FKBSSO6CVlZW5ublQKGyoNo/MzMxXr14xqz179hQKhQ1yJIRCocjPz799+/bly5cfPXqUl5fHtGZTFMVms9lstlKpVCgU4eHhQqHQx8dn9uzZAwcONDAwqHFPqa6u3rBhQ2ho6PTp03VRNS0qKmJmrkUIde3atRmMu8zKyiI96i0tLe3t7TX/Q6VS+euvv/7222+rV68OCQkRCASVlZUXLlzIyMjYt2/fiBEjVGeh1oStra2NjU1paWlBQUFGRgbpEaktFEUZGRn5+voygYbHjx+TcIYWS/mYgIAAHo9HmtUlEklMTIyXl5eun55Ie0zXrl2ZQMPDhw/Lysr0PKuIJrQZaPD09Hz69CmZmx39d5L2Ggvov12naiyQf1ksluazs+oZh8NZsWLF8+fP//Of/3xsm/z8/JCQkIiICGbETpPDZrOXLFlia2tbUlLi5ubW0Ifzf5SXly9cuPBj89aQ/uRAQ1u2bAkLC9NWBzYul8vlcnk8nqurq5+f37Bhw3x9fT/WLqE7SUlJubm5zGpAQEAj7JVTH4WFhSQhtkAgaNmypeZ/mJ2dPW/ePA8Pjx07dlhZWZGAL5Oj9+rVqytWrKhtAwUzQP3Fixda77BHUZSfn59QKCQdWWmajoqK6tmzZ6MKfTZmN27cWLJkycf+Vxc9V5u3srIy0jBIdOnSRZ93eYxxWVlZSkpKu3btoF+PVmCMQ0JCrl+/rpXhuhRFkZsgn89v165dr169hg4d6u3tLRQK9fxlPXz4UHWiu4EDBzZIyIMkA0pKSjp06NClS5dyc3PJPUIgELi6unp4eHTq1MnV1dXU1NTAwKCqqqq0tDQhISE2NjY2NjYmJmbw4MG//PKLu7s7c/ByuXzbtm2hoaE0Tffr108Xb+rZs2eFhYXMamBgYDPoIZuWlkY6Yrds2VLz3uIY41u3boWGhk6dOnXevHlcLpcMeCHP0qTrR20DDUKhsGXLlqmpqUqlMjk5uWvXrrV9L/+oT58+x48fJ2daTk5OSkqKHsYNYYxbt27t4uLy5s0b8sqVK1emT5+uh/Y2Fovl7+9/7tw5skqCjH5+fo3tBqG1Wjhp2Gxsox60y9TUdNu2bYMHD87KyvrYNvfu3Vu/fv2mTZu4XG5j+7I1QTogbd68mUy60ajegkAgCAwMLCgokEgkmZmZqqFxUFuff/55dnY2aeGUSCQlJSXv3r2rMbSMxWJ5eHg4OTmRbkp/3YlUKq2srCwtLc3JyRGJRGKx+NmzZ8+ePTtw4EDPnj0XL17cp08fPp+vn7MIY3z37l1mrBaHw+nZs6ceytWnvLw88uBtYWGh+bx6GOOwsLDc3NwDBw5YWlqS37VYLGYavuo2/aeTkxOLxaJp+vXr10qlUuu3VScnJ2dn55cvX5JVkkK4ttGQT1abNm0CAwOlUml5eXlaWlpZWVlDH1HTlpqamp2dzax+/vnnegti0jSdm5s7f/788+fPL1u2bO3atfopt3kjU+4ZGhqSO6BUKi0oKEhLS6sx9x6Xy+3YsaOtre3f3shInrzKysqioiKSKq+qqoo8Lf/2228DBw5cvHixt7e3PuPdTBduhJClpaWnp6feimYolcq3b9/u2LHj5MmTpGWIoig7O7uBAwd+/fXX3t7eVlZWf73pBAcHl5eXX7t2bdOmTZcuXXrz5s2RI0e6du3KYrEUCsWBAwdWr14tl8tNTEx01C/9xo0bTNTJ0NCwW7duuihFz5gbqL29vebtuFVVVStXrnRyclq2bBmHwyF1hnfv3jH3kbr1HSazVmOMycQT2q0ZUhTVtWtXgUBA6rE0TUdHR/fu3VsPPQuMjY07derEBBqeP39eWFhoZ2en03IJPz8/pjOFQqG4d++er69vo3pwQ+i/3QqAhmiaPnz4sPp4ikAgOHv2rFKpbOiDbaTKy8ttbW0RQmw2OyYmRvM/pGm6urpaIpGIRKLs7Oxly5apPtv069ePpAgCmlMoFFKplLQn/PLLLzXO5C+//DI/P18qlSo+giTIKCkpSU5O3rt3b//+/VWffg0MDEJCQnJyckiSJ12Ty+X9+/dnSnd0dCwoKNBP0Xpz5coV8u46d+5MEjJpIjs7287ObsSIEVKplHnx0aNHzEP7zJkz6/BBRUdHk9qGk5OT5gejOZqmv/76a+YLtbCwyM7O1nopzRVJtyYWi8vKyuLj41WzVSGEIiIiGvoAmxKapkNDQ5naG4vFioqK0sO1haZpsVgcGRnJ5JoJDg7WdaGfCPL10TQtl8vJTbCwsHDSpEk1boLz588vLS2VyWRqboIikaiwsPDJkydbtmzx9fVVHapgYWGxbt26kpIS/dyJKioqVKci6t69O5nfTW9omi4qKgoLC3NycmIOw9bWduHCha9evSJDpNX/OcY4Kytr3LhxbDbbzc0tKSlJqVSeOXOGSbz62WefSSQSrR+5TCZTvUi6u7vr4qamfzNmzCDvKCQkRPOT8MqVKxwOZ9u2bcyfkGsg8/lcvHixDgezZs0a8udBQUFyubwOe1CvrKxMtadnQECALk6Vv7Vjxw7V68bt27f1U25JSQmTNhshFBgYqIuf/P79+8n+/fz86rD/Jt8vSM8oiho/fvz333+vZhupVLpgwYLU1FTcKPN/Nl2kd6JAIDAwMHBwcFi6dCnMDl1PbDabz+cbGBiYmZmRcfuq/7Vo0SIbGxs+n8/+CB6PR/62Q4cOP/zww6VLly5fvswkwhWLxbt27Ro5cmRKSooefgslJSVJSUnMart27czMzBpdZLd+8vPzyYKJiYnmvTpv375dUFDw3XffMa0QGOOzZ89KpVKEEI/HGz9+fB0OxsTEhET6xGKxLgYuURTVvXt3ZrWsrCwpKQkuqhpisVg8Hk8oFJqYmHTt2nXx4sUNfURNGE3T9+7dY849MzMznWaJwxjL5fLi4uIbN2589913I0eOTEhIIP/VDPpyNxLMeF6SWczAwMDKyqrGmHwLC4u5c+eamZlxuVw1N0FDQ0OSy3DBggU3b948ceIE06hYUlKyYsWK4ODgvLw8PVy73r9/n5mZyaySfjd6u2bK5fLbt29/+eWXCxYsIN1++Xz+6NGjIyMjN23a5O7u/o+93khHWkdHx3379k2YMOHdu3czZ84MDw+fPn06Mx7E399fIBBo/U3l5OQww/sRQt27dxcKhc3gdsMMJtW8OkTTdEREhKmp6Zdffsn8iVQqPX36NFlu1apV3bqLMjmzPnz4oIvP1sjISPXK/OLFi48Ntda6zp07q3YYIYEGPZRrbGysGlvUVtIZ7YKbVq1xudyVK1eq71WVkZGxcOHCus0BA/4RufYJhUIHB4eGPpbm486dO6qrLVq00DDdILONQCDw9/c/depUSEgI01n08ePHU6ZM0UM1682bN8XFxcxqt27dyMBCnRaqZ8wthMfjaf7IweFwBg0apDpyr6CgIDw8nCx7eXl17ty5DhEZHo9H/kqhUOhoPifVSUNomlbN9Ak0RL6jdu3aNfSBNGFVVVXPnz9nVl1dXc3NzbUYxKyuri4qKiooKMjOzn706NGJEyeWLl0aEBAwYsSIM2fOiMVibRUE1JDJZE+ePFF9xc3NjdQxNP+ujYyMRowYcfHixREjRpBXMMYXL16cN2+eHiqEjx49YjLvIIRINVUP0XaMsUgk2rFjx+jRox88eEAGINjY2GzZsuXo0aOdOnXSfJJIspmRkdGGDRvc3d1jYmImT56semf//PPPsQ5G9SYmJqrmtvDx8WGyyzVpTJ2hVqMOzczMvv32W9Wm8ocPH5JE1AihESNGmJub1+FkZo6hsrJSF78FNpvNpI5CCJWVlakmRtUpFxcX1dmOHz58WGMQlo5wOBzVt1xcXPz69Ws9lFsrEGioCysrq507d6qf0e369etbtmyBJAK6Q1EUDNjWFpFIxDSaEZ6ennXLXkuqCNOnT2eehOPi4hYvXqzr6nKNK7ufnx/SSx1Ln/52tuB/9PXXX0dERKhery5evMg0fE2YMKGeuXXItEH12cPHtGrVSrWN8c6dO1rJ3KZTGGMyu3OjCnIJBAJoDK+ztLQ0krmd8PT01G4m//j4eD8/v65du3p5efXt2zcoKGjr1q1v3rxxd3fv3bu3FgsCapCZelVfCQgIqG3qGdImb2Njc/DgQdWJXc6ePbt582ZdVwjv3bvHLAuFQg8PD/1EGXJzc6dNm7Z48WImI4Ovr++lS5dmzZpF0mHW9jAwxvb29hs2bOBwOKpRbBMTk7qFxf/R/fv3mWWSmKN5VB7qcMpRFLVp06awsDA2m03uYjRN7927l9SvhELh2LFjNY8c1dgzWSDd72v755pQ7QWpUCiePHminxuxjY2N6qQeL1++1FvPAl9fX2ZZLpcnJCQ0qroHgkBDnXXv3l39RL4Y461bt0ZHRzf+mjEAWVlZ79+/V33liy++IPPR1mFvQqFw7dq15FGfOHnyZHh4uE5/Cw8ePFA9gFatWumurKaFDJBh7vEymezf//43WbawsBg2bFj9H0F1dGOztrZWzaj05s2bkpISXRSkRWVlZRs2bNi5cyfJiNHQhwO04MWLF6pPO927d9fuQ4hMJisoKCANqo6OjoMHD/7pp58uX758+/btMWPGaLEgoEZSUpJqmzabza7bNDck1mBubr59+/bWrVuTFzHG27dvj42N1d01QSKRpKSkMKumpqaqiRJ0JysrKygo6OTJk8z9fdCgQWfOnOnWrVudfybkDwcPHlxjbgI3Nzdd5NiTy+WqXZaEQmFjm3OtzpjzTfPaFzOFChMhysjIYKbb8/b2bt++fT0PRne/gg4dOqgmqiRp4HRUlioOh6M6auPDhw+qg5h0qkOHDqqjNlRDZo0EBBrqiKKoqVOnjh07Vs2VVCQSzZs3LzMzE6qboJF7+PChapdLLpfbo0cPVI8eAWZmZuvWrWO6nNA0vXbtWt0NoBCJRKp95CwsLGo1ZXRTwdxB69MylpiYyPQQ/uKLL5ycnOr2pSiVSrJApkOv8/GoYWBgoBow+vDhQ05OTiO/nEZFRa1cuXLRokU1WkdB06UaxEQqE7tqS5cuXW7fvv3w4cPnz58/evQoIiJi7dq1/fr1g5ks9en+/fuq11WSSb5uuyLfmqur66JFi5hvsLKy8ueff66qqtLRFay4uFi1tcDNzU3XWQYwxtnZ2d99993t27eZF4cMGfLHH384OjrWP37N5/O//fZb1Z+Ar6+vLua2E4lEzOwMCCFHR0dTU9NGfqPREPMIWudOdhjjiIgIJsQ/ceLEOvfnYuoMHA5HF1c2jLG1tbW1tTXzSkpKii4SSP0Vm81WDTQoFApdTPv9VxhjOzs71bmWk5KSyNxkjQcEGuqOz+dv2rSpY8eOarZ59erVwoULG9u3DoAqmqbv37+vGvC2sbFp27Ztfe4EGOMePXqodmN7//790aNHdXTlLSwsVJ101snJSfPZH5sQJpeSVCqtW/cQmqaPHTtG0kCy2ezJkyfX+ZbPHAOHw9FuT3JVXl5ezDK5eTfyR68PHz4ghGiaJgugqVMoFImJicyqiYmJ1nMDmZmZdenSxcPDw9nZ2dLSsm5Tx4H6UCgUNbIUtW/f3srKqp43rNGjR7u4uDCr9+/fj4qKqs8O1Xj58qXq+ER3d3ddT7JeVFQ0bdo01c+ta9eue/futba21sqNnqKoPn36MM0VFEX17t1bF0PA3r9/rzoBcKtWrfQ2LbeuMXWGOo9dFYvFJ06cIMv29vZDhgyp8yfDPAoZGRnVbQ/qURRlYWGh2uclPz8/Pz9fPzGj9u3bMycnxvj58+d6KJeiKEtLS9XYSk5OTmFhYaMKk0GgoV4cHBxCQ0NVU4D81YULFw4dOsRE8gBobKRSaY00e126dDExManPpYqiKB6PN3z4cNUXT548qaOg2+vXr1Xvo23btm2WI9KZPAuVlZV1u6QUFxdfunSJLHt4ePTo0YOpNDBzEWm4q4qKCnIMfD5fR/UGhFCNXpqNcPxhDczn2TzqqaCsrCw7O5tZNTU1VZ+eCTRF+fn5qpMOIIR8fHwEAkE9f8WWlpb+/v7MKsb44MGDusjUgDF+9eqVapai1q1b6/QmWFVVtXDhwuvXrzOvmJmZhYWFOTg4aDFZY8uWLZnnRqFQWGOaXm158+aNao9OV1dXJpt1U9eiRQuyUFpaWrdbZ0JCAjMkZ/jw4czXoTp/oYa7YrpFWFtb6+jkZLPZqrMwVFVV1RgUrDs15lVJTEzUz3Mfl8tVHelTWVmZnp6uh3I11wzr4noWEBCwfPlyNT2HlUrlqlWr9DZSCIDaev/+vWpNGiHk7+/PZrPrX1fo1auXasLO1NTU5ORkXfwQagSP27Vr1/we80iOMfJ5FhUV1S2n8Y0bN5ihg5MmTTI0NCSfG8Y4MjLy2LFjmt8ai4uLSY3ZwcGBz+fr6PrWsmVL1Qbely9f6ieZMwBEfn6+aucUBwcHQ0PDBjweoAuJiYlFRUWqr/Tr108rN5HBgwerrj58+FBHQwhfvHjBLFMU5e7urvUiGNXV1Rs3bjx27BjzCovFWrFiBYlca/HmKxQKW7ZsSZbbtGljb2+vizt7UlKSag/BenbnbFSYLCEFBQV1eO7FGB8+fJhEYQQCwcSJE5lPRi6X//777zExMZrvLScnhyy4uLjoLgpWY2jbs2fP9PNttmjRQrUj7Zs3b/Q2YVCN6ZYTExMb1QkMgYb6oigqJCRk0KBBarYpLS2dN2+ejmaOBaCeEhMTKysrmVUOh8NMA15PrVu3Vm3rrq6ujo2Nrf9uayCNOaqvuLi4NKrrrFZQFNWiRQvykFNZWVmHCaIVCgUzesXc3PzLL79kckeLxeLFixcfPnxY8xEZTPaZNm3a1C0HtSbs7OxUx2VkZmbqaCpNAP7Wy5cvVSvorVu3bn7XFhAdHa26T8nCtAAAIABJREFUam5u7unpWf/dYozd3d0NDAyYV8rKyp4+fVr/Pf+1oBpJYZjnc124du1aWFiY6s2ib9++06ZN0/rTI5fLZbqFd+vWTfWT1KLk5GTV1WaTCRIh1LZtW7KQn59fhxh9bm5uZGQkWe7cubOXlxdz9UtNTZ0/f/7du3c1vx4yLe1t2rTR3VVUtUcDQiglJUU/KfkNDQ1tbW2Z1YqKiry8PD2Ui/5yxv7555+NahYCCDTUF0VRhoaG27ZtU39tev78+U8//USGRgPQqNy4cUN1tUWLFtpqDDEwMKjRzbjGOFitkMvl7969Y1a5XK7WB1E3EtbW1iTJpUwmy8jIqO2fp6amMmntBg0a5OzszHRnePr06evXrwMDA1XTF6vHdKf87LPPdJQMEiFka2urWrnMzc1VDYoBoGt//vmnagsBBBqaH5lM9vDhQ9VX2rRpw/Q5rw+KoqytrVWvYDRNP378WOttTpWVlardEo2MjFSHbWvX69ev582bp9paa25uvmHDBqZ/nHYxY5MHDBig9Z0jhKqrq1VHzXA4HEdHR10UpH8Y41atWpFm9oyMjDrE6C9fvpyfn0+Wg4ODmTMZY3z58mWlUjlgwAANv3SRSEQSaXE4HPW57eqDTIyq2gvy/fv3quNidMfAwEA1PYRIJNJP7mqMsaOjo2rNLS0trW5ToesIBBq0w83NLTQ0VH2Pyj/++OP48eONKs4EgEgkio+PV33F09OTSSBUTywWq8aPIjU1Vest0tXV1apP3RwORyt1xEaIy+WSQaoKheLVq1e1vYfFxMQwtcOxY8cyqcIUCsXu3bvNzMy+/vprDXcll8tJKxCbzdb6bH+q+Hy+6s1bKpWqZv0EQKcwxmlpaaqvODs7N9TBAB0pLCxUnXQAIdS3b18ej6eVhwSBQFBjwH9KSorWB28XFRWVl5czq+bm5oaGhrq4LEul0mXLltUIc0+ZMsXb21u7gyYYpJcEmQREF/svKSkpLi5mVk1MTNSnXWtCKIpydnYmzezl5eW1vXXSNM309LG0tBw4cCDzXwUFBYcPH+7Vq5dqHwf18vPzyegkGxsbV1fXWh2J5iiKsrW1VR2xm52drZ8mXhaLVSNE9fbtWz1EpSmKqhFbyczMbFQjTCHQoB0Y4yFDhoSEhKjpOaZQKH788Uf9ZCIFtUVS2tA0rVQqaZquVYYbrR8JTdMymayioqKqqqrOkxJpKCsrq0aynD59+mgxE1KNgy8vL1etD2lFSUmJ6vznBgYGFhYW2i3iYzDGSqVSLpdLJBKJRFJdXa1QKMj5o+ZPaJqWy+VisVgmk5HvV8OvmMVi9erVi9y66tAsVlBQQBaMjIyYcYwkO8OlS5dmzpyp+ZCTDx8+kFqLjY2Nh4eH7k5RNputGjZSKBQQaGhw5BxuJFdLhUIhFovLy8tlMpnWj0ShUKhOh85ms+3s7KBHQzPz9OlT1TnwyOwGSGf5XDMzM7Xe4FRUVKT6FszNzXU0yuDKlStXrlxRfcXR0XHOnDm6G3JP2mZbtmypoxhfWVmZap3E1NRUd7mN/xapRchkMrFYXF1drWGVD2MslUolEolCoVCzvVAo9PHxQQhJpdLaZshSKpXMCE0XFxfm0qdUKsPCwnJzc5cuXap5eqbU1FTyOXfq1Mnc3Fx3V1ErKyvVQEONn4ZO1QigpKam6qdca2tr1UBDQUGB3t6yJppJYtUGR2aSX7ZsWUJCwq1btz62WUFBQUhIyIULFyBtdSOBMZbL5cXFxSkpKZmZmcXFxeXl5SYmJlZWVi4uLu3bt7e0tKz/HFE0TUul0srKyoqKCpFIZGBgYGpqamxsLBQKVW/PGGOJRPLs2bM7d+48fvz4w4cPPB6vb9++ISEh1tbWOroux8TEqIZ72Ww2qWNpBU3TNaaZkEqlWp94Ij8/X/UtWFlZad7/v84UCkVubm58fHxCQsKbN2/IM7yBgYGTk5OXl1e3bt08PDyMjY1VvzWMcXV1dVJS0t27d588eZKbm2tgYODu7t6pU6fevXu7uLhoMtOkv7+/kZFRZWVlbGysWCyuVZWoS5cuHA5HoVAYGBiQhOo0TT9//nzevHne3t6zZs3SfFcpKSmkFcjPz8/S0lJ3lQY2m01GixAY46ysLC1mNQeao2laIpFkZmb++eefHz58INlAraysrK2t27ZtSxKy1PN5g9S5xWJxRUVFeXm5QqEgDYxGRkY8Hk/1S6dpurCw8M6dO/fv309JSamqqrKxsZkyZcrQoUO1+PNXKBSqPdLZbDbcu5sZjHFMTIzqTBDm5uaqs+rWE3kUVH2luLhY64GGzMxM1V4SFhYWqs9a2lJaWrpu3boavbJnzZrl6OiouwsyGSvXu3dvLperiyt/Xl6eai9LU1NTvWV7xRgXFxfHxsZGR0enpqaKRCITE5OuXbsOGTKkU6dONa54NSQnJy9durSysvKbb76ZOXPmxzZjsVj9+/c/ceIExvjevXvjx4/X/PA4HI6Xlxd5ojE2NibtT3K5/PTp07t37/7hhx969+6t+dfBTOw6fPhwHX2VhIGBgbm5OdOsIpfLc3JynJycdFFWDTUSo7x+/Vo/dRVDQ0Nzc3MmKiSTyfLy8hpPx14INGiTqalpaGjooEGD1KQAefjw4S+//LJx40aYK7thkae+hISE48eP37hxIycnh6ZpoVDI4/Gqq6slEgnpBzVw4MCgoKDOnTvXLdygVCqzs7MvX75869atFy9ekEZvLpfL5/PbtGkzevTowMBABwcHNptN03RiYuKWLVsiIyP5fD7p8PbgwYOYmJi0tLSDBw/y+XxdfAj3799XfcXOzq5GKp36kMvlNfovkAZ/be2fKCgoUO0nZmlpqdO5qWiazsnJ2b9///HjxzMyMv727RgbG3fv3n3BggV9+/YlM3JjjHNzczdt2nTs2DHVKbtJpiUHB4cffvhh9uzZpqamak4zjLGzs7OXl9eDBw+ysrLevXunecdFhFBAQMCgQYOuXLlSWloaGxvr7e199+7d9evXGxkZ7d27t1bxghs3bpB2jFGjRun006YoqsajHfRo0D+McUlJyZUrV06dOvXkyZPS0lI+ny8UCimKIq1qJiYm7du3HzNmzKhRo1q0aFGHTtSkgS4hIeHSpUt3797Nzc2VSqUYYx6PZ2Rk1KdPn9GjR/v4+BgbG7NYrMrKyvPnz4eFhb19+9bOzs7Z2VkoFF6/fv3u3bunTp0aPHiwtup2IpFINesqm83W3dB30CCUSmWNzPnt2rWztrbW1hOCSCSq8WSuvgm6bmp0S2zRooUuuhicO3cuMTGxRkHjxo3T3aOUQqGQSCQ8Hq9Pnz46SjlcYxgIaRzWw/OhTCa7efPm+vXrExISVENR165d27Fjx8SJExcsWEAiODWOBGMsEokWLVpEsmu5ubmpP9o+ffqYmZmVlpbeu3evqqpK88YJiqJmzJhx/vz59+/fv3v3LikpicPhnD17dvv27YGBgT///LPmIV2pVEryQ5mYmPTr10+nHy8JBzO9CRQKhd6SMtbIDvbhw4fq6mpdVN1r4HA4VlZWzCg/uVzOxFkaBQy0h3QiPXbsmPpYMp/PP3HiBNNl+lNTXl5Oxoyx2Wwy62fdyOXyL774gvlU+/Xrx3Sd/UcKhSIxMXHixIlGRkYURbVv3/7HH3+MiopKSUnJyclJSkq6efPm8uXLyZwxxsbGwcHBSUlJpH6gIZqmc3NzV65cSSKpfD7fx8dn2rRp69evnz17dkBAAGnudnR0XLp0aVpa2ubNm21sbLy8vHbt2pWdnS0Wi48ePUqiUXw+Pz4+numirEWVlZVMUmJi+PDhWjwzs7KyVOf7QQgZGRmRKK8W/f7776pFDB06tLq6WrtFEKSDxuHDh5nMrzwez9XVtW/fvt9+++2wYcM8PDxUn7oFAsGkSZOysrKUSuXTp0+7du1KXre0tOzdu/c333zTv39/Z2dnkkmRoqgxY8aQxi71h7Fz506yn82bN9f2rMjJyZk6daqtra2ZmZmdnZ29vX1wcHBaWlqt9iMSiUiLn6OjY15eni7OTFU7duxQ/X5HjhxZq1+inpFvh8ViXbt2TdefjOZevXql+uARERGh4R/SNC0SiU6cONGlSxeSciUwMPD333+PjY1NS0t7//59XFzciRMnvvnmG5LYpU2bNrt27dLkNFYll8tjYmJGjBhB+nvb2NgMHTp0yZIlq1atCgoK6tChA0VRPB7Pz88vPDw8JSVl6NCh5ubmo0ePjoqKKisrq6ysZCZ+6tu3rxZ//n/++adqvdzCwqKwsFBbO9fEb7/9pnryT5kyRZ+lfwoyMjKsrKxUP+TFixdr8SYYGxtb43nM3t5eLBZra//EjBkzVItYtGiRdvePMS4vL/9rR4/Zs2czowV1gabphISE8+fPi0QiHRWxatUq1Xc0ceJEPVy3i4qKQkJC1D8peHh4XLp0SSqV1jgeqVS6dOlScj23srJ68eIFGcj2twWRAW5ffvklQojL5ZIRlxoi+3z8+PGAAQNMTU2tra2tra3d3NzWrVtXXl7ObKCJ5ORk0k9k+PDhcrlc82OoA4VCMXLkSNVPcs+ePfq5FyckJKjWAN3c3EpLS/VQrlwurzGN7pEjR7S4//3795Pd+vn51eH2CoEG7ZPJZDNmzFAfrnN0dCQTkDT0wTaABg80yGSyQ4cOkdCjUCicO3duTk7OXysWpOF65syZ5Gbg5OT073//W/NYxsuXL/38/MhpYGNjc/DgwfLycvq/JBLJ1atXXVxcyMG3atXK0NBw3rx5qo9t06dPJ/9LUdTZs2d1cbYkJyfXCG9v3bpViwU9fvxYdW5ChJClpWVGRoa29k+sWbNGtYjx48frIopH03R5eXlISAiJ/rDZbD8/vyNHjmRmZspkMnI7z8/Pnz9/fo0pGPr16/fo0SNmomN/f//Y2FhSeyAjKQICApiNFy1a9I9P0RkZGeQX1KtXr1pVWMm5V11dnZqaevPmzRs3brx69aq6urq233hcXBwJ0s+dO1cPAdMTJ06oXk79/Px0XVOpj+YUaKBpOjs7e+LEieScb9269ZkzZ8Ri8f9j773jojj+x//d2ytwcPSuIN0OEhUEolixd9HYiD12gxqNxsTesMWChaBii6LGbmyJGhUFBEUUBekivbfj6s73j/m997efReE49pZD9/kHj53ldmfL7MxrXvMqlPuCjer+/fswUimHwxk8eDDMCqlKLXK5/MiRI0RclX79+sXFxcnlciIMRH5+/ooVK+BsTUdHx9bW1t7e/tKlS9DkAQBQVFRELCXZ2dnROIuLjIwkr0c5ODgwIzgSsIoGTfP333+TuxcURa9du0bjl3vx4kXk/+Lq6lpbW0vX+SFwJkmwY8cOes8PALh69SrFeI3P50dFRTHWy2mootmzZ5NvShM6GjI4jpeXl0+YMEGVJX19ff1ly5ZBvxh4uFQq3bdvH+yUMAzbsWOHKt3s5cuXoViyZs2aRj1G2AlXV1e/fPnyxo0bDx8+/PjxIwzNo/p5cBzfsWMHvODLly836lg1wHF81qxZ5Me4du1aZlZ2k5KSyBK1hYVFbm4uA/XiOD5p0iTyLW/fvp3Gh8wqGrSRwsJCT0/P+nuQgQMHlpWVaY8kyhjNqGiAM/w1a9ZAudnY2PjYsWNwovW5FyGTyfbv3w+X5QUCwcaNG2tra+t/aziOZ2RkQJkb1nLz5k1KNwfPcP/+fUK8trGxgUv9xMkvXbokEokwDLO3t09JSdFEUwkPDyePdnw+/+nTpzSePyIigmLAaWtrW1JSQmMVAACKg+KSJUvoPT+koqJi2rRp8HEZGhpu3ryZmHKQX01FRUWXLl0oHzvhLOfn55eXl0cc9fz580GDBpF1MYaGhu/fv2+wgcF4CkKhMD4+vokNo7GH4zi+cuVKBEFEIlHTa1eFu3fvkluRk5OT6vo+5vmSFA3v37/39vaGh/j6+r57966edTMAwMePH4cNGwa/kbZt20ZFRTUo3imVyhMnThCB6/z9/QsKCur+TCqVLl68mOisZs6cCbV78L8ymWz8+PE8Ho/H482dO5dGg5ebN2+S9YZdunSpqqqi6+SqwCoaNM2yZcvIT9jIyAg6xNF1/vXr11OGg549e9Jrc6dQKCiRlU6cOEHj+QEAcrl83LhxlBvx8PCoqamhtyLmGTFiBPmmduzYodF+WyqV/vjjj41yHHBxcVmzZs2VK1cuXbo0Y8YMqGVAUTQwMFBFQ4/KykookXbu3FkNVWkTH0htba2Pjw+CIO7u7swoan/66SfyA5w3bx4zioYPHz6QzaN0dXXT0tIYqBcAQImxFRQUpD2KBjbrBP0AAMzNzQ8cOFB/1Ki7d+/u2rWL9ixHLPWA43hISMj27dthoISdO3cGBgbC4Auf6/d5PN68efN+++03DocjlUo3btx45MiR+t+aWCwOCgp68eIFLM6cOXPQoEGU+Tasrnfv3oTmNTc3d/ny5eRQscOHD79+/frBgwevX7/u6OioCZe2Bw8eAJKzqKWlJcWTookkJiZSQhiYmZnRnjuK4o2miZQTMpls48aNJ0+ehF/3sWPHVqxYYWRkBP9LvBoAgIGBQV0lI3QRNDc3//333y0tLeEzz87Onjx58u3bt8mRqCorK1+/fl3/xaAoumDBAnNzc7FYfOLEiSbGvGhsuyopKYFrdNBVhIFARyYmJuRaYIIPTVf6lQMAKCwsnDlz5rNnzxAE6dix4+nTp9u2bfu51w2jkLRq1ero0aNQN5GcnPz9998nJyeDet3RY2Jili1bBrOuikSi7du3W1hY1D2Ez+evWrWKiOl96tSpCxcuED/j8XgHDhw4fvz4qVOntm7dSqN3ekVFBbm319fXp9grsbRoZDJZ3QANFhYWNHZrhCRA4ODgQG8ABblcDiMmEtA+CObl5f3333+UnSNHjqRYLLY4FAqFph8dhZs3bx46dKj+XpFCSkrKpk2bxo4dGxAQcOzYMalUiiDIqFGj9uzZo2JuEZFIFBQUxOVy3759+/Dhw0bVjjQ5/UpsbCz8CubPn29gYNDY2tWA8hKLi4sZqBRBEF1dXbIFHIx9zkzVlFuGLn4M1KsKrKKBfqDI1a1bt19//bWeWCkAgN27d9+7d4/22Hgsn+PJkycbN26EgQP9/f0nT56sitSIYdi8efPg7FEmk/3666///fdfPd/wX3/9de3aNbito6MzceLEeqTzgIAAYqi4fv16REQEcWYMw/z8/ObMmdOpUydNTOfEYnFMTAx5j7u7O42JnXAcrytjderUiXZJnRytDUEQQ0NDentYAMDly5f379+P47iOjs6uXbtGjx79yQiI8DV9LrHQ7NmzYexG+LOjR4++f/++7s8oIco/Sdu2badPn44gyOnTpzMyMpgcUS5cuJCenm5gYLB06VJmItpSNFMymYz2xCUsFORy+bp162CkWA6H89tvvxF+Xp+DcBNbt24ddDdLTk5euHAhXML65CFisXjNmjUwuTqCIN26dWvXrh34TJwwS0tLwoRNJpOtXbuWHOLL3Nx88uTJEyZMMDIyorG3pPQtenp6rKLhS6KwsJDSCfv6+uro6NDVo9bU1KSkpFB2tm/fnl5FQ90ukfa8CTExMUVFReQ9GIb17t2b3lqYR6FQUB5d/fGYm4hYLN6+fTvUFNQDFBI4/wPDMB6Pp1QqCaVn//79Dx48CMPiqAIAYNSoUd7e3kqlcu/evdC5rEl3ojJyuXzfvn0SiaRLly4BAQFqxAlWA0NDQ3KxtLRU0zVCdHR0KEIR7dncPwex7gVh7JZVgVU0aAT4Ic2aNeu7776r52disXjx4sXp6enao3n6giksLFyyZAn87Hk83pIlS2BsYVWOhQEU4Nyyqqpq4cKFOTk5nzy2qqoKmt7Bor29fbt27erpWNu1a0fY1UPdE9ExURxHVbrJxpCZmUmJtwwzSNF1/k8uzkMLOnqhdOWU8JNNJycn55dffoHCwcyZM+v/qGUyGeWpQoyMjKZPn07Il1Kp9OrVq3V/xuVy7e3tG3zdHA5n2bJl7u7uRUVFmzZtgjELVL2fJvDhwwfo/btkyZK6HiIagjJ4y+Vy1qJBowAArl69evz4cVh0d3cfPHgwonIv5Ofn17NnT7j94MGDnTt3fs4E7OHDh48ePSKKAwcOhClaPvljFEX9/f2JYlpa2unTpzXd7MkJYhAEoSQkZmnpxMbGUoYPqMyia8DNzc3NzMwk78EwrGvXrvQO6AqFAtoEEVXQntvyxo0blD1mZmbMWLRpFKVSSVE0qGgjoB6JiYkvX76E22ZmZt98803fvn1Hjhw5cuTIcePGTZo0afr06YsWLfr55583bdq0Z8+eP/744+zZs5cuXQoKCiJks4EDB544cQI6IKv4/FEU1dfX37Jli6Gh4aNHj86fP8+MwAAAuHv37rVr14RC4bZt24yNjZlpMJQFMxi6koF6BQIBWYQGADCmaKDIvRQVefPCprfUFCiK6ujobN26NTY29t27d5/7WWpq6urVq8PDwzXau7EAAA4dOkRkZnJ0dPT09FS9ywMA9O/fv1WrVnAOmZSUFBISsnHjxrrL2gkJCUlJSUSxY8eO9ee20dXVdXFxSUtLg8X379+/evWKmYWC6OhosnTC4XB69uxJ4zCQkZGRn59P3iMQCGiXsZRKJSV5mJ6eHr1V/Pnnn/AF2djY/PTTT1wut57z19TUfFLR0KlTJ3KOZYlE8knDh2+++YYIG1k/FhYWW7duDQgIiIiIGDt27NChQzU9hMvl8q1bt2ZkZHh7ey9ZsoSxpV0ul8vn8wnlglwup7xxFnopKyvbsGGDRCKBxfHjx4tEItUFNT6fP3XqVJg1HXa8EydO/KRZ1oULF8iJaRvsHDp27Mjj8YhDIiIifvzxR40mD6OYVevo6LCKhi8GAMDjx4/JJqUmJiYdOnSgsYqYmBjyIIsgiJGRUYcOHT5ntqMeSqWSvEiOYRi9tmYSiYSYHhN07NjRyMiI3hthHqVSSXR0CIJwOByN9ielpaVQWdmtW7eQkBA7Ozs9Pb36V3eUSuWtW7dOnjwJ+72BAwceP37cysoKaaQ6DADg4+OzaNGizZs3r1+/3s/Pz8HBQdPvrqSkZO3atVKpFKZa02hdZIRCITQth0VKN645MAyjtJ/P2bfSDsWICQbvYKbqBmGHTA0CfVZDQkLqN3C6ePHigQMHNJFamYUgMzPzyJEjRLFnz56N8hFAUdTY2JiIi4YgyLFjx7Kzs+v+Mi4ujrx8Z2lpWX9XjqIoYdGAIAjMu6n6hTUFOBMgaNWqlZOTE43nf/LkCcVE0MHBgd4YEAiCKBQK8lwFQRB6vUbFYvGZM2fg9owZM2Cy0nrIzs4mTMHJ9OvXjzwzF4lEXl5elN+Ymppu3bpVxZYJAPD39w8KCpLL5cuWLYMxh1Q5UD1wHL9w4UJ4eHjr1q0PHDhgYmLCWH/F4XDIcnNd1RILvRw/fvzNmzdwm8/n9+3bt7HTCT8/P2LUKy8v37NnT93WIpPJ4uPjiSKKoqampvWcEwZAIa/bfPjwQdPZwim2M6yi4UtCJpM9ffqUvIdsYNh0AAB14xp069bN3Nxco9p22hUNpaWlHz58oOzs3r17/Tr3FgHMmEMUYRpdzVXXp0+fe/fu3bhx4+LFi25uboaGhvVrGSQSSVhY2NSpU/Pz8zkcTkBAwMmTJ9XQMsDfczic5cuX+/v7Z2Vl/fTTTzCubZPup16kUumGDRvi4uL69Omzdu1aGq1lG0RXV5f8fGDkYAbqhQvM5D2MWV9S5F7GblkV2CFTg0CNWq9evX766ad6Vv8AAJs3b378+DGraNAQAICzZ8+SHXq7du3a2PVYDofj4eFBFAsLC69fv173lZWXlzfqPdbtmJgxtaqqqqKsUbi5udUv6DcKHMfv3LlD2Tl48GB9fX1627lCoaAYZtMrKOTl5UELBaFQOH78eA6HU/8AHx8fX3cazOVyKdYiHA5n3bp13t7eOjo6GIYJhUI3N7djx4716tVLdWNIDMNWrlw5YcKElJSURYsW1eMM30QAALGxscuXL+fz+SEhIV26dGHG0xKCYRjZdAjHcYpqiYVGysvLw8LCiKKhoaGTk1Nj37WVlRV5wnb9+vXs7GxK45TJZBQhrP7WCxs8WVqtewbaIa92InT3LSzNS35+PiVAQ+/evWk01BKLxRRFBoIg48aNo70VAQDIgyCHw/lkCCG1yc/Pr6ysJO9BUdTd3b2laxkQBAEAkEcT2h8dBT6f37179379+sGY0PU8QABAdXX1pk2bfvzxx/Lyci6XO2fOnNDQUHNzc6QJrj0GBgYhISGdO3e+cuXK7t27VQkIpR44joeHhx85cqRjx47k7MXMQDErUCqVmrtTCpSvmzKCaA7KLdcVjJsR6hdFpKNolqtRmwal/+YCykZLlix59uzZ9evXP/ezysrKoKCgmzdvEsnAWWhEIpGcP3+evMfR0VGN81COunjx4rx58yhqWsp6lypLr5QzaHScI/jw4QPFwr9///40fkT5+fnPnz8n7+Hz+QEBAbSvB8LUpOQ99CrOLS0tFy1alJqa6uHh4erq2uDFPHv2rK4i2dTUtFOnTpSdLi4uN27ciImJ+fjxo5OTk3qKHn19/f3794vF4mvXrv3yyy/BwcH6+vr0doYAgJSUlFmzZlVVVe3Zs2fYsGEML+rCpRiiWPeN0wsc/tSughg9m3KdzTiiRUVFpaamEkUzMzOhUNhYiwY+n29tbf327VtYLC4ufvjwYWBgIPk3FF0VZbL0SSjTADi8qn5VakC5JCYX5ZqX5hIF4ZfOTON//fo1Wa2PYZiPjw+Nndu7d+/S09PJeywsLAYOHEi7uwGO4+SGSukwm87Hjx8pXRmHw2lwNKyHuhf8yW2i+cEN+L3TPrpRdDSMjW71axlyc3NXrFhx9uxZAIBQKFxAzapaAAAgAElEQVS2bNmqVat0dXWb3nicnJxOnTo1ceLE7du329rafv/997TLnNDdY9WqVTY2NseOHXNxcWG4J6HcEQCAseV9yhjB2GwfmheRPxntVTQgCPLs2bO///6b+UtRGx0dnQULFjCsMGsUQqHw999/T05O/mSQecirV69WrVp15MiRlp4uSAtJTU1NTk4m74EZ1NRYpiN/ya9fv87JySE73iMIAiP5Eb9p0MABAEBelENRtEHjfFp4+vQp2a+Bz+d7e3vTOITfuXOHEqS6R48ezIQPpFdQ0NfXX79+PY7jqsz9pFIpJVkaxMPDo647KwDAxMRk0KBB5D1qvAITE5OwsLBly5YdP35cKBSuX7+exigVAIC0tLTAwMDMzMzg4OBp06YxbzpeV27WqNSSn5//999/f/z4UT0HjdjYWARBAACnTp2qu56pCkKh0MnJadiwYbRHG2kQGLuLvPhjbm6untaDYoJ+9+7dyZMnk+U/oVBoYWFBjmgDTXnrqUuhUJBfioGBgepx19WD0tK+npQTHz58uHv3bl5eXoMR8mlEIBDY2NgMHjzYxsaGgZb/8OFDsixuaGhI7wh16dIlisXN6NGjGbg12hUNpaWllA9BT08PBiNUAwDAhQsXzp8/L5fLeTwej8fj8/mUDQRBZDKZ9H9IJBKpVNqqVatt27ZREgo0HcqtNbtvFI7jMTExixcvhks1lpaW27dvnzRpEnwsTWw8UDp1c3M7f/78rFmzli1bpqOjM2HCBBp1DTiO37t3b/bs2UZGRidPnuzWrRvClOqQgDJmMalooLQfxuqljE1aZTFAbVsoikZHR2/ZsqVZrkY9RCLRlClTtFnRgCCIo6Pj9u3bJ0+eTIkMRObPP/+cPXs2Ea+bhS5ev35Ntl/i8Xg6OjpqdHwwcRpZiZCRkUFRNPTo0UMkEhF2hmlpaUqlsh7xFMdxsmWBnp4ezKOpUXAcf/r0KbkHNDc3b8oCBQWpVHru3DlKNzd37lxa9PENQvv5VV/lqJvIA+Lr68vn8ykXVvc61b5yU1PTkJAQKyurgwcPGhgYrFmzhq4ZUUVFxYwZMwoLC48cORIQEMCMuU2DaK4JAQC2bNly4MCBpp8nIiKiKWc4d+7chAkTmngZjQXHcagoIRCJROpJ3hQVQGJiolQqpdgjDBgwgJx1Ijk5uf6AYWVlZeQ0EN27d6fk9KKdBr/ZL5Wff/753LlzzVL1nDlzDh8+rOlaFAoFRSncvn17GsXIioqKS5cukffo6uqSEw9pDtr92uqafxsbG6snRCEIIpfLDx06BD981edCKIpaWFisWbOGdkUD5Y007zculUr/+uuv5cuXQ1dfFxeXgwcP9u3bl8ZmA4XYTp06nT9/fv78+UuWLDE3Nx8wYABdNx4fHz9nzhwnJ6e9e/d6eHg0u+KGYb6eMUJ1PiE18ni8lpUBQU9Pr0U05WHDhi1evDg4OPhzKi5LS0vof8VCLxRzBh6Pp940rG7KqJSUlD59+hBFAICDg8OIESNOnz4N92RkZOTl5dWTgr6srCwxMZEoDhkyxMHBQdOz8dra2mfPnpH3eHp6wugJtNT78uVLigzn6ek5dOhQRAO9sFZ168+fP68b35jD4TAQb1lPT2/jxo1du3YtKCigUZOtUCiGDh06btw4R0dH7XnUmlslQFHUxcXFwsJC7WDRxKq7QCBQr59BUdTMzIzGoHSqI5PJPn78SN6j9nSCYpr38eNHiURCiYw9YcKEAwcOFBQUwOLjx4/nzJlTz0OLjIwkHKr5fP6cOXO0p01+YbRv397MzKyedRENoaenR6PKux5yc3MpFqY+Pj40ZoW8fv065fzDhw+H0W3oqoKMRj+EugK2SCRSOzsDj8cLDg5+9+6dVCqtra2tra2tqanJzs6OioqiiGoIgnTs2BEm/NLX12/Xrh2Mg0gvWrLwCwDIy8vbunVrWFiYRCLBMGzo0KE7d+50dnbWhNQEALCzsztz5kxYWBi955fL5b/88sv48eM1bW7G0lL4RIyGgICAHj16NMvVqAeGYZrofWiHy+WuWrUqOjr6wYMHdf+rr68fEhLCzBD7tVE3vKIaHSuchFMOpHgHQB/CVatW3bt3D0rP5eXlz549q0fREBUVReSANDY2XrVqFY/H07T0nJmZmZOTQ97j6+tLl/cjjuMHDx4kS6g8Hm/FihUwQx4DE4NmlBv++eefujttbGw0ISvUhcfjjRs3Dm7T8qgBAKampitWrECaVaFT1whQoxczb968wYMHV1RUqKfOOH/+/K5duzgczrZt23x8fNQ4A5fLNTU1ZcaFioJUKqU4jKj9qCkHSiSSmpoaShQSJyenuXPnbty4ET7qqKiosrIyMzOzT55QLpdfvXqVKA4bNkz1yKlqQzm/lsxJGGDFihUTJkyoqqpiMnQ5h8MxMDBo06YNA73Nq1evKKnm+/TpQ1e9NTU1ISEh5NYiEol++uknZoKJ0m41bWhoSLblRBBEV1dXbes2FEW7d+/evXt3yv7o6OhevXqRQzNaWlpevHjR1dUVvhdmdDTN8o3jOP7y5ctFixbBFSChULhw4cLVq1fTbr5BAO/a0NBw6dKl9J7Z09OTAbPc+mnGjrq5cj1o89j0iZ7CysqqRczbWyIGBgZ79+4dOnQoJTOiQCDYvHnz8OHDW4RpRouDlqcK+2XKx1w3+j0AoH379lu2bFm8eHFNTQ2CIPv37x84cCB0u6D8uLKyct++fdBNVCAQbNq0yc3NjQEZKzY2lrxgy+VyfX196ao3Njb28uXL5D3Dhw8fMmSI5qQEyvtVKpXNkty7urqaYnYOcXNz+9zciXbovWstWS6mOFjS7oFMgcfjubi4qH14TEwM3Gjbtm2zy1uNhcYglJSu8pNeshwOZ+nSpbGxsTdv3kQQJDMz8/z58z/88ENdowYAwLNnz4hkga6urtu2bWPA9JJyJYyFLm92dHR0aE9FrFVQlMKmpqYdO3ak5cwAgBs3blDGggULFnh4eGioR9W0R3rr1q0pioYmBk385HOQy+WUy+7Xr1/btm01OgxRRhMmnfmJGqGr6erVq6G7hLOz85YtW8aMGcNMRJgv0sgUCoFEkXZnovqrJhcZC+tT95a1ZzpJvQ5taCJfMNAzasuWLWTFNofDWbJkydy5c7+eQFMMQ069jiCIUqlUbyypq1bQ19en7IE9WmBg4JQpU+CeZ8+erV27lpKyGABQUlLy008//fvvvwiC8Pn8ZcuWzZgxg5mu4e7du+QijUvuEolky5YtZC1G69att2zZQqNJKgUMwygfjlwub5Z+LDs7OyMjo+5+f39/DoejzfpmLYcSP5mBXAN00eJeOgzGRt6jUCjUuwtKb8nhcOp2AgAAmG4Nmm8AANauXfvPP/9QZCYYHW3OnDmwY2nTps3x48ednZ3VuKrGQlmCZvOqfhlIJJLo6GjyHldXV7qclcrLy4ODg8k6qe7duy9btgzDMA11CCiKku0LAAD0asTs7Owooo5UKqVd6RYfH08RzIYOHcqAyRK5x6P90dUPAKCsrGz16tXz5s3Ly8vDMGzYsGE3b94cO3ZsSxnjtJO6ow9j4aUoVTOWqIhiishk/pQG0YrIXl8PhGeUQCAgmkVAQMCvv/769eTNYh6K54JcLlcvnnxNTQ1FUPikTwQAoKqq6tWrV46OjhKJJC8vLyQkJC8vb+HChU5OTnw+XyqVvnnzZteuXffv30cQxNraevny5fPnz1fb6bFRVFVVvXz5krynU6dOtMRUAwDcuXPn9u3bxB5oqkOYPmoCLpdLGZIZS1xM4dmzZ3WrFggE3t7ezWJh8cVASYKNYZiWxKT88uByuRYWFmR9Wd1OT0UoQS5MTEzqxoKF22/fvq2oqOjatWtiYmJxcfHUqVOXLl06atQoaAVWUVFx7dq13bt35+Xl8Xg8T0/PXbt2MWYqQok0IZFI2G/5C6CwsJASDqBPnz609CoAgOPHj5NHWGNj4+DgYFNTU821HAzDyAIkjuP0zpbNzMzatGnz+vVrYk9ZWVndkCtNAcfxFy9ekLsaPT09Dw8Pus7/OTgcjkYfXT0AAD58+LBkyZJr164BAPT09ObPn//LL78YGho22OUS3jFMrtW3IKRSKfkZ1l2O0mjV5KLm1tjqr5fL5WqPmKQt1/GVAABISkqaM2cOETGuT58+e/fupbG/ZqmLm5sbl8slxg8cxysqKtQY9YuLi8lFPp//uZgaJ06cSEhIuHbtmo2NzfHjx2/cuHHjxo2bN28aGxuLRKKKigroHerg4DBy5MjZs2e3bduWsUXvDx8+UJJ79+/fn8vlNl0MKigoWLNmDdHfoSg6f/78CRMmaHQg5HK5FAWNJgKYQfvGmpoaDMP09PRgymLyD3AcJ+y6yVhZWTVo/AnNW5KSkgQCQceOHXV1dVnRgYxSqSQPonXfOAtdYBjm7u5OXuytm9lORSjxa1xdXQUCwSfdx3777Tc3N7dLly49e/bs+PHjT58+Xbt27bZt20xMTDAMKy4urq6u1tXV9fX1nTlz5ujRozWdaYIMZSGXVTR8AQAA4uLiyFF7ORwOXfE+Xr9+vX37duKT4fP5GzZs0HQwEQzDyF0iJQts09HV1f3222/JioaCgoKSkhITExO67ksqlRJOZxBHR0dKSi9NQLG0oow1mgNaac2bNy8+Ph5BkNatW2/fvh3mdWqwhwEAFBcXR0REyOXyQYMGtWvXju2RKFCEQMYyBlDS1SMIwlhqBcotC4VCOKfQhrbBKhoYpbi4eN68eYQq3dXV9fDhw2qnI2ZRBQCAo6Njq1atyHkHc3Nz1fj8cnJyyDJ369atPzkQisXiY8eOtW3b1tfXV0dHZ/v27cuWLYuJiYmJicnNza2uroYJ5L29vbt162ZjY0P0gMz0CJGRkeShFMMwHx+fpvdHCoVi27Ztb968IfYMHDjw119/ZSD8FUVPp3a+gM8hk8n++eefEydOxMfHCwSCoUOHBgUFmZubk5+YRCKJi4ure6yHh0eDIw2O4ytXrjx79iyGYeHh4WPHjqX3+ls6FLmZx+OxigYNgaKor69vWFgYYcNcWFhIcTpVkdzcXHKxR48en+wKHj16FB8f//vvv5uamo4YMWLQoEHp6emPHj1KTEwsLS1VKBQGBgYuLi7ffvtthw4dRCIRw2KTgYEBuSiRSJRKpfaYpLKox9OnT8mt2tDQkJYADWKx+JdffiksLIRFFEVnzZo1e/ZsTTcYLpdLni0rFAraZ8ujRo0KDQ0lHppUKn3x4kVTYtlQyMzMpEQu8/HxYUB4oDw6hBGLSKVSef/+/VmzZn348AFBkE6dOoWGhnp5eanYTgAA+/bt27RpE4IgiYmJR44cYf0sKMD4aAR1fZw1hEwmo1jEMFY1Re6FDuPaoGVAWEUDYwAAKisrFy5cSCx7tmrVKjw8nMaemuWToChqYmLSt2/f48ePEzvfvXunxtSaPItGEGTIkCGU6A+Q9+/fJycnjxw5UiAQwFosLS2HDx8+fPhwBEGUSmUzjgo4jpMT1yMIYmNj03TXBqVSefbs2dDQUGKPt7d3aGiosbExA2YalCxKdZOMNAWZTLZly5bt27cT8sfr168zMjLCw8PJAkpGRgZZk0XQrVu3+l83ACA7O/v69etQEc7YsNSCqKmpIc8KWlwC5pZF7969TU1NCXuEioqKgoICBweHRp2ktLSUSKaDIAifzx8xYkRdMRoAcPPmTYVCQSzK8Xi8du3atWvXDvlf+O7mndVTrCfEYnFzBRVnoQuFQkEZBDt16mRmZtZEbbtMJtu9e/etW7eIPWPHjt28eTMzs2Wytr3usmoTAQB4eXm5urq+e/eO2HPr1q1x48bRZZ4dHR1NtjFBUdTPz4+Bbx+aKJL30L5QQUEul587dy4oKKikpARF0YEDBx44cMDJyUlFSQkqKUJCQmCRNWf4JJSYaMbGxsw8JZlMRl4UQVGUsRyflZWV5KKJiQkz9aoCq5hnCJlMtnHjxosXL8KiSCTat2+fl5cX20cww9SpU8mroNHR0Y0N60Ux7dPR0Zk4ceInB8K0tDSZTFZZWflJwaV5dc9isfj58+fkPV27dqWs2jUWHMdv3LgRFBRECDcdO3Y8evRoq1atmDHcouR0KC8vp/Hk9+7dI2sZIFeuXElNTSXviY+PryugcDgcd3f3Bs0g//zzT+iV06ZNGwa8Ulsc5eXlZKGBz+ezigbN0bp16wEDBhDFqqoqioJVFdLS0mAEdUj37t07depU92cKhQLa9xFzDPLHog3hrCjZgqqrq9Wz72DRHnJzc9PS0sh74OJ5U4YquVx+5MiRzZs3E81jwIABBw4c0Fx6QjJ8Pp8yW6ZX246iqIGBwbRp08iP6O7du4TtRtOBeWcIdHV1u3btyoDwwOVyKctFlKSn9KJQKMLCwubPn19SUoJhWGBg4OnTpx0dHZGGFp+h82ZeXt6hQ4cCAwPhRerr68NQ05q74BYKRQikpFXWHBKJhGxMxOFwmOkBkOa7ZVVgLRqYQKlUhoaG7tu3Dy6G8Pn89evXjxw5ku0gGKNHjx49e/YkMlrFxMTk5+fb2dmpfoaMjAyywN2/f//PzQnhfDshISEvL8/GxkardEkZGRk5OTnkPb17925KO5RKpREREUFBQaWlpQiCoCjarVu3Y8eOMalot7CwIBdLSkroUnDI5fJdu3bVtaWUSqWUnTCuJwUej/e5KB4EWVlZhw8fhhPpadOmNX1h7cujrKyMkpGedZ3QHBwOZ/HixdevX4eTfwDA5cuXhw4d2qhe4vLly4Qml8vlBgUF1Y0ECYFi2T///DN8+HAtNAA2MDDg8XjEIlVlZeXXk+HyS+X169clJSVEEUXRJsZQqK6uPnDgwIYNG+CgwOFwhgwZcuTIEUtLS2Y6cy6XS5nPkG+QFlAUnTZtWnh4OGHUkJ+ff+7cuR9//LHpcmx6ejolwpGTk5O1tTUDT6/umjMluAyNyGSyQ4cOrVq1qra2lsPhzJkzZ8OGDXw+v7y8XFEHmUwmFotramqqq6urq6tzcnJevXoVFRWVmZlJjIZDhgxp164dKzDUhTLrNjMzY+YRicViskWDnp6ejo4OM1VDCZzAwsJCe1oFq2jQODiO//XXX6tXr4aCF4ZhQUFB8+fP155AHV8Durq6GzdujIuLg5rg4uLiy5cvL1q0SPUx8ty5c8Qqgamp6bp16z4XTtbKygpBEJhsYt26dQxYTqpObGws2XuNz+f36NFDvUYIIxIFBweHhIRA3QqXyx07duyOHTtg2m3aLrohbGxsyMXS0lIcx2mZtFRUVCQkJHyyxlatWhHFnJycO3fu1P2ZqakpZUWUQm1t7erVq6FvaqdOnX744Qc2iHRdoOaIKFpbW7MqWs0BAOjWrdvs2bP37NkDH/uNGzeysrLs7e1VbJklJSWE7R6CICNHjhwyZAjyqSU7Dodjbm6OIMi5c+emT5/u4eGhbW/W2NiYy+USsmNFRQWraGjp3Lt3j1w0MTFxc3NTr9fFcTwrK2vNmjXnz5+HDUMoFM6ZM+fXX3+FboOMdeaUUF8FBQX0nh8AYGFhsXXr1kmTJhFh53bs2NG/f//OnTs30RgkODiYMr3v3r27np4eM0+PPJQjCFJQUKCJFyeXy/fv379mzRqojeLz+W/evBkzZoxcLpdKpTKZTCqVkrdhXmG4NonjeF2PLQsLizVr1miVeKkl4DhOmXVbWVkx05ZqamrIXksikYiSt0hDwAj35D0Uqbh50a5B/csDAPD8+fMlS5YQZtWjRo1avXo1jL/NzihopH4PN+hkuGrVKsKl8NChQ0VFRSr6xWVnZ4eHh8NtLpe7Zs0aDw+PT74+AICzszP0j9q7d+/+/fsLCwvh4CGXyxUKhVKpxP8v4H807obV4sGDB+SipaWlGlFCAAByuTw6OjogIGDnzp2wYzU1Nd2wYUNYWJitrS3DDZsiY5WVldE1GVAqlZ8MDTV58mSiUhzHQ0NDKXYiEGNj489powAAEolk9+7dFy5cQBBEJBIFBwczNhy2LCgyqLW1NfuUNAeKohiG/fzzz0QKyaKioqNHj6roMoDjeEREBGGabm9vv3nz5s8JWxiGde3aFUGQkpKSmTNnPnv2rLKyEnaV2tBbIghiYmJCFuUrKyuZCUpPwNidfiVIpdKoqCjyHhcXF6jtahSwA799+/aIESP+/PNPOOLY2tqGhIRs374dCgBMdlOU2TLZcYkWYGr2oUOHLliwgNAG5ufnBwUFqS5H1QXH8atXr546dYqyv0+fPozpHFu3bk0u0q6jQRBEoVAcO3aM0DIgCCKRSB4/fvz48eOoqKiXL18mJiampqZmZWXl5+eXlpbW1NRAoRFaN9TVMvB4vHXr1tESwfTLA8dxiv+LpaUlMx9jdXU1eYAwMDBgRtGgVCopt0yJVt68sBYNmiUpKWnatGlEWCw/P7+QkJBPRhBkaSwAAPLiPIwH/rkfw09u0aJF0FJdqVQmJyevXr16z5499UcyBwCUlZX9+OOPMNQfhmELFiyYO3fu50ZBFEVtbW2//fbba9euicXiFStWHD582NnZmcfjcTgcDMM4HA4MdCz8Hzo6OiYmJq6urnZ2dlZWVjo6OhoyIS4rK4uMjCTv6datW6NaI4wy9ebNm/Dw8HPnzsGuTSAQ9OvX77fffoOBDxm204ErLXw+n1h1LCkpkcvltFjX6+joWFhYZGRkEHt4PN6AAQOWLVsG7xEA8PDhw3379iH/a2Nkkau8vLympqZuA4ONatu2bXv37lUqlUKhcMeOHQMHDtSegUGroEh+dnZ27INqLJTgWJSg3HUxNzcPCwsLCAhISkpCEOTAgQNeXl5DhgxpMLJpZGTkhg0boGRsZWUVFhZWv/fQqFGjduzYUVVV9erVq0GDBnXs2NHMzAz2k/AvDMmhq6tL/G3durWTk5OdnZ2RkVETXesbxNjYWCgUEoa4CoWitLTU2tpaczVSoORULikpwXFc2+w+WhCZmZmE8T+kX79+jRoscByvrq6OjY0NDQ29fv06XN7X19cfM2bMqlWriGTGDPdRlHCtHz9+pL0KFEW5XO6vv/6ak5Nz9uxZ2J/cv39/3rx5ISEhaszlFArF3bt3Fy5cqFQqvby8iKy6QqEQ6h+ZoU2bNuRibm4uvTIMDJW9fPlywrPG0tKyTZs2FhYWhYWFSUlJjY0qhWHYkiVLpk+fzvYDnwTHcXL0EAzDGOuxi4uLyVohExMTZuJJKZVK8kjB4/G0K5shYNEY+fn5PXv2JB61q6trUlISeU3m66SiogJ+AxiGPXnyRL2T4DielpZGds63srJKTk5u8PFWVFR8//33UFzmcDhz586FXcPnaiksLJw6dSocdTAMmzFjRmVlJWVtre5R9+/fb2wMGD6f36pVqz59+gQHBycnJ0PDObpQKpU1NTV79uyhjEybNm1S5XCFQlFVVZWVlfXnn3+OGDGCiMSOoqirq+sff/xRVVXVjA377du3ZHVJ69atS0tL6Tr5smXLiDObm5vv2bOnrKwM3qxCoYiJiYER8hEEGT169DfffEN+vCiK7ty5UyaTEWfDcVwsFj969Mjf3x82KqFQuG3bNvJvWMgolcrAwEDyUz106JA296L79++Hfcvff/+tJdepUCiCg4PJz3D27NkSiaT+y8NxPCoqytnZGR5iaWn5119/1dNQlUrlw4cPiQmPhYXFpUuXlEplg9c2e/bsRnWVCIKIRCJXV9fAwMCLFy8S36MmkEgk5I+ay+Xev39fQ3WRwXFcKpVmZGR069aNfONWVlaxsbENvjuWuuA4Xl5evmDBAkpbunHjhiqHKxSKysrKlJSUI0eO9OnTh5g/YBjm6el55coViUSi6VuoB4o/iKenp+bGlKKiouHDh5On4v7+/q9fv27wYyfAcbykpGTXrl0mJiY8Hm/16tVv374lpkZt27atrq7W0MXX5cWLF2T9abt27aBali6ePHlCxKsWCoWLFi1KSkqCYWWrq6sjIyNHjRqlugcEhmEzZ85sXolLyxGLxTC+JkQgECQkJDBT9cGDB8kva+LEiczUW1VVZWtrS9QrFAphZj26IDLKeXt7q9GxsBYNmqKysjIoKOjx48ewaG1tffTo0QYjw7HUQ01NzdWrV6urq2UyWW5u7q1bt8hqy/z8/O+++27gwIGtWrXi8/m6urrjxo2ra7ZkYGAQEhLi6uq6b9++goKCw4cPv3v3bu3atd26dRMKhRwOB5oIAgBqampiYmLWr18PX6KVlVVQUNDChQvhOetReMPMTDt27Fi+fDkl5Uw9yGSynJycnJycBw8e7NmzZ+XKldOnT1c7b3xeXl5sbGxhYaFYLK6trS0rK4uJiYmMjKTY4N25c0dPT08kEn1yoRKKVqWlpQUFBUlJScnJyXA9DUEQHR0dFxeXSZMmBQYGNrszmIWFhY6ODhG4vqysTCwW05VVaOXKlTExMbANVFdXx8XFWVpaOjg45OfnP3r06PTp00VFRTD61+HDh/Pz82fOnPnixQv4lAAAv/32W1paWv/+/a2trQsKChITEx89evTkyROxWIyiqLOz84YNGwICAuhKEvblgeM4OVEihmHM++a0RF6/fh0dHa1QKGpqapKSkqCHDsGJEycqKiq6dOliZGTE5XI7dOjg4+NT96l6enpevXp15cqV9+7dKygoCAwMXLBgwZw5c2xtbXk8HmHCo1AoCgsLIyIitm7dWlxczOVyu3fvvn37dl9f3wbX3DAM27JlS3Fx8ZUrV4DKBthVVVVVVVXv378/c+aMr6/vtm3bunfvjmEY7Q2Dy+Xa2tq+ePECFpVKJbk10oVSqbxy5UpVVZVCoaitrYUR4NLS0p4+ffrhwwfyL/Pz8wcPHuzj49OhQweRSKSnp6erqwvN5caMGcMmxyUAAKSlpcG4j3AQLCwsjIyMjI2NpSbmkUsAACAASURBVPzyxIkT6enpenp6n2yrcrm8rKystLQ0Ly/v3bt3qamp0I4PRVF9ff1OnTpNmzZtwoQJlDSozGNpaamrq0v4h8NBUEMR783MzE6cOLFp06ajR49Cz/C7d+8OGDBgxowZkyZNcnJyghYide34iL7in3/+OXToUGxsrJmZ2c6dO3/44Qcej7dw4cK1a9fiOA71OIAR00gAgLGxsYGBAWF5XlFRUV1dTdenVFRUtHjxYrjabGdnt3v37pEjR0JxC0VRoVDo4+Nz9uzZkydPbty4sUE7FGNj4x9//HH58uXMGOS3UKqrq8mCt1AopMQL1xyU7pqxGV9VVRXlltVwB9Mg9Kg7WP4vEokkKCiIGLdEItFff/2lurr3y0Zti4aPHz/CSKr1Dz/wB0ZGRjCozydRKBRxcXHfffcdzOyop6fXu3fvbdu2Xbhw4e+//75w4cLWrVt79+4NVy0MDAwmTZr08uVL6CzXoCIZx/GioqJz5861b98eXo9AINAhIRAI+Hw+j8fj8XifM0XGMGzKlClFRUXq6a1nzpwJk8Op8rg4n4d8LIZhULT64Ycfbt68WVxcDD2o1bg8eqmtrSUnz+Pz+c+fP6flzPDu0tPTBw0axOPx4Pmh8wvx4vT09BYuXAjtYnAcz8nJCQoKomTcpByCIIixsfHs2bNTUlJgt6ANj1E7obxcgUDw+vXr5r6o+tASi4YdO3ao+PkjCDJ79ux6LrWqqio8PLxLly5QHda6devAwMCjR49evXr1xo0bJ06cWLBggYuLC+wxnJycdu7cWY+ZGAWZTJaYmLhq1So4OYFuZZ/sLblc7ufuxdzc/NSpU3K5nL7n9/+zePFicl07duyg/bVKpVLiATYqeBPRe+vq6mZlZdF7VS0aqVQK/fwpo1j9j7HBQZDH4xkaGnbr1m3p0qUPHz6sqKiAjaHZO/Dc3FyysbSZmVlOTo5Ga5TJZP/++y/F8cTc3DwgICAsLCwyMjIrK6u0tLS0tLSoqCg1NfW///47fPjwlClTHB0dMQwTiURjx459/vw5YbxZXl7ev39/DMOuXbvG5POsqKggO57o6uq+f/+eljPjOL5582Z4Wmtr68ePH39uFqBUKuPj40eNGvU5Lx4+n9+zZ8/79+/L5XJVpNCvmcTERLKeqEOHDtAMmYGqJ0yYQH5r586dY6BSAMDLly/JuqcuXbrU1NTQeMusRYPWoVAo/vjjjwMHDhDJLNetW8cms2w6AoGgb9++EomEx+NB6ZOYrsNsQBAYvJfL5dZjjcbhcL755psTJ05ERkb++eef//33X2xs7H///QcnhFChoK+vb2tr26tXr8mTJ3t7e8N5ZoMii1wuv3fv3vr16+Pi4ng8Xr9+/fz9/V1cXIhpKgBAoVDAUGdyubyysjI/Pz8jIyM9PT0rK6uoqAhGmlAqladPn8Yw7ODBg2p4efn5+ZWWlhLRodUGKt0NDAxMTU3btWvn5ubm7OxsbGysVUvKXC7X3t6eSD6qUChyc3NpOTO8TQcHh4iIiIsXL545c+b9+/disVgsFvP5fH19fXd39/nz5/v7+/P5fAAAiqI2NjY7d+6cMmVKRETEo0ePsrKyYC5MHMd1dXV1dXUtLCz69u07fvz4rl27EmuwWvU8tYra2lpyMEh9fX3GVidaNPb29kOGDIGdpEAg4PF4cBtFUdn/RSKR1B9UTE9P7/vvvx8yZMjFixevXLmSkJBw9uzZU6dOwZm/XC7HMMzExMTHx2fYsGETJ05U0eQEAFBSUrJ///4jR44UFBTY2NgMHjy4R48eZGdvHMfl/0MqlZaWln78+DE9PT09PT07O7umpgYAgCBIUVHR/PnzjY2NhwwZQvunRAmXm5GRAehea+VwOD179mzbti2Xy+VyuVABDXUrBPBRw+BwSqWSGEQgKIp+Lu7s1wmHwxk0aJCBgcEno/k2ChRFRSKRSCSysLDo0KGDm5ubvb09NBYgWkKzd+AmJiZwcQUWy8vLKyoqNBo3l8vl9u3b19PT89q1a0eOHImPj6+uri4qKrpw4cKFCxf09PT09fV1dXUFAkFtbS200xGLxVwu19LSctKkSTNmzPD29hYIBOB/dkyGhobHjx//448/PmldpTlEIpGlpSURiQmOOGoEya6LUqmMioqC2tItW7b4+Ph8bhbA4XDc3d3//PPPy5cvh4WFJSYmwomiUCjU19fv3Lnz+PHjR4wYoSETlS8MGH+dKLZu3RpG39d0vUqlkix5YhhmZ2en6Uoh+fn55Ajobdq0IUwOtQFW0UAzOI5fuXKFSGbJ4XAWLVq0YMECLcwQ3uIwNTU9efIk8j+bBfIG8j/bHPJGPebo8Cg+n9+nT59evXqVl5enpqZmZ2eXlpZWV1eLRCITExNbW1tnZ2cjIyPVNURSqXTXrl3btm2rqqqys7PbsWPHsGHDVFETQGExJyfn7t274eHhcXFxUN1w5syZ4cOHjxkzprFdxpQpU7777jtAR8RyuKSjyrpQc8HlcglPcuR/KcfonQwYGBhAu1C4PlNaWioSiaysrMzNzYklCKI6FEW/+eYbDw8PKLKUl5dXVVXJ5XIjIyNTU1MTExPGEnd9ARQUFJDzRbVp04aZ6EotndGjR48cORL5XydJng5R+skGvxToTWZubj5v3ryZM2fm5ua+f/++sLCwrKwMAGBsbGxmZubk5GRrawsXVVTsdjIzM2fPnn3//n0EQcaMGbNp0yZXV9cGB0qoqJVIJAkJCefPn4+IiICTq6qqqhUrVvTo0cPExITej6t9+/YcDodwOoOrnTSeH0EQDMMOHz4Mt8lvqu4klnhldf8SumwWBEEwDFu+fDlcQG762QjrBsp+7enG+Xy+s7NzcnIyLCqVyszMTCJ+kCaA966vrz9p0qSRI0cmJiY+fvw4MjIyIyOjpKQEOiBUVVVhGGZgYGBlZWVhYeHu7u7r69utWzcbGxtCPCOLcK1bt163bh2iQqdE7420b9+enIskNTXVx8en6WfGMCwkJCQ1NVUkErm7uzcoSerq6k6aNGn06NHZ2dlFRUUKhcLMzMzc3BxGvW369Xwl5OTkwPkXhLzOp1HEYjHZm9vAwICSC0ZzZGdnk29ZlZGUSVhFA50AAGJiYhYvXky4i48aNWrt2rVsH0ELKIrW01+oPSxhGGZqampqaurl5aXupSEIggAALly4sGHDBqlUKhKJQkNDiYB/DQLXrBwdHefNmzd+/PgVK1YcP34citRHjx4dMWJEYzvK+p/Vlwf0UiFITU3VhKSio6NjY2PTYEwKYnogFArbtGlDCWrN0ijy8/PJa5IODg6se6oqYBj2OVFDje+COITP59vb29vb26vy43qorq5etGjRv//+iyBI7969Q0NDVVQQwJ6Nx+P5+vp6e3t/9913U6ZMSU9PRxDk7du3Dx48GDt2rEq3pDLQ55zQdmVmZkIjDhqrUL271p6ZrZYDlWtflRlphw4dbt68CbcBAKmpqYxVraen5+np6enp+eOPP0IVA9QyAAD09fVFIpG+vr6+vj5Uyn9uaG5G2xCKSRdUJjb9SlAUtbW1JUfpUwVdXV1XV1c2oJvaUFq+m5sbM42qpqaGnCHL1NSUsUAJRD5pSMeOHbVqpPiKemFNAwBITk6eMWMGkcG4V69eBw4cYOMzfSXk5uauWbMGmmzNnTu3f//+jf3U4e9NTU137dpFJLF/9uxZdnY27Vf7heHu7k4W/d++fUv7qiNLs5CVlUUkLkUQxM3NTatU9XVhG54qnDlz5vbt2wiCGBgY7N6928TERI2ToCjq7e29d+9ewmvg/Pnz9SQ5VgMAgImJCXlhqrS0lLxsxcKiJVBmF+/fv6fEfmYA6EVlZ2fXoUMHLy+vHj16dOrUyc7OztTUtK7pn/bQvn17sgHs+/fv6e1GWJjk7du35KKbmxsz9ebm5pLzRnfu3JnH4zEjD8As1BAOh9O5c2et+spYRQNtFBUV/fDDD0SKZldX19DQUCsrK0QrO1YW2rl27VpWVhaCIEKhcNq0aU1ZSzE0NJw/fz48Q3l5OUVbyVIXOzs7cpqJtLS0prvmsmgDFKGByfzq6kFEFP+qVlMbhUwmO3bsGBTl+/bt26lTp0ZFQCSAh/j7+xM5IN++fUt2tGk60D+fbMFRUVGRn5/PqpNYtApo/08OJZiSkkJ2225GtF8AdnZ2JhvKZWRkkLXbLC0IhUJBtmgwMzNr3bo1M1VT9FNw9YuBxi+Xy8m3bGFh0eyZ4CiwkhA9VFZWLlmy5NGjR7BoZWUVFhbm6uqqnvzE0hKJiYmBG1ZWVk0MwoSiqJubG+FxQzbHYvkkMKYGUYQpOZvxeljoIiEhgdjW19d3dXXV8jmeq6urgYGBiYkJOZI5C5mSkhKok0UQxMPDo4m5Xfl8vru7O9wuLS0lhwGjBRRFCUUGgiBKpTIlJYUd1lm0DUdHR5hFC5KSksLOllXExsaGHGM4Kyur6YG0WZqF0tJScgbiVq1aMea/8O7dO8KGCEb3ZGaYKC4uhvlTIba2tupZCGoOVtFAA1KpdP369efPn4dFAwOD/fv3+/r6srLIVwW9Zork2RTMaEDjyb88BAIB2UCuoqKCktCYpSVSXV1NNuexsbHRaBx1WujVq9f169dv3rzp6OjY3NeipRBxKBGaVjuJs3G5XE0YklAiw8XGxtJeBQtLUwAAGBgYkHMlFBYWsj4+KqKrq0sO01BZWUloQllaFvn5+eQ0VV5eXszIz0qlkkh8hiCIjo4OOS23RsnJySkpKSGKjN2y6rCKhqaC4/jRo0eJZJZcLveXX34ZNWoUazf7tdGlSxe4UVBQAFNYq30qAEBCQgJcjhAIBLRkWvri8fX1JRfJK+EsLZTCwkKyZUqXLl309PS0agStC4/H69WrV/fu3Zkxm2yJmJiYELadL168IIfLVgOpVEp87M7OzrQnJQEAQCsVYk9CQoKWGKWzsEBQFOXz+Z07dyb2iMViGCSVpUEwDPPw8CCKUqk0JSVFywcalk+SkJBAHlBgqlQGBmKZTEZ287S3tzc3N2emCVHGIygJa5XswU6GmwSO43/99dfPP/8M54QYhi1ZsmTJkiVaHq6sfgAASqUSx3G2n20UY8aMgdJzTU3N7t271Y4RAAAoLCzct28fVF35+fm1b99eq3oN7aRr167kTPLR0dFsA27pvH37trKykij26dMH0bIRtC7kLKfNeyVai0AgIKLY3Llz5+HDh2qbg+E4fu3atefPnyMIwuFwpk+fTnZTpwUURe3s7MherxkZGRUVFfTWwsLSdPz8/IhtHMfJS6ws9fPtt9+SVwdfvnzZjBfDojbPnj0jtnV1dYn1P02Tm5tLdtlwd3fX19dnRgaIjIwktvX09BgLfqk6rKJBfQAAz58/JyezHD58+K+//ioQCFq0iJmenh4cHMz2s40CAGBnZ7dixQqYpez06dNHjhyRyWSNnesCACorK5cvX/7ixQsEQYyNjWGL0shFf1k4ODiQnfHevXtHb1g4FuZ58uQJsS0QCLp27dqiu1YWCIqigYGBPXr0QBCktrZ24cKFr1+/VkPXgOP48+fPly9fDuMyDBw4cMyYMZpoIQKBgLzgmZubW1xczOoxWbQNDw8PskUPq21Xnfbt2xsZGRHF2NhY5nN2sDQRmUz26tUromhlZcVYpKTk5GTyooifnx8z680SiYRsvduqVSstzKfOKhrUJyUlZcaMGYQSy9fXNyQkxNDQsHmvqokAAA4fPrx+/Xo2jGWjgI/rhx9+WLp0qVAolMvlP//889q1axslj+I4npqaOm3atDNnziAIYm5uvm/fPop7MMvnMDAwIGuvMzIy2MlAi0Yul8OVaoiVlRXrQ/TFYGxsfOzYMS8vLxRFU1JSxo0bd+fOHalUquIHCwCQSCSXL18OCAj48OEDh8Pp3bv3wYMHhUKhJj55DodDDrokk8ni4+Npr4WFpYnY2tqSM6TEx8ezQQ1VxNLSsm3btkQxKSmprKysGa+HRQ1KSkrIiR69vLxo96T7HE+ePCE0UwKBwNvbm5l6i4qKUlJSiKKvry/ZsFdLYBUN6gAAyM/PnzVrFuGT07Zt27CwMGtr6+a9sKaTkZFx+vRpb29vxgKZfEno6Ohs2LDh0KFDjo6OMpksODh41KhR586dKygoUCgUn5OAAQAymSw9Pf33338fPHjwlStXUBT18vK6cOHCpEmTOBwOq/FRBQ6H06tXL6JYWVlJyYzI0rIoKytLTEwkij169ND+AA0sKgIAaNu27aVLl2bOnCkUClNTUydMmLB48eLo6Ojq6up61hJxHK+qqoqMjPzhhx8CAwOzs7P19fXnz59/7tw5uJKjod7S19eXsCwDADx79oxd8GTRNoRCIXmGk52dnZ2dzfaZqsDlcqFrHqSwsJCNcNGygKHNmsWsQKlUEjkHEQRp06YNY6GgX7x4UV1dDbdRFPXz89PC+IBNSiv11VJdXb18+fLHjx/DooWFxeHDh8na0BaKXC7ftm1bfn7+pk2bmphy7KuFx+NNnTq1R48ee/bsuX79enR0dHR0tIuLi7+/v5eXV8eOHQ0NDXk8HoZhCoVCLpcXFBS8efPm0aNH9+/fz8nJ4fP5rq6ugYGBc+bMMTMza+67aUmgKNqrVy+BQADtqHEcf/r0qb+/P6umaaEkJCSUlpYSxd69e3O5XPZtfhnA92hjYxMSEjJkyJB9+/bFxcWFhoaePXvW09Ozf//+Hh4ejo6OAoEABtBWKBS1tbVpaWkvXry4e/duXFxcTU2NoaFh//79g4KCBgwYAAcszTUPJycne3t7YrksKipKJpPp6upqqDoWFvUYOHDgsWPHoHJBLBa/fPnyCxBNmaFfv37BwcEwrp5CoXj69Kmnp2dzXxRLI4iMjCQiQero6PTs2ZOZevPy8pKTk4lir1694KKIpsUVAMCTJ0+USiUs6urqMmZJ0SjYyWSjgcksz549C4sikWj//v29evVq6RIwjuMRERGnTp2ysrIaNGiQFmrFWgQoisIo5QcOHFixYsXDhw///vvv+Pj4o0eP/vHHHxwORygU6unp8Xg8iUQiFotra2sBADwez8HBYciQIUOGDPH29iZSOrf0RsUw7du3d3R0fPfuHSw+fPhQLpezES5aIgAA+PpgUSgUkuOcsXwx8Pn80aNHDxw48NWrV7dv33748GFCQsLTp0/hv4RCIbR9FYvFNTU10C7M0NDQy8urT58+/v7+nTt3Zma2LxKJ/Pz8CEXDu3fvcnNznZycGKiahUVFAABeXl4mJiZEurs7d+6MHz++RYcnZwYAQJcuXWxsbIjE2Pfu3VuwYAGMusWi/SgUin///Zcourq6tmnThhkR+vnz58QXh6LooEGDEEakd5lM9uDBA6LYoUOHVq1aaeGsgVU0NA6lUhkWFkZkBOByuWvWrBk7dmxLn5YDAOLi4lasWCGRSPr3729padncV9SCgd85hmEODg4ODg6BgYGFhYUfPnxISkpKTk4uKyurra2Vy+U6Ojq6urrW1tbt2rVzdXVt1aqVsbGxFvYRLQg4GSAUDW/evMnPz9fC0DgsDSKXy+/fv08UXV1d7ezs2K/jSwWafHt7e4vF4tzc3NTU1KSkpMzMTKiKRVFUR0dHJBI5Ojq2a9fO0dHR2tqaeU/UkSNHhoaGwrXiysrK2NhYVtHAolWgKGptbe3h4fHPP//APdAXqaXHDmMAFEWNjIx8fX0JRUN8fHxZWRmx6sOi5eTk5JADNPTu3VtPT4+Zqu/cuUM4KBkZGXXv3p0ZWSUzMzM1NZUo9unTh7GYFI2CVTQ0AhzHr169unr1arjOxuFw5s+fv3jx4pauLYZahsmTJ+fl5XE4nMDAQNZvgkYwDLO2tra2tvby8oJ7AADQqoqdONHOhAkTwsLCoPVjWVnZ06dPWUVDSyQzM5McYmPYsGGMCQ0szYhQKHR2dnZ2doaLQgiC4Dhet6tsFrdzLy8ve3v7jIwMWLxy5UpAQEBLX2Ng+cLg8XijRo36999/4TeSnp6elJREyB4s9cDhcEaPHh0REQHXEQsKCmJjYwcPHszKaS2CJ0+eEL6WGIaNHj2amXqrqqrIARp69OhhaWnJgN8EgiBPnjwhEi1zudyRI0dqukb1UHWMJJwkpVKpKjGQ4O+lUqlYLJZKpUqlUvVo0gqFAlqVq1gXMwAAoqOjFy5cSMQaGTVq1MaNG1u6YTaO49HR0RMmTICRS9u1awezjrFoDhRF2RCPGqJr167Ozs5E8fLly9rTh7CozsOHD4kRVCAQjBgxgg1p9nXyya6yWTpPExMTf39/ovjkyZPi4mLmL4OFpX6GDBlCmDDIZLK7d++yg6CK+Pn5WVlZwW2lUnnr1i320bUIAACXL18mig4ODl26dGFmmEhMTCS0zwiCjBw5ksfjMVA1juPkW3ZxcXF3d9fOaUXDC9cAgNra2jt37ty8eTMnJ0ckErm4uIwZM6Zz5851nyYAQCwWp6SkPH369NWrV0VFRVVVVYaGhubm5j4+Pn5+fjY2NhiG1X0WMJT069evHz16lJaWVlxcXFtba2Bg0KZNm2+//fbbb781MTFpRsMBAEBKSsqsWbPy8vLgHm9v7/3794tEoua6pKYDdTq3bt1asGDBx48f4c6JEyfq6+szo41jYaEdkUg0atSobdu2weLjx4/z8/NtbGya96pYGoVSqbx06RJR7Ny5c6dOndgeiaXZGT9+fHh4OAw3+/Hjx+jo6GHDhrEtk0V7AAC0adOmZ8+e169fh3uuXr26fPlyNnBpgwAALCws/P39w8PD4Z5bt25t3LjRyMioeS+MpUEKCgpgZB/IiBEjDAwMmJnI3L59WyKRwG2ojGbGzC03NzcmJoYojh07lpkIlGrQ8OOoqalZunTp1KlTIyMjURSNi4vbsmXLgAEDNmzYIBaLyatMEonkzp073333Xb9+/datWxcVFVVZWcnhcBISEsLCwqZPn96nT5/ff/+dchQAoLq6+syZM0OHDh06dOj+/fvj4uIkEolcLo+KitqzZ8/48eP9/f0vXbpEBAZjnoKCgjlz5hCmvK6urkQySy18qaoAACgtLd2yZcvUqVMJLYNIJBo7dixr0s/SogkICCDM7PPz8//77z92MbxlkZWVFR0dTRQnTpyoo6PDvkSW5gUA4Onp2a5dO2LPhQsXoJcWC4uWAO0lp0+fTsx23rx58+bNm+a9qhYBlHunT5/O5/PhnszMTPJcjkVrefDgQWFhIdzW0dEJCAhgZiJTW1t75coVoti3b187OztNVwq5d+9eUVER3NbT0xszZoz2zt1AvSgUiq1bt/L5/KCgoPz8fJlMlpiYCJcHURTdtm2bXC7HcRwAUFxcvHTpUpFI5OrqumXLljdv3pSWlkokEplMlp+fHxwcDF0MMAzbvHmzXC6H58dx/OPHj5MnT9bR0fH29j5y5EhqamppaSn0uUhPT58xYwZ8cHp6ehcuXIAuGAxTVVU1efJk4omZmZk9ePAA3nVLBMfx2traBw8e9OnTh9IoBw4cKJFINH0BFRUVMNgkhmFPnjzRdHUsXxsSiaR3795Eqx41ahQDrZqFRkJCQoiuycjIKCUlpbmviIXl/2Pz5s1E32JjY5Obm9vcV8TC8n/AcbykpMTFxYVoqD///HPLFVmZBMfxmpqab775hnh0M2bMaJZ5B4vqyOXygIAA4pX16NGjurqamapjYmKIsMQcDufGjRvMfGgymWzYsGHELffu3Rsu4WuI0NBQWJG3t7dMJmvs4Q0oGhISEoyNjUeMGAFfG3yCM2bMgFUaGhpGR0fjOJ6RkTF48GAjI6OVK1fm5OTAY8mPW6FQTJw4ER4lFAr/+ecfHMdxHH/x4kX37t2tra337t1bXl5e98DS0tL27dvDA9u0aZOWlsZwd1lbW7t8+XJCNywSic6dO9dC+x3Yhz569Aj6R1BUTiiKnjp1ioHHyyoaWDTNmTNniG/WyMjo/fv3zX1FLKoikUjImSy/++47mUzGSsksWkJGRoa5uTkxaJ44cYJtnCzaBo7ja9euJXpRZ2fn4uJitqGqAo7jZE23lZVVdnZ2c18US31kZmYSfTKCIKGhoYw19SVLlhD1urm5VVRUMFPv+/fvTUxMiKo1PQw1UdHQgOtEaGioWCz+6aefYM4M+O0RKZ0qKipOnjxZUFAwc+bMmJiYI0eObNq0iXCHJq+WYxgWEBAAgyyIxeLg4GC5XP7mzZtJkyZVVFREREQsXLiQiF5DPtDY2Hjo0KFwOysr68SJE4BBA1qlUhkeHr5//34YDwbDsFWrVrXEZJY4jpeXl9+7d2/69OlDhw49e/ZsdXU15TfW1tZ9+/ZtlstjYaGXwYMHE91UeXn59evXmew3WJpCUlJSXFwc3MYwbNasWcyEVmJhUQV7e3tiKQkAcPLkyWZ06mRh+SQoik6cONHY2BgW09PTIyMj2UFQFVAUHTlyJPSMRhAkPz//9u3bbEhIbebWrVuEE0Hr1q2HDx/OTL2lpaVEJBQEQQIDA+uu4GqImzdvEik2HBwcBg8ezEy96lHfhDknJ+fixYs+Pj5du3Yly3nkSMsPHjyYO3dufHx8WFhYQEDA59IiAgBcXFwIC5OoqKioqKjAwEC5XB4REdGzZ896pu6enp7E9sWLF2EcJgaAySxXrlwJa4TJLJcuXdoiklkCAJRKpUQiycnJuXfv3s8//+zn5zd8+PDz589XVVV98pChQ4daWVmxAj3LF4CxsfHs2bOJ4vHjx6uqqlgxq0Vw+vRpQg3q4+Pj4+PTvNfDwkJh/vz5hED55MmT+Ph4tm9h0SqgyE3MuHAcP3r0KKsRUxEbG5tJkyYRxfDw8Nra2ma8HpZ6qK2tPX78OFGcPn26paUlMxOZO3fuZGZmwm0bGxvGsh3X1NScOHGCKM6cOdPMzEyb5271PZSbN28WFhZO/JtSvgAAH3NJREFUnDiRksGReLIIgiQlJd2+fXvLli3Dhw+v5z5RFOVyucQPKisrly5dmpGRcfDgQXd39/ovkay8KCgoKCsrq//3tAAAiIqKoiSz3LBhg9YmswQAKBQKsVhcWlqamJh448aNHTt2TJgwwc/Pb+jQoTt27EhISJDJZJ87nMfjff/99xwOhxWYWL4MJk+ebGtrC7cTExPv37/fvNfDogoFBQXnz5+H2xiGLV68mA0DyaJVAADc3d0HDBgAi1KpNCwsjF3wZNEqYEjIxYsXExqxf//9Nykpie1LVQFF0Tlz5piamsLi8+fPY2Nj2UennURGRr58+RJum5ubf//998xMuaVS6dGjR4mef9KkSa1bt2agXgRB/vvvPyK8q7W19ZQpU7RZy4DUk95SoVBcvXpVJBL179+ffA8SiSQrK4so4jg+ZcoUcoTbz1FRUaFUKoniixcvNmzYQDn5JyEySiIMpnhIS0ubM2cOUbWbm9v27dsFAoFYLGbmAggAADiOK5VKHMcVCgXcgH8lEkl5eXlhYWFhYWFBQcHHjx8zMjLS09OLioqqq6sbFQ27U6dOHh4eSItNovH/2rv3gJqyvg/ga+/TOaeQ0w2pCBOjJJkwcknGMAxj5FaD3CJyyWVieMolemYat+QSmTEy424Qj7tG8zQzDxoGmcg1EaFEpjrVOWev94/1vvvtcWsznRvfz197HWfb6+y923uv317rtwCe4ujoOHz4cJa5jVK6Zs2anj17ip2qwDTt3Lnz1q1bbNnb27tHjx64IoFJ4ThOLpdPnjz58OHD7D1ncnLy7NmzGzVqhHMVTAel1Nvb++OPP2ah25KSkg0bNixbtgxnaZUopW5uboGBgQkJCYSQioqKdevWdezY8UVdtsFYNBrN2rVrxa46gYGBrq6u1CBTPP7xxx/ihJr29vahoaGG6c6g0WgSEhLE9t3QoUNdXFwM85Nf2wv/bPLz80+fPu3p6enk5FT5Bzx8+DA7O1ssNm3aNDo6WqFQVBnty8vLqzzqoU2bNhMnTpRyYK5cuSIuW1lZ1a5du8pV/qZ79+6FhIRkZmaKn5SUlIwZM0bf230uQRA0z9BqtRUVFWq1mqVJY/7OVkaMGGFlZWXiJyuAdDzPh4aGJiUl3blzhxCSlpaWnp7euXNnnOEm69GjR4mJiWyZ5/lp06bVqlULFyUwQZ06derevfu+ffsIIfn5+d9///2cOXNwooLp4DhOJpNNnz790KFDbMDs5s2bw8PDGzdujBP15dj+CQ8P37lzJxv8v2/fvszMTC8vL+w6k3L+/PmjR4+yZQcHh4kTJxomGKTT6eLj48UBNaNGjRKTgukVpfT3339PTU1lxXr16o0fP970h/O/8JBcvHjx4cOHI0aMUCqVlR/1zp07J44m4DguPDy8fv36Up4Fs7KyxMYwx3HTpk2zsbGRUsWLFy+Ky/Xr19d3e7i4uDgiIiItLa3yh9evX79+/bqetmh0KpWqX79+uIDCm4RS2rBhw5CQkAULFhBCysrKEhMTfX195XK5sasGz7d///5Lly6x5ffee48Nx8N1CUyQXC6fMWNGSkoK6+SYlJQ0btw4R0dHY9cL4L/4+Pj07t1727ZthJCCggIWETP9lokpcHNzCwoKWrlyJSGkuLg4MTFx5cqV2HWmQ6fTrV27Vsw6N3To0MpTuupVRkbGgQMH2HLdunXHjRtnmO4MOp0uISFB7Fk/YsSIxo0bG2C7f9MLd82tW7esrKx69epVuVVPKU1JSRFHQNjY2PTt25fn+SqfBSmlv/76q1hs0qRJz549pdSvqKiocgvf09NTr4+e5eXlCxcu3Lp1q57+f9Pk7+/P+t4YuyIA1YZdJSZMmCDee/bu3Xv27Fmc56bp8ePHcXFx7OYil8vnzJljbW2NKAOYJkpp+/btBwwYwIo3b978/vvvcW0BU2NhYTFr1ixx+on169ezGeiNWyuzIJPJpk6dKs6jt337diS5MCkZGRk7d+5kyy4uLlOnTjXY4IXFixeLKavDwsIaN25smBPjzJkze/fuZcuurq6TJ082izkQX1jFTz/99MiRIx06dKj8qKfRaCrHC9zd3evWrStlMw8fPszIyBCLvr6+NjY2Uh4ic3JycnNzxeJT819UL51O98033yxfvvxtS+w0bNgwKdEiAPNCKa1Xr544U0xJScmyZcuQeds07dix49y5c2y5R48e3bt3xxUJTBbLbx0RESFOZp6QkJCXl4d2CJgaLy+vESNGsOXc3NykpCScpRI1adJkwoQJbLmwsHDt2rWVM82BEWm12kWLFrH+9RzHTZ48uWHDhoZ5Zjh9+rQ4q+U777zDsjMYYNMajWbRokUswMFx3PTp08UomIl7YaDBzs6uQ4cOT02ycOfOncr9C/z8/CTOwpCVlcVGSjMffvihxPqlpqaKcyUoFIo2bdro73CmpaVFRUW9ZGqGN1KjRo38/f2NXQuA6sdxHKV0yJAhbdu2ZZ/s27fv1KlTeMwyNffu3VuyZAk7LrVr146KikLaTjB9np6eISEhbDknJ+e77757295SgOljbZJGjRqx4po1a3JycnATlGjcuHEtW7Zkyz/88MPFixex64yO9ZEX3+23bNly9OjRhnm3X15eHhsby1r7PM9HRkbWr1/fMAGO1NRUcbyGj49PcHCwWXRnIC/J0fBc58+ff/z4sVj84IMPJO7f1NRU8QZco0aN9957T8qKGo3m0KFDYtHV1VWvI3BOnDjBcZwBkk2aDkEQAgMD7e3t8fIQ3kjsLzo6Orpfv35qtVqtVn/11Vc//vhjjRo1jF01+F+CIKxevfrq1ausGBISoteAMkB14Xl++vTp+/btu3z5MiEkISEhKCjonXfewdkLJsXFxWXmzJnh4eFarfbevXtxcXHLli3DHApS2Nvbz5kzZ9iwYRUVFUVFRbGxsUlJSQqFwtj1equVlpYuXLiQ5WKUy+Xz58+3t7c3TN7oAwcOiM3Sbt26DRo0yDBX+ydPnixYsIDNqKBUKufPn29jY2MuqbJf7UJz/PhxMZhnZ2fXvHlzKWvpdDpxFhBCiJOTkxhbfbm7d++ePn1aLPr5+ek1CjBlypTAwMCKioq3KmBpLn1vAF4PpbRbt26DBw/euHEjISQlJeXIkSPIfmo6srKyxMkm3NzcIiIikHALzIWjo2NUVNTo0aM1Gk1eXl58fHxcXByacGBSOI4LDg7evHnzb7/9Rgj5/vvvR4wYIfGF31uO47hPPvnko48+Yr3ld+/eHRIS0rVrV3N5mfzmoZTu3r1bTNjfr1+/jz/+2DBncmFh4cKFC9nwW2tr63nz5tWsWdMA26WU7tix4+TJk6w4aNAgMxtbSiVTq9WtW7cWV+zQoQNrk1cpPz+/cms2ODhYo9EIglDliklJSeKu5Dju8OHD0msL0kk5FtWoqKioXr16hBCZTPbrr78actPw1srOzhbT87Zo0eLu3bsGPu3hudRqdUBAADsuCoVi+/btOC5gRgRBUKvV/fv3Z+ewlZXVsWPHcA6DCfrtt99UKhU7UXv16lVcXGzsGpmNCxcusKdWQkj79u0LCgrwN24UgiDk5OQ0adKEHQtnZ+dLly4JgmCAw6HVaufPny+2SWfNmqXVavW9UUqpIAjXr193dXVl23V1db127Ro1bMNt3bp1bOu+vr4SG/6VvUJMLi8vr3KChg8++EDie6erV68WFBSIRV9fX4kTVezevZv+X+cCFxcXHx8f6bUF6cwpMAbwWlxdXWfPns3mtszMzIyLi9NqtcauFJA9e/bs37+fLQcEBLApLY1bJQDpOI6ztLSMjo5m7RC1Wh0ZGfno0SNj1wvgv1BK27dvHxYWxi6wR44cSU5ORkoRKSilLVq0mDFjBmvynDp1av369dh1RqHT6WJjY2/cuEEI4Thu5syZzZo1IwZpxWRmZq5atYq1Sb28vKZNm2aYXi1arTYmJiYnJ4cQIpPJIiMj2SQXZvSk9Aq7KT09nWX4JIRYWFh06dJFyu+klJ44cULM9K5QKJ6ayeJFcnJyWC8v5uOPP7a3t5deWwAAEcdxw4cPDw4OZsWEhITjx4/jWcG4rl+/HhkZye4O77zzzpdffmllZWXsSgG8Gkqpp6fnokWLWAbT9PR0zG4DpobjOJ7nv/jii65duxJCBEGYMWNGZmYmfZtGCr8ejuM4jhs/fny/fv0IIZTSr776ClmlDY9SevDgQTYGlhDSr1+/MWPGsKOj700/efLk888/Z6/MVSpVXFxcnTp19L1RQgilNDk5eevWraw4YMCAYcOGGeYnVyOpgQZK6c8//ywW7ezsWrZsKeWnCoLAusezoqurq6urq5QVDx069PDhQ7ZsYWExcOBAiVUFAHiWUqmMjY19//33CSElJSXTp0/HjOJGpFarZ8+enZ2dTQipUaNGXFycOLYFwIyw55nPPvts3Lhx7B3X8uXLU1JScG0BU2NjY7Ny5UrWDTsvLy8iIqKoqMjYlTIPNWvWXLp0qYeHByHk8ePH06ZNy8/PN3al3i63b9+eOXNmaWkpIaRp06aLFy82zJsJnU4XHx//008/EUJ4np85c6afn59hWvvZ2dmzZs0qKysjhLi7uy9evNgcJ+SSGmgoKytLT08Xi56eniqVSsp9tKSk5OzZs2KxVatWUhI6lpeX79ixQyw2btzYx8fnqYN6586d9PR09H8GAInq1KmzatUqZ2dnQsjFixdnzZpVWlqK9oDhCYLwzTff7Nq1ixAik8lmzpzZq1cv8wrSA1Qml8vnzZvH5oouKSmZOnVqdnY2ri1gUiilHh4e8fHx7Dn82LFjy5cv12g0OFGrRCl1dXVdvXq1g4MDISQ9PT0mJqasrAy7zgAopaWlpV988QWb30elUsXHx7NMDfp+bGBv2ZcuXcoOdEBAQHh4uGHyVRcXF0dERLBxIra2titXrmzQoAExw9HuUgMNubm5165dE4sdOnRQKBRSfu3ly5fz8vLE4kcffcQmt3/JKpTSrKysyvNNfPrpp7Vr1668FqV09uzZgYGB4mgOAIAq+fj4iI9Z27dvX7FiBYKVBkYpPX78+Lx589jQlSFDhkRERCBRP5g7W1vbdevWtWjRghBy5cqV8PDwx48fox0CpoM9fvfp02fu3LkWFhaU0kWLFu3atQtnaZXYrvPz81u0aBGbHnvNmjUbNmzAAEwDYH0Kdu7cSQhRKBQxMTE9evQgBmlyX79+feLEiazjT/v27ePj42vVqqXvjRJCNBrNkiVL9u7dSwixtLSMjY319/c3u0ETjNRAw7lz54qLi8Win5+fxDQYv/76K5v5kxBiaWnZpk0bIuHk2LVrl7g5hUIxcOBAmUxWea1Hjx79+9//dnFx0euElwDw5gkICPjHP/4hl8t1Ot0///nPw4cP41nBkG7evMnaYISQLl26LFmyhD23AZi7Jk2aJCQk1K1blxBy4MCB2NhYJGsAk8JxnEwmmzRp0tChQzmOU6vVn3/++dmzZ3ETrBLLcxEcHDxp0iSe57VabWRkZFpaGnadXlFKjx49Ghsbq9PpeJ6fOHFiaGjoU01CPSkqKpo6dSrrRtGoUaO1a9c6OTkZIBEjpfTAgQNLly4VBIHn+alTp44aNcp8p/2WGmhITU0V/5bq1Knj7u4uJQIqCMKRI0fEoouLi5ubW5VHqLi4mAWumHbt2rVs2fKp75w4cSI3NzcgIMB8dz0AGB57Vpg6dSobUF1SUjJu3LgTJ07glY5hPHjwYOzYsZcuXSKEtG3b9rvvvmOtMoA3Q+fOncU+U3FxcWvWrEGsAUyNUqlcvnx53759OY67e/fu6NGjb9y4gZugFBYWFnPnzg0ODuZ5/tGjR2PGjLlw4QJ2nZ5QSk+fPj1+/PgnT57wPD9y5MgFCxaw6cP0rbS0NDIy8uDBg4QQFxeXjRs3enl5GaBPAaX05MmTEyZMKC4u5nk+NDR0zpw5Zt3lU1KgoaKiovIEEE2bNq1Xr56Uff3w4cOMjAyx6OvrKyV1x7Vr11iGMGb48OFPve/SarUbNmywtrbu3bu3OXYjAZEgjbGrCW8apVL55ZdfBgYGEkLy8vLGjBlz+fJlPCvoGxtzyJIqeXh4JCUlmd1ETQAvwR5DBw0aFBMTY2VlpdFooqKi9u7dq9PpjF01gP+iUqlWr17dsWNHQkhGRkZoaOiDBw9wE5SCJYbs2bMnIeTGjRshISG3bt3CrtOH7OzssWPH3r59mxAyYMCApUuX1qxZ0wDb1Wq1q1atSkxMpJTWqVNn3bp1nTt3NsyDyrVr18aOHctyDgQFBX399df6y3lJKTVAK0xSjOTWrVs3b94Ui127dpXL5VKeDi9cuHD//n2x6O/vL2XAxfXr18XRFtbW1mwyHhGlNCMj4+jRo3379m3SpAkeUs2XIAiLFi1ydHR8+XeCg4NZhi2AamRtbb169WqZTLZ169asrKxRo0Zt2bKlUaNGuJ7oiVqtnj9//ubNmwkhnp6emzdvdnd3x96GN49MJgsLC9PpdPPmzXvy5Mn48eNr1arVvXt3nudxwoOJ4DjO2dl506ZNo0aN+vnnn1NTUydOnJiYmGhnZ4eztEr29vYbNmwYO3bs/v37z5w5ExISsnHjRicnJ+y66kIpzcvLGzt27Pnz53meDwgISEhIUKlURP+pGbRa7caNG+fPn6/VauvWrbtu3ToWVNI3Smlubm5ISEhmZibP80FBQatWrbK2tib6/MmbN29OS0t7+XeysrL+1jaoBOIcnoQQnufZkGYpK86ZM0dc0crKivUvqtK3334rruXh4cHSuorKysoCAwOtra1///13idUAk1JUVFSvXj3pp2hCQoKxqwxvrKKiokmTJrGeeH5+fjk5Obiq6ENZWZnY/a9169Z//vmnTqczdqUA9Ig9rdrZ2RFCHB0dU1JStFqtsSsF8P/YzS4vLy8gIIBFwYYOHVpYWIibYJXYLiosLBwxYgS7r/Xp0+f+/fvYddVCEIT79+/37t2btTqHDBlSUFDAXq3re9NarXbr1q1s7Juzs/PBgwcNc0wFQcjLy2NJLtkgkUePHun7JwuCEBoaKr055uvrW1FR8apbkTR04vjx4+KyjY2Np6enlOCKVqutPHNEw4YN2cwcVXJxcRH//0aNGlXOwkApPXr06L59+4YPH+7t7Y3YoZniJCNmOJULmJHatWsvXrx4+vTplpaWaWlpc+bMwSQU1Y5SmpycvHjxYkEQfH19t23b5uHhITGdMICZYnnj1q1bV69evXv37oWFhRUUFBi7UgD/jz1cOTo6rl+/PigoiOf5LVu2xMfHG7teZoDtOltb21WrVo0ZM0Yul+/fvz86OppiAEU1iY6OPnjwoFwuHzlyZEJCAovYGqA5cOnSpUmTJj158sTV1TUpKckwfRkIIYIgREVFHTt2TKFQhIaGrlixQqVSGSAlhAGaY1UPnSgrKzt79qxY9Pb2ZrPIVqm4uPjPP/8Ui23atJE4KYiPj0/Tpk2vXLlCCFEoFOLngiCcOHEiPDy8devWUVFRSANpphQKRVhYWOVJTF5CEIRWrVpRDJABvbG0tFywYEGzZs2ysrJatWqFM00f3NzcIiIiVCrVkCFDWN5mY9cIQL84jqOU9u/f38HB4cCBA7a2tphdBUwQpdTW1jYxMbFNmzZ5eXnvv/++sWtkTmrVqrVs2TIvL68bN25g11Wjrl272tjYuLm5DR48mF05DfNsZmtrO2XKFEppQECAxNfq1YLjuO7duzs6Or777rsDBw60tLQ0zHZ79OghffbGhg0bvsYrIq7KB778/Hx3d/eHDx+yYnR0dFRUlJQtnT9/vmPHjiUlJay4ZcuWzz77TEqdKKXr16+fOHFiRUVF48aN09LSHBwc1Gr1kSNHvvjiixo1avz444/u7u54IQYAYPoQKIS3Fk5+gDcb/sbfVDiy1aLqHg0cx4kZL11dXQcOHCixhc/zvEKhYIEGb2/vHj16SDxmHMcNHz48Ly9vxYoVN2/e7NWrV4MGDW7dunX79u0OHTosW7asefPmOPYAAGYBl2t4a+HkB3iz4W/8TYUjWy2q7tFAKd27d29SUlKtWrUmTZrUrl07iYEGrVb73Xff7du3T6VSRUREvFJKBUqpTqc7d+7ctm3brl69WlFR4ezs3KdPnw8//FDi+AsAAAAAAAAAMDxJgQaO47RaLctJ+6oBHo1GI5PJXiONhNj9QavV6nQ6pVL5StvVE5als7i4mFJqbW1tXnkiKKUlJSXFxcUODg4sTS4AAAAAAABA9aq6bwJr7VtYWLzeFNByufz1IhTi9y0sLEwkykAI0Wg0GzZs6NmzZ/fu3ZOTk80opZkgCLdu3Ro3bpy/v//Vq1fNqOYAAAAAAABgRqru0QCVHTlypH///qWlpYQQT0/PU6dOmXgeadYF4/Hjx8eOHYuJicnMzCSE/PLLL506dTJ21QAAAAAAAOANhP7zr2b//v0sykAIUalUpjl04tGjRw8ePCgtLVWr1QUFBSkpKampqVlZWVqtln0BCU4AAAAAAABATxBoeDXt2rWztLQsKytzdHScO3euQqEwdo2eIykp6euvvy4vLy8vL9dqtVZWVs2bN3/33XdZdwYAAAAAAAAA/UGg4RVQSgcPHqxSqW7fvu3n59eiRQvT7BpQp06dTp06WVtb29vbe3h4tG7d2s3N7fPPP0egAQAAAAAAAPQNgYZXwHGcUqns27evsStShSFDhgQFBbEEnGwuUmTiAAAAAAAAAMNAoOENxPM8iy8AAAAAAAAAGBiaowAAAAAAAABQbRBoAAAAAAAAAIBqg6ETkog5Dkwz+yMAAAAAAACAiUCgoQqCINy/f//MmTM5OTm2trZeXl7NmjUzzVktAQAAAAAAAIwOgYaXqaio2Llz51dffZWfn69UKh88eFCzZs1Ro0bNnTu3du3axq4dAAAAAAAAgMlBoOGFNBpNXFxcbGzswIEDw8LCnJ2dlyxZsmTJkqVLl8rl8piYGJlM9twVdTpdWVmZIAj6qxvP80qlUiaTYSgHAAAAAAAAmBQEGp6PUnrw4MGFCxcGBwfHxcVZWloSQjp06MD+9dtvv500aZKTk9Oz7XydTpeQkPCvf/2rtLRUf9WzsrL66KOPpkyZIpfL9bcVAAAAAAAAgFeFQMPzPXjwYPbs2S1atIiJiWFRBkLIpUuX2EJhYWFhYaGTk9OzK6rV6vXr12dkZOi1ehzH5ebmjh492s7OTq8bAgAAAAAAAHglCDQ83w8//HDt2rXdu3eLLXmdTvef//yHLVtbW6tUqueuWLNmzVWrVqWmphYXF+uvejVr1vTz87OxsdHfJgAAAAAAAABeAwINz1FSUrJx48bWrVv7+/uzwRGU0rt376anp7MvtGvXztHR8UX5ETp16tSpUyfDVRcAAAAAAADAZPDGroApys3NvXnzZt++fWvUqCF+mJycXFBQwJZHjhypUCgopc+ui+yMAAAAAAAA8DZDj4bncHJyWrNmTbdu3cSoQUlJyYYNG1hkwcXF5cMPPySIKQAAAAAAAAA8A4GGp1FKra2thw0bVvnDkydPXrhwgS0PHDjQwcHBGFUDAAAAAAAAMHUYOvG0Z/spUEo3btyo1WoJIUqlctCgQTyP/QYAAAAAAADwHGgwVy0nJ+fw4cNs2cfHx9vb27j1AQAAAAAAADBZCDRUbc+ePWIayGHDhllZWRm3PgAAAAAAAAAmCzkaqlBaWrpt2za27Ojo+Mknn4j/pNFoHj9+bGdnJ5PJxA8ppZcuXfrjjz9KSkr0V6saNWp4e3u3aNECgzgAAAAAAADApCDQUIUzZ86cP3+eLQcEBDg5OYlJHPbs2RMbG7t3794GDRqI3y8tLR0+fPjZs2efO/lldeE4zt3d/ZdffrG1tdXfVgAAAAAAAABeFQINVdi8eXN5eTkhRKlUDh06VIwyCIKwadOm/Pz8p0ZSKJXKLl26/PXXX2q1Wn+1srS09Pf3xyAOAAAAAAAAMDUINLxMYWGhmAaybdu2rVu3FgMNWVlZv/zyS1BQ0FN9CiwsLL7++uvo6Gh992iwtLSUyWSU0menyQAAAAAAAAAwFgQaXqagoODu3btsuVu3bpaWlmxZq9WuWLFCEITQ0NBnsyRYWFjUqlXLoBWVoHIiCcQmAAAAAAAAQE+QSvBleJ4X2+ceHh6sfS4Iwv79+zdt2hQWFubl5WXijXZKqSAIf/31V3Z2tvjhhQsXysvLBUHQa7cLAAAAAAAAeAuhR8MLUUobNGjQuXPnY8eOEUKKi4sJIWVlZT/99NPkyZM7duw4Y8aMyt0ETMdff/119OhRSqlWq9VoNHfu3ElNTT1+/Lj4hcjIyJMnT7Zt21alUllYWMhkMjs7O39/f8xhAQAAAAAAAH8Th3faL3fu3LmgoKArV660bNly0KBBFy5cSElJad++fWJiorOzMzHJYQistoIgsD4LfCWEEEoppVSn0+l0OkIIz/Mcx7Vt2zYtLc3CAoEnAAAAAAAA+FsQaHgZtnOys7PXr19/6tQptVrt4OAwYMCAfv361a5d29i1e6GioqLk5GSlUqlUKhUKBeuzIMYaBEHQ/R+NRlNRUVFWVqZSqXr37o0eDQAAAAAAAPA3IdAgCaWUtcmtrKxMc7iE6Nl5KDAzBQAAAAAAABgMAg0AAAAAAAAAUG3QVR4AAAAAAAAAqg0CDQAAAAAAAABQbRBoAAAAAAAAAIBqg0ADAAAAAAAAAFQbBBoAAAAAAAAAoNr8D+ObUxowQh2XAAAAAElFTkSuQmCC)\n",
        "\n",
        "If we replace vᵢ = D(xᵢ) and yᵢ=1 ∀ i (for all i) in the BCE-Loss definition, we obtain the loss related to the real-images. Conversely if we set vᵢ = D(G(zᵢ)) and yᵢ=0 ∀ i, we obtain the loss related to the fake-images\n",
        "\n",
        "Since maximizing a function is equivalent to minimizing it’s negative, and the BCE-Loss term has a minus sign, we don’t need to worry about the sign.\n"
      ]
    },
    {
      "cell_type": "markdown",
      "metadata": {
        "id": "wqOWJ1IHZZit"
      },
      "source": [
        "We can observe that the real-images targets are always ones, while the fake-images targets are zero, so it would be helpful to define the following functions:\n"
      ]
    },
    {
      "cell_type": "code",
      "execution_count": null,
      "metadata": {
        "id": "G_qVE8ASX0Bt"
      },
      "outputs": [],
      "source": [
        "def real_data_target(size):\n",
        "    '''\n",
        "    Tensor containing ones, with shape = size\n",
        "    '''\n",
        "    data = Variable(torch.ones(size, 1))\n",
        "    if torch.cuda.is_available(): return data.cuda()\n",
        "    return data\n",
        "\n",
        "def fake_data_target(size):\n",
        "    '''\n",
        "    Tensor containing zeros, with shape = size\n",
        "    '''\n",
        "    data = Variable(torch.zeros(size, 1))\n",
        "    if torch.cuda.is_available(): return data.cuda()\n",
        "    return data\n",
        "\n"
      ]
    },
    {
      "cell_type": "markdown",
      "metadata": {
        "id": "MoTdicJ3jQZ6"
      },
      "source": [
        "By summing up these two discriminator losses we obtain the total mini-batch loss for the Discriminator. We will calculate the gradients separately, and then update them together.\n"
      ]
    },
    {
      "cell_type": "code",
      "execution_count": null,
      "metadata": {
        "id": "JwBYlsGijSan"
      },
      "outputs": [],
      "source": [
        "def train_discriminator(optimizer, real_data, fake_data):\n",
        "    # Reset gradients\n",
        "    optimizer.zero_grad()\n",
        "    \n",
        "    # 1. Train on Real Data\n",
        "    prediction_real = discriminator(real_data)\n",
        "    # Calculate error and backpropagate\n",
        "    error_real = loss(prediction_real, real_data_target(real_data.size(0)))\n",
        "    error_real.backward()\n",
        "\n",
        "    # 2. Train on Fake Data\n",
        "    prediction_fake = discriminator(fake_data)\n",
        "    # Calculate error and backpropagate\n",
        "    error_fake = loss(prediction_fake, fake_data_target(real_data.size(0)))\n",
        "    error_fake.backward()\n",
        "    \n",
        "    # Update weights with gradients\n",
        "    optimizer.step()\n",
        "    \n",
        "    return error_real + error_fake, prediction_real, prediction_fake\n",
        "    return (0, 0, 0)\n",
        "\n",
        "def train_generator(optimizer, fake_data):\n",
        "    # Reset gradients\n",
        "    optimizer.zero_grad()\n",
        "    # Sample noise and generate fake data\n",
        "    prediction = discriminator(fake_data)\n",
        "    # Calculate error and backpropagate\n",
        "    error = loss(prediction, real_data_target(prediction.size(0)))\n",
        "    error.backward()\n",
        "    # Update weights with gradients\n",
        "    optimizer.step()\n",
        "    # Return error\n",
        "    return error"
      ]
    },
    {
      "cell_type": "markdown",
      "metadata": {
        "id": "PxkmwLKlj6v5"
      },
      "source": [
        "Generator Loss:\n",
        "![image.png](data:image/png;base64,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)\n",
        "\n",
        "Rather than minimizing log(1- D(G(z))), training the Generator to maximize log D(G(z)) will provide much stronger gradients early in training. Both losses may be swapped interchangeably since they result in the same dynamics for the Generator and Discriminator.\n",
        "\n",
        "Maximizing log D(G(z)) is equivalent to minimizing it’s negative and since the BCE-Loss definition has a minus sign, we don’t need to take care of the sign. Similarly to the Discriminator, if we set vᵢ = D(G(zᵢ)) and yᵢ=1 ∀ i, we obtain the desired loss to be minimized.\n"
      ]
    },
    {
      "cell_type": "code",
      "execution_count": null,
      "metadata": {
        "colab": {
          "base_uri": "https://localhost:8080/"
        },
        "id": "MKA-ZUZ8mJbF",
        "outputId": "080d2174-adb6-4ba5-d2bd-18d7892633cd"
      },
      "outputs": [
        {
          "name": "stdout",
          "output_type": "stream",
          "text": [
            "--2022-04-02 09:39:18--  https://raw.githubusercontent.com/diegoalejogm/gans/master/utils.py\n",
            "Resolving raw.githubusercontent.com (raw.githubusercontent.com)... 185.199.108.133, 185.199.109.133, 185.199.110.133, ...\n",
            "Connecting to raw.githubusercontent.com (raw.githubusercontent.com)|185.199.108.133|:443... connected.\n",
            "HTTP request sent, awaiting response... 200 OK\n",
            "Length: 4866 (4.8K) [text/plain]\n",
            "Saving to: ‘utils.py’\n",
            "\n",
            "\rutils.py              0%[                    ]       0  --.-KB/s               \rutils.py            100%[===================>]   4.75K  --.-KB/s    in 0s      \n",
            "\n",
            "2022-04-02 09:39:19 (68.8 MB/s) - ‘utils.py’ saved [4866/4866]\n",
            "\n"
          ]
        }
      ],
      "source": [
        "!wget https://raw.githubusercontent.com/diegoalejogm/gans/master/utils.py"
      ]
    },
    {
      "cell_type": "code",
      "execution_count": null,
      "metadata": {
        "id": "I0cBGAr3l4Cw"
      },
      "outputs": [],
      "source": [
        "from utils import Logger\n",
        "from IPython import display"
      ]
    },
    {
      "cell_type": "code",
      "execution_count": null,
      "metadata": {
        "id": "8pHLfSFZmCf2"
      },
      "outputs": [],
      "source": [
        "\n",
        "num_test_samples = 16\n",
        "test_noise = noise(num_test_samples)\n"
      ]
    },
    {
      "cell_type": "code",
      "execution_count": null,
      "metadata": {
        "colab": {
          "base_uri": "https://localhost:8080/",
          "height": 1000
        },
        "id": "DcrXf3Rlmg8R",
        "outputId": "227e3c84-3fb1-4902-8c02-1f8cc3c34bb3"
      },
      "outputs": [
        {
          "name": "stdout",
          "output_type": "stream",
          "text": [
            "tensor([[[[-1., -1., -1.,  ..., -1., -1., -1.],\n",
            "          [-1., -1., -1.,  ..., -1., -1., -1.],\n",
            "          [-1., -1., -1.,  ..., -1., -1., -1.],\n",
            "          ...,\n",
            "          [-1., -1., -1.,  ..., -1., -1., -1.],\n",
            "          [-1., -1., -1.,  ..., -1., -1., -1.],\n",
            "          [-1., -1., -1.,  ..., -1., -1., -1.]]],\n",
            "\n",
            "\n",
            "        [[[-1., -1., -1.,  ..., -1., -1., -1.],\n",
            "          [-1., -1., -1.,  ..., -1., -1., -1.],\n",
            "          [-1., -1., -1.,  ..., -1., -1., -1.],\n",
            "          ...,\n",
            "          [-1., -1., -1.,  ..., -1., -1., -1.],\n",
            "          [-1., -1., -1.,  ..., -1., -1., -1.],\n",
            "          [-1., -1., -1.,  ..., -1., -1., -1.]]],\n",
            "\n",
            "\n",
            "        [[[-1., -1., -1.,  ..., -1., -1., -1.],\n",
            "          [-1., -1., -1.,  ..., -1., -1., -1.],\n",
            "          [-1., -1., -1.,  ..., -1., -1., -1.],\n",
            "          ...,\n",
            "          [-1., -1., -1.,  ..., -1., -1., -1.],\n",
            "          [-1., -1., -1.,  ..., -1., -1., -1.],\n",
            "          [-1., -1., -1.,  ..., -1., -1., -1.]]],\n",
            "\n",
            "\n",
            "        ...,\n",
            "\n",
            "\n",
            "        [[[-1., -1., -1.,  ..., -1., -1., -1.],\n",
            "          [-1., -1., -1.,  ..., -1., -1., -1.],\n",
            "          [-1., -1., -1.,  ..., -1., -1., -1.],\n",
            "          ...,\n",
            "          [-1., -1., -1.,  ..., -1., -1., -1.],\n",
            "          [-1., -1., -1.,  ..., -1., -1., -1.],\n",
            "          [-1., -1., -1.,  ..., -1., -1., -1.]]],\n",
            "\n",
            "\n",
            "        [[[-1., -1., -1.,  ..., -1., -1., -1.],\n",
            "          [-1., -1., -1.,  ..., -1., -1., -1.],\n",
            "          [-1., -1., -1.,  ..., -1., -1., -1.],\n",
            "          ...,\n",
            "          [-1., -1., -1.,  ..., -1., -1., -1.],\n",
            "          [-1., -1., -1.,  ..., -1., -1., -1.],\n",
            "          [-1., -1., -1.,  ..., -1., -1., -1.]]],\n",
            "\n",
            "\n",
            "        [[[-1., -1., -1.,  ..., -1., -1., -1.],\n",
            "          [-1., -1., -1.,  ..., -1., -1., -1.],\n",
            "          [-1., -1., -1.,  ..., -1., -1., -1.],\n",
            "          ...,\n",
            "          [-1., -1., -1.,  ..., -1., -1., -1.],\n",
            "          [-1., -1., -1.,  ..., -1., -1., -1.],\n",
            "          [-1., -1., -1.,  ..., -1., -1., -1.]]]])\n"
          ]
        },
        {
          "ename": "KeyboardInterrupt",
          "evalue": "ignored",
          "output_type": "error",
          "traceback": [
            "\u001b[0;31m---------------------------------------------------------------------------\u001b[0m",
            "\u001b[0;31mKeyboardInterrupt\u001b[0m                         Traceback (most recent call last)",
            "\u001b[0;32m<ipython-input-28-4a7a8ce027bf>\u001b[0m in \u001b[0;36m<module>\u001b[0;34m()\u001b[0m\n\u001b[1;32m     13\u001b[0m         \u001b[0;31m# Train D\u001b[0m\u001b[0;34m\u001b[0m\u001b[0;34m\u001b[0m\u001b[0;34m\u001b[0m\u001b[0m\n\u001b[1;32m     14\u001b[0m         d_error, d_pred_real, d_pred_fake = train_discriminator(d_optimizer, \n\u001b[0;32m---> 15\u001b[0;31m                                                                 real_data, fake_data)\n\u001b[0m\u001b[1;32m     16\u001b[0m \u001b[0;34m\u001b[0m\u001b[0m\n\u001b[1;32m     17\u001b[0m         \u001b[0;31m# 2. Train Generator\u001b[0m\u001b[0;34m\u001b[0m\u001b[0;34m\u001b[0m\u001b[0;34m\u001b[0m\u001b[0m\n",
            "\u001b[0;32m<ipython-input-24-60ecfb96c3b8>\u001b[0m in \u001b[0;36mtrain_discriminator\u001b[0;34m(optimizer, real_data, fake_data)\u001b[0m\n\u001b[1;32m      7\u001b[0m     \u001b[0;31m# Calculate error and backpropagate\u001b[0m\u001b[0;34m\u001b[0m\u001b[0;34m\u001b[0m\u001b[0;34m\u001b[0m\u001b[0m\n\u001b[1;32m      8\u001b[0m     \u001b[0merror_real\u001b[0m \u001b[0;34m=\u001b[0m \u001b[0mloss\u001b[0m\u001b[0;34m(\u001b[0m\u001b[0mprediction_real\u001b[0m\u001b[0;34m,\u001b[0m \u001b[0mreal_data_target\u001b[0m\u001b[0;34m(\u001b[0m\u001b[0mreal_data\u001b[0m\u001b[0;34m.\u001b[0m\u001b[0msize\u001b[0m\u001b[0;34m(\u001b[0m\u001b[0;36m0\u001b[0m\u001b[0;34m)\u001b[0m\u001b[0;34m)\u001b[0m\u001b[0;34m)\u001b[0m\u001b[0;34m\u001b[0m\u001b[0;34m\u001b[0m\u001b[0m\n\u001b[0;32m----> 9\u001b[0;31m     \u001b[0merror_real\u001b[0m\u001b[0;34m.\u001b[0m\u001b[0mbackward\u001b[0m\u001b[0;34m(\u001b[0m\u001b[0;34m)\u001b[0m\u001b[0;34m\u001b[0m\u001b[0;34m\u001b[0m\u001b[0m\n\u001b[0m\u001b[1;32m     10\u001b[0m \u001b[0;34m\u001b[0m\u001b[0m\n\u001b[1;32m     11\u001b[0m     \u001b[0;31m# 2. Train on Fake Data\u001b[0m\u001b[0;34m\u001b[0m\u001b[0;34m\u001b[0m\u001b[0;34m\u001b[0m\u001b[0m\n",
            "\u001b[0;32m/usr/local/lib/python3.7/dist-packages/torch/_tensor.py\u001b[0m in \u001b[0;36mbackward\u001b[0;34m(self, gradient, retain_graph, create_graph, inputs)\u001b[0m\n\u001b[1;32m    305\u001b[0m                 \u001b[0mcreate_graph\u001b[0m\u001b[0;34m=\u001b[0m\u001b[0mcreate_graph\u001b[0m\u001b[0;34m,\u001b[0m\u001b[0;34m\u001b[0m\u001b[0;34m\u001b[0m\u001b[0m\n\u001b[1;32m    306\u001b[0m                 inputs=inputs)\n\u001b[0;32m--> 307\u001b[0;31m         \u001b[0mtorch\u001b[0m\u001b[0;34m.\u001b[0m\u001b[0mautograd\u001b[0m\u001b[0;34m.\u001b[0m\u001b[0mbackward\u001b[0m\u001b[0;34m(\u001b[0m\u001b[0mself\u001b[0m\u001b[0;34m,\u001b[0m \u001b[0mgradient\u001b[0m\u001b[0;34m,\u001b[0m \u001b[0mretain_graph\u001b[0m\u001b[0;34m,\u001b[0m \u001b[0mcreate_graph\u001b[0m\u001b[0;34m,\u001b[0m \u001b[0minputs\u001b[0m\u001b[0;34m=\u001b[0m\u001b[0minputs\u001b[0m\u001b[0;34m)\u001b[0m\u001b[0;34m\u001b[0m\u001b[0;34m\u001b[0m\u001b[0m\n\u001b[0m\u001b[1;32m    308\u001b[0m \u001b[0;34m\u001b[0m\u001b[0m\n\u001b[1;32m    309\u001b[0m     \u001b[0;32mdef\u001b[0m \u001b[0mregister_hook\u001b[0m\u001b[0;34m(\u001b[0m\u001b[0mself\u001b[0m\u001b[0;34m,\u001b[0m \u001b[0mhook\u001b[0m\u001b[0;34m)\u001b[0m\u001b[0;34m:\u001b[0m\u001b[0;34m\u001b[0m\u001b[0;34m\u001b[0m\u001b[0m\n",
            "\u001b[0;32m/usr/local/lib/python3.7/dist-packages/torch/autograd/__init__.py\u001b[0m in \u001b[0;36mbackward\u001b[0;34m(tensors, grad_tensors, retain_graph, create_graph, grad_variables, inputs)\u001b[0m\n\u001b[1;32m    154\u001b[0m     Variable._execution_engine.run_backward(\n\u001b[1;32m    155\u001b[0m         \u001b[0mtensors\u001b[0m\u001b[0;34m,\u001b[0m \u001b[0mgrad_tensors_\u001b[0m\u001b[0;34m,\u001b[0m \u001b[0mretain_graph\u001b[0m\u001b[0;34m,\u001b[0m \u001b[0mcreate_graph\u001b[0m\u001b[0;34m,\u001b[0m \u001b[0minputs\u001b[0m\u001b[0;34m,\u001b[0m\u001b[0;34m\u001b[0m\u001b[0;34m\u001b[0m\u001b[0m\n\u001b[0;32m--> 156\u001b[0;31m         allow_unreachable=True, accumulate_grad=True)  # allow_unreachable flag\n\u001b[0m\u001b[1;32m    157\u001b[0m \u001b[0;34m\u001b[0m\u001b[0m\n\u001b[1;32m    158\u001b[0m \u001b[0;34m\u001b[0m\u001b[0m\n",
            "\u001b[0;31mKeyboardInterrupt\u001b[0m: "
          ]
        }
      ],
      "source": [
        "\n",
        "logger = Logger(model_name='DCGAN', data_name='MNIST')\n",
        "\n",
        "for epoch in range(num_epochs):\n",
        "    for n_batch, (real_batch,_) in enumerate(data_loader):\n",
        "        \n",
        "        # 1. Train Discriminator\n",
        "        real_data = Variable(real_batch)\n",
        "        print(real_data)\n",
        "        if torch.cuda.is_available(): real_data = real_data.cuda()\n",
        "        # Generate fake data\n",
        "        fake_data = generator(noise(real_data.size(0))).detach()\n",
        "        # Train D\n",
        "        d_error, d_pred_real, d_pred_fake = train_discriminator(d_optimizer, \n",
        "                                                                real_data, fake_data)\n",
        "\n",
        "        # 2. Train Generator\n",
        "        # Generate fake data\n",
        "        fake_data = generator(noise(real_batch.size(0)))\n",
        "        # Train G\n",
        "        g_error = train_generator(g_optimizer, fake_data)\n",
        "        # Log error\n",
        "        logger.log(d_error, g_error, epoch, n_batch, num_batches)\n",
        "        \n",
        "        # Display Progress\n",
        "        if (n_batch) % 100 == 0:\n",
        "            # display.clear_output(True)\n",
        "            # Display Images\n",
        "            test_images = generator(test_noise).data.cpu()\n",
        "            logger.log_images(test_images, num_test_samples, epoch, n_batch, num_batches);\n",
        "            # Display status Logs\n",
        "            logger.display_status(\n",
        "                epoch, num_epochs, n_batch, num_batches,\n",
        "                d_error, g_error, d_pred_real, d_pred_fake\n",
        "            )\n",
        "        # Model Checkpoints\n",
        "        # logger.save_models(generator, discriminator, epoch)\n",
        "\n"
      ]
    }
  ],
  "metadata": {
    "colab": {
      "collapsed_sections": [],
      "name": "180020009_Lab_11_2.ipynb",
      "provenance": []
    },
    "kernelspec": {
      "display_name": "Python 3",
      "name": "python3"
    },
    "language_info": {
      "name": "python"
    },
    "widgets": {
      "application/vnd.jupyter.widget-state+json": {
        "040957bbc329413ca346ce62918247f3": {
          "model_module": "@jupyter-widgets/base",
          "model_module_version": "1.2.0",
          "model_name": "LayoutModel",
          "state": {
            "_model_module": "@jupyter-widgets/base",
            "_model_module_version": "1.2.0",
            "_model_name": "LayoutModel",
            "_view_count": null,
            "_view_module": "@jupyter-widgets/base",
            "_view_module_version": "1.2.0",
            "_view_name": "LayoutView",
            "align_content": null,
            "align_items": null,
            "align_self": null,
            "border": null,
            "bottom": null,
            "display": null,
            "flex": null,
            "flex_flow": null,
            "grid_area": null,
            "grid_auto_columns": null,
            "grid_auto_flow": null,
            "grid_auto_rows": null,
            "grid_column": null,
            "grid_gap": null,
            "grid_row": null,
            "grid_template_areas": null,
            "grid_template_columns": null,
            "grid_template_rows": null,
            "height": null,
            "justify_content": null,
            "justify_items": null,
            "left": null,
            "margin": null,
            "max_height": null,
            "max_width": null,
            "min_height": null,
            "min_width": null,
            "object_fit": null,
            "object_position": null,
            "order": null,
            "overflow": null,
            "overflow_x": null,
            "overflow_y": null,
            "padding": null,
            "right": null,
            "top": null,
            "visibility": null,
            "width": null
          }
        },
        "05bb528d898441a9bc92ef7c88dfce22": {
          "model_module": "@jupyter-widgets/controls",
          "model_module_version": "1.5.0",
          "model_name": "DescriptionStyleModel",
          "state": {
            "_model_module": "@jupyter-widgets/controls",
            "_model_module_version": "1.5.0",
            "_model_name": "DescriptionStyleModel",
            "_view_count": null,
            "_view_module": "@jupyter-widgets/base",
            "_view_module_version": "1.2.0",
            "_view_name": "StyleView",
            "description_width": ""
          }
        },
        "0febf7f00dd749019c10bc082bfaf8d0": {
          "model_module": "@jupyter-widgets/base",
          "model_module_version": "1.2.0",
          "model_name": "LayoutModel",
          "state": {
            "_model_module": "@jupyter-widgets/base",
            "_model_module_version": "1.2.0",
            "_model_name": "LayoutModel",
            "_view_count": null,
            "_view_module": "@jupyter-widgets/base",
            "_view_module_version": "1.2.0",
            "_view_name": "LayoutView",
            "align_content": null,
            "align_items": null,
            "align_self": null,
            "border": null,
            "bottom": null,
            "display": null,
            "flex": null,
            "flex_flow": null,
            "grid_area": null,
            "grid_auto_columns": null,
            "grid_auto_flow": null,
            "grid_auto_rows": null,
            "grid_column": null,
            "grid_gap": null,
            "grid_row": null,
            "grid_template_areas": null,
            "grid_template_columns": null,
            "grid_template_rows": null,
            "height": null,
            "justify_content": null,
            "justify_items": null,
            "left": null,
            "margin": null,
            "max_height": null,
            "max_width": null,
            "min_height": null,
            "min_width": null,
            "object_fit": null,
            "object_position": null,
            "order": null,
            "overflow": null,
            "overflow_x": null,
            "overflow_y": null,
            "padding": null,
            "right": null,
            "top": null,
            "visibility": null,
            "width": null
          }
        },
        "102fa3c4f59f4f10af0a22c09e9ecb2b": {
          "model_module": "@jupyter-widgets/base",
          "model_module_version": "1.2.0",
          "model_name": "LayoutModel",
          "state": {
            "_model_module": "@jupyter-widgets/base",
            "_model_module_version": "1.2.0",
            "_model_name": "LayoutModel",
            "_view_count": null,
            "_view_module": "@jupyter-widgets/base",
            "_view_module_version": "1.2.0",
            "_view_name": "LayoutView",
            "align_content": null,
            "align_items": null,
            "align_self": null,
            "border": null,
            "bottom": null,
            "display": null,
            "flex": null,
            "flex_flow": null,
            "grid_area": null,
            "grid_auto_columns": null,
            "grid_auto_flow": null,
            "grid_auto_rows": null,
            "grid_column": null,
            "grid_gap": null,
            "grid_row": null,
            "grid_template_areas": null,
            "grid_template_columns": null,
            "grid_template_rows": null,
            "height": null,
            "justify_content": null,
            "justify_items": null,
            "left": null,
            "margin": null,
            "max_height": null,
            "max_width": null,
            "min_height": null,
            "min_width": null,
            "object_fit": null,
            "object_position": null,
            "order": null,
            "overflow": null,
            "overflow_x": null,
            "overflow_y": null,
            "padding": null,
            "right": null,
            "top": null,
            "visibility": null,
            "width": null
          }
        },
        "1739b51da6bb42ca8ded90407170a5ff": {
          "model_module": "@jupyter-widgets/controls",
          "model_module_version": "1.5.0",
          "model_name": "DescriptionStyleModel",
          "state": {
            "_model_module": "@jupyter-widgets/controls",
            "_model_module_version": "1.5.0",
            "_model_name": "DescriptionStyleModel",
            "_view_count": null,
            "_view_module": "@jupyter-widgets/base",
            "_view_module_version": "1.2.0",
            "_view_name": "StyleView",
            "description_width": ""
          }
        },
        "191a9e7ee63146f6b9c0215c088ee69e": {
          "model_module": "@jupyter-widgets/controls",
          "model_module_version": "1.5.0",
          "model_name": "DescriptionStyleModel",
          "state": {
            "_model_module": "@jupyter-widgets/controls",
            "_model_module_version": "1.5.0",
            "_model_name": "DescriptionStyleModel",
            "_view_count": null,
            "_view_module": "@jupyter-widgets/base",
            "_view_module_version": "1.2.0",
            "_view_name": "StyleView",
            "description_width": ""
          }
        },
        "1aaf4a98b31043999f67d8bb658a135a": {
          "model_module": "@jupyter-widgets/controls",
          "model_module_version": "1.5.0",
          "model_name": "HBoxModel",
          "state": {
            "_dom_classes": [],
            "_model_module": "@jupyter-widgets/controls",
            "_model_module_version": "1.5.0",
            "_model_name": "HBoxModel",
            "_view_count": null,
            "_view_module": "@jupyter-widgets/controls",
            "_view_module_version": "1.5.0",
            "_view_name": "HBoxView",
            "box_style": "",
            "children": [
              "IPY_MODEL_a4afa5b3f14646da971e453059fb8262",
              "IPY_MODEL_45cc7af509fe49cf8b0da3488f6ef87f",
              "IPY_MODEL_cb5805cdf8b8444c8542a7970e92f815"
            ],
            "layout": "IPY_MODEL_fcb9078fa6494ed98627521a622e9fe8"
          }
        },
        "1d91a2b1fb214edba7ea1de58b4d3b7c": {
          "model_module": "@jupyter-widgets/base",
          "model_module_version": "1.2.0",
          "model_name": "LayoutModel",
          "state": {
            "_model_module": "@jupyter-widgets/base",
            "_model_module_version": "1.2.0",
            "_model_name": "LayoutModel",
            "_view_count": null,
            "_view_module": "@jupyter-widgets/base",
            "_view_module_version": "1.2.0",
            "_view_name": "LayoutView",
            "align_content": null,
            "align_items": null,
            "align_self": null,
            "border": null,
            "bottom": null,
            "display": null,
            "flex": null,
            "flex_flow": null,
            "grid_area": null,
            "grid_auto_columns": null,
            "grid_auto_flow": null,
            "grid_auto_rows": null,
            "grid_column": null,
            "grid_gap": null,
            "grid_row": null,
            "grid_template_areas": null,
            "grid_template_columns": null,
            "grid_template_rows": null,
            "height": null,
            "justify_content": null,
            "justify_items": null,
            "left": null,
            "margin": null,
            "max_height": null,
            "max_width": null,
            "min_height": null,
            "min_width": null,
            "object_fit": null,
            "object_position": null,
            "order": null,
            "overflow": null,
            "overflow_x": null,
            "overflow_y": null,
            "padding": null,
            "right": null,
            "top": null,
            "visibility": null,
            "width": null
          }
        },
        "2021e94d57a94094b4a3f5184a86f95b": {
          "model_module": "@jupyter-widgets/controls",
          "model_module_version": "1.5.0",
          "model_name": "HBoxModel",
          "state": {
            "_dom_classes": [],
            "_model_module": "@jupyter-widgets/controls",
            "_model_module_version": "1.5.0",
            "_model_name": "HBoxModel",
            "_view_count": null,
            "_view_module": "@jupyter-widgets/controls",
            "_view_module_version": "1.5.0",
            "_view_name": "HBoxView",
            "box_style": "",
            "children": [
              "IPY_MODEL_b905e05f3a114e22867f56a417a00bd2",
              "IPY_MODEL_cdc4b77967314cb49947c29f42755a60",
              "IPY_MODEL_44a40efc68a54b18ae39d6f3cb6e5c00"
            ],
            "layout": "IPY_MODEL_6df81b897e8542f0a15b43bd975d78fb"
          }
        },
        "33d70f820d9e4e2b8563d254fd6c924b": {
          "model_module": "@jupyter-widgets/controls",
          "model_module_version": "1.5.0",
          "model_name": "ProgressStyleModel",
          "state": {
            "_model_module": "@jupyter-widgets/controls",
            "_model_module_version": "1.5.0",
            "_model_name": "ProgressStyleModel",
            "_view_count": null,
            "_view_module": "@jupyter-widgets/base",
            "_view_module_version": "1.2.0",
            "_view_name": "StyleView",
            "bar_color": null,
            "description_width": ""
          }
        },
        "3682c9d135c94721bbf475d942be8170": {
          "model_module": "@jupyter-widgets/controls",
          "model_module_version": "1.5.0",
          "model_name": "FloatProgressModel",
          "state": {
            "_dom_classes": [],
            "_model_module": "@jupyter-widgets/controls",
            "_model_module_version": "1.5.0",
            "_model_name": "FloatProgressModel",
            "_view_count": null,
            "_view_module": "@jupyter-widgets/controls",
            "_view_module_version": "1.5.0",
            "_view_name": "ProgressView",
            "bar_style": "success",
            "description": "",
            "description_tooltip": null,
            "layout": "IPY_MODEL_6ce2909b14a645dda277d86f8025d1af",
            "max": 28881,
            "min": 0,
            "orientation": "horizontal",
            "style": "IPY_MODEL_3a1c800e3ebb4eeaa4f79168f9d5eb67",
            "value": 28881
          }
        },
        "3a1c800e3ebb4eeaa4f79168f9d5eb67": {
          "model_module": "@jupyter-widgets/controls",
          "model_module_version": "1.5.0",
          "model_name": "ProgressStyleModel",
          "state": {
            "_model_module": "@jupyter-widgets/controls",
            "_model_module_version": "1.5.0",
            "_model_name": "ProgressStyleModel",
            "_view_count": null,
            "_view_module": "@jupyter-widgets/base",
            "_view_module_version": "1.2.0",
            "_view_name": "StyleView",
            "bar_color": null,
            "description_width": ""
          }
        },
        "3d696cf57a534c85a9e8236c81e208ba": {
          "model_module": "@jupyter-widgets/base",
          "model_module_version": "1.2.0",
          "model_name": "LayoutModel",
          "state": {
            "_model_module": "@jupyter-widgets/base",
            "_model_module_version": "1.2.0",
            "_model_name": "LayoutModel",
            "_view_count": null,
            "_view_module": "@jupyter-widgets/base",
            "_view_module_version": "1.2.0",
            "_view_name": "LayoutView",
            "align_content": null,
            "align_items": null,
            "align_self": null,
            "border": null,
            "bottom": null,
            "display": null,
            "flex": null,
            "flex_flow": null,
            "grid_area": null,
            "grid_auto_columns": null,
            "grid_auto_flow": null,
            "grid_auto_rows": null,
            "grid_column": null,
            "grid_gap": null,
            "grid_row": null,
            "grid_template_areas": null,
            "grid_template_columns": null,
            "grid_template_rows": null,
            "height": null,
            "justify_content": null,
            "justify_items": null,
            "left": null,
            "margin": null,
            "max_height": null,
            "max_width": null,
            "min_height": null,
            "min_width": null,
            "object_fit": null,
            "object_position": null,
            "order": null,
            "overflow": null,
            "overflow_x": null,
            "overflow_y": null,
            "padding": null,
            "right": null,
            "top": null,
            "visibility": null,
            "width": null
          }
        },
        "40308c0673e241b8b3e65a18310561d9": {
          "model_module": "@jupyter-widgets/controls",
          "model_module_version": "1.5.0",
          "model_name": "DescriptionStyleModel",
          "state": {
            "_model_module": "@jupyter-widgets/controls",
            "_model_module_version": "1.5.0",
            "_model_name": "DescriptionStyleModel",
            "_view_count": null,
            "_view_module": "@jupyter-widgets/base",
            "_view_module_version": "1.2.0",
            "_view_name": "StyleView",
            "description_width": ""
          }
        },
        "42f6c13ac1be41b9bcfbde1f2b5daa01": {
          "model_module": "@jupyter-widgets/base",
          "model_module_version": "1.2.0",
          "model_name": "LayoutModel",
          "state": {
            "_model_module": "@jupyter-widgets/base",
            "_model_module_version": "1.2.0",
            "_model_name": "LayoutModel",
            "_view_count": null,
            "_view_module": "@jupyter-widgets/base",
            "_view_module_version": "1.2.0",
            "_view_name": "LayoutView",
            "align_content": null,
            "align_items": null,
            "align_self": null,
            "border": null,
            "bottom": null,
            "display": null,
            "flex": null,
            "flex_flow": null,
            "grid_area": null,
            "grid_auto_columns": null,
            "grid_auto_flow": null,
            "grid_auto_rows": null,
            "grid_column": null,
            "grid_gap": null,
            "grid_row": null,
            "grid_template_areas": null,
            "grid_template_columns": null,
            "grid_template_rows": null,
            "height": null,
            "justify_content": null,
            "justify_items": null,
            "left": null,
            "margin": null,
            "max_height": null,
            "max_width": null,
            "min_height": null,
            "min_width": null,
            "object_fit": null,
            "object_position": null,
            "order": null,
            "overflow": null,
            "overflow_x": null,
            "overflow_y": null,
            "padding": null,
            "right": null,
            "top": null,
            "visibility": null,
            "width": null
          }
        },
        "44a40efc68a54b18ae39d6f3cb6e5c00": {
          "model_module": "@jupyter-widgets/controls",
          "model_module_version": "1.5.0",
          "model_name": "HTMLModel",
          "state": {
            "_dom_classes": [],
            "_model_module": "@jupyter-widgets/controls",
            "_model_module_version": "1.5.0",
            "_model_name": "HTMLModel",
            "_view_count": null,
            "_view_module": "@jupyter-widgets/controls",
            "_view_module_version": "1.5.0",
            "_view_name": "HTMLView",
            "description": "",
            "description_tooltip": null,
            "layout": "IPY_MODEL_42f6c13ac1be41b9bcfbde1f2b5daa01",
            "placeholder": "​",
            "style": "IPY_MODEL_40308c0673e241b8b3e65a18310561d9",
            "value": " 5120/? [00:00&lt;00:00, 135926.15it/s]"
          }
        },
        "45cc7af509fe49cf8b0da3488f6ef87f": {
          "model_module": "@jupyter-widgets/controls",
          "model_module_version": "1.5.0",
          "model_name": "FloatProgressModel",
          "state": {
            "_dom_classes": [],
            "_model_module": "@jupyter-widgets/controls",
            "_model_module_version": "1.5.0",
            "_model_name": "FloatProgressModel",
            "_view_count": null,
            "_view_module": "@jupyter-widgets/controls",
            "_view_module_version": "1.5.0",
            "_view_name": "ProgressView",
            "bar_style": "success",
            "description": "",
            "description_tooltip": null,
            "layout": "IPY_MODEL_e63bee0089f8451eb8e15216056c3f9b",
            "max": 9912422,
            "min": 0,
            "orientation": "horizontal",
            "style": "IPY_MODEL_f0f870c9741546e7b01f6ef3710f22ea",
            "value": 9912422
          }
        },
        "4e8433f330164060a0e5721bd8eb62a5": {
          "model_module": "@jupyter-widgets/controls",
          "model_module_version": "1.5.0",
          "model_name": "DescriptionStyleModel",
          "state": {
            "_model_module": "@jupyter-widgets/controls",
            "_model_module_version": "1.5.0",
            "_model_name": "DescriptionStyleModel",
            "_view_count": null,
            "_view_module": "@jupyter-widgets/base",
            "_view_module_version": "1.2.0",
            "_view_name": "StyleView",
            "description_width": ""
          }
        },
        "6ce2909b14a645dda277d86f8025d1af": {
          "model_module": "@jupyter-widgets/base",
          "model_module_version": "1.2.0",
          "model_name": "LayoutModel",
          "state": {
            "_model_module": "@jupyter-widgets/base",
            "_model_module_version": "1.2.0",
            "_model_name": "LayoutModel",
            "_view_count": null,
            "_view_module": "@jupyter-widgets/base",
            "_view_module_version": "1.2.0",
            "_view_name": "LayoutView",
            "align_content": null,
            "align_items": null,
            "align_self": null,
            "border": null,
            "bottom": null,
            "display": null,
            "flex": null,
            "flex_flow": null,
            "grid_area": null,
            "grid_auto_columns": null,
            "grid_auto_flow": null,
            "grid_auto_rows": null,
            "grid_column": null,
            "grid_gap": null,
            "grid_row": null,
            "grid_template_areas": null,
            "grid_template_columns": null,
            "grid_template_rows": null,
            "height": null,
            "justify_content": null,
            "justify_items": null,
            "left": null,
            "margin": null,
            "max_height": null,
            "max_width": null,
            "min_height": null,
            "min_width": null,
            "object_fit": null,
            "object_position": null,
            "order": null,
            "overflow": null,
            "overflow_x": null,
            "overflow_y": null,
            "padding": null,
            "right": null,
            "top": null,
            "visibility": null,
            "width": null
          }
        },
        "6df81b897e8542f0a15b43bd975d78fb": {
          "model_module": "@jupyter-widgets/base",
          "model_module_version": "1.2.0",
          "model_name": "LayoutModel",
          "state": {
            "_model_module": "@jupyter-widgets/base",
            "_model_module_version": "1.2.0",
            "_model_name": "LayoutModel",
            "_view_count": null,
            "_view_module": "@jupyter-widgets/base",
            "_view_module_version": "1.2.0",
            "_view_name": "LayoutView",
            "align_content": null,
            "align_items": null,
            "align_self": null,
            "border": null,
            "bottom": null,
            "display": null,
            "flex": null,
            "flex_flow": null,
            "grid_area": null,
            "grid_auto_columns": null,
            "grid_auto_flow": null,
            "grid_auto_rows": null,
            "grid_column": null,
            "grid_gap": null,
            "grid_row": null,
            "grid_template_areas": null,
            "grid_template_columns": null,
            "grid_template_rows": null,
            "height": null,
            "justify_content": null,
            "justify_items": null,
            "left": null,
            "margin": null,
            "max_height": null,
            "max_width": null,
            "min_height": null,
            "min_width": null,
            "object_fit": null,
            "object_position": null,
            "order": null,
            "overflow": null,
            "overflow_x": null,
            "overflow_y": null,
            "padding": null,
            "right": null,
            "top": null,
            "visibility": null,
            "width": null
          }
        },
        "6eb47db81f084a42b3c76693ffa1c429": {
          "model_module": "@jupyter-widgets/base",
          "model_module_version": "1.2.0",
          "model_name": "LayoutModel",
          "state": {
            "_model_module": "@jupyter-widgets/base",
            "_model_module_version": "1.2.0",
            "_model_name": "LayoutModel",
            "_view_count": null,
            "_view_module": "@jupyter-widgets/base",
            "_view_module_version": "1.2.0",
            "_view_name": "LayoutView",
            "align_content": null,
            "align_items": null,
            "align_self": null,
            "border": null,
            "bottom": null,
            "display": null,
            "flex": null,
            "flex_flow": null,
            "grid_area": null,
            "grid_auto_columns": null,
            "grid_auto_flow": null,
            "grid_auto_rows": null,
            "grid_column": null,
            "grid_gap": null,
            "grid_row": null,
            "grid_template_areas": null,
            "grid_template_columns": null,
            "grid_template_rows": null,
            "height": null,
            "justify_content": null,
            "justify_items": null,
            "left": null,
            "margin": null,
            "max_height": null,
            "max_width": null,
            "min_height": null,
            "min_width": null,
            "object_fit": null,
            "object_position": null,
            "order": null,
            "overflow": null,
            "overflow_x": null,
            "overflow_y": null,
            "padding": null,
            "right": null,
            "top": null,
            "visibility": null,
            "width": null
          }
        },
        "70e6ca0e1dbb48538661197eef37e77c": {
          "model_module": "@jupyter-widgets/controls",
          "model_module_version": "1.5.0",
          "model_name": "HBoxModel",
          "state": {
            "_dom_classes": [],
            "_model_module": "@jupyter-widgets/controls",
            "_model_module_version": "1.5.0",
            "_model_name": "HBoxModel",
            "_view_count": null,
            "_view_module": "@jupyter-widgets/controls",
            "_view_module_version": "1.5.0",
            "_view_name": "HBoxView",
            "box_style": "",
            "children": [
              "IPY_MODEL_ad6295809067480e8966173932f49b78",
              "IPY_MODEL_88c36542123c468ab2fb6746831d2432",
              "IPY_MODEL_92d7255b94b54ae6b24ec966ae460682"
            ],
            "layout": "IPY_MODEL_9f0151e766db439cbbdf3f09822868ea"
          }
        },
        "873d88feb3414872a49fb3dc61ebaa7d": {
          "model_module": "@jupyter-widgets/base",
          "model_module_version": "1.2.0",
          "model_name": "LayoutModel",
          "state": {
            "_model_module": "@jupyter-widgets/base",
            "_model_module_version": "1.2.0",
            "_model_name": "LayoutModel",
            "_view_count": null,
            "_view_module": "@jupyter-widgets/base",
            "_view_module_version": "1.2.0",
            "_view_name": "LayoutView",
            "align_content": null,
            "align_items": null,
            "align_self": null,
            "border": null,
            "bottom": null,
            "display": null,
            "flex": null,
            "flex_flow": null,
            "grid_area": null,
            "grid_auto_columns": null,
            "grid_auto_flow": null,
            "grid_auto_rows": null,
            "grid_column": null,
            "grid_gap": null,
            "grid_row": null,
            "grid_template_areas": null,
            "grid_template_columns": null,
            "grid_template_rows": null,
            "height": null,
            "justify_content": null,
            "justify_items": null,
            "left": null,
            "margin": null,
            "max_height": null,
            "max_width": null,
            "min_height": null,
            "min_width": null,
            "object_fit": null,
            "object_position": null,
            "order": null,
            "overflow": null,
            "overflow_x": null,
            "overflow_y": null,
            "padding": null,
            "right": null,
            "top": null,
            "visibility": null,
            "width": null
          }
        },
        "88c36542123c468ab2fb6746831d2432": {
          "model_module": "@jupyter-widgets/controls",
          "model_module_version": "1.5.0",
          "model_name": "FloatProgressModel",
          "state": {
            "_dom_classes": [],
            "_model_module": "@jupyter-widgets/controls",
            "_model_module_version": "1.5.0",
            "_model_name": "FloatProgressModel",
            "_view_count": null,
            "_view_module": "@jupyter-widgets/controls",
            "_view_module_version": "1.5.0",
            "_view_name": "ProgressView",
            "bar_style": "success",
            "description": "",
            "description_tooltip": null,
            "layout": "IPY_MODEL_b5d5286be33142da9e27511f8b28b2eb",
            "max": 1648877,
            "min": 0,
            "orientation": "horizontal",
            "style": "IPY_MODEL_33d70f820d9e4e2b8563d254fd6c924b",
            "value": 1648877
          }
        },
        "92d7255b94b54ae6b24ec966ae460682": {
          "model_module": "@jupyter-widgets/controls",
          "model_module_version": "1.5.0",
          "model_name": "HTMLModel",
          "state": {
            "_dom_classes": [],
            "_model_module": "@jupyter-widgets/controls",
            "_model_module_version": "1.5.0",
            "_model_name": "HTMLModel",
            "_view_count": null,
            "_view_module": "@jupyter-widgets/controls",
            "_view_module_version": "1.5.0",
            "_view_name": "HTMLView",
            "description": "",
            "description_tooltip": null,
            "layout": "IPY_MODEL_040957bbc329413ca346ce62918247f3",
            "placeholder": "​",
            "style": "IPY_MODEL_05bb528d898441a9bc92ef7c88dfce22",
            "value": " 1649664/? [00:00&lt;00:00, 14494702.55it/s]"
          }
        },
        "9dddcc83e5984ee6bd7575721132860d": {
          "model_module": "@jupyter-widgets/controls",
          "model_module_version": "1.5.0",
          "model_name": "DescriptionStyleModel",
          "state": {
            "_model_module": "@jupyter-widgets/controls",
            "_model_module_version": "1.5.0",
            "_model_name": "DescriptionStyleModel",
            "_view_count": null,
            "_view_module": "@jupyter-widgets/base",
            "_view_module_version": "1.2.0",
            "_view_name": "StyleView",
            "description_width": ""
          }
        },
        "9f0151e766db439cbbdf3f09822868ea": {
          "model_module": "@jupyter-widgets/base",
          "model_module_version": "1.2.0",
          "model_name": "LayoutModel",
          "state": {
            "_model_module": "@jupyter-widgets/base",
            "_model_module_version": "1.2.0",
            "_model_name": "LayoutModel",
            "_view_count": null,
            "_view_module": "@jupyter-widgets/base",
            "_view_module_version": "1.2.0",
            "_view_name": "LayoutView",
            "align_content": null,
            "align_items": null,
            "align_self": null,
            "border": null,
            "bottom": null,
            "display": null,
            "flex": null,
            "flex_flow": null,
            "grid_area": null,
            "grid_auto_columns": null,
            "grid_auto_flow": null,
            "grid_auto_rows": null,
            "grid_column": null,
            "grid_gap": null,
            "grid_row": null,
            "grid_template_areas": null,
            "grid_template_columns": null,
            "grid_template_rows": null,
            "height": null,
            "justify_content": null,
            "justify_items": null,
            "left": null,
            "margin": null,
            "max_height": null,
            "max_width": null,
            "min_height": null,
            "min_width": null,
            "object_fit": null,
            "object_position": null,
            "order": null,
            "overflow": null,
            "overflow_x": null,
            "overflow_y": null,
            "padding": null,
            "right": null,
            "top": null,
            "visibility": null,
            "width": null
          }
        },
        "a022e4d19d63486f9bc7dc9d70898b38": {
          "model_module": "@jupyter-widgets/controls",
          "model_module_version": "1.5.0",
          "model_name": "HTMLModel",
          "state": {
            "_dom_classes": [],
            "_model_module": "@jupyter-widgets/controls",
            "_model_module_version": "1.5.0",
            "_model_name": "HTMLModel",
            "_view_count": null,
            "_view_module": "@jupyter-widgets/controls",
            "_view_module_version": "1.5.0",
            "_view_name": "HTMLView",
            "description": "",
            "description_tooltip": null,
            "layout": "IPY_MODEL_af9c50f714414624b1c1af2c920b62a4",
            "placeholder": "​",
            "style": "IPY_MODEL_191a9e7ee63146f6b9c0215c088ee69e",
            "value": ""
          }
        },
        "a04b1c838e584cdd9e1aec3de190162c": {
          "model_module": "@jupyter-widgets/controls",
          "model_module_version": "1.5.0",
          "model_name": "ProgressStyleModel",
          "state": {
            "_model_module": "@jupyter-widgets/controls",
            "_model_module_version": "1.5.0",
            "_model_name": "ProgressStyleModel",
            "_view_count": null,
            "_view_module": "@jupyter-widgets/base",
            "_view_module_version": "1.2.0",
            "_view_name": "StyleView",
            "bar_color": null,
            "description_width": ""
          }
        },
        "a2fe140b00864a2d8d530221be23a2c6": {
          "model_module": "@jupyter-widgets/controls",
          "model_module_version": "1.5.0",
          "model_name": "DescriptionStyleModel",
          "state": {
            "_model_module": "@jupyter-widgets/controls",
            "_model_module_version": "1.5.0",
            "_model_name": "DescriptionStyleModel",
            "_view_count": null,
            "_view_module": "@jupyter-widgets/base",
            "_view_module_version": "1.2.0",
            "_view_name": "StyleView",
            "description_width": ""
          }
        },
        "a41dfc46dfb94aee95ce04a66c998427": {
          "model_module": "@jupyter-widgets/controls",
          "model_module_version": "1.5.0",
          "model_name": "DescriptionStyleModel",
          "state": {
            "_model_module": "@jupyter-widgets/controls",
            "_model_module_version": "1.5.0",
            "_model_name": "DescriptionStyleModel",
            "_view_count": null,
            "_view_module": "@jupyter-widgets/base",
            "_view_module_version": "1.2.0",
            "_view_name": "StyleView",
            "description_width": ""
          }
        },
        "a4afa5b3f14646da971e453059fb8262": {
          "model_module": "@jupyter-widgets/controls",
          "model_module_version": "1.5.0",
          "model_name": "HTMLModel",
          "state": {
            "_dom_classes": [],
            "_model_module": "@jupyter-widgets/controls",
            "_model_module_version": "1.5.0",
            "_model_name": "HTMLModel",
            "_view_count": null,
            "_view_module": "@jupyter-widgets/controls",
            "_view_module_version": "1.5.0",
            "_view_name": "HTMLView",
            "description": "",
            "description_tooltip": null,
            "layout": "IPY_MODEL_6eb47db81f084a42b3c76693ffa1c429",
            "placeholder": "​",
            "style": "IPY_MODEL_a2fe140b00864a2d8d530221be23a2c6",
            "value": ""
          }
        },
        "ad6295809067480e8966173932f49b78": {
          "model_module": "@jupyter-widgets/controls",
          "model_module_version": "1.5.0",
          "model_name": "HTMLModel",
          "state": {
            "_dom_classes": [],
            "_model_module": "@jupyter-widgets/controls",
            "_model_module_version": "1.5.0",
            "_model_name": "HTMLModel",
            "_view_count": null,
            "_view_module": "@jupyter-widgets/controls",
            "_view_module_version": "1.5.0",
            "_view_name": "HTMLView",
            "description": "",
            "description_tooltip": null,
            "layout": "IPY_MODEL_e205813da2df4483872884659ff82907",
            "placeholder": "​",
            "style": "IPY_MODEL_1739b51da6bb42ca8ded90407170a5ff",
            "value": ""
          }
        },
        "af9c50f714414624b1c1af2c920b62a4": {
          "model_module": "@jupyter-widgets/base",
          "model_module_version": "1.2.0",
          "model_name": "LayoutModel",
          "state": {
            "_model_module": "@jupyter-widgets/base",
            "_model_module_version": "1.2.0",
            "_model_name": "LayoutModel",
            "_view_count": null,
            "_view_module": "@jupyter-widgets/base",
            "_view_module_version": "1.2.0",
            "_view_name": "LayoutView",
            "align_content": null,
            "align_items": null,
            "align_self": null,
            "border": null,
            "bottom": null,
            "display": null,
            "flex": null,
            "flex_flow": null,
            "grid_area": null,
            "grid_auto_columns": null,
            "grid_auto_flow": null,
            "grid_auto_rows": null,
            "grid_column": null,
            "grid_gap": null,
            "grid_row": null,
            "grid_template_areas": null,
            "grid_template_columns": null,
            "grid_template_rows": null,
            "height": null,
            "justify_content": null,
            "justify_items": null,
            "left": null,
            "margin": null,
            "max_height": null,
            "max_width": null,
            "min_height": null,
            "min_width": null,
            "object_fit": null,
            "object_position": null,
            "order": null,
            "overflow": null,
            "overflow_x": null,
            "overflow_y": null,
            "padding": null,
            "right": null,
            "top": null,
            "visibility": null,
            "width": null
          }
        },
        "b5d5286be33142da9e27511f8b28b2eb": {
          "model_module": "@jupyter-widgets/base",
          "model_module_version": "1.2.0",
          "model_name": "LayoutModel",
          "state": {
            "_model_module": "@jupyter-widgets/base",
            "_model_module_version": "1.2.0",
            "_model_name": "LayoutModel",
            "_view_count": null,
            "_view_module": "@jupyter-widgets/base",
            "_view_module_version": "1.2.0",
            "_view_name": "LayoutView",
            "align_content": null,
            "align_items": null,
            "align_self": null,
            "border": null,
            "bottom": null,
            "display": null,
            "flex": null,
            "flex_flow": null,
            "grid_area": null,
            "grid_auto_columns": null,
            "grid_auto_flow": null,
            "grid_auto_rows": null,
            "grid_column": null,
            "grid_gap": null,
            "grid_row": null,
            "grid_template_areas": null,
            "grid_template_columns": null,
            "grid_template_rows": null,
            "height": null,
            "justify_content": null,
            "justify_items": null,
            "left": null,
            "margin": null,
            "max_height": null,
            "max_width": null,
            "min_height": null,
            "min_width": null,
            "object_fit": null,
            "object_position": null,
            "order": null,
            "overflow": null,
            "overflow_x": null,
            "overflow_y": null,
            "padding": null,
            "right": null,
            "top": null,
            "visibility": null,
            "width": null
          }
        },
        "b905e05f3a114e22867f56a417a00bd2": {
          "model_module": "@jupyter-widgets/controls",
          "model_module_version": "1.5.0",
          "model_name": "HTMLModel",
          "state": {
            "_dom_classes": [],
            "_model_module": "@jupyter-widgets/controls",
            "_model_module_version": "1.5.0",
            "_model_name": "HTMLModel",
            "_view_count": null,
            "_view_module": "@jupyter-widgets/controls",
            "_view_module_version": "1.5.0",
            "_view_name": "HTMLView",
            "description": "",
            "description_tooltip": null,
            "layout": "IPY_MODEL_102fa3c4f59f4f10af0a22c09e9ecb2b",
            "placeholder": "​",
            "style": "IPY_MODEL_a41dfc46dfb94aee95ce04a66c998427",
            "value": ""
          }
        },
        "ba82a1d9a6374d54ba89b3fcb4a86d74": {
          "model_module": "@jupyter-widgets/controls",
          "model_module_version": "1.5.0",
          "model_name": "HTMLModel",
          "state": {
            "_dom_classes": [],
            "_model_module": "@jupyter-widgets/controls",
            "_model_module_version": "1.5.0",
            "_model_name": "HTMLModel",
            "_view_count": null,
            "_view_module": "@jupyter-widgets/controls",
            "_view_module_version": "1.5.0",
            "_view_name": "HTMLView",
            "description": "",
            "description_tooltip": null,
            "layout": "IPY_MODEL_0febf7f00dd749019c10bc082bfaf8d0",
            "placeholder": "​",
            "style": "IPY_MODEL_9dddcc83e5984ee6bd7575721132860d",
            "value": " 29696/? [00:00&lt;00:00, 581349.13it/s]"
          }
        },
        "c9534f42c301449c96e7b30f86636467": {
          "model_module": "@jupyter-widgets/controls",
          "model_module_version": "1.5.0",
          "model_name": "HBoxModel",
          "state": {
            "_dom_classes": [],
            "_model_module": "@jupyter-widgets/controls",
            "_model_module_version": "1.5.0",
            "_model_name": "HBoxModel",
            "_view_count": null,
            "_view_module": "@jupyter-widgets/controls",
            "_view_module_version": "1.5.0",
            "_view_name": "HBoxView",
            "box_style": "",
            "children": [
              "IPY_MODEL_a022e4d19d63486f9bc7dc9d70898b38",
              "IPY_MODEL_3682c9d135c94721bbf475d942be8170",
              "IPY_MODEL_ba82a1d9a6374d54ba89b3fcb4a86d74"
            ],
            "layout": "IPY_MODEL_873d88feb3414872a49fb3dc61ebaa7d"
          }
        },
        "cb5805cdf8b8444c8542a7970e92f815": {
          "model_module": "@jupyter-widgets/controls",
          "model_module_version": "1.5.0",
          "model_name": "HTMLModel",
          "state": {
            "_dom_classes": [],
            "_model_module": "@jupyter-widgets/controls",
            "_model_module_version": "1.5.0",
            "_model_name": "HTMLModel",
            "_view_count": null,
            "_view_module": "@jupyter-widgets/controls",
            "_view_module_version": "1.5.0",
            "_view_name": "HTMLView",
            "description": "",
            "description_tooltip": null,
            "layout": "IPY_MODEL_3d696cf57a534c85a9e8236c81e208ba",
            "placeholder": "​",
            "style": "IPY_MODEL_4e8433f330164060a0e5721bd8eb62a5",
            "value": " 9913344/? [00:00&lt;00:00, 35979606.90it/s]"
          }
        },
        "cdc4b77967314cb49947c29f42755a60": {
          "model_module": "@jupyter-widgets/controls",
          "model_module_version": "1.5.0",
          "model_name": "FloatProgressModel",
          "state": {
            "_dom_classes": [],
            "_model_module": "@jupyter-widgets/controls",
            "_model_module_version": "1.5.0",
            "_model_name": "FloatProgressModel",
            "_view_count": null,
            "_view_module": "@jupyter-widgets/controls",
            "_view_module_version": "1.5.0",
            "_view_name": "ProgressView",
            "bar_style": "success",
            "description": "",
            "description_tooltip": null,
            "layout": "IPY_MODEL_1d91a2b1fb214edba7ea1de58b4d3b7c",
            "max": 4542,
            "min": 0,
            "orientation": "horizontal",
            "style": "IPY_MODEL_a04b1c838e584cdd9e1aec3de190162c",
            "value": 4542
          }
        },
        "e205813da2df4483872884659ff82907": {
          "model_module": "@jupyter-widgets/base",
          "model_module_version": "1.2.0",
          "model_name": "LayoutModel",
          "state": {
            "_model_module": "@jupyter-widgets/base",
            "_model_module_version": "1.2.0",
            "_model_name": "LayoutModel",
            "_view_count": null,
            "_view_module": "@jupyter-widgets/base",
            "_view_module_version": "1.2.0",
            "_view_name": "LayoutView",
            "align_content": null,
            "align_items": null,
            "align_self": null,
            "border": null,
            "bottom": null,
            "display": null,
            "flex": null,
            "flex_flow": null,
            "grid_area": null,
            "grid_auto_columns": null,
            "grid_auto_flow": null,
            "grid_auto_rows": null,
            "grid_column": null,
            "grid_gap": null,
            "grid_row": null,
            "grid_template_areas": null,
            "grid_template_columns": null,
            "grid_template_rows": null,
            "height": null,
            "justify_content": null,
            "justify_items": null,
            "left": null,
            "margin": null,
            "max_height": null,
            "max_width": null,
            "min_height": null,
            "min_width": null,
            "object_fit": null,
            "object_position": null,
            "order": null,
            "overflow": null,
            "overflow_x": null,
            "overflow_y": null,
            "padding": null,
            "right": null,
            "top": null,
            "visibility": null,
            "width": null
          }
        },
        "e63bee0089f8451eb8e15216056c3f9b": {
          "model_module": "@jupyter-widgets/base",
          "model_module_version": "1.2.0",
          "model_name": "LayoutModel",
          "state": {
            "_model_module": "@jupyter-widgets/base",
            "_model_module_version": "1.2.0",
            "_model_name": "LayoutModel",
            "_view_count": null,
            "_view_module": "@jupyter-widgets/base",
            "_view_module_version": "1.2.0",
            "_view_name": "LayoutView",
            "align_content": null,
            "align_items": null,
            "align_self": null,
            "border": null,
            "bottom": null,
            "display": null,
            "flex": null,
            "flex_flow": null,
            "grid_area": null,
            "grid_auto_columns": null,
            "grid_auto_flow": null,
            "grid_auto_rows": null,
            "grid_column": null,
            "grid_gap": null,
            "grid_row": null,
            "grid_template_areas": null,
            "grid_template_columns": null,
            "grid_template_rows": null,
            "height": null,
            "justify_content": null,
            "justify_items": null,
            "left": null,
            "margin": null,
            "max_height": null,
            "max_width": null,
            "min_height": null,
            "min_width": null,
            "object_fit": null,
            "object_position": null,
            "order": null,
            "overflow": null,
            "overflow_x": null,
            "overflow_y": null,
            "padding": null,
            "right": null,
            "top": null,
            "visibility": null,
            "width": null
          }
        },
        "f0f870c9741546e7b01f6ef3710f22ea": {
          "model_module": "@jupyter-widgets/controls",
          "model_module_version": "1.5.0",
          "model_name": "ProgressStyleModel",
          "state": {
            "_model_module": "@jupyter-widgets/controls",
            "_model_module_version": "1.5.0",
            "_model_name": "ProgressStyleModel",
            "_view_count": null,
            "_view_module": "@jupyter-widgets/base",
            "_view_module_version": "1.2.0",
            "_view_name": "StyleView",
            "bar_color": null,
            "description_width": ""
          }
        },
        "fcb9078fa6494ed98627521a622e9fe8": {
          "model_module": "@jupyter-widgets/base",
          "model_module_version": "1.2.0",
          "model_name": "LayoutModel",
          "state": {
            "_model_module": "@jupyter-widgets/base",
            "_model_module_version": "1.2.0",
            "_model_name": "LayoutModel",
            "_view_count": null,
            "_view_module": "@jupyter-widgets/base",
            "_view_module_version": "1.2.0",
            "_view_name": "LayoutView",
            "align_content": null,
            "align_items": null,
            "align_self": null,
            "border": null,
            "bottom": null,
            "display": null,
            "flex": null,
            "flex_flow": null,
            "grid_area": null,
            "grid_auto_columns": null,
            "grid_auto_flow": null,
            "grid_auto_rows": null,
            "grid_column": null,
            "grid_gap": null,
            "grid_row": null,
            "grid_template_areas": null,
            "grid_template_columns": null,
            "grid_template_rows": null,
            "height": null,
            "justify_content": null,
            "justify_items": null,
            "left": null,
            "margin": null,
            "max_height": null,
            "max_width": null,
            "min_height": null,
            "min_width": null,
            "object_fit": null,
            "object_position": null,
            "order": null,
            "overflow": null,
            "overflow_x": null,
            "overflow_y": null,
            "padding": null,
            "right": null,
            "top": null,
            "visibility": null,
            "width": null
          }
        }
      }
    }
  },
  "nbformat": 4,
  "nbformat_minor": 0
}